{
  "nbformat": 4,
  "nbformat_minor": 0,
  "metadata": {
    "colab": {
      "provenance": []
    },
    "kernelspec": {
      "name": "python3",
      "display_name": "Python 3"
    },
    "language_info": {
      "name": "python"
    }
  },
  "cells": [
    {
      "cell_type": "markdown",
      "source": [
        "# A-level question: Sudoku Puzzle\n",
        "\n",
        "> A puzzle consists of a grid of 9 boxes by 9 boxes.\n",
        "\n",
        "> Each box has a number placed in it from 1 to 9 inclusive.\n",
        "\n",
        "> The puzzle is complete if each number is not repeated in:\n",
        "- each horizontal row\n",
        "- each vertical comlumn\n",
        "- each mini-square of 9 boxes (3 x 3)\n",
        "\n",
        ">"
      ],
      "metadata": {
        "id": "pMLDSeh9xzCW"
      }
    },
    {
      "cell_type": "code",
      "execution_count": null,
      "metadata": {
        "id": "4GObTkSBxk4i"
      },
      "outputs": [],
      "source": [
        "# This puzzle is complete because each ( row / column / mini-square ) only contains each number once\n",
        "\n",
        "\n",
        "# example1_data\n",
        "\n",
        "'''\n",
        "7 8 2 9 1 3 4 5 6\n",
        "1 4 5 8 7 6 9 2 3\n",
        "6 9 3 4 5 2 7 1 8\n",
        "2 7 9 5 3 1 8 6 4\n",
        "5 6 4 2 9 8 1 3 7\n",
        "3 1 8 7 6 4 5 9 2\n",
        "4 5 1 6 2 7 3 8 9\n",
        "9 2 7 3 8 5 6 4 1\n",
        "8 3 6 1 4 9 2 7 5\n",
        "'''"
      ]
    },
    {
      "cell_type": "code",
      "source": [
        "# This puzzle is incomplete because:\n",
        "\n",
        "# Row 3 has the number 6 twice.\n",
        "# Column 4 has the number 6 twice.\n",
        "# Second mini-square on the top row has the number 6 twice.\n",
        "\n",
        "# example2_data\n",
        "\n",
        "'''\n",
        "7 8 2 9 1 3 4 5 6\n",
        "1 4 5 8 7 6 9 2 3\n",
        "6 9 3 6 5 2 7 1 8\n",
        "2 7 9 5 3 1 8 6 4\n",
        "5 6 4 2 9 8 1 3 7\n",
        "3 1 8 7 6 4 5 9 2\n",
        "4 5 1 6 2 7 3 8 9\n",
        "9 2 7 3 8 5 6 4 1\n",
        "8 3 6 1 4 9 2 7 5\n",
        "'''"
      ],
      "metadata": {
        "id": "vqKbSyRIzDre"
      },
      "execution_count": null,
      "outputs": []
    },
    {
      "cell_type": "markdown",
      "source": [
        "### Task 3.1\n",
        "\n",
        "> Write a function `inputPuzzle()` to allow the user to input a number into each of the boxes by:\n",
        "\n",
        "- taking 9 rows of 9 digits as input from the user with a space between each digit. E.g 1 2 3 4 5 6 7 8 9\n",
        "- continually requesing a new row until the row is valid. A row is valid if it contains 9 digits that are all between 1 and 9. <br> (a row can have two or more of the same digits)\n",
        "- splitting each row into a list of digits\n",
        "- appending each list of digits to a 2D list\n",
        "- returning the 2D list\n",
        "\n",
        "> Test your program by entering the data for the puzzles shown in Example_Input_1 and Example_Input_2.\n",
        "\n",
        "> Store the puzzles in variables named `example1` and `example2` respectively."
      ],
      "metadata": {
        "id": "cmPTBImy26pz"
      }
    },
    {
      "cell_type": "code",
      "source": [
        "# Task 3.1\n",
        "\n",
        "def inputPuzzle():\n",
        "\n",
        "    puzzle = []\n",
        "    row_count = 1\n",
        "\n",
        "    while len(puzzle) < 9:\n",
        "\n",
        "        row_input = input(f\"Enter row {row_count} (9 digits separated by space): \")\n",
        "\n",
        "        digits = row_input.split()\n",
        "\n",
        "        if len(digits) != 9:\n",
        "\n",
        "            print(\"Invalid row: Please enter exactly 9 numbers.\")\n",
        "\n",
        "            continue\n",
        "\n",
        "        try:\n",
        "\n",
        "            row_digits = [int(digit) for digit in digits]\n",
        "\n",
        "        except ValueError:\n",
        "\n",
        "            print(\"Invalid row: Please ensure all entries are digits.\")\n",
        "\n",
        "            continue\n",
        "\n",
        "        if all(1 <= num <= 9 for num in row_digits):\n",
        "\n",
        "            puzzle.append(row_digits)\n",
        "\n",
        "            row_count += 1\n",
        "\n",
        "        else:\n",
        "\n",
        "            print(\"Invalid row: All numbers must be between 1 and 9.\")\n",
        "\n",
        "    return puzzle"
      ],
      "metadata": {
        "id": "cmjLqQLd8njG"
      },
      "execution_count": null,
      "outputs": []
    },
    {
      "cell_type": "code",
      "source": [
        "example1 = inputPuzzle()\n",
        "print(example1)"
      ],
      "metadata": {
        "colab": {
          "base_uri": "https://localhost:8080/"
        },
        "id": "UfKM6Xc1CFll",
        "outputId": "9edf465f-32d8-4d03-a686-1044c95d3720"
      },
      "execution_count": null,
      "outputs": [
        {
          "output_type": "stream",
          "name": "stdout",
          "text": [
            "Enter row 1 (9 digits separated by space): 7 8 2 9 1 3 4 5 6\n",
            "Enter row 2 (9 digits separated by space): 1 4 5 8 7 6 9 2 3\n",
            "Enter row 3 (9 digits separated by space): 6 9 3 4 5 2 7 1 8\n",
            "Enter row 4 (9 digits separated by space): 2 7 9 5 3 1 8 6 4\n",
            "Enter row 5 (9 digits separated by space): 5 6 4 2 9 8 1 3 7\n",
            "Enter row 6 (9 digits separated by space): 3 1 8 7 6 4 5 9 2\n",
            "Enter row 7 (9 digits separated by space): 4 5 1 6 2 7 3 8 9\n",
            "Enter row 8 (9 digits separated by space): 9 2 7 3 8 5 6 4 1\n",
            "Enter row 9 (9 digits separated by space): 8 3 6 1 4 9 2 7 5\n",
            "[[7, 8, 2, 9, 1, 3, 4, 5, 6], [1, 4, 5, 8, 7, 6, 9, 2, 3], [6, 9, 3, 4, 5, 2, 7, 1, 8], [2, 7, 9, 5, 3, 1, 8, 6, 4], [5, 6, 4, 2, 9, 8, 1, 3, 7], [3, 1, 8, 7, 6, 4, 5, 9, 2], [4, 5, 1, 6, 2, 7, 3, 8, 9], [9, 2, 7, 3, 8, 5, 6, 4, 1], [8, 3, 6, 1, 4, 9, 2, 7, 5]]\n"
          ]
        }
      ]
    },
    {
      "cell_type": "code",
      "source": [
        "example2 = inputPuzzle()\n",
        "print(example2)"
      ],
      "metadata": {
        "colab": {
          "base_uri": "https://localhost:8080/"
        },
        "id": "9VcMvaD9COfV",
        "outputId": "25b85549-3897-4ff6-80fe-cda0319b055a"
      },
      "execution_count": null,
      "outputs": [
        {
          "output_type": "stream",
          "name": "stdout",
          "text": [
            "Enter row 1 (9 digits separated by space): 7 8 2 9 1 3 4 5 6\n",
            "Enter row 2 (9 digits separated by space): 1 4 5 8 7 6 9 2 3\n",
            "Enter row 3 (9 digits separated by space): 6 9 3 6 5 2 7 1 8\n",
            "Enter row 4 (9 digits separated by space): 2 7 9 5 3 1 8 6 4\n",
            "Enter row 5 (9 digits separated by space): 5 6 4 2 9 8 1 3 7\n",
            "Enter row 6 (9 digits separated by space): 3 1 8 7 6 4 5 9 2\n",
            "Enter row 7 (9 digits separated by space): 4 5 1 6 2 7 3 8 9\n",
            "Enter row 8 (9 digits separated by space): 9 2 7 3 8 5 6 4 1\n",
            "Enter row 9 (9 digits separated by space): 8 3 6 1 4 9 2 7 5\n",
            "[[7, 8, 2, 9, 1, 3, 4, 5, 6], [1, 4, 5, 8, 7, 6, 9, 2, 3], [6, 9, 3, 6, 5, 2, 7, 1, 8], [2, 7, 9, 5, 3, 1, 8, 6, 4], [5, 6, 4, 2, 9, 8, 1, 3, 7], [3, 1, 8, 7, 6, 4, 5, 9, 2], [4, 5, 1, 6, 2, 7, 3, 8, 9], [9, 2, 7, 3, 8, 5, 6, 4, 1], [8, 3, 6, 1, 4, 9, 2, 7, 5]]\n"
          ]
        }
      ]
    },
    {
      "cell_type": "markdown",
      "source": [
        "### Task 3.2\n",
        "\n",
        "> Write program code to declare a function that checks each row of the puzzle to make sure it is complete horizontally <br> (contains each of the numbers 1 to 9 only once).\n",
        "\n",
        "> The function should return -1 if the puzzle is complete horizontally, or the row number where there is a duplicate.\n",
        "\n",
        "> Test your program with both of the puzzles you stored in Task 3.1 by calling the function with each puzzle and outputting an appropriate message depending on the return value."
      ],
      "metadata": {
        "id": "Wj5yYqC9DIBT"
      }
    },
    {
      "cell_type": "code",
      "source": [
        "# Task 3.2\n",
        "\n",
        "def checkRows(puzzle):\n",
        "\n",
        "    correct_row = [1, 2, 3, 4, 5, 6, 7, 8, 9]\n",
        "\n",
        "    for row_index, row in enumerate(puzzle, start=1): # get the index and the values using enum starting at 1\n",
        "\n",
        "        if sorted(row) != correct_row:\n",
        "\n",
        "            return row_index\n",
        "\n",
        "    return -1 # return -1 if row is complete"
      ],
      "metadata": {
        "id": "B-BjASegEVw0"
      },
      "execution_count": null,
      "outputs": []
    },
    {
      "cell_type": "code",
      "source": [
        "result1 = checkRows(example1)\n",
        "\n",
        "if result1 == -1:\n",
        "    print(\"Example 1 puzzle is complete horizontally.\")\n",
        "else:\n",
        "    print(f\"Example 1 puzzle has a duplicate in row {result1}.\")\n",
        "\n",
        "\n",
        "\n",
        "\n",
        "result2 = checkRows(example2)\n",
        "\n",
        "if result2 == -1:\n",
        "    print(\"Example 2 puzzle is complete horizontally.\")\n",
        "else:\n",
        "    print(f\"Example 2 puzzle has a duplicate in row {result2}.\")"
      ],
      "metadata": {
        "colab": {
          "base_uri": "https://localhost:8080/"
        },
        "id": "EkRZPUODF9Eq",
        "outputId": "68f30872-bfe1-4a89-ce7d-5bebe7d08749"
      },
      "execution_count": null,
      "outputs": [
        {
          "output_type": "stream",
          "name": "stdout",
          "text": [
            "Example 1 puzzle is complete horizontally.\n",
            "Example 2 puzzle has a duplicate in row 3.\n"
          ]
        }
      ]
    },
    {
      "cell_type": "markdown",
      "source": [
        "### Task 3.3\n",
        "\n",
        "> Write program code to declare a function that checks each column of the puzzle to make sure it is complete vertically <br> (contains each of the numbers 1 to 9 only once)\n",
        "\n",
        "> The function should return -1 if the puzzle is complete vertically, or the column number where there is a duplicate.\n",
        "\n",
        "> Test your program with both of the puzzles you stored in Task 3.1 by calling the function with each puzzle and outputting an appropriate message depending on the return value."
      ],
      "metadata": {
        "id": "5T8VrT4UGQ2A"
      }
    },
    {
      "cell_type": "code",
      "source": [
        "# Task 3.3\n",
        "\n",
        "def checkColumns(puzzle):\n",
        "\n",
        "    correct_column = [1, 2, 3, 4, 5, 6, 7, 8, 9]\n",
        "\n",
        "\n",
        "    for col_index in range(9): # iterate 9 times, index start from 0\n",
        "\n",
        "        column = [puzzle[row][col_index] for row in range(9)]\n",
        "\n",
        "        if sorted(column) != correct_column:\n",
        "\n",
        "            return col_index + 1 # due to index use to iterate start from 0\n",
        "\n",
        "    return -1\n"
      ],
      "metadata": {
        "id": "OV63JuMmH2-2"
      },
      "execution_count": null,
      "outputs": []
    },
    {
      "cell_type": "code",
      "source": [
        "result1 = checkColumns(example1)\n",
        "\n",
        "if result1 == -1:\n",
        "    print(\"Example 1 puzzle is complete vertically.\")\n",
        "else:\n",
        "    print(f\"Example 1 puzzle has a duplicate or is incomplete in column {result1}.\")\n",
        "\n",
        "\n",
        "\n",
        "\n",
        "\n",
        "result2 = checkColumns(example2)\n",
        "if result2 == -1:\n",
        "    print(\"Example 2 puzzle is complete vertically.\")\n",
        "else:\n",
        "    print(f\"Example 2 puzzle has a duplicate or is incomplete in column {result2}.\")\n"
      ],
      "metadata": {
        "colab": {
          "base_uri": "https://localhost:8080/"
        },
        "id": "tLIdhWk3I1Cb",
        "outputId": "4f238d84-c428-48bb-d778-f2af22fb445d"
      },
      "execution_count": null,
      "outputs": [
        {
          "output_type": "stream",
          "name": "stdout",
          "text": [
            "Example 1 puzzle is complete vertically.\n",
            "Example 2 puzzle has a duplicate or is incomplete in column 4.\n"
          ]
        }
      ]
    },
    {
      "cell_type": "markdown",
      "source": [
        "### Task 3.4\n",
        "\n",
        "> Write program code to declare a function that checks each of the 9 mini-squares to make sure they are all complete <br> (contain each of the numbers 1 to 9 only once)\n",
        "\n",
        "> The function should return `True` if all mini-squares are complete, or `False` if any mini-squares are not complete.\n",
        "\n",
        "> Test your program with both of the puzzles you stored in Task 3.1 by calling the function with each puzzle and outputting an appropriate message depending in the return value.\n"
      ],
      "metadata": {
        "id": "nhJJAOZlI9RG"
      }
    },
    {
      "cell_type": "code",
      "source": [
        "# Task 3.4\n",
        "\n",
        "def checkMiniSquares(puzzle):\n",
        "\n",
        "    correct_sequence = [1, 2, 3, 4, 5, 6, 7, 8, 9]\n",
        "\n",
        "    for start_row in [0, 3, 6]:\n",
        "\n",
        "        for start_col in [0, 3, 6]:\n",
        "\n",
        "            mini_square = []\n",
        "\n",
        "            for r in range(start_row, start_row + 3):\n",
        "\n",
        "                for c in range(start_col, start_col + 3):\n",
        "\n",
        "                    mini_square.append(puzzle[r][c])\n",
        "\n",
        "            if sorted(mini_square) != correct_sequence:\n",
        "\n",
        "                return False  # Not complete.\n",
        "\n",
        "    return True  # Complete.\n"
      ],
      "metadata": {
        "id": "Q_T1cWrCI8ov"
      },
      "execution_count": null,
      "outputs": []
    },
    {
      "cell_type": "code",
      "source": [
        "if checkMiniSquares(example1):\n",
        "    print(\"Example 1 puzzle mini-squares are complete.\")\n",
        "else:\n",
        "    print(\"Example 1 puzzle mini-squares are NOT complete.\")\n",
        "\n",
        "\n",
        "\n",
        "\n",
        "if checkMiniSquares(example2):\n",
        "    print(\"Example 2 puzzle mini-squares are complete.\")\n",
        "else:\n",
        "    print(\"Example 2 puzzle mini-squares are NOT complete.\")\n"
      ],
      "metadata": {
        "colab": {
          "base_uri": "https://localhost:8080/"
        },
        "id": "0iNqUokGKY3P",
        "outputId": "12ce2752-0660-431f-a4c4-a18488d4d57d"
      },
      "execution_count": null,
      "outputs": [
        {
          "output_type": "stream",
          "name": "stdout",
          "text": [
            "Example 1 puzzle mini-squares are complete.\n",
            "Example 2 puzzle mini-squares are NOT complete.\n"
          ]
        }
      ]
    }
  ]
}