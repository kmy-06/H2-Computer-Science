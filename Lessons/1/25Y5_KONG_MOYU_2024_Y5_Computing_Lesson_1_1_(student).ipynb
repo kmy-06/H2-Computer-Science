{
  "nbformat": 4,
  "nbformat_minor": 0,
  "metadata": {
    "colab": {
      "provenance": []
    },
    "kernelspec": {
      "name": "python3",
      "display_name": "Python 3"
    },
    "language_info": {
      "name": "python"
    }
  },
  "cells": [
    {
      "cell_type": "markdown",
      "source": [
        "# **Lesson 1**\n",
        "\n",
        "1. Output\n",
        "2. Input\n",
        "3. Comments"
      ],
      "metadata": {
        "id": "LdVeZ7G7V3JY"
      }
    },
    {
      "cell_type": "markdown",
      "source": [
        "## 1. Output  \n",
        "To get an output of Hello World, we use the **`print()`** command.  \n",
        "Since Hello World is a word, we call words a word string, or **string** for short.  \n",
        "A string is enclosed between **two single quotes ' '** or **two double quotes \" \"**.\n",
        "\n"
      ],
      "metadata": {
        "id": "LJVu0YpOVcnY"
      }
    },
    {
      "cell_type": "code",
      "source": [
        "# Type the code with the teacher below\n",
        "print('Hello World')\n"
      ],
      "metadata": {
        "id": "o5rfGuv_2Kbj",
        "colab": {
          "base_uri": "https://localhost:8080/"
        },
        "outputId": "0adc9b1d-8e3e-4ddc-9451-f1c61f18916f"
      },
      "execution_count": null,
      "outputs": [
        {
          "output_type": "stream",
          "name": "stdout",
          "text": [
            "Hello World\n"
          ]
        }
      ]
    },
    {
      "cell_type": "markdown",
      "source": [
        "Congratulations on deploying your first Python app!  \n",
        "Now, type in the python code shown by the teacher and then run it."
      ],
      "metadata": {
        "id": "1t2_sv-JU8j_"
      }
    },
    {
      "cell_type": "code",
      "source": [
        "# Type the code with the teacher below\n",
        "name = input('what is your name: ')\n",
        "print('hello ' + name)\n"
      ],
      "metadata": {
        "id": "LzlSA3DM3C8Q",
        "colab": {
          "base_uri": "https://localhost:8080/"
        },
        "outputId": "e5f4c1fe-3251-4fb6-a4a3-95fcf172fe80"
      },
      "execution_count": null,
      "outputs": [
        {
          "output_type": "stream",
          "name": "stdout",
          "text": [
            "what is your name: moyu\n",
            "hello moyu\n"
          ]
        }
      ]
    },
    {
      "cell_type": "markdown",
      "source": [
        "You've just created your first **variable** called **`name`**.  "
      ],
      "metadata": {
        "id": "6VDKD0F2nJvg"
      }
    },
    {
      "cell_type": "markdown",
      "source": [
        "Predict what this line of code should do, copy and paste into the code cell below and execute it.\n",
        "```\n",
        "print (\"Good morning \" + name)\n",
        "```"
      ],
      "metadata": {
        "id": "icX5CLlWUz1X"
      }
    },
    {
      "cell_type": "code",
      "source": [
        "# code here\n",
        "'''\n",
        "multi line comment1\n",
        "comment2\n",
        "'''\n",
        "print (\"Good morning \" + name)"
      ],
      "metadata": {
        "id": "As-2K2mz-RTf",
        "colab": {
          "base_uri": "https://localhost:8080/"
        },
        "outputId": "1d7ae58f-277f-41d9-c7b3-51930a6e1841"
      },
      "execution_count": null,
      "outputs": [
        {
          "output_type": "stream",
          "name": "stdout",
          "text": [
            "Good morning moyu\n"
          ]
        }
      ]
    },
    {
      "cell_type": "markdown",
      "source": [
        "Did the output above match your prediction?  What does the `+` sign do ?  \n",
        "Fill in the blank here :  `+` joins two or more word strings together.  \n",
        "\n",
        " `+` **concatenates (joins)** two or more word strings together.\n"
      ],
      "metadata": {
        "id": "mfPfta9Dq6iL"
      }
    },
    {
      "cell_type": "markdown",
      "source": [
        "Note that there is another way to print output, without the need to use \"+\" sign. For example, these 2 print statements have the same effect, with a slight modification:\n",
        "```\n",
        "print (\"Good morning \" + name) #previous print syntax\n",
        "print (\"Good morning\", name)   #alternative print syntax\n",
        "```\n",
        "Modify the previous line of code to use the new syntax, enter into the cell below and run it!"
      ],
      "metadata": {
        "id": "GEmA_-Xi7e0E"
      }
    },
    {
      "cell_type": "code",
      "source": [
        "print (\"Good morning\", name) #modify the print statement not to use the plus sign"
      ],
      "metadata": {
        "id": "BfognDNVhxuI",
        "colab": {
          "base_uri": "https://localhost:8080/"
        },
        "outputId": "b15f21c8-7d86-4c4a-a0f5-b6e4afbbd956"
      },
      "execution_count": null,
      "outputs": [
        {
          "output_type": "stream",
          "name": "stdout",
          "text": [
            "Good morning moyu\n"
          ]
        }
      ]
    },
    {
      "cell_type": "markdown",
      "source": [
        "## 2. Input  \n",
        "In this section you will learn how to get input from the user and store it in **variables**.  \n",
        "\n",
        "`myname` will take a word string which is the input keyed in from the user after the prompt `\"What is your name?\"`  \n",
        "\n",
        "`age` will take in a word string as well, which is the input keyed in from the user to the prompt `\"What is your age?\"`  \n",
        "\n",
        "Note that by default, the command **`input`** will receive all inputs as **string variables** We will learn more about variables in the next lesson.\n",
        "\n",
        "Display the following:\n",
        "\n",
        "***I see. Alice, you are 17 years old!***"
      ],
      "metadata": {
        "id": "u9db68EpTawJ"
      }
    },
    {
      "cell_type": "code",
      "source": [
        "# code here\n",
        "myname = input('What is your name?')\n",
        "age = int(input('What is your age?'))\n",
        "print('I see.', myname + ', you are', age, 'years old!')"
      ],
      "metadata": {
        "id": "VWdk54t2MpSw",
        "colab": {
          "base_uri": "https://localhost:8080/"
        },
        "outputId": "d171fa22-04a9-424d-b0e6-8602fd39d538"
      },
      "execution_count": null,
      "outputs": [
        {
          "output_type": "stream",
          "name": "stdout",
          "text": [
            "What is your name?Alice\n",
            "What is your age?17\n",
            "I see. Alice, you are 17 years old!\n"
          ]
        }
      ]
    },
    {
      "cell_type": "markdown",
      "source": [
        "## 3. Comments and more on print() and demonstration of simple mathematics functions"
      ],
      "metadata": {
        "id": "lEgWtHEuTl84"
      }
    },
    {
      "cell_type": "markdown",
      "source": [
        "Read the words in the code cells (which you can run by clicking on the arrow   \n",
        "just to the left of the first line below.  \n",
        "Do all the lines contain commands that will produce some action from the computer?  \n",
        "In this section we want to introduce **comment lines**. Read on this in the code cells."
      ],
      "metadata": {
        "id": "CrMdQJ0yoCrN"
      }
    },
    {
      "cell_type": "code",
      "source": [
        "# This is a comment line. The hex character \"#\" can be placed at start of any line,\n",
        "#which then makes the whole line not executable code\n",
        "# What do you think is a comment line for?\n",
        "\"\"\"\n",
        "This is a comment block\n",
        "This comment block is useful\n",
        "as it can cover as many lines of comments as needed between\n",
        "two sets of three double quotation marks\n",
        "\"\"\"\n",
        "# In the cases below the \"#\" character is placed after executable code which is the print() command,\n",
        "#then the rest of the texts/works are just comments\n",
        "x = 2\n",
        "print(x*3)                 # Comment :  What is the output of x*3   ?\n",
        "print(x+10)                # Comment :  What is the output of x+10   ?\n",
        "print(\"Hello World \"*3)    # What is the output of \"Hello World \"*3 ?"
      ],
      "metadata": {
        "id": "JEA6EZXKHC2v",
        "colab": {
          "base_uri": "https://localhost:8080/"
        },
        "outputId": "34ba8991-6d75-4d66-b485-4130e1aa51fd"
      },
      "execution_count": null,
      "outputs": [
        {
          "output_type": "stream",
          "name": "stdout",
          "text": [
            "6\n",
            "12\n",
            "Hello World Hello World Hello World \n"
          ]
        }
      ]
    },
    {
      "cell_type": "markdown",
      "source": [
        "***Note that:***\n",
        "\n",
        "This comment is redundant with the code and useless:\n",
        "\n",
        "`v = 5 # assign 5 to v`\n",
        "\n",
        "This comment contains useful information that is not in the code:\n",
        "\n",
        "`v = 5 # velocity in meters/second`\n",
        "\n"
      ],
      "metadata": {
        "id": "ybp_iUID-7EY"
      }
    },
    {
      "cell_type": "markdown",
      "source": [
        "Now let's work on some simple math operations. Predict what each line of the code below does. Did the actual output match your predictions?\n",
        "\n",
        "```\n",
        "# Study carefully the code below. What outputs do you expect for each print() ?\n",
        "\n",
        "print(\"Hello, world!\")      #1 Hello, world!\n",
        "print(\"Hello\", \"world!\")    #2 Hello world!\n",
        "print(\"Hello\" + \"world!\")   #3 Helloworld!\n",
        "print(3)               #4 3\n",
        "print(3.0)             #5 3.0\n",
        "print(2.0+3.0)         #6 5.0\n",
        "print(2+3)             #7 5\n",
        "print(\"2\" + \"3\")       #8 23\n",
        "print(\"2 + 3 =\", 2+3)  #9 2 + 3 = 2+3\n",
        "print(2*3)             #10 6\n",
        "print(2**3)            #11 8\n",
        "print(len(str(2/3)))      #12 18\n",
        "```"
      ],
      "metadata": {
        "id": "3q1dXwFytgV3"
      }
    }
  ]
}