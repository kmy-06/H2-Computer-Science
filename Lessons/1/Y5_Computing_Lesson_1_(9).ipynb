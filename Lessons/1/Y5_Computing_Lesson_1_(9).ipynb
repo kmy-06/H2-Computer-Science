{
  "cells": [
    {
      "cell_type": "markdown",
      "metadata": {
        "id": "gxOK4GY_b65w"
      },
      "source": [
        "# Lesson 9 - Tuples"
      ]
    },
    {
      "cell_type": "markdown",
      "source": [
        "> Tuples are immutabile.\n"
      ],
      "metadata": {
        "id": "9KDEV_acZ7mV"
      }
    },
    {
      "cell_type": "markdown",
      "source": [
        "### Playground:"
      ],
      "metadata": {
        "id": "RJr_8zVOQPxh"
      }
    },
    {
      "cell_type": "code",
      "source": [
        "# Concatenation\n",
        "\n",
        "(1,2) + (3,4)"
      ],
      "metadata": {
        "id": "MReFIKEIQPR_",
        "colab": {
          "base_uri": "https://localhost:8080/"
        },
        "outputId": "d1aba21a-53cd-4022-cfca-0917216a846c"
      },
      "execution_count": 27,
      "outputs": [
        {
          "output_type": "execute_result",
          "data": {
            "text/plain": [
              "(1, 2, 3, 4)"
            ]
          },
          "metadata": {},
          "execution_count": 27
        }
      ]
    },
    {
      "cell_type": "code",
      "source": [
        "# Repetition\n",
        "\n",
        "(1,2) * 4"
      ],
      "metadata": {
        "colab": {
          "base_uri": "https://localhost:8080/"
        },
        "id": "fpkSITg2bohb",
        "outputId": "4a0db6a2-1700-4965-9212-d8fef64665ce"
      },
      "execution_count": 28,
      "outputs": [
        {
          "output_type": "execute_result",
          "data": {
            "text/plain": [
              "(1, 2, 1, 2, 1, 2, 1, 2)"
            ]
          },
          "metadata": {},
          "execution_count": 28
        }
      ]
    },
    {
      "cell_type": "code",
      "source": [
        "# Indexing, slicing\n",
        "\n",
        "T = (1,2,3,4)\n",
        "T[0], T[1:3]"
      ],
      "metadata": {
        "colab": {
          "base_uri": "https://localhost:8080/"
        },
        "id": "kmeaWtR1btoO",
        "outputId": "8075018e-7fdb-4921-cfb9-df375c4a3fe5"
      },
      "execution_count": 29,
      "outputs": [
        {
          "output_type": "execute_result",
          "data": {
            "text/plain": [
              "(1, (2, 3))"
            ]
          },
          "metadata": {},
          "execution_count": 29
        }
      ]
    },
    {
      "cell_type": "code",
      "source": [
        "# Sort list\n",
        "\n",
        "L = ['cc','aa','dd','bb']\n",
        "\n",
        "T = tuple(L)\n",
        "\n",
        "sorted(T)"
      ],
      "metadata": {
        "colab": {
          "base_uri": "https://localhost:8080/"
        },
        "id": "lPfjg2E4cSIJ",
        "outputId": "ef127329-2bd2-4ccb-83a9-74ded4d5aa6d"
      },
      "execution_count": 32,
      "outputs": [
        {
          "output_type": "execute_result",
          "data": {
            "text/plain": [
              "['aa', 'bb', 'cc', 'dd']"
            ]
          },
          "metadata": {},
          "execution_count": 32
        }
      ]
    },
    {
      "cell_type": "code",
      "source": [
        "# Make a list from tuple\n",
        "\n",
        "T = (1, 2, 3, 4, 5)\n",
        "\n",
        "L = [x + 20 for x in T]\n",
        "\n",
        "L"
      ],
      "metadata": {
        "colab": {
          "base_uri": "https://localhost:8080/"
        },
        "id": "d6aHOUQDcuAA",
        "outputId": "a078552d-e15c-46ee-e157-62077f2be6d6"
      },
      "execution_count": 33,
      "outputs": [
        {
          "output_type": "execute_result",
          "data": {
            "text/plain": [
              "[21, 22, 23, 24, 25]"
            ]
          },
          "metadata": {},
          "execution_count": 33
        }
      ]
    },
    {
      "cell_type": "code",
      "source": [
        "T = (1, 2, 3, 2, 4, 2)\n",
        "\n",
        "print(T.index(2)) # first appearance of '2'\n",
        "\n",
        "print(T.count(2)) # Number of '2' elements"
      ],
      "metadata": {
        "colab": {
          "base_uri": "https://localhost:8080/"
        },
        "id": "fINcKnpOdIGS",
        "outputId": "186793f7-0bbe-4bf8-d5c1-a7fafcc7cc96"
      },
      "execution_count": 35,
      "outputs": [
        {
          "output_type": "stream",
          "name": "stdout",
          "text": [
            "1\n",
            "3\n"
          ]
        }
      ]
    },
    {
      "cell_type": "markdown",
      "metadata": {
        "id": "P8CbycYhiTYB"
      },
      "source": [
        "### Introduction :\n",
        "A tuple is an ordered sequence of values. The values can be any type, and they are indexed by integers similar to lists. The important difference is that tuples are immutable, ie. elements are not modifiable.\n",
        "\n",
        "Tuples are commonly defined by parentheses ()."
      ]
    },
    {
      "cell_type": "markdown",
      "metadata": {
        "id": "OFmqCXKSa-JG"
      },
      "source": [
        "### Syntax  \n",
        "A tuple is a comma-separated list of values  \n",
        "![image.png](data:image/png;base64,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)"
      ]
    },
    {
      "cell_type": "code",
      "execution_count": 5,
      "metadata": {
        "id": "y8E08jE__1CZ",
        "colab": {
          "base_uri": "https://localhost:8080/"
        },
        "outputId": "39375e93-0430-494e-efbe-b242565eb6d0"
      },
      "outputs": [
        {
          "output_type": "stream",
          "name": "stdout",
          "text": [
            "('a', 'b', 'c', 1.2, False)\n"
          ]
        },
        {
          "output_type": "execute_result",
          "data": {
            "text/plain": [
              "(('a', 'b', 'c', 1.2, False), tuple)"
            ]
          },
          "metadata": {},
          "execution_count": 5
        }
      ],
      "source": [
        "t1 = 'a', 'b', 'c', 1.2, False\n",
        "print(t1)\n",
        "t1, type(t1)"
      ]
    },
    {
      "cell_type": "markdown",
      "metadata": {
        "id": "y2ew3lCEbGEC"
      },
      "source": [
        "\n",
        "\n",
        "\n",
        "### ```()``` Syntax  \n",
        "The more common syntax is to enclose tuples in parentheses.  \n",
        "![image.png](data:image/png;base64,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)"
      ]
    },
    {
      "cell_type": "code",
      "execution_count": 6,
      "metadata": {
        "id": "2g5Z7HkDibA3",
        "colab": {
          "base_uri": "https://localhost:8080/"
        },
        "outputId": "c8d20321-229a-41d0-a565-f0fcd9b68182"
      },
      "outputs": [
        {
          "output_type": "execute_result",
          "data": {
            "text/plain": [
              "(('a', 'b', 'c', 1.2, False), tuple)"
            ]
          },
          "metadata": {},
          "execution_count": 6
        }
      ],
      "source": [
        "t2 = ('a', 'b', 'c', 1.2, False)\n",
        "t2, type(t2)"
      ]
    },
    {
      "cell_type": "markdown",
      "metadata": {
        "id": "TireCvQAbKbe"
      },
      "source": [
        "### Creating a single element tuple\n",
        "![image.png](data:image/png;base64,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)"
      ]
    },
    {
      "cell_type": "code",
      "source": [
        "t3 = ('a',) # A one-item tuple\n",
        "t3, type(t3)"
      ],
      "metadata": {
        "colab": {
          "base_uri": "https://localhost:8080/"
        },
        "id": "Z_BtUJJeXKDX",
        "outputId": "ec2878e1-e33e-4ec0-fda4-6515e1fe63ec"
      },
      "execution_count": 8,
      "outputs": [
        {
          "output_type": "execute_result",
          "data": {
            "text/plain": [
              "(('a',), tuple)"
            ]
          },
          "metadata": {},
          "execution_count": 8
        }
      ]
    },
    {
      "cell_type": "code",
      "execution_count": 7,
      "metadata": {
        "id": "Q-DAneCailT3",
        "colab": {
          "base_uri": "https://localhost:8080/"
        },
        "outputId": "45f992b4-8432-4822-e079-7166229fc703"
      },
      "outputs": [
        {
          "output_type": "stream",
          "name": "stdout",
          "text": [
            "[1] 1\n",
            "(1,) 1\n"
          ]
        }
      ],
      "source": [
        "lst = [1]\n",
        "print(lst,len(lst))\n",
        "t3 = (1,)\n",
        "print(t3,len(t3)) # indicating there is one element"
      ]
    },
    {
      "cell_type": "markdown",
      "metadata": {
        "id": "nq-apZOgbR5Z"
      },
      "source": [
        "### Common mistake with one element tuple\n",
        "![image.png](data:image/png;base64,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)"
      ]
    },
    {
      "cell_type": "code",
      "execution_count": 9,
      "metadata": {
        "id": "XIdamcjIi4En",
        "colab": {
          "base_uri": "https://localhost:8080/"
        },
        "outputId": "53ceaf31-8d9c-4348-c728-ca835f6d5eae"
      },
      "outputs": [
        {
          "output_type": "execute_result",
          "data": {
            "text/plain": [
              "('a', str)"
            ]
          },
          "metadata": {},
          "execution_count": 9
        }
      ],
      "source": [
        "t4 = ('a') # Not tuple\n",
        "t4, type(t4)"
      ]
    },
    {
      "cell_type": "markdown",
      "metadata": {
        "id": "9Jnre-exjVqm"
      },
      "source": [
        "## Initialising an empty tuple\n",
        "![image.png](data:image/png;base64,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)"
      ]
    },
    {
      "cell_type": "code",
      "source": [
        "t5 = ()\n",
        "t5b = tuple()\n",
        "t5, t5b"
      ],
      "metadata": {
        "colab": {
          "base_uri": "https://localhost:8080/"
        },
        "id": "m7hCmIK9Xfe8",
        "outputId": "d7f7de53-a590-4143-d56d-75fb1878fab9"
      },
      "execution_count": 11,
      "outputs": [
        {
          "output_type": "execute_result",
          "data": {
            "text/plain": [
              "((), ())"
            ]
          },
          "metadata": {},
          "execution_count": 11
        }
      ]
    },
    {
      "cell_type": "code",
      "execution_count": 10,
      "metadata": {
        "id": "cKQTK2SfjaVF",
        "colab": {
          "base_uri": "https://localhost:8080/"
        },
        "outputId": "c0ac367a-c521-4208-b14a-c6c8ce3f9da5"
      },
      "outputs": [
        {
          "output_type": "stream",
          "name": "stdout",
          "text": [
            "Help on class tuple in module builtins:\n",
            "\n",
            "class tuple(object)\n",
            " |  tuple(iterable=(), /)\n",
            " |  \n",
            " |  Built-in immutable sequence.\n",
            " |  \n",
            " |  If no argument is given, the constructor returns an empty tuple.\n",
            " |  If iterable is specified the tuple is initialized from iterable's items.\n",
            " |  \n",
            " |  If the argument is a tuple, the return value is the same object.\n",
            " |  \n",
            " |  Built-in subclasses:\n",
            " |      asyncgen_hooks\n",
            " |      UnraisableHookArgs\n",
            " |  \n",
            " |  Methods defined here:\n",
            " |  \n",
            " |  __add__(self, value, /)\n",
            " |      Return self+value.\n",
            " |  \n",
            " |  __contains__(self, key, /)\n",
            " |      Return key in self.\n",
            " |  \n",
            " |  __eq__(self, value, /)\n",
            " |      Return self==value.\n",
            " |  \n",
            " |  __ge__(self, value, /)\n",
            " |      Return self>=value.\n",
            " |  \n",
            " |  __getattribute__(self, name, /)\n",
            " |      Return getattr(self, name).\n",
            " |  \n",
            " |  __getitem__(self, key, /)\n",
            " |      Return self[key].\n",
            " |  \n",
            " |  __getnewargs__(self, /)\n",
            " |  \n",
            " |  __gt__(self, value, /)\n",
            " |      Return self>value.\n",
            " |  \n",
            " |  __hash__(self, /)\n",
            " |      Return hash(self).\n",
            " |  \n",
            " |  __iter__(self, /)\n",
            " |      Implement iter(self).\n",
            " |  \n",
            " |  __le__(self, value, /)\n",
            " |      Return self<=value.\n",
            " |  \n",
            " |  __len__(self, /)\n",
            " |      Return len(self).\n",
            " |  \n",
            " |  __lt__(self, value, /)\n",
            " |      Return self<value.\n",
            " |  \n",
            " |  __mul__(self, value, /)\n",
            " |      Return self*value.\n",
            " |  \n",
            " |  __ne__(self, value, /)\n",
            " |      Return self!=value.\n",
            " |  \n",
            " |  __repr__(self, /)\n",
            " |      Return repr(self).\n",
            " |  \n",
            " |  __rmul__(self, value, /)\n",
            " |      Return value*self.\n",
            " |  \n",
            " |  count(self, value, /)\n",
            " |      Return number of occurrences of value.\n",
            " |  \n",
            " |  index(self, value, start=0, stop=9223372036854775807, /)\n",
            " |      Return first index of value.\n",
            " |      \n",
            " |      Raises ValueError if the value is not present.\n",
            " |  \n",
            " |  ----------------------------------------------------------------------\n",
            " |  Class methods defined here:\n",
            " |  \n",
            " |  __class_getitem__(...)\n",
            " |      See PEP 585\n",
            " |  \n",
            " |  ----------------------------------------------------------------------\n",
            " |  Static methods defined here:\n",
            " |  \n",
            " |  __new__(*args, **kwargs)\n",
            " |      Create and return a new object.  See help(type) for accurate signature.\n",
            "\n"
          ]
        }
      ],
      "source": [
        "# how to access documentation string\n",
        "\n",
        "help(tuple)"
      ]
    },
    {
      "cell_type": "markdown",
      "metadata": {
        "id": "F6ewArMLbXo2"
      },
      "source": [
        "## Tuple typecasting\n",
        "![image.png](data:image/png;base64,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)"
      ]
    },
    {
      "cell_type": "code",
      "execution_count": 12,
      "metadata": {
        "id": "DBQXiXEai-ya",
        "colab": {
          "base_uri": "https://localhost:8080/"
        },
        "outputId": "495256d5-6ed3-46b4-ba1d-ea8b8024728a"
      },
      "outputs": [
        {
          "output_type": "execute_result",
          "data": {
            "text/plain": [
              "(('i', ',', ' ', 'a', 'm'), tuple)"
            ]
          },
          "metadata": {},
          "execution_count": 12
        }
      ],
      "source": [
        "t6 = tuple('i, am')\n",
        "t6, type(t6)"
      ]
    },
    {
      "cell_type": "markdown",
      "metadata": {
        "id": "mrcwEiaJbZ-d"
      },
      "source": [
        "## Slice operators\n",
        "![image.png](data:image/png;base64,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)"
      ]
    },
    {
      "cell_type": "code",
      "execution_count": 13,
      "metadata": {
        "id": "lmvOwKPZjJSH",
        "colab": {
          "base_uri": "https://localhost:8080/"
        },
        "outputId": "89e75482-0640-4ca3-e3a1-6b90089ea3f9"
      },
      "outputs": [
        {
          "output_type": "stream",
          "name": "stdout",
          "text": [
            "(',', 'a')\n"
          ]
        }
      ],
      "source": [
        "print(t6[1:4:2])"
      ]
    },
    {
      "cell_type": "markdown",
      "metadata": {
        "id": "11zUKrmIbcHY"
      },
      "source": [
        "## Tuples are immutable\n",
        "![image.png](data:image/png;base64,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)"
      ]
    },
    {
      "cell_type": "code",
      "execution_count": null,
      "metadata": {
        "id": "JBJxY4_Pj1H4",
        "colab": {
          "base_uri": "https://localhost:8080/",
          "height": 141
        },
        "outputId": "168e9edf-57c9-4c6d-8fcf-0e91b95770e8"
      },
      "outputs": [
        {
          "output_type": "error",
          "ename": "TypeError",
          "evalue": "'tuple' object does not support item assignment",
          "traceback": [
            "\u001b[0;31m---------------------------------------------------------------------------\u001b[0m",
            "\u001b[0;31mTypeError\u001b[0m                                 Traceback (most recent call last)",
            "\u001b[0;32m<ipython-input-13-96f61fa4d3da>\u001b[0m in \u001b[0;36m<cell line: 0>\u001b[0;34m()\u001b[0m\n\u001b[0;32m----> 1\u001b[0;31m \u001b[0mt6\u001b[0m\u001b[0;34m[\u001b[0m\u001b[0;36m0\u001b[0m\u001b[0;34m]\u001b[0m \u001b[0;34m=\u001b[0m \u001b[0;34m'u'\u001b[0m\u001b[0;34m\u001b[0m\u001b[0;34m\u001b[0m\u001b[0m\n\u001b[0m",
            "\u001b[0;31mTypeError\u001b[0m: 'tuple' object does not support item assignment"
          ]
        }
      ],
      "source": [
        "t6[0] = 'u'"
      ]
    },
    {
      "cell_type": "markdown",
      "metadata": {
        "id": "bhirEIpybeP9"
      },
      "source": [
        "## Tuple reassignment using slicing and concatenation\n",
        "![image.png](data:image/png;base64,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)"
      ]
    },
    {
      "cell_type": "code",
      "execution_count": 14,
      "metadata": {
        "id": "VlxWAJqJ8Cx6",
        "colab": {
          "base_uri": "https://localhost:8080/"
        },
        "outputId": "3af762ce-21e0-4b7f-a8fc-b43b23a495bf"
      },
      "outputs": [
        {
          "output_type": "execute_result",
          "data": {
            "text/plain": [
              "('u', ',', ' ', 'a', 'm')"
            ]
          },
          "metadata": {},
          "execution_count": 14
        }
      ],
      "source": [
        "t6 = ('u',) + t6[1:]\n",
        "t6"
      ]
    },
    {
      "cell_type": "markdown",
      "metadata": {
        "id": "1UZhnbk_FntL"
      },
      "source": [
        "# Tuple assignment:"
      ]
    },
    {
      "cell_type": "markdown",
      "metadata": {
        "id": "qsdUqiP1bjgP"
      },
      "source": [
        "### Traditional way of swapping values between 3 variables\n",
        "![image.png](data:image/png;base64,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)"
      ]
    },
    {
      "cell_type": "code",
      "source": [
        "a, b, c = 1, 2, 3\n",
        "\n",
        "temp = a\n",
        "a = b\n",
        "b = c\n",
        "c =temp\n",
        "\n",
        "a, b, c"
      ],
      "metadata": {
        "colab": {
          "base_uri": "https://localhost:8080/"
        },
        "id": "vift9tWUQAVP",
        "outputId": "d3d17594-e0bf-4086-d706-f342550386f6"
      },
      "execution_count": null,
      "outputs": [
        {
          "output_type": "execute_result",
          "data": {
            "text/plain": [
              "(2, 3, 1)"
            ]
          },
          "metadata": {},
          "execution_count": 17
        }
      ]
    },
    {
      "cell_type": "code",
      "execution_count": null,
      "metadata": {
        "id": "0zEiuH8mFruv",
        "colab": {
          "base_uri": "https://localhost:8080/"
        },
        "outputId": "2511c90c-665c-4dbf-9de3-b6db14ed4ed7"
      },
      "outputs": [
        {
          "output_type": "stream",
          "name": "stdout",
          "text": [
            "2 1\n"
          ]
        }
      ],
      "source": [
        "a = 1\n",
        "b = 2\n",
        "a, b = b, a\n",
        "print(a, b)"
      ]
    },
    {
      "cell_type": "markdown",
      "metadata": {
        "id": "ApaE5ZQ2blzm"
      },
      "source": [
        "### Pythonic tuple assignment\n",
        "![image.png](data:image/png;base64,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)"
      ]
    },
    {
      "cell_type": "code",
      "execution_count": null,
      "metadata": {
        "id": "fw2YUBJF8aHC"
      },
      "outputs": [],
      "source": [
        "a, b, c = 1, 2, 3\n",
        "a, b, c = b, c, a\n",
        "a,b,c"
      ]
    },
    {
      "cell_type": "markdown",
      "metadata": {
        "id": "9gOBy9ppbncq"
      },
      "source": [
        "### Tuple assignment from a string split\n",
        "![image.png](data:image/png;base64,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)"
      ]
    },
    {
      "cell_type": "code",
      "execution_count": null,
      "metadata": {
        "id": "VbkC_F1a860T",
        "colab": {
          "base_uri": "https://localhost:8080/"
        },
        "outputId": "ebbcc6a5-7546-47e9-ea68-19ecb97a4bf4"
      },
      "outputs": [
        {
          "output_type": "execute_result",
          "data": {
            "text/plain": [
              "('kenny', 'python.org')"
            ]
          },
          "metadata": {},
          "execution_count": 16
        }
      ],
      "source": [
        "email = 'kenny@python.org'\n",
        "username, email_domain = email.split('@')\n",
        "username, email_domain"
      ]
    },
    {
      "cell_type": "markdown",
      "metadata": {
        "id": "F5RAA3OTHDm0"
      },
      "source": [
        "# Tuples as return values:"
      ]
    },
    {
      "cell_type": "markdown",
      "metadata": {
        "id": "4n0WTgm-bp0b"
      },
      "source": [
        "\n",
        "![image.png](data:image/png;base64,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)"
      ]
    },
    {
      "cell_type": "code",
      "source": [
        "help(divmod)"
      ],
      "metadata": {
        "colab": {
          "base_uri": "https://localhost:8080/"
        },
        "id": "xi8lFJ9YQrUP",
        "outputId": "f1e9d03e-6f71-41ef-cbb4-fbeee3036d09"
      },
      "execution_count": 15,
      "outputs": [
        {
          "output_type": "stream",
          "name": "stdout",
          "text": [
            "Help on built-in function divmod in module builtins:\n",
            "\n",
            "divmod(x, y, /)\n",
            "    Return the tuple (x//y, x%y).  Invariant: div*y + mod == x.\n",
            "\n"
          ]
        }
      ]
    },
    {
      "cell_type": "code",
      "execution_count": 18,
      "metadata": {
        "id": "_rEWC8RsCQvu",
        "colab": {
          "base_uri": "https://localhost:8080/"
        },
        "outputId": "2d648fae-44ae-4b8f-e863-8263a9baec36"
      },
      "outputs": [
        {
          "output_type": "execute_result",
          "data": {
            "text/plain": [
              "((2, 1), tuple)"
            ]
          },
          "metadata": {},
          "execution_count": 18
        }
      ],
      "source": [
        "t5 = divmod(7 ,3)\n",
        "t5, type(t5)"
      ]
    },
    {
      "cell_type": "markdown",
      "metadata": {
        "id": "VADQHohubrTH"
      },
      "source": [
        "\n",
        "![image.png](data:image/png;base64,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)"
      ]
    },
    {
      "cell_type": "code",
      "execution_count": 19,
      "metadata": {
        "id": "5mSeutp8CZWX",
        "colab": {
          "base_uri": "https://localhost:8080/"
        },
        "outputId": "79ab3361-ab28-4237-e0de-1aebe174f4d2"
      },
      "outputs": [
        {
          "output_type": "execute_result",
          "data": {
            "text/plain": [
              "(2, 1)"
            ]
          },
          "metadata": {},
          "execution_count": 19
        }
      ],
      "source": [
        "quotient, remainder = t5\n",
        "quotient, remainder"
      ]
    },
    {
      "cell_type": "markdown",
      "metadata": {
        "id": "nx3fueuTbtiO"
      },
      "source": [
        "\n",
        "\n",
        "\n",
        "\n",
        "# Comparing Tuples:\n",
        "![image.png](data:image/png;base64,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)"
      ]
    },
    {
      "cell_type": "code",
      "source": [
        "print((0,1) == (0,1))\n",
        "\n",
        "print((0,1) < (0,2))\n",
        "\n",
        "print((0,1,2) > (0,1,1.5,9))"
      ],
      "metadata": {
        "id": "hZQ27L5qSLly",
        "colab": {
          "base_uri": "https://localhost:8080/"
        },
        "outputId": "4f4c1ab4-e7cf-4534-b501-f514b7b606e1"
      },
      "execution_count": 20,
      "outputs": [
        {
          "output_type": "stream",
          "name": "stdout",
          "text": [
            "True\n",
            "True\n",
            "True\n"
          ]
        }
      ]
    },
    {
      "cell_type": "markdown",
      "metadata": {
        "id": "c1OLTGgkbvA5"
      },
      "source": [
        "# Tuples and Lists:\n",
        "![image.png](data:image/png;base64,iVBORw0KGgoAAAANSUhEUgAAAwgAAAB8CAYAAADNXpddAAAAAXNSR0IArs4c6QAAAARnQU1BAACxjwv8YQUAAAAJcEhZcwAAFiUAABYlAUlSJPAAAFXeSURBVHhe7b0PXFPX/f//Ei3Cxz/F+Sdqu5rV1oLaAsUZtF3JZqdQ20a0E6xrTf98FdpaRq0F3W8s47OpzFqW2hV0/RPtWomrxbS1RldnWKsCK4VYrWj/RatgVAb++xCo4u+ce29CEgMkJEDU95PH5eaee3Jz7/l33+9z3u9zejU2Nl4CQRAEQRAEQRAEI0TaEwRBEARBEARBkIJAEARBEARBEEQrpCAQBEEQBEEQBOGAFASCIAiCIAiCIByQgkAQBEEQBEEQhANSEAiCIAiCIAiCcEAKAkEQBEEQBEEQDkhBIAiCIAiCIAjCASkIBEEQBEEQBEE4IAWBIAiCIAiCIAgHpCAQBEEQBEEQBOGAFASCIAiCIAiCIByQgkAQBEEQBEEQhANSEIie4XwZtK9EIXxlMrT7bVIg0a3UGJC+Sg75qnQYjkthBEEQRJdiMaUjdqUcsW8YYJXCCCLY6NXY2HhJ+kz4izkP4UaNdCBxvQ6WtBTIpENCwjmt5CY0pijEz0S3Yf04FfIKg/BZFWdB0b3XQim1obpEC21VEbbaqltfzsFcBqldIYjgo9P10gp9oRzq0/yzCrp5RUgZLpy4ujlfDcOHWhQe3QrThVa1SJPYiKxo6eBK5yprqwM2gnDhxJfY9tafkZuTg5yXS3BSCvcZiw5JeanQO3o0y5CXF45wfZl07MYRI7JfS0LspjbOE8HJLUqs6CdnJTARK8ZfLa1DoGhA2YeZSM1Pd6oHgUc2dg7UfWSQ9VFjzvhrQzkwb0pEbKkGOmflgAhOgq5tt8D4VjqSVuWxtxJBdBYZFJFqRIbIEDl0DpQBVg4avihE5qtKpH8cRC1ckxl5r8Uilcl3zspBYKB62VX4qSBcwLlvdqHolVzkvlKEXV+dYyF+ctoKk/RR4ORxHGA7WZ8w8didejO0dSZU+/3DASA6C41ZjdJmgpseSTjTT4GMZw6gcXExMsa1kbfXLE2wHC2EobleOu4iRqpQsMgCy6ICqK6FHqzTJui+Zq+QkBQUqGqd6irbgnkE61ptV4KpbRewwlzDBRzpkLi28aNeypUFqFxsQeXjqoD3LDdZTSg8W4Yufnv4REO5Dhobk+MGFaB0vj3NxM3/0YMgqpdXWVvtn4LQvBeb123DlycuoM+QODw0JwFDpVOdpeEM7zKNhHyYeIyLNnAL9fjrrwUJhiCILuOoGcV8f1M61JERQhBBEATRtRw+IbS8SFeoET1I+EhcAfinIITegTvGDUXcrEwsfVaFO4b2kU50nqamWvY/vPXOrBZwK+kRffuKxxxu58XNjvhmt/eyKFvDpC3VZYhNMlXK8zAMdVyPVH6uUO9kdiDFX2uAtaUBZR9kInmVXLiufJUa2soGKZ6fsGtXf5ztuHb4SiVS3yxEWadttNyor4bRmI10bSzkwvPLEatNR15JtaB4ecJaIQ5RRrnFb2iRIrjhfXxue8njuG55Zum0R2ywlGqd7r+970t5xvPRnmcrxThR+emX5VmZXop73ozCwigWLwqpH5pha7HA+Hay8DxRrxlgcX+OZitMm9KhlK4tX5WEdL0B1eel8w7sz8vLHLd9z4PaUYaSkf2xcx44p43dPtUA9Tp7mH3zdxjVXg+cN2eTPle4nwKPw9PY9rUBeWulfFgZi+S39R6euRM0WVH2sdapDPH8SkXmB2VtlrlOcYGnspecNEOvb81jXi/T9XqYPdVLqT0SyiG3s3V8j9WFV7Kh/7onnPB5vWH18hWnev9KJgpLLW3Ue+/ji2VCjrz9Upl4zZ5vUf6XiU617RK+5JnXONcXpdQjqIHSESZtLu8ORifKRMO3RugEUwn7uyAWSa/lweAet1qLSfz8KzpYpCAXmkzQ8N/K18LsVn8aDumR7cjjKChfZXns8V0mPbdg2iu2Xen5vI301Ha10nCIl4ckxEp5INZjE6zNUgR3TpigdZSf1neH5zLqIy02WL/QQ/tmqkuZCOj71Recy7Z9cy837vB3DXuPpUpp7ygTh1zzzN5O883uV2aokMqR09b+u9Y7Gvbrneq8+G7N+9jcblttC7hZUWfqpf07V74M6KuM1ln8NDHqgztSFkLFVEL/VIPWzBYLt1NGSy+Jwt0jxOO2fBG6iguV0L0WA+WXhTBKhdx6gTWy22ewyuZnM8YEUT27dmyF1nFttJTBcCITSp0a+hoxqPMwoVPPBDmz1snm2opqmw6a0lgkGi5vLcwfJEHxMXtpnC2TXj6t8dd8IQS44Gt83xBtxqNKsn2zGW+uRIE9z6QKY2nWCXmmrRaPHbA8KNKrkHma3z1TRvdvQBFTqJKPGoXnsdSlQrvLqSE4z8pqgRxJX+tQJl3besEEnSUVsazhLvMoHFmw9W3R9l3vKENGaCsSseSTADUyXYxlnwaJm1KhYQqn8AQtTPE8qkai3gh/n6BssxzKimynMsTzy4DCL5WI0flzfTeFtE2B01VBsn2pRbIuHmpLax7zeqmzqBHfTr2sZN/LlOxsxe+xunBeC3XxEhjrhCjdA1dw1/F6w+olE04d9f48e6mURLE84+qqE77GF7Di+L48sUzU2fONXYeXCaYkXKZUdzGdzbOuxusywQSUtH8kI10wlZBaOlbHTHUapLI20KXdilRhQT+2P2+A6YgY5IxtL2uP2G/FyJWIdnrDWz5WI6aYCTaOPLag7CzL4+0xUH9sr3lu1G2FlpUNwW+nWYzTVtvVUJqJScW8PJhQLeWBWI+TkPFv6ZmcsDGBWflmErId5af13eG5zPnIF1rIP1Ij+4TBpUyI79fM7q2TnaGFd1wpkMTeYwYp7R1lonjN5UJul8Pex4ZkxHyodqrzPI9ZnlXEI+Y1p3pvF7ilTSlF1hid2122daQgBQNBJgN2rczlip8KQg/hbOeVKL30+SwkDtsvcQvIrCxn85hQFA7VLVth+Q277uJ6HIjlHull0Ozxb4oyy/ZMqOuBRPu1+X1n1qIyPguKFj3UHxn8Fr7CBqQhP6ESlmda06VWVYAUlvNlh4ytDSeHFUxjtQnW0CxsfazeEb/+yUoUj1Xjenct0Nf4LNVS0lrvwxKnksLb4LgBy7nNeFgadHabcZb+lnuZsMpLLp8dgIVdZsPYqEUeS9eU20tRm8m+w9J0q5zbmJeh6KCbUnRWw15QSugeaUTlWCUL0CL9i1JkJLDfm5olRCk+cVjY8wbStDkFGpsCaXHStfk9/cYCUyQrEzYNfrPdUxeNDnlHy6C4sditDFlR+FWplMfOaWOB7noexme4sIfZN1Y2hPidRYEsp+uZ5FJwB+iOMuUnLAvFj4j5XJ+iE8qQ9eQ2lAqjHZ0nLIylaZwJB55yKkOPFCMrjF9fh21d6Kh9GeylvOaf2UyxZPnBy4+9Xs4vhW44S/l26qXhCFNykIaC+yyoX8y+k2lB8cgY9p1CbPvS35rsPQ27tEg7zusNy6+5Upo61Zsyy2+w5kspMsPX+HYKLRpYwjNa6+b8rdDwPKvPgr6zL6rOtO1+5FnHONcXu02xBiZHmLS1MUuJ92UiDPJh+Sj+FYtnb1dYu1V6u/iuyTc7i4NyzLhdzfZGGL60i2l2bCg9pGMtSyIWxDk1jEd0yKzQAwM02CrVYb7V/qqI1TOmSFfkweBJYGbvv2xW/9KiTY53lOVnGYhxabs4VmyrKmQCiwoFv6oVn5X/xjMHYIrTIPY6KZqdJhNWbNewNsWpbWdb/SMm5A9iT9xGmfOJPmFIkTOFa67T/bC2uvhGXiYKoavsZtHUV/v0L4xY0WhFzE1MPrC/v1m9rP1VMfKHXs9KTCuye4sc17a/V/nMdK2/J25+2ftXr0FGtRFWyYfLnqa1Kh3ShHqvRl63dXj5Vy99IphkQJ9lLv/gYlYQYM9sC4q4fdrQYtRKD37gdi60paDocSnxut2ZkN2bcg+KZikh41ZOIawhn6qBJpx9Pl2Kyk4LR2YYDhiB4YXYYL82JzQCkQka5N3EPteZ/BS+ZFDNzUdafCRkvMdJIiJSjfQb2YcWpjicEMMEfmAFTVIYwvu1Nj9hgyOR+EAB0sZJAXZ8je8rknlZ4m0ZSLHbjLP0l8WpkTqAfT5dDJNH4ZEJCkzg1N0XjYhQdsjSVPmzdPbqAqrqai8TFBLHaZAyEhgULkjlTPHIQ2Y8+70RUcJ3rBekXoLTJhiOWqEcW4j8e6Vrc/rKoFCxPGP3VGUxsZy9HAUTcoxzE1vL0L3p4K94nD4Iu/oR1ISxxvdJJjCOFPM5TJ4iliGU4iC3CvSDaPaCybpXAfkApzI0MhHqKJ76Blg63QK7KqRtC5yt0wzaKtjLl2V3jFyPQl5+7PVyUDRSHtGhgNejug0elRbZIB0OpOdDfbsMYbxlDZUh8Y4ZwrnapiZh3/VYsNlcyF5aTLlMYfl1o5SmQr3JwoZ7MliqVCH/C7vA6Wv8VrjDofGJFa11c5ASGfEZ7IMVmy0BsGXwEn/yrKvxukwMV2HFY2lIvJnFs7crrN2KThTbCWu9xUUQiYhRMbWDqQhfM8FdDBJpKoWphsW8PhVJ/B0iYa5cw9SJNBTOy4JSqsOciJtV0NzDO0KYIO1JiWXCoG4OE9oTFY53lGxyMoQnaD6N1idg9UgyIwoPixCfldNPDsW9WchKcBXTGsoNyGtRIn96fmv5YYSNVCDt/jxWGqtQ9JWfZWgcU15TUqC40el+WFud+HPxXWCoc1euggubrV7K83Bcb39/s3oZcXMi0h5PQ/fO/WeDqSKficQx0EwtFHy47GkaEZmCfFUBU0lZKTqwTbzn4Uxmc2pj7R1RfEpTl7b3ipj+M4hkwK6WudywV5sg4TiqWWLEDB4BscloQPVxE0uwWMj99X7uNElIUrQ2YCJyRAmluhrHOztVwPFq7OEN6vFkDHIecpM2pTB0XIvTjXzvB+ctMDrbMLpc342+8ZhzC1PAmvOgfDUZmR8YYD7azhCar/F9RSYXGnLjQS301dLLi9uVVuhQxCtN6CREevRdT0f6vW5d4/aS7vJS46iQGuMaNyO2jZklmNBTyHamL2Nd0lLcoqA+y042i071rqiQnqBw6fHh98PbF8/xgw/VODUUTkqmgJCmVbD5K/u2NMD8cd5lfiZRlaItbXdysIa/4GSYMd4tvzghcihv5h0WnpWWeHZObhfu7Ei9ht22xsTpapi5mdsgz9MnhsUkIpXtHQKnr/GdiL85CZFuZSJsVKxQZ6vO1HdbufYnz7oaX8qE7agRhc728nxbqUSedN6F65VQ3ci+72ZmZDcvUkdNc2rDrKiurWL7QiS/4nRt+7Zd/AWPSuyAJCidFA0RqUPPRbiTI+kOfmyA+u1YqPV6mL5tgM15hNqJgzVCS4rMTR7u5y210DFUZfO/BIn28q0+Ec7XD3bCYuYII3JVR5SiP1CJGZZA+Hx1ioMwn2AVKGQGEqMvq2Us+1l5FARmi6vCelUQRDJgV8tcbgSFgtDqYBMPDWtQqqrjpeMRSOaOGs3ZiBeO23am7BlMsPrVw9/FcHv516KQ7GzD2C5hiJ5lRGW8BikhlSj8MhXxbw9iLynRKe1yBxhf4/vIcBXSboxkb71CqA2SD8rKQZB/rIGRvYpSYlMD04viVgsGhXloAImuQbLBjK8IjrUJbDYuSMVDPlg8dic8VBplClYaT7NXCuP64U7CmxN9w+EyiYiv8b3lvBXd1TRe8XnG4Pb4iW+zF76zvXy7hEEZm4kYFzMjybwoJAspfAS0m5Epdaiamo+0cBv0FjWS/jECg1YxZWFTO07KXYjgcyHYy7f6RFxR9I1G1pOVKJKnIKyxEJml8YhiCl4Ud3J3c1Luemyw8TwcIIfn+STZu9ldEb4m6G4ZsItlLjeCQkG4IhEyQgW5x7eqD3iwr23d/Fth0fLJita5h59stVfjW9u252GITMiCbpEF9XNLUTQ2DYnsJaStiMWMYrOHXkFf4/tA00GUnapGzKAMpPWLlAQYORSDNShKroJO6W/idw5Ptp2tm78+AtcWtgodsuqZWuBs/y5tHfqodAFhfXiZKoWlDQfGxuZg7hFg9A5jNZJx+rhnZaup0XV+dF/jd4T9BTVI7lnh6AKu+DyDBUWfaFDGOz2cfSiErR1b9bFKpDKhzHhIMjOSzItkI5WIt5sruODBRttpC8QoV0RsGvKfOSDYRG+N40JMPfRfJ0Gh82Sr7cnHymnzx5y4yQRdJXeAVSArgd2P3a+Db/N0wijXFQF776lSdKjMqMcBVRHyhyUy5Zs7uc9A3v6u6zm+HNZKcGnxrAWe+2hZuvaAEtij9JgM2IUylxtBoSA4HGxUKxDDjh12aotNENxEHQnYjsDcoeYkh1zoSGJCiMtIqg1lJQW+DTmeN6H4KNuHxLau1+Arw+SI5Pua0sumogsU1tNGYa/+qRrRg516xVsaUO9FKQq7MRqqB/JR/BTLB/YiKvva6NG+3o6v8TtCXFxFhd/cv4K9dCoFh+TGrAMwPZkF1Zju7yHDUNHkyWBxds7rYrqobAQLp0+LowaqKHWr/btEfWP3C3ajhiWz/1ZsPuSh5LaYYfiKL+OYhmgvnbu7HVZGY3lPXr0RpR4EZm77XcT2MSMkhdvX+B1gqSoS2lLV4AAmUAd1oPvzrDHA9dIKq2A6okZ6opMPBed0fRsCGYe1t1FMYGzUw8Q0BNG8KAaZsUpR6XMgk959m1Hqr+Ovl3CbaOW9TIjJZPfEfttav8HFX0w2SGhJYTrYRS1pvVUcNRiQDnW8vNWvg3OmvttGtwJGaBjkkSqkPVaMyqlZTE4qg2ZfB2/XFn/tk50ZxWQItmvZDJOnMlRtgI7/3NBo3CaG9AAd1curTwYMtMzlTnCNIDTZwAeLHZywgM/uphzQzqtpZCRS+P5oAXTVbds8An1xvdBIFEFXYhHjNVlh3JCMFMvlDnitWGA52npdW40JeevU0LLjxHEpUHQ2BUOioeQ2pM3ZSF2rhakL7MjEnjVgW7UJDVy7b7EJc21r105Csqe3znED8gTbUas4nChhq5fsiVkj5fLi8TW+j4hrYpRia5WZKTsNaPDX1t1fRiqQKDg8ZmDOOj3MdYHPMxG+BD/POwMKdhp70O60G5BWSDd8a4JFyl/b0TLo1iUh8UuXNdW7hYix05DG6nTVoQxk8rm97WWu3gz9WxnIZlkeI0+FMmitVli7cjPvedUhQ5/X2q4Ivjt5eKxUdEj+jcJunOdr/FZOn7ZIgi2jmfuRZEL9hZG1bRlIm+SNOtEBXrbt3Zdn7IUu2FvpUGB0+h2/YXVAeI9sw9YKSWBuakB1qZa9G5IFv6e2kP9UzdQKEwzVFpi/1cEayp5zrHTSiehbslirUoXsLanQVrD3X8B7e80ofKNQuA/ndLHVn5ZGoEbgesHpSkQemSg6tZbPQbZzngUK+8jY2WKmPEll+rwFZcZsJBkyWYoFP9aSPOR9bEL1Cen+Oc02HG8Uj2PaMIWVjYgVlHnDAR2MAZMrIhB/a5pYhv6ZKfgE2utjQ7UemduyRQfmOKXkP9qdeFsvrwIZsItlLnd6NTY2XpI+d4KTKHl5NXackg49Mhapuansf8dwXwR5BcvmedJIAV8QxpCNUXGWdoY/G2B8IwbJJz0MYLp9r+GTTMTs5i88VxQ3ZiHqaB50fNpMh+MVX5vBvgDH5fDZKUxPpkDuVDj4wlv2+X49w4d4nUxQBB8B9httlQs+cuLHMKttfx4SP+RD1+4wQXdAE4xnR7WmNYfPXcwKvmdNWoYUBRPcnM16AhpfxCXPWP4rWf57rLohCqiGpCLz/jQoHA7s9jxzS2eO/bed8ljMLz7MLaaBWP4MwgiWMB2c/TvO+VCjh/ptNfRtCCuuZY7Pw88XPWv9jVbauVdOm8/eRnxv4Yv12NcDaAPH8zPsaeJelzj28u4c32dYg6d+K9VDespYGY1lZdTo3/WdsT97B/XKYkpHUpnnRahk4Rron2Dp7+ycK13XUxoFgk61K6+nQNPoyWiIlUfFVhQonbrTfYxvLxOeUbD8MrL8CsRryvu23ec86yRtvUOEKZednXZ9KhPiei/xfEpnd8KYIN1ihDHc7foOGmB4bQRSL6Qg5awep28/gOJET0MlNlaOElk5aksQcm9XpPbJ/bnaxN6eeUZxSymMs6JdhBfuI6CsaGsefE9tpi9YYVirQCo3X3RDNiARsaxdMfr5fvW1Xvoav916FpKCokd0UHlKnxYztKvjBcXYHb/a0hYLDG8kIdXj7E8yKG/Ro3iWh4kCGAF5V7SDt/XyipcBfZW5/KSzuk+XcJmtqDSiECv0prZFBBJ/XYatt7DGRuoxb4uIny2HMS4DiVI8WR/2UoyvhHFuEnsNeoMMkWFq4TtVbgWjU/RTIOtJ1qCPTYMqNGDj3w7CxmVh89QVUNuvHRKJxGH52PqYCYVjRolhzgxPgfY+HTSDlYi0Pxv7jrItm39f4/vKj6chVej14+muhDJc0ZpP9sVE3smDOdC9T+0xMgU6dSl08o7Lm19EZmBzsg4ZA5ye+WpkuAqF/Dk9+JgU3xUvhHQ3cmUB9iQXuZRreagKaWO3oiwtMIJml8LblTTWJjq3K456ucdVOeD4Gt8TXGGX2pbAKAcc79v27sqziJ/lo+xe1qaGeWdy5R1hiE7eDBN7TntvpKxPonDvlvRCpDr1vF9OBKZFZ0F2Ws+UbDXUP20rr8KgSDHiQEI+0rqkTVFgwZxi5A9TOfWosrrM1+G51wKTm3LAkd+rQ9X9bu+PgMGn+DZCd2OiU3mQ3t1p2eiZlsU3ZPdohTUknMuarI8SankRKue3oRxwQqKRoa5kz+6cFwEgRA7V43sEB9nWe7LnMaunbSgH3YG39fKKlwG7WuZyw88RhKsZu/bo3rNCdA/23sMRyJq6E5pYt6anvgzat5TIblQgf5YJabdI4QRBdCntjSoRBEFcHZAMGHC9nSACw0GYBdOCvkDTcVe7wqYGWI5WolII68k1MgiCIAiCIK4+SEEggpRoKG/iQ25Miy+Jwoi/8HUwpO0vIxD1USb0LTKk8OHCoHUYJQiCIAiCuPIgBYEIUrjN7B7JZtbVRlWwwxxZgOI5VdC5r5hMEARBEARB+AX5IBAEQRAEQRAE4YBGEAiCIAiCIAiCcEAKAkEQBEEQBEEQDkhBIAiCIAiCIAjCASkIBEEQBEEQBEE4IAWBIAiCIAiCIAgHpCAQBEEQBEEQBOGAFASCIAiCIAiCIByQghAkWN5LR6xcjtinDbBKYYQ/2FCWn4yo8CgkrzazI8IFc28MmOy2LQrxuuzVlGug+bcFzdJxsNNcvQbPf7QHdS1SQLDRUoPtmzTYdOSKSVHs2/48Vu+tk46DkMZ9WLNxNfbUS8fBjs9lIAQr3esw2+Zu6SWdJwiC6DykIHQLZcgLD0f4XH0bApgVZZt0qLZaUf3GBpiOScHXPFbo57J042nntOWVS6fbxQzTUiMs7M/4gpEdEYGipmI5nt+7HYfO16E5WAVuN07Vf4XPahZh4bZ9wafUMMHQ9P7z0NQfQs35K0RBaDmF7xo+w4byhVhdHYT33HgI6zY/g3XnDuNUoxQW7DT9FwfPb8eqj5figxNSGEEQRA8RAAXhAuoPlKBozTLk5uQgh225KwpQtPt76rX1GhkUs9SIlMkQ+fgcKG+QgnuIhvJCZM5VIn3jlTyWEQ3lskTI2V/inxPZUSBhSsfSdCRNyGOq35VNTsFFnN0tbataWEnsgO/W4fnKD1AzcAlenBaH/m21IC3NOLG3GLm/n4WRGQ/gyW2BLUsn9m6BdtWjiGfX5tePX/pbaE3fokk6787IScvwyg1yWI49g6V7aqTQ4ODQzuex9FQNJo97EQuj+kuhrpz5ajsKtU8hIVN83pgXnsSiN7fjqzNShEDSYkXxn8V8G5mxGMWesi5kJB544BXMCbVgw+5gE2jPwfTRfKw5PxJzJi/DAyOlYGf2FkrP53nT7pXiBYJTe1H89z/gyd+lIsb+G296+IHw8ViYuASTsRvLjauxr0PFpgWL7XWXbV//VgomCIIIAH4qCOewd8NLyN+wA18eszFVQeTC/9XiS+Pf8NKmQ44won3kMwtQabGg8q+qjoW0LqbJYkLhe2Xo+ZF5GVLebkRjo7hZ1qmkcG8IgyKzGAcaD6B4YTQ7CiRWmPN1MO2XDq8VmvdhzSdrYLluDlY9wIQcT63HD/XYZ1qNp7PnIOb1N1DYEOje5Xp8+vqTmPp6IfKO1OOIFHrk/F7kFWfgob/vbUNJCMX4aS9iyYBm7N6vwaYgGaVr/noNNN9ZMHLkKiyb5EmS5ezFm6+sRu633+MracTmRJMVG6pWI2FFISoC3EN+5J8v4g/HvMg3u0DbwgTaf26CJUhGk+q4+Vt9MyZHMYUrMlQK7QnOY98/MhD/v7/F0//5DB+dOY8O9ahhD7ByMAcjmzfgmX/uuWJM+AiCuPrwU0HojxEjBqD/6LuQ+tRS5OTmIleTg4UPjhEEMpt5G3adEmMSBHFlU1P+MtY1h2Lq+McQFy4FutH0+euYWrwdxUxKv0/xe3zwy0jpTKAYhJtulOH22x7HBy9sQo32A9Tkb0JVagLi2NmK/7yFj9oarOC93ncvwnjsw+pSE85JwT1HDT4oWwdLyFQ8MzmOqTBtc718Nt7KXI/v8tnzsmf+7vcrseoG9o3zW1Dw7wCOztRuQZ6xGrhhOrK86algAu0zY8YDjauhq+z5FEVzBXT7dqM5dAHmt6lwtZL1hJie7lvGHVIEPziyTYNff/otjlx3M3JStahaJpVXvj3W9g+ERi3AomGhaD6xGhu+kwIJgiC6Gb9NjIYq0/HCvGkYOzwMfXhASB8MnTADCYKZzEnUnuR737CWiCYuUYLNuRyxD2WisMTzS7Dhcz3yFtjjhiMqIR15G81okM5fRp0Z+uXpUI6XbNrHK5G+XA+zB18768ZUFicVet7bWFeGwoxkxMr596KgXKBFmUf/vAZUv5+H9MRYyO33n5gFnXTWhfI88R6ct3b8FER7fG7WYhN+Qz1BLnxHPiEZ2RurPZt01VXDuD7b7X5YGr3vGl98VvEe5PMMQphhnnh9582T/X/Dfj2yH7Jfn6XNXJZfu9vMgS7F+Tkc2/IODIEaqmFgZSJJSk9eJlIzCmFyyQjJj0TYlNAIYRooHWHS1mb+XeEwwWvDoX1A+EKoYz2bwXD6xkxG1ohkbPzdJrz28AT8+DrpRAC5adqf8NZTyYjjAjInJBTDJj2B9Jv4QTWOtJcBNzyABTImfNW/gk3fSGE9RPO+DVjdCIy/RQ1lhBTokTugznwEU+SD0Fdqsfv+KBJzVNOZsgN8VBOgEsdNi956A8WYgFXzkyEkpxfI4xdgVkgztu/bhEM9PIpQU74Gm1pCMStmDsb4/Xbzg6bd2MAUrRP9puOD/9UibdLNGNbP29GMUEyasJDlrQVrKrYHgSJLEMS1SBc1of0xqN0XXltYYFykhDyRCZjvlbEjjhXVW5jCkJghCuoObDCvTkbMXWpo1tvjsiuU66CZF4+YJ/SOMDs2sxbJcfFQ5+pQZhcOvimDLleN+Dg19IelMBcMKN3Iv6dE5lojqoV3sQVlTOhWztS6Ob9aoH8iBrEpGuhKqiVBkd1/Sev9+Y8FW3MShd/Q75d+Yb8R2nmJWLLFXShnSsWzsUhmyozr/bA0SolF4mr/XXctG9WImaCGdov9+ixt3mP5NSUG6o2Be+ouo86IzLtjkcrKhElKT14mDGszkfTcVSrsd4LmQyZ8wIS/8aMmQd5eq9F3MjKyH8fdQ6TjbmMQZD+SPrZLKOJuncX+1+ADyyEprCdoxhfffcD+j8e0W+RSmI80NQsmK/eNDIxRomhaBDyW/Cym+NJ+h8Zh2ggm/P7wAfZ4bEO7ixr2+0yJDXkAyh41LQLOlP0TWqaoZCQ/3uZoW7uMVOKBAWzfsBufnRWDCIIgupMuUhC+x/ff8/0I/NgHh1vrxmwkv1oGTExDQYkF9ZLtef3RShQvi3W1IzevQcYLRlhlKSgorXXErS3VIW0iu9Y7auS97ywwm7Hm2WwYrTKk/LUUtfWSbfvRUuieUrAv6KFeZvA48lC4NBuVEzQorqoVv1NbifyZ7ER5EUxOMrZ5tRrqd6yQP1qA0qP1YtzGetRW66CW4rgwMUuKwzeT1CvdETrkrSyDYnExLMIz1OPA6ymQMVG2cHvpZfcfNioN+ZsrYTlp/x2eRgVIYTJF2Sqjw8lWNrvIcd5u669aZ3GE2bcslrYOvtEhc54emK7B1q/tz8uuX1XE4jHlZF4eDN08C6LzczR+rUNHXgvWHToUMmVRtaaytUycZWnKlajxziVOgSz7dR15pYHJESZtb/O86CzOoxRtbdKIVjdzqIYLs2Mw7Scdm230DN/jkKCP3oFbO+r6HjMZs9iupvaLACruvnIIn51sZhV0GuJ8TdKWZpw5uAW/Ldoi9FCn3xMABcFuWjR2EXLuGSQFes94uZCi2Pl9D3YK1O/DHu6PMWQybu9Z/QBHjnAn5Ejc1HcPdNoMPPC85Jz8/KOic3mHfiODEXcjN5rbjorvyBOBIIjup0sUhHOlRuw6w9594xKgGCgFdogZRS9x0xYVdOvzoZ4ocygEYYMjkZiZBZVD2bDBtCmfiVMx0GwshDo6whE3IjoF+W8UIJF91um3OXqAbSXFyC8HYnL0KHw8GhH2LwyORsoqHQqmsc/rN2CbB+FLkWNC1btZSLxN6laLiESyioueVbA5PCLLYFzFxO3oFShao0b0YMfdI2IUn0sncPD7MeYmQib8RBjkD6eLCkjZQbh24MmgWpaPtGmRkDlZhUREq5H+OPtgZYqDH8Km+aM1MCINhbosKG+wPy+7/m0qaJZnsU86mEp7xtTIWxrPnRY/9GH5ZH8E9lk+MQVZS3reYTw4qEON4Gx8O0YOFUOCjTP/fgN5rKiNj0npuPc7hNVH3jtrq+m5dRHqa0SH44Ej4a1+UPGmJGRmzkLkq4X4dOAj2P67tM71UDvjMC1KwCuPTkZfKdgnhsoxme0OnevBdRHqvsNnbDcmYkS7/hzO5L0upWnGLCT8LgO//fsWVPjtN1ePIzW8vuzFotdfxNJvv0XFD+IZ7sQvOJf/byH2tTXllsTIwWOEveUsOfIRBNH9BFxBsB3ehreM3wP/MxYzVGNFvwRv+KYSRt4bn5kG1SgxqG0Owrydif6yGUic2CqYOhithGoK27/HZ8EXObiXKwsyzJimcB2JEJBD+aCS7Q0eBeakKQq4yxz2nmpHj/o3B0SbdVV8gKfUdEeF9EcvfwZBRjDbLvdDOGeB8dVMpCZEufREK5dL5zuNFdWlVWxfiOShzj3c0jYlT4hVe76Dt2API5+WJoymGJ5QInZeHvQl1Wjosfl5nUcp2tqKkNID0+A2XeL/QzGgh3tmPdH07UYsKf5M6E1fnnqHFwLuAAwRKsxh1PxXCOh+Lkr14roBXguz7nxV+xZ+vWw5PvJzREk0LboOGb9Ox92dVTYGDsEIvj/LlC4hoAe40CzM+jOEpanvNOOrM9/izf8U4oE/PQnt3vNSeGdoRpMwfV8o7nZ3Ls/+PbKGshw/vwVvdrSC24CR4CpCxZmeKqQEQVzLBFRB4MrBm2/uQm3YGMxIS8VYD7J7m9RZYWI71Xi5BwHeHSYIc2XiLjmGiwFuMAH1eumjhO0cF2bjIW+jSzi8v9sXfMV+/6MDOVbgJ+fKkDc9CsmLCmEovwL8AXqCG1TQVZiQPz8Wto0aqBNjMWKQnCkLWjcnZSIY4crBc6vfQnF4AjY+721veihCve65CB7iHmudZee7Za9io+JmhJ3ZjSdXF6Kis3q4ZFo07I7n8Zu4flJgJ+jD0lT6eEVwR1rrjEJ8y9+E6hf+hFW3DhJGVPKKtzum0O08v0SWu3P5iAlMEUvB3ezzhm868JK/jink0keCIIjuJmAKgu3Au3jZoRz8Gnf66qTcNwwxbGc47I1UxlQILujvsuC4GOBGIxolyxE7YX34F0phaePyDlOTzsIEDuEXDrd1R92P5b0V0JSz+3rY2SdC3Ew5UiS/8WCH77QVzW5DIwsmBiuQpi3GgfpaVBp10MwehPqN2UhSqGHoVnv/4PVBEGnG2SAyh27aW4hHHMrB87jbKydlTh1qBMfPURjp9Xe6iB/OCr3evtK3349x98Na/DWGieWNW/DpQemEj5zYa0JxC7Bv7x/wE/siXsL2JJ4W2spqPL1MDGt3sbv/1ojmjQNGYrAQ0HOcYmnqMyGhGHjDHZjz/9KQxo//a0UnJuCT6I+Bgq71DayerIPC+0GwvK2ztr8uwn8tqGC7uIE9XUgJgrgWCYiCUF/5d7y0YS/OhY3FQ890QjngjLoN8Xxv2IqyDud1G4Vo7gJg3eziJOzAbIBuB9vPj8ZtYghGjU1m/63YXOLxCzCs4/3/aYgWzT5954ZIcCMla5V9Nh87NpQtz4JocNO9WI8Zhb36CWefCE4D6r0xa73Qnlojg1xI3M0o9ZSkVyJhEYhMSEHWukqYXmcFzKrHhl3tKaw9ofb1BIPxk0G8f3gPDvWYcuLKmbIX8dDrTDAOn44Psn1RDhgtFli4DNlPjhEBN7L0kiE/wa38t+sP+eUoPTSCOxT3Q99OOQ4EkJMW7Ga7uOsFQ6OeQXab6AfB7qXTU4M2noPQVcTypvNJ2g+33sQ7Rqqx6ysPpkpM+eCjE+NvGo1hYohHaurEWbbG/ChYJwYgCOJqxu/X48lSHQqKD8HW/w6k/iYVd7Q9RXr7RCihWswaVXMeUtR5MB5scNjT2/hc/vl5Tr25EYifmsZE1CpkP5sJvbk1boNZj8xns0UH5rlKh+9ARPw0pLHLVy3NQCZfJ8H+Bb4uwqIMZAsOzKkdzEfeDrJoKLmj83t/wYr3LOL9CNdOhDK3g3n4uwhx1ATY9rEJDYJNrA0NB43Qzp2E5FeFUx6R3RIrjIYY1uhgPNy2QX50QpaYB3NToS1hz3wFLpttXpuOwvfNsDg7HtgacFqSMEb08yQmyBH5MN+zsv+GU1nym+D1QRgz/AH2v2tnqbF9rkXyeL6uRzoM7UyXeeTfyzH3nRJ8P5ApB9xJ1+uJECS+24cSths57LYOHIStMDzN1/eIQnI+X30kkIzBHXwq2B924otOKF1N579HxfvL8TxfJO1HM3HfrdIJN6zvpwtrt0TN0HrseBk2baWrqY1jew1/FZqPSPx1qRj22jSxPfHEoWNCimLCyA6EWZsZ2hlRCJfHIp21kwFl0BhM4v0g9RX4wtdhmabzOLK3GLmr1mADO5xyj7jGxOV4VyZumjgd3A3uzY0abDhYjybJGV6YfeqtYuzDIMyMbW8RwXPYV8vHD6bi9hvFEIIgiO6kFxM6BPfDTnGqBKtf3tHBUOxQTHl2IRK8mRddsJlXCmYxl6OC7mtn4cgCw4IkpK739JKRMaFcj+LFrs68lvfSkTRX57HHTpaggf7dLCicFBy+6BZfNExT4ja9ZxvYdmQj8n6t2wiCDCnr9EgyKKFmAqXFaRrMsuXh7D6lA49w8x12T8JnvlCaHOr33NOBw01T+OJdzvG5wJWHxLs07Kw7CiROb4JxyygP1+Kwl3hCvKA0ueOaFnx0pD0FyPV+fOaYHqm3qCEu2+YZPhVrqxmTPY2kQ0/M9CEPJmpQui0L0R6cYhq2ZCLmoUK3vGa4XT9oMffGgHQgp+AiFnvjVd9cgVV/X4hNvRdA98i8thehsm7Bk8sK8ZF06JGYP3lcSda8ehLiX+C+Qoz5xajVJl42OYBX1xeE2pVI9pgJzaj4YCoWWsdg0X1rMas9ebbBiMwRySgUDmKwonQPMgI4A0HzvlWYWroJQ+Q6vHtv20OXJ7YtRsxH1dKRG/0m462FSzDFY8d9A4wZI5C8VjyK+XMp9iz09gGsKF7GzYzaS0sJe9nouwjvzp3VvtJl1mJSfDbEXE5DcW0+EjvbKeOBmk/n46HqfVBGb8eyn7bdW9V2mobi7jsW4bXHJmOgpzLudZk4j4o30/FAlSdH5FAk3/cq/tqOwoWaTZj/0Sockq3G9gfaX2XbjnVLb9zyJ+DB37bg7emdf60TBEFw/B5BCCj9FcjaYcHWVWlQTbQ7+8qhmJmGfKPWTZCVQ7VmDyr1GqgTIiWBzB63DFvdlAOOfGYB9nxWBM2jSkRKbbN8ogppq7ai7ENX5aAzhE1ZgaodK5AyTrqbaexedlRBN7tnHJfD7szCZnY/antayiKROD8fWy0mFM5ub6qoaGQYKqHLVEExWgrySBgUS4w4sDkfaTMVLPWvPBTpB1DsUt5ay4Rlh2flgBMxPR9lRpa2jrJ3lRMah1m3jAd+eBPvVHbN2q7Rj/0FGrvyudaMTprVt8+JbdhgbUbooIcxrSPLjYhEZKyzK3tV2HOwPXMz3wkdOwsLw5kseOQdmHyZDTikH+6WTUDOfX9C1R/aUg44EUh8TifM0sWpKnU3fwwMNf/ZIKxePDVyWsdTtkYvwF9y7F0GhTAHeK26kXGPYRZ7q5kO+Laq87C+Mtx382y8tWg9Nj7RhnLA8bpM9EPcYwUoSZ6KOQP7SaZEoYi7aSpee2Z9+8oBV2KrNmAfa1EfG++dckAQBBFo/BtBIAjiysTXEQRO8z6sKZqPdRemYtlMTefN8drBMaLzcBEsrwd4HYqWGnzw7sNYfm4Cltz/Ih5ozwDcjmMUSwbNLguy7pTCA0Tz12ugNq1DzaBl+HCWEn72UXigdVRNllsKi9eZ7SUnPsDzHy7HZ/2X4J2HHsBIb7qcyvMQnsCXGkxBkUUHVUAzGagrfx6z9u7GyJ/o8M6UzjqVtUNXl4nq1VB/ugG4YS10SeO9VhBoBIEgiEASXCMIBEEEL6Hj8djEOZC3bIdm+weoCeQiYxdssJTkYcUafiBD2syEwCoHjJrdL2H5GWBy1HNeKQc27kP0UoFo4jYxE4kBFgQ5obc8hqU3yNFcr4FmT40UGiBsDTBvXIECweROgcypAVYOfqjBpp3LsRuTsUjpnXJgO2xC3p8LhM+y+alICHQmMwZPeA6LBobC8p0Gq6sDO+1Wl5eJsxVYU7YBltA5WKr0XjkgCIIINDSCQHQDdh8Jb/HkZ0EEFGkEwYVJl/D1qpYOBfOaPc/j4f27MXLIMrz4oNK7XuN2sPv62FEs3orNua0TDAQCxz171SvrVl5lKSjYVgj1bW3Ym/mLfWTjzEg8EPsilsR1aKjTIa6+NTKk/NWIwscjvVhjxkuc7nnO3TosjOxAlHX3J5qYha3vaaDsqjlRG/dh9T/mY8OF8ViQ8ArmjfZX1O6GMuG458lejnCFYOXkXnB3oaIRBIIgAgGNIBAE4RMjJ72Id8YpIR86xm/lwIEsEspHNdCVWGAKsHLAGTJoFG6/YTXWTvO+V1b0RSnGgSpd1ykHnBCmGDz0DpZEyDF+hP/KgYPRCqjm56N4XxV0gVQOOCFD8JMBt2POXWs7Vg4cyBCZoIZmnQmWHV2oHHDCx2Phr9ZiTr/bMX6Yv8pBK11aJvr+CPL/UWJJopfmbwRBEF0IjSAQBEEQBEEQBOGARhAIgiAIgiAIgnBACgJBEARBEARBEA5IQSAIgiAIgiAIwgEpCARBEARBEARBOCAFgSAIgiAIgiAIB6QgEARBEARBEAThgBQEomc4dx20M8IQPj4M2s+pGPYIhw1InyCHfEI6DMekMMIvLO+lI1YuR+zTBlilMIIgCIK40gheyezcWexbXovtE47CGN66lZZL54krmy9DkL2N7b8B2/cWw4iAwlfTDQ9Phb4N4d9atgG6/VZY9+uwYReJs3b4ys7h4TztnLblZdLZ9rCibJMO1VYrqt/YABMpXQRBEMQViv8KwoV67N3+dxSsyEVOTg7bcrHs5b9hi7keF6QoPmM7jdLpp3E09yJa9kthxNXF2BasmMb2o8H2F8UwoluRKeZAPU4G2Tg15twlk0J7iG+MyF6QhNiV3gjiwYoMillqRMpkiHx8DpQ3SMEBoQFlazORmpDepsJHEARBEIHCbwXh5Kd/x7ufHkLt/9nVgQuwnfoeZZvy8TfTSSnMN87saEQDHyl4uC/GHh2BxMYbHVv8RDEOcYXT/wdkbLahcZ8NGXe2SIFEtzJKhYLPLLB8VgBVQIXZTlBnhna9CdWd7lUIHLLZRWhsbBS3r3VQSeHeIJ9ZgEqLBZV/VTF1IZA0wVJSCEN5vXRMEARBEF2H/yMIfYZi7C9Skb40B7m5ucjNWYr0B8cgjJ2qNe3Al52Q/eq+FKWEiAVDcdNgMj8hCIIgCIIgiO7CbwVh6N2pSFWOxYiwPmJAnzCMmDADU0axzy0ncfK/YrAvtHjdi9iChs9PoXTBsVY/hYRalG48jQYphjN1G2tYnBqYj7Fv1jWgIqMG2+Xi97YvsOKbOj96sg/roZaHI1yuhv6wFObAAt0Mbss8CZrdNiksyDBrMYnbWs/Qsbv1gM0EDX++eC3MUpDv9IF+bhhLB9ctry2/kvK+wvnUjaxs1V2HwowwREnfUS7oi7K6XlLEAGA1seunQjme51M45BOSkfmqCVZPZbHODP3ydEfc8PFKpC/Xw1wnnXfnnAXGVzORPEEuxpfHIjmjEMbDHspCeZ4QR0iTc9UwOH5HjtiHsqE/6Ln8NOw3II+b6PA8Eu4/CVlvSyddKEMevweXrR0/Bcken9+P7SD7jXmxkPPv8GdYqkf1OSmiMzYryjZqkTlXyfJL/I2ohFSWnmWu9VJ6VmFL0IhhucrWMGlL3ejBP+KCFab81jzgz5u+3OD5froa5+ewb3P17Tsp8/tnZSI1IUqMz9IzaUEeDPudU8jK6ov9mnKo3+NhBqhvsYfZtzyWq56xlWuRzNIoaq4O1VIYQRAEQXREFzkpN8J2nu1ChmLoj8SQdjl2CjvtAj7bvsoVgxsSWsOEbe4ptMpgzTiy+jhK77KhYf0lKYxRfhEN886i9IlT8Gzg1IKzG09gZ9w5nFzbghbpLd6y/gd8NfMUjoiHvjMqBZo/p0Bm1SMrV+8iZFveyET6NkCR8xdkT+ZjK0FItAoLuE/ANgNM34hBzth2GZHH0irxKRWipbDu4nRVb6jjeiNzLVe1RMrW94Jy5nV+KCutWLZkQilPYtc3oEx6dut+IwoXJSHjPVcxz8YUqeS4eKhzdY64+KYMulw14uM8KIeHjcicHoXkRUwh2C9dy1oN41qmMEQmMsHbs8BfaWQC9vRYpDp+x4rqLVqopy2B0U0RsWxUI2ZCKjTcRMf+E/tNrfcXACwfapAYw35jY7Uo+PJnyFcj8bfGy5Txsnw5lPOyUfhemSO/LOUGlp5KxGRcHt9nzjElZ4ocSUtb84A/ry43FbHTmbDcE0qCT5hReL8CSaxMGMqlFGLpaVqvQeqENW0K+53BvCMbRpZGfHYlA03wQBAEQXhJwBWEC7Za7N30d+w4BYxQTsHYLlJBWswNqH6hBZD1hqx0MH4u+CiMwOTSMPTnfgrv2PDl+56Fr3NLm/HDhOsgrxqCKex7U2sHYuhMdqL8B1j9kDjlswuhy5TB+k4WE6SkFz8TKNVPG4GJK6BdohBMr4ITOWY8rmZ7I/QlzuoNx4bSHVq2V0M9XS4GdYoLSHnbhsZGcbOsc1Ls2sGU3wt6XEJB6Q/id49ehIbncXkITP5qCMf0yH6okAllCqStMcFSL9me19eicvMKxLpkmBlrnmUCl1WGlL+WotYe92gpdE8pmJCnh3qZwUkAboDxpTQUMsFMsbgYB07ar23B1txEyNivap5d41HJMSxnAjbSUMDyop5/56wFxZkx7DcKsa3UScTm5WueHtbRapY+tWJcttXXHoDucSmOCwpkSXH4ZsqRgjtAt5IJ3hOzUPx1vXj9fTqkyNjtrN0G59vhhPVnyvI6Ew7UinGF+F8XI4vlmXWtDtvsoxXsevbzjSXSCEKOqTVM2opmO1vz22BiirimnOXXOpYHZ6V4LE1Nq5iCXq7Bb/4WCLXRB5yfo9EE6UnaptyIFSVWxCzZCou9TDTWo7aqGPmPX+/URrBy9rb9vAU63kZBBd3X9jD7lsVy1TPRUzRQsuSTz8xH4h1SIEEQBEF0QGDE91MlWC3MYJSD3GUFeNfciDEPZiJdOVSK0AE3DJEEfHG7VRJaIkpaw4Tt7SEYLJz5Ad9sakYLeiFi4xDERoejrxDeGwOjh2DyG31xHTtq1J9zGnFoJSSnP+5+V4bI28KEeCERAyFX8aS4hItNQpROEgblUj0TXq3Qv6CB/rAZWiZQlslSoFuf0e09774SMTUFWUyYMK01uAqtDSYY8pm4sjgF08QM6F5kl6AraYY6WprtaPAPSFkgKheWo/75qJg3/gUGtle9rkP+owrI7NJZWAQip2Ug68FW4dRWwgQ4JuzH5OhR+Hg0IuxxB0cjZZUOBXwEZv2GVgH4m81Ys9YKzNRBzxQCeX8pPEwG5eINgjIJcz6MHnp2ZQ/rcGBHPtQTZaLA2EeGxBkzhHO151sLadlH+UzNiMGKtwtY+kQ4hMuwCDnkN0oHgWCiBqYtGiTeIP5C2OgUpAsKSCkOuo2aRC/UIWu2AnJHArH4NyRCvYC7+xpg8WcWHl4WV1qh1BYifzbLA8mykaep4ikN8thPVOlNARlZ6ipsZ+sl86NwXG8vEyznIm5LRNpf0wLaToQx5WWrpREH3mbXbc0OgiAIgmiXLurft+HQ+6ux+sNDONclE9Q0omE728n6QDaRi/iuhIwOw4+msA/vXfRozjBwSgQc72WJwbNHCkqI37Mk9VcgI18DBe9NjoxHdrkMKS/lIYX7ZAQ7YUokLeBCa5FLz3zDrm0oZEJo5iylU+9mN7KghaWf62hDuCQY1p73xw/BgsodVWyfgbSZHY+MHNy7jQl2MsyY5mkkSA7lg0q2bxWAG6rNMLJ9Cku3VjXDThjip6SyvRWVFskuyIn4aUrI7cKvHamnurVH3YIDwvoFMxDfxdqn6mk1FO6VRqh6VbBdplQ3MMUrD+mJkr+CtEU9wVUxPzlkZmWRKbEZsU42+PYtCmr+E2Yba4GCl7C75ggjYFXLlYidkYnC982wBL1ZFEEQBHEtERgFYUgCFvIZjKRZjDLnTcHN/S/gZPnf8ea/OzfVaftcwkUuwN7VGwPFADd6I+R66WMPEHbnAmTPlw4mZyN75uXiYbCiuC+TqQJVKPqXXUNoQMn7TCSbtgCqYB8C8RkrrDvYTsUEWS80H9s5rkzEQ95Gdob3dy10TedrhX3UjZ6/EDZgkPSps0j3z5Qbfwy/AosF+idiED9PA12J5K9AuBIWjawtlSjKSUFYVSEyU+IRNZQpUDOyoXdxUiYIgiCIniHwIwh9wjBodALUj08BNzA6uffLNpyF/YTLXLsu4ox45MZFtJyWPvYAth0rkLaWCdsJSsh2ZyJtpTmoezRdkJyVq7RG0VmyrgTG9WD5OSOIhNBAEcZlNcBg8UqQDevDC10pPHT4CzSecyt0rC5wDhz1/AVuauIf7PpCPbDguBjgyg/SvhuxleiQ9Q57Xu6vUN3qg8A3yzpfVhRoH9U6i8u1Xbe2bfKDhv6RUC3RofLrehwoLUL+/ERgmxbqCTOQ9/kV01oQBEEQVyldZGLEGDgAQv9ovzCECwGBJAwDuaxhvYBT5sttmFrMjTjJe1bnXycoKd3KYT3SntDCOlED7WYdtA/LUJaTAW0bs9UEH5KzsrUApnJuXmSETpaFlKkR0vmriVG4TZAkN2OrF9PPjhqbzP5bsbnEk4W7GYZ1JrZPQ/QYMUQ2OhYxbK/fVurB1K0BpveL2D4Gk25rY0iiQ4YjkpvSWStR7WbXbyvPQ9Zy6aAbOW0VRw1UC9RIHOU6LFN/ygutvSOlRiYXFi4z7PCUplcgTImUM6U8TVuMyh1ZrDSUQbOtAw+KIFhMjiAIgri6CbyCcMGG+u8/h6HwQxxih2PujL7M3t9/+uLGqdxA+xLqnj0BM1MIRDPoizhjPoXdz0oOzHMHtGGC1FVYoF+qht6qgCY/A9FhMqhy8pAiYy/92ZdPT9l5rDA8ze27o5CcXxbw0YmIe5jAwn5D87oW6/Q6xGQkQ+mFCc6VRwSUM7MgQxXyHp6DvG3VaLAnpq0B1du0yHu/tfc/In4a0pgsX7U0A5kbza1x+boIizKQLTgwp0Jp16WilUjlPi3rM/DYSlOrnbnNCtPKx5AmODD/BqmdNt2SITohke0N+MufDbDw+7nA7f8zkZigEUeAuhtp1MSwhT2vlD62w2XQvZCExEVcgWqDUZFI4fs3CqAzN7RdpkcpkCg4g2dgzgt87Yk2YwYt1vfzkLeRT0nrdO+s3TxeLx7H9PdU2WSIjOGKpAEFrxu99lmgdRAIgiCIztCrsbHRu7kmPfIlinKK2H/PDJrwa8eqyr7wzXJxLQQ+i1HbTsPnsW9BPY6ulw7duC53ACYvvt5l9IIvlPafeS0dXLez2FC2PBHK3DIockthXBzteG7LO6mCgyafmcb0eor/pjoNRmSOSBacNXkP9IrSPcgIqH+ADaacSCSt5MKxEgX7tkI9WjzjF8dCkXpLiDBrUFuo1l1A0Wypi5QvlJbQC8i5iMYlrl3L1o19IZ/XyzV+p2jNN09wUxbnaTb5fPJJTNhynwiWI2NCuf7dLBdnXt6TnzxbA1OrntHKaDWKthRA5ezAzhfdYtdx/902OWdC9vgkaN2uz8uafkoxlE8Auq+LkHKDdEK6fntoShqFKUk5fKE0+TyDx/spWx7O0s01Po4ZoL4rlSnJ0rEDGRKnx8K4xega30EDjBkxSOZKkxuX/TZflDCBK+LSsRtep51H+OJk9kXJ2mAmy/+3UwTrLo49HdqG5b+T2ZM9TT0iS0HRLh1U9vxyxqyFMj7bg+Lnen1nnO/Nc7oTBEEQxOUEfAShz//0x4hb78KMBS8gsxPKgff0w/g1QzFefx0TeKQgRsjMPhhq/BHucVMOuhreU5fFhcyJGuSltyoHHPnDK4Q5zK3vqJH5hifR0kciEpGxzi6gVGHPwTYkpU4TBuUs7qzMmJYCZSCUg6AlDIolJliM+UibqXAob/KJKqSt2gqtm4O5fGYB9nxWBM2jSkRKp+xxyz50VQ44wjSTZVuRP18FhZSOsnFKqJliXfmpm3LQGforsaLChBWzI8XyMDqR3YsJVVwRdZ8FqTu4QYXCbTpkTJfuh6Wo4lENij6rQvEL8UKIZyKQuKoMW5epoRznmuaXMSoFuopS6HK8iBuEyGZqYVqnYUqOPY2cykRVG8oBJzoDmz9jaetUTjuC1kEgCIIgOoOfIwhEj3FMj9Rb1DAwEUOzy4KsO6XwAMFX51XOM0FtrIYmoevUPIIgCIIgCCK46DonZaLLsHGb95cKRFOdiZlIDKRyYBNt2PnqvHhYi3RSDgiCIAiCIK4paAThiqIMeeFKOCzIZSko2FYI9W3+C/GX2UVz05j3NFD2xMrJBBEAOvYNcMU/3wWCIAiCuHqgEYQrENHmvRgHqnQBUQ5cGK0QbaENpBwQBEEQBEFci9AIAkEQBEEQBEEQDmgEgSAIgiAIgiAIB6QgEARBEARBEAThgBQEgiAIgiAIgiAckIJAEARBEARBEIQDUhAIgiAIgiAIgnBACgJBEARBEARBEA5IQSAIgiAIgiAIwgEpCFcop0qWYNkzE7Fs9Uc4JYUFCzZzbzzxcghOX5QCrlKOb3kBxXFxKM7eihNSWI/TaMH2rUvx8BuTMfm1yXh+T510ovPU7XleuJbyTTWWbt0OS6N04hqA8jhQ9EL533ojd08v6ZggCIIIZkhBuCI5hQOlH+HCD024sO8jHPBfPggYtuoQ/Po5oOQo0CCFtcm5PjAs74ukCWEID2/d8sql887UbsaHN92Ed9m283MprEc5iSMfFuHiyZO4+M5mWGql4J6k5RDW/eNhaI6ZYGmRwgJI88VDMB3TQP3BdgRRketCKI87xNt6eRGwfAWsXBSClWZSEgiCIIKdgCsIJ00FyMnJEbbVppNSKBFYhiAq/j70ua4v+oy/D1GDpeAAce7geryxLBlrd/o4NtEQgt8+3QvbhgHv/KEFo3pL4Z6wXYe86X2QmtsLpv1SWHv0G4j2Ltf9DMVN96ei99Ch6P3wDMhHSME9ybc78WYz24fOwqoHTdj95G68OMn/wjF40ovCtUwPrsKsUCZEnlmLD7+TTl7VUB53iLf1svclzP7DJeSMAnKfC8HGYFC2CIIgiDYJrIJwogTvmqjl7w6GJCzH0lfKsXThfUxdCCy2mnIcPfwtLkjH3tEL7y/rhbWNwOsvXcTEcCm4DRp2hEBTDsgebkHp0WY0NtocW9ZEKZIzA69HmPAhCf2YAhIMDJ/+ZyRXVCB5RRKC4Zaa/+8cuOw4K2YhJg1jUl6ACR02CQvGTWWfanCmSQy72qE87gBf6mV4Cxa/dAkPsjbiiZwQHL7KTRAJgiCuZAKnILScRMm7O1CLEbhj3FApkLhWsJWH4LlPgYlplzDbi57Ww1+KZgbpC5oRPdhHW4ngGkoIGs6eF5Xz0NDAC452+vcL8HAV4RNBncfe1MsRLViWyfb7e+HlEjI1IgiCCFYCpiCc/Pe72HEc+HHiI0iQSYHXFKfwSV40cp95BV+hCUd3r8LaxXcjdwELe/ZRbNj5LWxSTAcHVgnn/3GAff6/b7Hn78/hz8+y+AsmYtkfluOTw25deFJ8ly2vuE0n5VM7nxHi8OvbDn+Ef6ycIn7nmSl4+bViHP0/KSLDHpdvrxZ9IoYVSfGdNuFeL6MXNv4NsIYDOb/yTti3+TY8wRiGsJ+J++v6CQGXcf7z1Sjm9tAzVuPAeSnQzvld2B7HbaUXoPyoFNYZ2G9we2uXLX1z+w6sF05i35u/w4cz7hLjx/0Cxc+vRsXBM9w0uxuxQP+EHOHhcqg3WqSwVixvJLNz4ZiUW3Z5WQ0KzqDytzzN4/Dxbs/d28c2qoU03mo8I4V0gis5j81aTGJ5GD5Dx3LbAzYTNHJ2Pl4LsxTkHx3XS3dGqS5hMWsr1v61F8w0ikAQBBGUBEZBsJsWjZqOOfH9pcBrlB9OoeqdVLyxbj2OnzkrhjWZ8VVRKtbvPCYeu1Fb/je8lZuMf36yAzZB7mnChZoi7FypwX/8kHPsnC1djpeXLcGBryVVgt1jw380eOP1HTgnhvjH0V54fz8gu/8SFG2ZFh0LRaqTI7IyVwzWJLg6KIfPDYVVPOXGjzHp7SN46Mj/InagFORGvzvnI3JRHBPwVqL6tQq06ghN2Kt9FmdODkXY6v8PcTdKwd3Cfnz660RU/34dbJ9/Lwad/BoXN67Ed79ch0NiSDchR0pOHlJkVuhf0EB/WArmfKND5tNGYKIGf3lOIZmNtE3d+YCUHB8ZiKjpC9n+JBo++cyDEvM9jhj+BQxdiB//vI1C0iUEUR5Hq7BgGttvM8D0jRjkjG2XEXmsgiU+pUK0FNYW3uVxx/XyMkJbkDiT7Wt7oeRbMYggCIIILvxXEBymRWMwY64C17h6wCjGgZJj6B+nwSMrzchZY8ZzTz/KBK4mHN9UhAMeOtgbdr+C75CMSb/5CEsL2HcKdiDppzcwQf4jfPGlpGRwohYJ1xO39YiSgjviaGkRbINS8cD/lgvfXfp7DYZfx07s+xgHJBlgyM9fcVz7qVShSxBDUnc4wuzbrzz8qHVfL2xj+5T4Sx0Kll1LX0RlvIwbfg5cXPVHlH8u9jI3fPxHHCo8CZYhuFv1Y/8slO5cyIQhLhDxrRgdGWNc/PxfOL77JHpnbMA9B+zf+wo/36nD8IcD53jd3HAI24/sZp+m4nZWdNpkVAoKX8+AzKpHVq5e6mU2Q/t4OoxQYMXLWVC0V4mHyDGZ7bbvX4M9J7g1fPcSNvk+DBvHPvx1Jw65DyJYduHEJ0Dv/3cfovpKYZ3his5jOWY8rmZ7I/Ql7mMINpTu0LK9GurpcjHIE92QxxMnifvtVYF1gyMIgiACg9+ts920aIzqIdzZs9JhkNAXwx8swlPzk/ETqUet/x3P4Jc/ZR9+2IGvPY3736LB/GUa/DLqBvThORIyBD+9a4pwytbo2ZTCJwY9il/lLEHsMFFq6jMyGZP5/TDB8HgAJnc/LnWa3jbykvjBEzc0o8jJEdmUIwZrSlrDhO3tZvhnofZjTPzTywgbWoG63LU4cPRf2JO1jgl9izFu6S8QIcXqLn44f1r6FIZ+DhOMvhg8+he4e8U8plb7h2P++nfVWPN/k7HgroVQDpBOtkHYFA30OQpY38mCZqMF5tUZyC6XIWWdDhkddSsPeQDPxc7C+AubsOh9pfDbq6ulc93COIx+7BdsvxbHPnEdXvvm43X4Ab/A8MRx3eqmEmx5HDE1BVmsEpnWGlzNiBpMMOQDssUpmNae1tMdeXzjJTzIdiU0pwVBEERQ4p+CIJkWhUU9hIdiSTsQmYio+JvdetL74sejea/8MZyrv1zgHzLhZxjunhPSaMFTP/d/jqIh0+Yh6n+kA4nefASB3Y9o0uQfTVInY1gHMxd1F71vnIGJuTMEU6P9k9U4fzIOg3PnI8pLG+lAEjYxGYPvBC5qk7F13u/wqXE/jrn7RwSI5ktncOYH6aBdwqDI1EIz0Qr9vCjEv1AG2cNa5M1up1fZib7/MwQDe3Wdk2xH3PCzGUL9Om/c5bTWBkvXTfuB2SmI8u4xAkbQ5XGYEkkLmIZgLoLJSUNo2LUNhYhB5iylW/t0OV2ex0xTF7LpMNowKSQIgiB6ks4rCHbTotCxuD/5jg5fOIRIvd0vgehShk1/FsOFURLGIwsRd4c/Nid+0Hccfv72v/CTRTPQe986HJ+fhD1RN+HdeX9EeQAcWB3z19+/CrP67MOGz9bC5E0RC4vGghfSpAMFsp9TeTdyc9aE1bvWYPf/LIDuIXEe/oWR0rnuYsQvMGI222/ciW/+KwZd3L8LdfuHImJm948SBWMeK+7LZKpAFYr+ZdcQGlDyfiEwbQFUHY0SdUce9+bdJgRBEESw0nkF4b9fYu9xtrd9iXeXiQujORZI+5e4QNrJf60Ww14uwTW/ZNpFsat+6PBAr1oQPNgapQ9BwJF3/ojj/xmK6ybHAW8txr+39GAJ7HcL4jJeRnLZV5i0dQ2GP/ILYOdaHPnlPPx7bwCGcBihwydhzmj2rC3bcNCbLtlzJqx4mgmME5VQysqQ+VQezN5MXXTsC2xnu6m3PIAxET01ijAQ42ZyZ+Ui1H4i5qvlk2JcHLcAP5ncQ2JnsOWx5KxcpTWijB/XlcC4HlA/PkPsuW+P7sjjOuAg34+CnyaFBEEQRFfgn4kR4R0t36JyVzn78DMMD5JFvrzhgqTUdMSo0eLe/E1wzGvOpzutyP4XMPOPmLTujxh850nYcv7Xv+lNA0GfvrhhXBLu/pMOSZsWojcqULdzn3TSf/qGcOG4Gc0dTiFrgT5DDa1VAU1+MXQvpUBWrkFGvvfTmw7u17PTEdidlW3GXTjBzYsM+3HdY0mQimLPETR5LDkrWwtgYk1Pwy4jdLIspEz1fnylS/OYz3zGdg/K2/FbIgiCIHqMzisIQxKwMDcXuR62hb8QF0ob+ouFYtizCbh2lk47iZO1p2CTZiu6cKYan6xdhD017OCnKfjpFbDO1JCRoj1Bw8frUXm8qcMVlWVRl5DA9ms/79Xz8+efr8Ce367ExaEz8JOsJAzrOw4Tcxaj98nNOPLMWniY+bFLOWFcjZ2GXThysgkO0/ELTWg4LSpfvft1v3Ge5Z1sqN+xQpGrRcadYZDN1CDvYRnKclOwZEurVb+/2PauheGem/DuL19ARcCVs3G4YRbTELaswf7Cj3BifypuvPfH0rnuJRjzmBNxjwppsELzuhbr9DrEZCRDGSS2oGbJ8knB2g6CIAgi+KARhIBTjX2rp+DP6eLCYssWp2Bn5bfiTEIP/8wvX40D7zgvWvYohDXLvtXgVUfYKjHMX269F7GD2L6+CB/8fiKWOa7fxkJpoy5hNp968r1e2B44+bITfI/y385Hw/6hCMv9HeKkFZ2F9REy2A1+/kfs1Tqvj+A7B7RM4HUsoJXMLSWYkPos/u0IW+2aB037ULdwDsrjboXBHufmW7Hn8bWCEnPTdJ5w3YetPA/qJwzCegfahdFSeRTXR1AxYbLw6d+4ro/gB8fKi/EDn7XrYBG+K/iXk0NxYBh97zxch/2oW7YaSFNh3I+kE35ypeexgwglVItlwPpsZL+nxIIHO3I+6CaaQ2D4O9uPuwTVrWIQQRAEEVyQgtDF9Bk4ETdO/xueXbbospmEgpaQSDzw/+nx859ORJhXJt1MQXhctCXWvt9zReq4YSWOvHcSmPk7TJjuPGbVF1Fpf0QEk9MurpqPXZ8ExibcG4ZN/yPuWL0Y/SbfIoUwbrsL/RatQdzOlx1KTLdwrgzaxRqUQQHNygxEO2uro1Kw4nUVYNVDndHGKrw+MnoON++SDt7aj4DPaCm/DzdyZ2UMZbLwhB6bKCGo8tiFMChncWdlxrQUKHvc/krksLEXVjYC8+dc4i4IBEEQRBDSq7GxkcZ4A8IpfJI3BTu//Rl+vuwV/OwKMCUKLL3w/gshmPsp8Kd1F/Es9Qx2P9WrMfnTDZgaux2auK6xHz/3n6WYajZhzt3ezWzDe+P3r2IfZq7BPX9JQkBdcM5XYOfcZNRd/2dMWpeK9taHu2rwMY8tG9VQzjNBbawWVi33Bl/z2CdqQ/DEr3uhJO4SdixvwajuXLCCIAiC8BoaQSACxCU8mHkJs8OB3+b0RnkQzWh0zTBgpLAoV1etgNt8fA/WHDCxT2MwsoPF2LgN/rHdq3FoPT8Yin733xVQ5eD80V3YuXA+6j6Pw+BFydeGcsDxNo9tDTBvzIR6nh54WIt0L5UDn/LYVy72wvoXe2Ej+7gsk5QDgiCIYIZGEALGtT6CIGIz98b0dOBw9CVseqkF0UGyeNq1QR22b5wFzZlWwXHyuA/w4iT/CiNfyfeB/bulIyB00DJ8OEuJtvqvTxgW4N8Lt0pHQO+nN+CerLvgf5WowE67T4DAUIS9uBn3zv7xNbQOS/t5bN2YCvk8g/BZYGIWtr6ngbKDxPc1j32GKQcbl4TgiU+BnIIWLGbtA0EQBBG80AgCEVDCoi9iSwGgGA/Ie26x3WuUwZiavAmrb1JiTO/AJ35o7zFQ3rQamx70QnAcegt6z16MmzZX4P6AKAfODEXve+dheJER064p5YDjZR6PVkCdU4RKQ8fKgTM+5bEv9GbtwSimHLxCygFBEMSVAI0gEARBEARBEAThgEYQCIIgCIIgCIJwQAoCQRAEQRAEQRAOSEEgCIIgCIIgCMIBKQgEQRAEQRAEQTggBYEgCIIgCIIgCAekIBAEQRAEQRAEIQH8//DM68lnpXPpAAAAAElFTkSuQmCC)"
      ]
    },
    {
      "cell_type": "code",
      "execution_count": 21,
      "metadata": {
        "id": "EVkTiFeYDgsY",
        "colab": {
          "base_uri": "https://localhost:8080/"
        },
        "outputId": "f41a6880-8679-4e29-84d3-dcff41ee4a39"
      },
      "outputs": [
        {
          "output_type": "stream",
          "name": "stdout",
          "text": [
            "x is 1, y is 2\n",
            "x is 3, y is 4\n",
            "x is 5, y is 6\n"
          ]
        }
      ],
      "source": [
        "coordinate_list = [(1,2), (3,4), (5,6)]\n",
        "\n",
        "for x, y in coordinate_list:\n",
        "\n",
        "    print(f'x is {x}, y is {y}')"
      ]
    },
    {
      "cell_type": "markdown",
      "metadata": {
        "id": "qtPxKPSeby6s"
      },
      "source": [
        "# Practical Notes Question 4"
      ]
    },
    {
      "cell_type": "markdown",
      "metadata": {
        "id": "iSQNwFanRskN"
      },
      "source": [
        "Write a function ```findDivisors``` that takes two positive integers ```n1``` and ```n2``` and returns a tuple containing all common divisors of n1 and n2. Using this function, write a program to complete the table of the divisors of following values of n1 and n2. Test data and the expected output are shown in the first two rows of the table.  \n",
        "\n",
        "|n1\t|n2\t|Common divisors|\n",
        "|:--|:--|:--------------|\n",
        "|2\t|4\t|1, 2|\n",
        "|10\t|20\t|1, 2, 5, 10|\n",
        "|12\t|24\t||\n",
        "|18\t|30\t||\n",
        "|100|200||\n",
        "\n",
        "\n"
      ]
    },
    {
      "cell_type": "code",
      "execution_count": 2,
      "metadata": {
        "id": "bUhb4z_eb1Ko",
        "colab": {
          "base_uri": "https://localhost:8080/"
        },
        "outputId": "510945f3-76dd-4ff0-a525-b1ee67acbd0c"
      },
      "outputs": [
        {
          "output_type": "stream",
          "name": "stdout",
          "text": [
            "[1, 2]\n",
            "[1, 2, 5, 10]\n",
            "[1, 2, 3, 4, 6, 12]\n",
            "[1, 2, 3, 6]\n"
          ]
        }
      ],
      "source": [
        "def findDivisors(n1,n2):\n",
        "\n",
        "    CD = []\n",
        "\n",
        "    if n1 < n2:\n",
        "        num = n1\n",
        "    else:\n",
        "        num = n2\n",
        "\n",
        "    for i in range(1, num + 1): # 'i' will not repeat ;)\n",
        "\n",
        "        if n1%i == 0 and n2%i == 0:\n",
        "            CD.append(i)\n",
        "\n",
        "    return CD\n",
        "\n",
        "print(findDivisors(2, 4))\n",
        "print(findDivisors(10, 20))\n",
        "print(findDivisors(12, 24))\n",
        "print(findDivisors(18, 30))"
      ]
    },
    {
      "cell_type": "code",
      "source": [
        "import math\n",
        "\n",
        "def findDivisors(n1,n2):\n",
        "\n",
        "    CD = []\n",
        "\n",
        "    gcd = math.gcd(n1, n2) # Greatest common divisor is simpler\n",
        "\n",
        "    for i in range(1, int(math.sqrt(gcd)) + 1):\n",
        "\n",
        "        if gcd % i == 0: # Only condition to satisfy\n",
        "\n",
        "            CD.append(i)\n",
        "\n",
        "            if i != gcd // i: # Avoid duplicated 'i'\n",
        "\n",
        "                CD.append(gcd // i)\n",
        "\n",
        "    return tuple(sorted(CD))\n",
        "\n",
        "print(findDivisors(2, 4))\n",
        "print(findDivisors(10, 20))\n",
        "print(findDivisors(12, 24))\n",
        "print(findDivisors(18, 30))"
      ],
      "metadata": {
        "colab": {
          "base_uri": "https://localhost:8080/"
        },
        "id": "KJns_JQTfX2h",
        "outputId": "a6a7977e-24fb-4af2-c220-b677aab06ff2"
      },
      "execution_count": 37,
      "outputs": [
        {
          "output_type": "stream",
          "name": "stdout",
          "text": [
            "(1, 2)\n",
            "(1, 2, 5, 10)\n",
            "(1, 2, 3, 4, 6, 12)\n",
            "(1, 2, 3, 6)\n"
          ]
        }
      ]
    }
  ],
  "metadata": {
    "colab": {
      "provenance": []
    },
    "kernelspec": {
      "display_name": "Python 3",
      "language": "python",
      "name": "python3"
    },
    "language_info": {
      "codemirror_mode": {
        "name": "ipython",
        "version": 3
      },
      "file_extension": ".py",
      "mimetype": "text/x-python",
      "name": "python",
      "nbconvert_exporter": "python",
      "pygments_lexer": "ipython3",
      "version": "3.6.4"
    }
  },
  "nbformat": 4,
  "nbformat_minor": 0
}