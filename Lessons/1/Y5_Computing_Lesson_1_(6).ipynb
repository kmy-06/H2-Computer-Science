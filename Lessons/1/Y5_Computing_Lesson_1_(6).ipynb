{
  "nbformat": 4,
  "nbformat_minor": 0,
  "metadata": {
    "colab": {
      "provenance": []
    },
    "kernelspec": {
      "name": "python3",
      "display_name": "Python 3"
    },
    "language_info": {
      "name": "python"
    }
  },
  "cells": [
    {
      "cell_type": "markdown",
      "source": [
        "# Blog: Data Structures"
      ],
      "metadata": {
        "id": "sEyBfwC10Q6s"
      }
    },
    {
      "cell_type": "markdown",
      "source": [
        "> One difference between Python and C++ is that in Python, the syntax a = b only copies the reference to that data structure and does not copy the contents of the data structure like in C++."
      ],
      "metadata": {
        "id": "t-_4rOxr1etV"
      }
    },
    {
      "cell_type": "code",
      "source": [
        "# Case 1\n",
        "a = [1, 2, 3]\n",
        "b = a\n",
        "a.append(4)\n",
        "\n",
        "print(a)\n",
        "print(b)"
      ],
      "metadata": {
        "colab": {
          "base_uri": "https://localhost:8080/"
        },
        "id": "SenYDVQs3Gyk",
        "outputId": "b5ec2cc1-f6b5-44e0-f59e-231ba46c049f"
      },
      "execution_count": 16,
      "outputs": [
        {
          "output_type": "stream",
          "name": "stdout",
          "text": [
            "[1, 2, 3, 4]\n",
            "[1, 2, 3, 4]\n"
          ]
        }
      ]
    },
    {
      "cell_type": "code",
      "source": [
        "# Case 2\n",
        "def test(x):\n",
        "    x.append(4)\n",
        "\n",
        "a = [1, 2, 3]\n",
        "test(a)\n",
        "print(a)"
      ],
      "metadata": {
        "colab": {
          "base_uri": "https://localhost:8080/"
        },
        "id": "3c1Gwlm13T8t",
        "outputId": "6c62ef51-39e0-42d6-8a34-a92d21147f25"
      },
      "execution_count": 17,
      "outputs": [
        {
          "output_type": "stream",
          "name": "stdout",
          "text": [
            "[1, 2, 3, 4]\n"
          ]
        }
      ]
    },
    {
      "cell_type": "markdown",
      "source": [
        "> Another difference is that Python has two types of data structures: mutable（可变的）and immutable data structures. Mutable data structures can be modified using methods and operators but immutable data structures cannot be modified."
      ],
      "metadata": {
        "id": "chBiX66O3r0l"
      }
    },
    {
      "cell_type": "code",
      "source": [
        "# A list is a mutable data structure\n",
        "x = [1, 2, 3]\n",
        "x[1] = 5\n",
        "print(x)"
      ],
      "metadata": {
        "colab": {
          "base_uri": "https://localhost:8080/"
        },
        "id": "2S7Ay9Sj4Ta9",
        "outputId": "6a96b9c6-646e-43d7-84ea-f7b62b5587a8"
      },
      "execution_count": 18,
      "outputs": [
        {
          "output_type": "stream",
          "name": "stdout",
          "text": [
            "[1, 5, 3]\n"
          ]
        }
      ]
    },
    {
      "cell_type": "code",
      "source": [
        "# Strings or tuples are immutable\n",
        "x = \"abc\"\n",
        "x[1] = \"e\"\n",
        "print(x)"
      ],
      "metadata": {
        "colab": {
          "base_uri": "https://localhost:8080/",
          "height": 208
        },
        "id": "IwvnaeuW4h0T",
        "outputId": "14f424ef-8af7-4fe3-ccb4-f5aafae40e85"
      },
      "execution_count": 19,
      "outputs": [
        {
          "output_type": "error",
          "ename": "TypeError",
          "evalue": "'str' object does not support item assignment",
          "traceback": [
            "\u001b[0;31m---------------------------------------------------------------------------\u001b[0m",
            "\u001b[0;31mTypeError\u001b[0m                                 Traceback (most recent call last)",
            "\u001b[0;32m<ipython-input-19-9b5a8347da35>\u001b[0m in \u001b[0;36m<cell line: 0>\u001b[0;34m()\u001b[0m\n\u001b[1;32m      1\u001b[0m \u001b[0;31m# Strings or tuples are immutable\u001b[0m\u001b[0;34m\u001b[0m\u001b[0;34m\u001b[0m\u001b[0m\n\u001b[1;32m      2\u001b[0m \u001b[0mx\u001b[0m \u001b[0;34m=\u001b[0m \u001b[0;34m\"abc\"\u001b[0m\u001b[0;34m\u001b[0m\u001b[0;34m\u001b[0m\u001b[0m\n\u001b[0;32m----> 3\u001b[0;31m \u001b[0mx\u001b[0m\u001b[0;34m[\u001b[0m\u001b[0;36m1\u001b[0m\u001b[0;34m]\u001b[0m \u001b[0;34m=\u001b[0m \u001b[0;34m\"e\"\u001b[0m\u001b[0;34m\u001b[0m\u001b[0;34m\u001b[0m\u001b[0m\n\u001b[0m\u001b[1;32m      4\u001b[0m \u001b[0mprint\u001b[0m\u001b[0;34m(\u001b[0m\u001b[0mx\u001b[0m\u001b[0;34m)\u001b[0m\u001b[0;34m\u001b[0m\u001b[0;34m\u001b[0m\u001b[0m\n",
            "\u001b[0;31mTypeError\u001b[0m: 'str' object does not support item assignment"
          ]
        }
      ]
    },
    {
      "cell_type": "markdown",
      "source": [
        "##Playground - Lists"
      ],
      "metadata": {
        "id": "6Emi3N8qjDpa"
      }
    },
    {
      "cell_type": "code",
      "execution_count": null,
      "metadata": {
        "id": "QCZHvczXitfP",
        "colab": {
          "base_uri": "https://localhost:8080/"
        },
        "outputId": "718b5d3e-7021-49a3-df03-e559c329dc33"
      },
      "outputs": [
        {
          "output_type": "stream",
          "name": "stdout",
          "text": [
            "banana\n"
          ]
        }
      ],
      "source": [
        "thislist = [\"apple\", \"banana\", \"cherry\"]\n",
        "print(thislist[1])"
      ]
    },
    {
      "cell_type": "code",
      "source": [
        "thislist = [\"apple\", \"banana\", \"cherry\"]\n",
        "print(thislist[-1])"
      ],
      "metadata": {
        "id": "xGNqZ51o5mR7",
        "colab": {
          "base_uri": "https://localhost:8080/"
        },
        "outputId": "ae095f93-d635-4398-d23a-0a271b6d200d"
      },
      "execution_count": null,
      "outputs": [
        {
          "output_type": "stream",
          "name": "stdout",
          "text": [
            "cherry\n"
          ]
        }
      ]
    },
    {
      "cell_type": "code",
      "source": [
        "thislist = [\"apple\", \"banana\", \"cherry\", \"orange\", \"kiwi\", \"melon\", \"mango\"]\n",
        "print(thislist[2:5])\n",
        "print(thislist[:4])\n",
        "print(thislist[2:])"
      ],
      "metadata": {
        "id": "0m_QmIxu5vGA",
        "colab": {
          "base_uri": "https://localhost:8080/"
        },
        "outputId": "bb4b2b83-343b-46df-8379-4ed1dd3342db"
      },
      "execution_count": null,
      "outputs": [
        {
          "output_type": "stream",
          "name": "stdout",
          "text": [
            "['cherry', 'orange', 'kiwi']\n",
            "['apple', 'banana', 'cherry', 'orange']\n",
            "['cherry', 'orange', 'kiwi', 'melon', 'mango']\n"
          ]
        }
      ]
    },
    {
      "cell_type": "code",
      "source": [
        "thislist = [\"apple\", \"banana\", \"cherry\", \"orange\", \"kiwi\", \"melon\", \"mango\"]\n",
        "thislist[1:3] = [\"blackcurrent\", \"watermelon\"]\n",
        "print(thislist)"
      ],
      "metadata": {
        "id": "1kLFyLTr5vzj",
        "colab": {
          "base_uri": "https://localhost:8080/"
        },
        "outputId": "4b752109-f9d7-42d1-c91a-c0f2f6d577bd"
      },
      "execution_count": null,
      "outputs": [
        {
          "output_type": "stream",
          "name": "stdout",
          "text": [
            "['apple', 'blackcurrent', 'watermelon', 'orange', 'kiwi', 'melon', 'mango']\n"
          ]
        }
      ]
    },
    {
      "cell_type": "code",
      "source": [
        "thislist = [\"apple\", \"banana\", \"cherry\"]\n",
        "thislist.append(\"orange\")\n",
        "print(thislist)"
      ],
      "metadata": {
        "id": "bHA8o-Zd5yKW",
        "colab": {
          "base_uri": "https://localhost:8080/"
        },
        "outputId": "a2cad614-f53f-4307-ae06-adda66b4f112"
      },
      "execution_count": null,
      "outputs": [
        {
          "output_type": "stream",
          "name": "stdout",
          "text": [
            "['apple', 'banana', 'cherry', 'orange']\n"
          ]
        }
      ]
    },
    {
      "cell_type": "code",
      "source": [
        "thislist = [\"apple\", \"banana\", \"cherry\"]\n",
        "thislist.insert(1, \"orange\")\n",
        "print(thislist)"
      ],
      "metadata": {
        "id": "KTrz3yrn50SC",
        "colab": {
          "base_uri": "https://localhost:8080/"
        },
        "outputId": "e33ae694-c16d-4d56-f177-feaca8122167"
      },
      "execution_count": null,
      "outputs": [
        {
          "output_type": "stream",
          "name": "stdout",
          "text": [
            "['apple', 'orange', 'banana', 'cherry']\n"
          ]
        }
      ]
    },
    {
      "cell_type": "code",
      "source": [
        "thislist1 = [\"apple\", \"banana\", \"cherry\"]\n",
        "thislist2 = [\"mango\", \"pineapple\", \"papaya\"]\n",
        "finallist = thislist1 + thislist2\n",
        "print(finallist)"
      ],
      "metadata": {
        "id": "BFAAcm6h52Vh",
        "colab": {
          "base_uri": "https://localhost:8080/"
        },
        "outputId": "ecca0e0d-e0cf-4251-b3ae-8e0f75263c9e"
      },
      "execution_count": null,
      "outputs": [
        {
          "output_type": "stream",
          "name": "stdout",
          "text": [
            "['apple', 'banana', 'cherry', 'mango', 'pineapple', 'papaya']\n"
          ]
        }
      ]
    },
    {
      "cell_type": "code",
      "source": [
        "repeatList = [4,5,6]*3\n",
        "print(repeatList)"
      ],
      "metadata": {
        "id": "xis2fjWZ54V5",
        "colab": {
          "base_uri": "https://localhost:8080/"
        },
        "outputId": "8852942f-991d-45b4-d55d-417fc3e5e1c2"
      },
      "execution_count": null,
      "outputs": [
        {
          "output_type": "stream",
          "name": "stdout",
          "text": [
            "[4, 5, 6, 4, 5, 6, 4, 5, 6]\n"
          ]
        }
      ]
    },
    {
      "cell_type": "code",
      "source": [
        "thislist = [\"apple\", \"banana\", \"try\", \"banana\", \"cherry\"]\n",
        "thislist.remove(\"banana\")\n",
        "print(thislist)"
      ],
      "metadata": {
        "id": "G_pRduI056Pi",
        "colab": {
          "base_uri": "https://localhost:8080/"
        },
        "outputId": "028d84cc-f888-49cf-92cc-67eb19eba550"
      },
      "execution_count": null,
      "outputs": [
        {
          "output_type": "stream",
          "name": "stdout",
          "text": [
            "['apple', 'try', 'banana', 'cherry']\n"
          ]
        }
      ]
    },
    {
      "cell_type": "code",
      "source": [
        "thislist = [\"apple\", \"banana\", \"cherry\"]\n",
        "thislist.pop(1) # or del thislist(1)\n",
        "print(thislist)"
      ],
      "metadata": {
        "id": "T8d8XB4h58Yg",
        "colab": {
          "base_uri": "https://localhost:8080/"
        },
        "outputId": "c5e1c137-a90d-4cac-a878-2ad2a7cc7fa2"
      },
      "execution_count": null,
      "outputs": [
        {
          "output_type": "stream",
          "name": "stdout",
          "text": [
            "['apple', 'cherry']\n"
          ]
        }
      ]
    },
    {
      "cell_type": "code",
      "source": [
        "thislist = [\"apple\", \"banana\", \"cherry\"]\n",
        "thislist.pop()\n",
        "print(thislist)"
      ],
      "metadata": {
        "id": "TVHwpIAm5-Za",
        "colab": {
          "base_uri": "https://localhost:8080/"
        },
        "outputId": "131e6638-980b-4ea6-f946-10e63b4436e8"
      },
      "execution_count": null,
      "outputs": [
        {
          "output_type": "stream",
          "name": "stdout",
          "text": [
            "['apple', 'banana']\n"
          ]
        }
      ]
    },
    {
      "cell_type": "code",
      "source": [
        "x = [\"a\", \"b\", \"c\"]\n",
        "y = x # solution: y = list(x)\n",
        "\n",
        "y[1] = \"z\"\n",
        "\n",
        "print(y)\n",
        "print(x) # y is now pointing to the exact same list in memory as x."
      ],
      "metadata": {
        "id": "zv5bA5QW6Ah2",
        "colab": {
          "base_uri": "https://localhost:8080/"
        },
        "outputId": "b812b2e2-66f5-4523-c5e9-ee23ea14cae2"
      },
      "execution_count": null,
      "outputs": [
        {
          "output_type": "stream",
          "name": "stdout",
          "text": [
            "['a', 'z', 'c']\n",
            "['a', 'z', 'c']\n"
          ]
        }
      ]
    },
    {
      "cell_type": "code",
      "source": [
        "x = 5 # primitive dataset\n",
        "y = x\n",
        "y = 10\n",
        "\n",
        "print(x)\n",
        "print(y)"
      ],
      "metadata": {
        "id": "TnnCwOtQ6DEm",
        "colab": {
          "base_uri": "https://localhost:8080/"
        },
        "outputId": "65c4e3f3-5e21-4f73-f78a-9ba281365939"
      },
      "execution_count": null,
      "outputs": [
        {
          "output_type": "stream",
          "name": "stdout",
          "text": [
            "5\n",
            "10\n"
          ]
        }
      ]
    },
    {
      "cell_type": "code",
      "source": [
        "thislist = [\"apple\",\"banana\",\"cherry\"]\n",
        "for i in range(len(thislist)):\n",
        "    print(thislist[1])\n",
        "\n",
        "for x in thislist:\n",
        "    print(x)"
      ],
      "metadata": {
        "id": "XuV0SI1J6MMv",
        "colab": {
          "base_uri": "https://localhost:8080/"
        },
        "outputId": "75cd3a1a-985f-4079-f405-906b95ec9716"
      },
      "execution_count": null,
      "outputs": [
        {
          "output_type": "stream",
          "name": "stdout",
          "text": [
            "banana\n",
            "banana\n",
            "banana\n",
            "apple\n",
            "banana\n",
            "cherry\n"
          ]
        }
      ]
    },
    {
      "cell_type": "code",
      "source": [
        "# print(len(list))\n",
        "# print(type(list)),  <class'list'>\n",
        "# mylist = list(), creat empty list []\n",
        "# mylist = list(range(10)), create a list of numbers 0 to 9\n",
        "# mylist = list(range(10,2,-2)), create a list of numbers 10 to 3 of step -2\n",
        "# mylist = list(\"the quick brown fox\"), a list of characters"
      ],
      "metadata": {
        "id": "zKVCONcE6FXx"
      },
      "execution_count": null,
      "outputs": []
    },
    {
      "cell_type": "markdown",
      "source": [
        "##Questions - Lists"
      ],
      "metadata": {
        "id": "Mb5D1Ls_jE_M"
      }
    },
    {
      "cell_type": "markdown",
      "source": [
        "**Q1**\n",
        "\n",
        "Write a program to prompt the user for x number of positive integers and store the values one at a time into a list. Display the list followed by computing the sum and average of all x integers entered.\n",
        "\n",
        "**Sample:**\n",
        "```\n",
        "Enter number of inputs: 3\n",
        "Enter number: 1\n",
        "Enter number: 4\n",
        "Enter number: 10\n",
        "[1, 4, 10]\n",
        "Total: 15, Average: 5.0\n",
        "```"
      ],
      "metadata": {
        "id": "F6EbHxGkjH1v"
      }
    },
    {
      "cell_type": "code",
      "source": [
        "numbers = int(input(\"Enter number of inputs: \"))\n",
        "numlist = list()\n",
        "total = 0\n",
        "\n",
        "\n",
        "i = 0\n",
        "while i < numbers:\n",
        "    num = int(input(\"Enter number: \"))\n",
        "    numlist.append(num)\n",
        "    total += num\n",
        "    i += 1\n",
        "\n",
        "print(numlist)\n",
        "print(\"Total:\", total, \"Average: \", total/numbers )\n",
        "\n"
      ],
      "metadata": {
        "id": "hFWJTMT1jHaI",
        "colab": {
          "base_uri": "https://localhost:8080/"
        },
        "outputId": "efc0d8b1-124b-4f61-b4cd-5c029801b776"
      },
      "execution_count": null,
      "outputs": [
        {
          "output_type": "stream",
          "name": "stdout",
          "text": [
            "Enter number of inputs: 3\n",
            "Enter number: 1\n",
            "Enter number: 4\n",
            "Enter number: 10\n",
            "[1, 4, 10]\n",
            "Total: 15 Average:  5.0\n"
          ]
        }
      ]
    },
    {
      "cell_type": "markdown",
      "source": [
        "**Q2**\n",
        "\n",
        "Given a list of values, find and display the highest value.\n",
        "\n",
        "[Note: Do not sort and do not use any built-in functions to get the answer]\n",
        "\n",
        "\n",
        "[Hint: You should create a separate variable to keep track of the highest value thus far as you loop through the list one value at a time]"
      ],
      "metadata": {
        "id": "fr729qpioNLZ"
      }
    },
    {
      "cell_type": "code",
      "source": [
        "nums = [65, 245, 12, 154, 9]\n",
        "\n",
        "if not nums:  # Check if the list is empty\n",
        "    print(\"The list is empty.\")\n",
        "\n",
        "highest = float('-inf')\n",
        "\n",
        "for n in nums:  # Iterate through the list\n",
        "    if n > highest:  # Update highest if a larger value is found\n",
        "        highest = n\n",
        "\n",
        "print(\"Highest value:\", highest)\n",
        "\n",
        "\n",
        "\n"
      ],
      "metadata": {
        "id": "lAa-RSSZoOQ5",
        "colab": {
          "base_uri": "https://localhost:8080/"
        },
        "outputId": "deb190cd-7a1a-46a5-bc69-a7a4fafa6924"
      },
      "execution_count": null,
      "outputs": [
        {
          "output_type": "stream",
          "name": "stdout",
          "text": [
            "Highest value: 245\n"
          ]
        }
      ]
    },
    {
      "cell_type": "markdown",
      "source": [
        "**Q3**\n",
        "\n",
        "Write a program that prompts the user to enter a score between 0 and 100 inclusive and output the corresponding grade as well as a Pass/Fail status. Output an error message if the entered score in not within the valid range.\n",
        "\n",
        "The grading system is stored as a Dictionary where the key is the grade and the value is the range of the score for that grade stored as a list ([minimum score, maximum score]).\n",
        "\n",
        "[Note: S and U are not passes]\n",
        "\n",
        "\n",
        "**Sample:**\n",
        "\n",
        "```\n",
        "Enter score between 0 to 100: -1\n",
        "Entered score is not within the valid range\n",
        "```\n",
        "\n",
        "```\n",
        "Enter score between 0 to 100: 101\n",
        "Entered score is not within the valid range\n",
        "```\n",
        "\n",
        "```\n",
        "Enter score between 0 to 100: 37\n",
        "S\n",
        "Fail\n",
        "```\n",
        "\n",
        "```\n",
        "Enter score between 0 to 100: 65\n",
        "B\n",
        "Pass\n",
        "```"
      ],
      "metadata": {
        "id": "wV0rCVgBlXIk"
      }
    },
    {
      "cell_type": "code",
      "source": [
        "dictionary = {'A': [70, 100], 'B': [60, 69], 'C': [55, 59], 'D': [50, 54], \\\n",
        "              'E': [45, 49], 'S': [35, 44], 'U': [0, 34]}\n",
        "\n",
        "try:\n",
        "    score = int(input(\"Enter score between 0 to 100: \"))\n",
        "\n",
        "    if not (0 <= score <= 100):\n",
        "        print(\"Entered score is not within the valid range\")\n",
        "\n",
        "    for grade, (min_score, max_score) in dictionary.items():\n",
        "        if min_score <= score <= max_score:\n",
        "            status = \"Pass\" if grade in ['A', 'B', 'C', 'D', 'E'] else \"Fail\"\n",
        "            print(f\"{grade}\\n{status}\")\n",
        "\n",
        "except ValueError:\n",
        "    print(\"Invalid input. Please enter an integer.\")\n",
        "\n"
      ],
      "metadata": {
        "id": "x4OsCh6Olk-w",
        "colab": {
          "base_uri": "https://localhost:8080/"
        },
        "outputId": "0a93ac34-1e62-45f9-dc54-7ccb5ae766ae"
      },
      "execution_count": null,
      "outputs": [
        {
          "output_type": "stream",
          "name": "stdout",
          "text": [
            "Enter score between 0 to 100: 65\n",
            "B\n",
            "Pass\n"
          ]
        }
      ]
    },
    {
      "cell_type": "markdown",
      "source": [
        "**Q4**\n",
        "\n",
        "Convert the fruits list given into a dictionary where the key is the first letter of a fruit present in the list and the value is the number of occurrences of fruits starting with that first letter.\n",
        "\n",
        "Expected Output:\n",
        "```\n",
        "{'c': 3, 'a': 2, 'd': 1, 'b': 1}\n",
        "```"
      ],
      "metadata": {
        "id": "ftiHLad3eV1i"
      }
    },
    {
      "cell_type": "code",
      "source": [
        "items = ['coconut', 'apple', 'durian', 'cherry', 'banana', 'apricot', 'carrot']\n",
        "\n",
        "fruit_dict = {}\n",
        "\n",
        "for fruit in items:\n",
        "    first_letter = fruit[0]\n",
        "\n",
        "    if first_letter in fruit_dict: # Due to you can define key for a dictionary straight away\n",
        "        fruit_dict[first_letter] += 1\n",
        "    else:\n",
        "        fruit_dict[first_letter] = 1\n",
        "\n",
        "print(fruit_dict)\n"
      ],
      "metadata": {
        "id": "vDroOELzeuwH",
        "colab": {
          "base_uri": "https://localhost:8080/"
        },
        "outputId": "a140f9dd-0c88-44a5-ae6e-ede7056092a4"
      },
      "execution_count": null,
      "outputs": [
        {
          "output_type": "stream",
          "name": "stdout",
          "text": [
            "{'c': 3, 'a': 2, 'd': 1, 'b': 1}\n"
          ]
        }
      ]
    },
    {
      "cell_type": "code",
      "source": [
        "from collections import defaultdict\n",
        "\n",
        "items = ['coconut', 'apple', 'durian', 'cherry', 'banana', 'apricot', 'carrot']\n",
        "\n",
        "# Initialize dictionary with default integer value\n",
        "# Defaultdict -> automatically assigns a default value when a key does not exist yet\n",
        "fruit_dict = defaultdict(int) # any missing key will start with 0\n",
        "\n",
        "for fruit in items:\n",
        "    fruit_dict[fruit[0].lower()] += 1  # fruit_dict[key]'s value + 1, and the key is represented as [list -> it's item[parameter]]\n",
        "\n",
        "# Convert defaultdict to regular dictionary\n",
        "# Some functions or APIs may not work well with defaultdict, so converting it back to dict makes sure it behaves as expected\n",
        "# Without conversion: -> Output: defaultdict(<class 'int'>, {'c': 3, 'a': 2, 'd': 1, 'b': 1})\n",
        "result = dict(fruit_dict)\n",
        "\n",
        "print(result)\n"
      ],
      "metadata": {
        "colab": {
          "base_uri": "https://localhost:8080/"
        },
        "id": "ulcDyDRAAMWb",
        "outputId": "4fd12c49-3da5-4184-d228-53185b37e320"
      },
      "execution_count": null,
      "outputs": [
        {
          "output_type": "stream",
          "name": "stdout",
          "text": [
            "{'c': 3, 'a': 2, 'd': 1, 'b': 1}\n"
          ]
        }
      ]
    },
    {
      "cell_type": "markdown",
      "source": [
        "**Q5**\n",
        "\n",
        "You are tasked to write a program to do pair allocation. Your pair allocation program will assign a random student to another random student. If there is an odd number of students, assign the last student to the first group.\n",
        "\n",
        "Note: If D is a partner to E then E is automatically a partner to D. So if E has been allocated, there is no need to allocate for D.\n",
        "\n",
        "You are to use random.randint() [See https://www.w3schools.com/python/ref_random_randint.asp if unsure how to use random.randint()] to randomly choose an index to select the student from the python list. Do not use the shuffle() function.\n",
        "\n",
        "Sample allocation for students = ['A', 'B', 'C', 'D', 'E', 'F', 'G']:\n",
        "```\n",
        "C A F\n",
        "E D\n",
        "B G\n",
        "```"
      ],
      "metadata": {
        "id": "BIO2wdbMmO1k"
      }
    },
    {
      "cell_type": "code",
      "source": [
        "import random\n",
        "\n",
        "# List of students\n",
        "students = ['A', 'B', 'C', 'D', 'E', 'F', 'G']\n",
        "groups = []\n",
        "\n",
        "while len(students) > 1:\n",
        "    # Student 1\n",
        "    index1 = random.randint(0, len(students) - 1)\n",
        "    student1 = students.pop(index1)\n",
        "    # Student 2\n",
        "    index2 = random.randint(0, len(students) - 1)\n",
        "    student2 = students.pop(index2)\n",
        "\n",
        "    # Pairing\n",
        "    groups.append([student1, student2])\n",
        "\n",
        "# Handle the last student if the number of students is odd\n",
        "if len(students) == 1:\n",
        "    groups[0].append(students.pop()) # [[E, F],[D, G],[B, A]], add the item (taken out from the original list) in the first sublist in list: groups,\n",
        "\n",
        "for group in groups: # 'group' is a sublist\n",
        "    print(group)\n",
        "\n",
        "print()\n",
        "\n",
        "for group in groups:\n",
        "    print(' '.join(group))\n"
      ],
      "metadata": {
        "colab": {
          "base_uri": "https://localhost:8080/"
        },
        "id": "ZaTg-1k_Di94",
        "outputId": "39d39052-bc25-4472-f69a-41ccd05019c3"
      },
      "execution_count": null,
      "outputs": [
        {
          "output_type": "stream",
          "name": "stdout",
          "text": [
            "['E', 'F', 'C']\n",
            "['D', 'G']\n",
            "['B', 'A']\n",
            "\n",
            "E F C\n",
            "D G\n",
            "B A\n"
          ]
        }
      ]
    },
    {
      "cell_type": "code",
      "source": [
        "import random\n",
        "\n",
        "def allocate_pairs(students):\n",
        "    students = students[:]  # Create a copy to avoid modifying the original list\n",
        "    pairs = []\n",
        "\n",
        "    while len(students) > 1:\n",
        "        # Pick two random students and pair them\n",
        "        student1 = students.pop(random.randint(0, len(students) - 1))\n",
        "        student2 = students.pop(random.randint(0, len(students) - 1))\n",
        "        pairs.append([student1, student2])\n",
        "\n",
        "    # If an odd student remains, add them to the first group\n",
        "    if students:\n",
        "        pairs[0].append(students.pop())\n",
        "\n",
        "    return pairs\n",
        "\n",
        "# List of students\n",
        "students = ['A', 'B', 'C', 'D', 'E', 'F', 'G']\n",
        "\n",
        "# Run the function and display the result\n",
        "pairs = allocate_pairs(students)\n",
        "for group in pairs:\n",
        "    print(\" \".join(group))\n"
      ],
      "metadata": {
        "id": "5po1JpPqIj92"
      },
      "execution_count": null,
      "outputs": []
    },
    {
      "cell_type": "markdown",
      "source": [
        "**Q6**\n",
        "\n",
        "Create the algorithm to generate the NRIC check digit. The steps are as follows:\n",
        "\n",
        "\n",
        "1. Multiply each digit in the NRIC number by its weight i.e. 2 7 6 5 4 3 2 in order. [Note: This has been stored in the python list, weights]\n",
        "2. Add together the above products.\n",
        "3. If the first letter i.e. UIN of the NRIC starts with T or G, add 4 to the total.\n",
        "4. Find the remainder of (sum calculated above) mod 11.\n",
        "5. If the NRIC starts with F or G: 0=X, 1=W, 2=U, 3=T, 4=R, 5=Q, 6=P, 7=N, 8=M, 9=L, 10=K [Note: This has been stored in the dictionary, last_digit_list_FG]\n",
        "6. If the NRIC starts with S or T: 0=J, 1=Z, 2=I, 3=H, 4=G, 5=F, 6=E, 7=D, 8=C, 9=B, 10=A [Note: This has been stored in the dictionary, last_digit_list_ST]\n",
        "\n",
        "![Python 4 Exercise Question 6 sample.PNG](data:image/png;base64,iVBORw0KGgoAAAANSUhEUgAAAjkAAAIeCAYAAABZQh7jAAAAAXNSR0IArs4c6QAAAARnQU1BAACxjwv8YQUAAAAJcEhZcwAAFiUAABYlAUlSJPAAAMtYSURBVHhe7P3PaxvN9vaNnn9HM4HBg4Ahg3gkeMCCgEUmgkAEhogMIjKICRgRMPJgCw+CMjDKIMIQROAGDYICAQX8nOY5+JXZAQUC4uCjfCGggw80GPoFwzprVVdL1d3VUku2E0f39dlo31Gru7pq1apVV/3o9v+DAAAAAABWEIgcAAAAAKwkEDkAAAAAWEkgcgAAAACwkkDkAAAAAGAlgcgBAAAAwEqysMjpH2Qok5n9KX0c67P/PqblK1H7lz4IAAAAgL8OiJwIEDkAAADAanAtkVM71QdXCIgcAAAAYDWAyIkAkQMAAACsBrckcjxy9jf1eVkq/aOXr64G1Mjp69dYRPyUgx6NvjSovLVBWX3+xlaZap0h/6L51aaSvmdmv0POmzLl7ulzd2rUO/fI/d6m6iOdxr0cld84NL7yLx9/LPnX8qfWcajxNEfr8n1tgwp7bRq4/nlCksjxznt8XZ421vzf13ORPAIAAADgTnF7MzmXfapNBE2FuhdEg7c5fW2WKp9EWXicXnAs+jHEkSlybJ+1rBZI4U/u7UBdbooc6ydXo/6lOtUqctyTKuWi1+hP7qAPoQMAAADcQW5847G56dg7rU3EQXYrP/33Xs8XBsMWFe9n1bHNfYdcmXlxHao90Ok9bNFQzjNFzoMa9Vgw0dWIWk/0Mbl+r+vP3Jy3pueu1anPh0Ii50nTn7m5cskxBFbheMQHLSLnoksVPXuTe93z73Hl0fA4SHOTGt/UpQAAAAC4Q9yqyFEzNYeRmZq1KvX0rEmA+6NLrTd1qj7NU16LHv9TUyIlJHIO1BHF6ENxcu50VmlM7Yn48a83RU71qzHv4vWoqo9nnrT5yrjIcT9VJtcmffLvlRQDAAAAwB3i9jcejztUNgTBZAlK8IbUfrY++S3+mS1yQnttUoqccJ77VNPHg3OjImfuUpd8jDwBAAAA4G5wyyLHsudmrUQdvddlKiCyVDjs0ODcJdcbxUTKTYqcRWdyxv9M8xgur0fuGLtxAAAAgLvKrYocWeoJNgTnHhene3J22jS64rQOg6WpPDW/62u+NaeC5hZEzuJ7coyZqO0G9WU/EDP+XKVNPpa9X6C6YzyeBQAAAIA7wY3vyZGP2pfzk4WJ3rCb2W7R8Co8q1N4PyTvrJ741NLkI6LmJkWO7TPn6arRP2X/kXPLJxBsAAAAALhb3I7Iaf93KjQm78NhrsylqBwLE4/GToPKOb0vR95vc9ChwfcOldV7cPhzwyJn2ffkuJynWuw9OQP/iTAAAAAA3DkWFjl/I3YxBAAAAIBVBiIHAAAAACsJRA4AAAAAVpJ/hcgBAAAAwL8PiBwAAAAArCQQOQAAAABYSSByAAAAALCSQOQAAAAAYCWByAEAAADASgKRAwAAAICVBCIHAAAAACsJRA4AAAAAVhKIHAAAAACsJBA5AAAAAFhJIHIAAAAAsJJA5AAAAABgJYHIAQAAAMBKcjsi53JEg06Lqk+b1NeH/ja88ZCcj3WqvO7SWB/725Ay9KP1cDUm57hO7W+e/13q6kub6i+q1L2tgl55NB461D6sUPXTnJuMHWodtmlwqb8DAAAAS7KYyBl3afdhnvIzPrvcibnf2tR8UaBMpvaXihyPRl9ZHOxsUuZJ+y8VOUYZ1urTejirUzaTocxOR5VrWlcl6txWQb0R9Y6rVHqQodLH2TfpH2Y5L3zeP3+n1QEAANwdFhM5pzXKFNs00l/7B9xZGkJm9KFImQP9Tc79m0TOeZvKe+FZm/HH0l8scnziZWDxc+rQ4Jf+Ktx4XXnk/KdAzW/6q2JM7SfzRY7MLPVPBjS+0t8BAACAJVlc5Ow7+ktc5JDDv/+lIsf9VJnmXbOaIsfCjdfVgBoPStQ2hVRakQMAAADcEIuJnCuPXGOvhBI5DxrcpWnM34OO88ql4ZcmVR7nKf+0Rr2f+veAqzH1P9aoLMtdjyvUdGZ0gt6InCM+54z//cuh5osi5R+WqfbFn1san+j7PK5S+4fecxLgDqhzWKFi7D4u9Y/rtPsoS5ntCtUP61Q/7vNRQyAYeSy+aM3eLyJ7XjiP5Z0KlZ7yfU6GNDxpU42vG+pTQnlhm3S+y93CeOc9Xb48lQ86NDTvKdcflP0lQr6+fZZss5jIYRtKWerm3hhT5Jx3fRvoT/dcnZG6nrxhl5r7ZcplNqn02kzDEDm/+tRW+S9S5XhAZk15P+U3vsZMflLXYv8m9c71FW6Pdu9lKKuX3gAAAACTa208ViInaZZAdZwlKr8oU6PjkHPSodo2n/+8qwSE4mpE7Z11Kn3QC2DceTefZKn6NSJQhHGXqtzJbaxlKM8ConLQpt6Jw2KhQFm+z+5emSpHHb5Pj1rPNyPia0CNnDGL8KNJhUyZOhf+V+/Cpd5rztvrHrn8b9f1768EwsMSVZ5WqfWFy/ClRZUHGdp8O0k5gkvd51nKHfT9jvtqSE0uc+615Gvol/uyT7VcjmqOtoIuc+ljsAjI+WHb5XI1Ck4Zf67S5jaLJLWEM6LW9iZfr2103qLijJmakMgxbBiaUTFFDgvV0ccKFd72aaztsFA9eWy/75ynTJFaLN7Enp7Kty9ypO7Key1Vd733FdpkMdT4rq5U5cxvbaj6nMwCeQ5V1/h7II5PqtMZN7dLu1yWTK45FZAAAACA5pZFzi71jBkItSRkbIJ1O2UWEcYMB6M65cSRud9RFo+ngoC8HlUzGaqe6O/C9wZ3nsZGWh7xVx9WqDNZPmGhwdfUTvVXRpXFtlz1kDtQY3/I4C0LqMT8SbrTTltQ5xvpDt7w92edqdAT2FbZtV3qykERZCykwgJC0s1SXc1gtamUyVPzh/+LzLAMzkah2RCT2EyOtmGSyPFO61Q61CJNs3A9qTzal6vy78xU/LKGNhlHr436kezZ+WFYj0WVL6IAAACAMLcsciL7PELHPOrt8fXBEpH+qGWjxJkJSwetBEBYsNg7WR9XHmV+W6F8WpETyYvt2JQ+1deyoXSd/QxlWTT4DKn10PyuUfnV+Rm2OG/TpR71Ucs/QX7H1NmRJ5DWqSgzIsOQXIqxiMjp8X9lmWkyS6RYop5miJxw3VmORa/12KY5vv9aniqHbepb6hQAAACwcX2RYzxtFWKuyJHOmq8PlojMT7BMEmN5kTN2GlR+XKXW6YhH/gvM5CwkcohG/Pv6TosGv1wandSocK9Mnck+JBFBGSoGyz4BpshRj3hPl3rMz2TG4sqlQadG5dw62zNL+cjMi0l6kSPpOOS8zVEmV6f+JMEl6ukmRY6g9zkV7vvirvyP1eMAAACAENcXOVEhEzBX5PD18k6UyDLIbJYUOd8blAstnd2eyPG+N6n23qH+CQuG0yG5oaUU2bPD9zGeUFOo2Zs8tcQQ444SPNb9LkJk87fLQkpmX8wlMpP0IqdGjuRVz5zkjH1HC9fTTYoc2eMTmILLPvxQYhFY8Zf2AAAAgBncushRHWdAVPgo8ZGdbmgVXIcah73wnpUJy4kctRfIEDnuWYMKco2hNVRZIuJDCYTITNVskSOzHpv+3pkEPKdGm2vV0F6l4fuC8YSQv3k5Y2w8FkYfqr4IkrKFNm87XP4CtYKnoCLEyzBH5DAqj5JmoGoWrSdl/yJNNgsr/PuGZ7FSiBzOW2ij9882Fdl+akUNT1cBAACYwXIihzu4+uM85biDkeWDnDwK3Jl2Xu5pkyrbeinleZP63BNOj61T4YV/TBh92qW8PCFzL0f5hznKPW4mPKI9ou5eST0ZlL1foupnvp/bV2/rXWfBsr5doeYpj/rlPo/kCZ0sbexU/ceXL/tU32LhsLZB+a0C1b6OyNlfp+xWicpvHNVRu593aV32fexXqfyqS//9XKWSXh4p7nWVSBgFxzidkj4WxqP+YY6vEbtMP+vbnA+jwx91dqnA+a3J/pZXRco9b4UfEb8cUPOxb7+NrTzlcwXa/aTvJpuo+Xtl398bU93hPB8PLctV8mj8tAzK5v/j28u04ehzbVJXE3upfTh83b0iVfXj9Onribni/LO91x9XqfaiTM2z4aTuVJpSd5b6tNbdjxYVcnyN2gvEeX0k9aclDZ6uAgAAMINrzeTcGLIEI3s8kjrNG0IeFTe3kXgXEWlwOWOfSSo8Gsh7fERsBftWfg2oJRuFzdkXIU2ZJT98ju3pIc9N/u3WWKSe9Lk3lT9Vd7b08HQVAACABO6GyFkVTmuUtW3EljdBR0UOAAAAAG4ViJyb5EeTcplSeH/Mhczk5Kl+dp0ZIgAAAAAsCkTODTM+a1Nd/wkC9WcL8G4XAAAA4I8AkQMAAACAlQQiBwAAAAArCUQOAAAAAFYSiBwAAAAArCQQOQAAAABYSSByAAAAALCSQOQAAAAAYCWByAEAAADASgKRAwAAAICVBCIHAAAAACsJRA4AAAAAVhKIHAAAAACsJBA5AAAAAFhJIHIAAAAAsJJA5AAAAABgJYHIAQAAAMBKApEDAAAAgJUEIgcAAAAAKwlEDgAAAABWEogcAAAAAKwkEDkAAAAAWEkgcgAAAACwkkDkAAAAAGAlgcgBAAAAwEoCkQMAAACAlQQiBwAAAAArCUQOAAAAAFYSiBwAAAAArCQQOQAAAABYSSByAAAAALCSQOQAAAAAYCWByAEAAADASgKRAwAAAICVBCIHAAAAACvJzYqccZeqh33y9Ndb43JEgy9tqr+oUnesj90UY4eaz/KUzWRofbtB/VsvzF/AlUejbz1qH1ao+ukGDS712GlR9WmT+voQ+H144yE5H+tUed2lm25G4Ja47TYTjX+XY3KO69T+9vsDod0/PRp2mtT8MtLfU3D158pwlxB79lP6jvejQ82jHo2u9IF5cB8xHvapc1yl8tHdiubLixzP5Y6vT6OI3wzfF6n0MdkBx592Kf8wP+OzO1e4uN/a1HxRoEymRJ2bjM5en+qPGjTgih2ftKh+7NA4bSWvMhcDah9VqMCBr/TPzRl8Wo+1GwzYfWpqXyq+iQjus2bI13ZZsNn8sbxX57rv0OCXvk4xTTf4yPUm49M21Z7mKZfL+ec8rlC9MyD3TvoQC9evHPB2NinzpP3bRI77vaNsJPbJ5djWBx0aXuofA3TAHF7o7yaeP8BpHjapfTKM25Y7tMnvXwYz2+/4uxO5B9vkzCHnJPyx5oNRncaXHg1c9c16rfqcjcJ+aIMHiLuGb9k+4m+302Y0tvj3f9WV4MnsdH6zEE7wz3GHSpKftXr68p/9qTLcJQx7zrXdmDo7bK9Mlupn+tA8uF32WOCUHmQoe/i3i5zzNpW3Nmjj/gY7TonaoY6A4YZSy7H4iB7X9A8yVPwQiCA+V5zvIDDKiNrFDNVO9ddZnNZuvKG7nypGXkAYv65S1U0S4jt7kVmDW6hHwdmXRrpJNSfSvXAH2ntdpNa5/i5cOWE/lJmrL1XKZXJc3vD1ow9FTrdI7Z/6gMAda+91jjK5XeoMjfN/tjkgW9rIHWL8sfTbRI7HdZ3L1chRooC5GlCDg+LEp1yH6o9zKras23xN7LlWotYPl9xfA2rtZClbbNEwEDKXEnsyvhi4GFH/bYmyfL9+VEQJqm6i9/DzkxFfMD6xfJx3qLqdYxHdMwTQmNpP4teqz/MuBUVORNpBsc0R0EfipNkulN8F/nlLbcYe/7gtnDoRwb8co49lqn5ezNNs/initD+ca1EDSxk89rVHTa7xfxc2e1rrZTwg59QyiJiJ3wZKH39HNEnP8jM5v5ID+Oi4QJvcWGyjF2m8NUd/0R2n2bCkc0rVkd5CQ5e83bUKujtcX+RYg+gtBez+wSZ3qFketcQFd/8g6rd+2abiW2AxtMe+GRn9qSCRqVLPcO7RBz7G9wkJHwWPjOX4DXQQt8XvEzkudZ9Hbewfi/uUzdd0fTxkUaOPiFApGqNN76RG2bVd6k76vyG1HlpmH3kg1nhVsogcvu8cWyihJnVqiuQZjI6LVD2xRcII0g72J4ExJnLI4d9vWeTcbvxLquvZ3Jp/fm/Q5m/x+7tF3J7L1Yudf5HIUb+tVSk6iFZcuuRN1KEfzDbfGno6+F2to1aprKZqy1TrDMOiyWzo512qH9Ynn24QgDiN/sean8bjCjWdBOOrqTY+j0eBmztVP53POhib+ZA0TiJp8LXOUYVaEmjPe2oqvhidrTAYn/lLGvmHRaocBcthLvWPp/lX93b71Aq+H/f5DGaOTbyfDjVfNKnPaY5PmlR5zOc9rVFPOl+5lvNZ5GuLe+3wEgGXoc/pNs+80HWdH2bqdpHjcZmbL4pqOt269KDwy7f7iEXHdiVcpqAer1wafonk2SRtXWqUkPnhUE2mT3d4hGyMSJJETrRxqtmgSCD0RY7RwfCIsLrG94iNgH081/R3Ay7voFPjOuTU3QF1Dsq+DY8Gkzp1T1u+rd6xn+hj469Ndaz2wRhEaB9sig/+Eh+Q+mD/0PsWJnX6uMo2CbWiSdAbTa7jTvljfInN7rc+vt+1lE1GX6SOOI3YiN2fAs/u9cLt2EqSr/Wpf25c7fWoajlvik3keNQ/3GVB6s/eha6V9AyhEeNXh+OaZXYwCfGNnL/8M5crj1yj7SiR84Cv1d9Dv990m5kV/yQ2cBp1Y2l2Zn1P/IjjDMeintTXhcSyXSpwOym88GNa6zRhJmbsUGtP2oLvZ30ZQJhtMCjze6O96dhW3qlQ6anE6CENT9hfOY9KEIfK4NHwU5N9Ocf2LVFVynrYncyg+Yyoq47rj4pV5jEuu86+LOtVbe1ClVnObdLE7L84Vsqx/XbyXs9l2rI3pO6R3Etitn+IPI4p6v4NrgN9jAmJnBn14g4lrvt1rBAbzu0jTJGT3oa3ze2IHDZNnYNB47v+moi9c5FOsfs8O+04XA4+kt43/6vCFDmyvPCxQoW3fRq72uhXI2rvrFMpGDlyR9J8kqXqV4t3SQC5GFCryCPN9xzgL1w/oETT4MbU3dukHOdLpSIbrbkxb7CTlN40qLbfpMbjdVp/Zl/7HbGDrQcdrnRy70rToO+xEHjDDe9/1ScNwP1apcIBNxz1fbZNxp+rlN+SJcQ8lZ5XqPaxR85Jh+oiLJ7sckPkhtNxyPnSogp3/BNhaZQhm+NzTkeq/MPOLuUyBWpNhs3xjie6/CB52NzmwGIJ6h6n2XvNgft1z7dvUE+qHktUflGmhuSP81zb5vPMKf5F6lITCBmVR/ExYwYhlchRSyPZ2CxATOTo9f5ZeYnD+X+Up9w9EVFlqnJn0JG9Gx9liSw7tTEL/v5RPhzk+ZiyY+AHRv3lOchXDtrU47Q6hwW1nLzLHUblqMN27VHr+Wa442RUeR4UqPLWoZHUC4vWKnd2OeMBgll+O/W7EjXesmg7alDx3jqVLZvlZCYvy+XLv+IA93OWvewiJ8Y3Ho1nytRJ2DPjntRoM7Jc5XGb2v0knmW5h8S0Z9wpsa16X+JLIoM3en+IdLSn85dMxLaF46nfLYISOWa9m9x0m0mKf2Z8021jZn0rwc9tKxBbJ1XfT1X6viCtfuG0JX1b9SsRyW2O8zDmc8ZDLteWxK/ADka7Cfxfx8VJTL4aUpNtkXstPj8k11IGGXgM3hcpU2zRQPJyYbMJC2ROZ4NF7/RXjwc+JWpqIRFqF4yKf4G/SZllDyDbaRJr5NgXtokZP0yWbcuS7q8u7Zr+LMe+t6ho3p8JiZyEehm8K1A+tz7NZ+o+IjKTk8KGv4NbEjl+YSsqmMwiSeSwcR4XqcGq0ccyDWaIHO+0TqXIU11upxye2mZUBSduPovfQ6UhjmR22qrcOaOS/OuyW83ZI7aLDpVZgEwdgtE2nPQH2ilyIkAuWSi+MmcgUthEpRfebyJBXZZXHCNvg7fcQEJ2sKTFwaPzjMv1OnDQSKeg91OEg6ack7xZTQXuSXDSqHrcpZ7REallLWNz3OJ1Kfea+ubgLYtHrrO6tl2SyPFHsTUepeRofZtHSqfx1NV9jSDlSSA37bIAyh5s3yn+njSzHkJBSRO3o19/RbND1bMc1RP9XZApetPfGFv6UqZspuIv+6TxW/WdxcuRKZ/sjDgw5jlYis2Ujb/bYoRFgMSQ5SvuxGMPOfBA5BWPMu9naeNRIzxaZOG6O4kTlnvo2dNWp0OtfR40cWcqAxa/DXL7e8gBm0Vp+an4SZU7d/P3CKp9JAuwecwXOTfdZmwxQEiKM5b6jubrkkf/P4IKmF+nSkSyPc0qm+//km54QK3im6V9zGtXUWTbRWaN23pQvyLinuv8qXYRGXjr++SOtNV1OwnFGqPfsrNsW7bY13L/eLkT6iWWT5t/RPuI+DkzbfibuFWRE28wUXwDzzrP+zlQj6VJQAmdpyuhx//NxTaY6vX7YGlEf9RySaJjR/Ns35MRz7N/Xf69GU7i+GKDR8xGfuqvfIUesuGwRQXukPM7HLCMIGaSaJOUjSru6Pb6UpsdJ4Ey0hg4n3m2e+m1UZ79spo1SQpkySIn0uhDx5apS7mXYQc1quXz9Shr3kyON3aoxiMZ22yEsp2ZX5VXLvOMVY4kksSKWQ/zg7xgqz9L8EoV9Bh1nn9tKr9V50eE0CzUkkODSixERHxGN3db8x5BRtF5tkH0ShP3W4tK9/L+wEB84JXZpubfI9ic7A/Wwj6iuOTOZy1Lu5/jIVuJjEiHvQjzRc5Ntxl7DLAeT6pveTorx/ddy7O/tKlvaWPJ9vZFZHjPVhr/l1UDY/aTkWXm8BM+6dpVDCVkspM9VSL+Kx2/Rv12ER4wCKF6SxmPwyzbltOcYyt3Qr3E8mn3j3AfYTlnhg1/F3diJifq2IL3o03Vx2VqfJEd3hbjqUrg0cShQ46M1HPTZR65v3oELlgaMT/WeVIheg+dRmyN3s+zeZ6t8qOM/2Hnkg2r0fzwJ7Rng4OxTBsHHbLJXJukbFRxR7eXQZ03GR1GGoNapilSi0fiM8tjEO+cGVujDx1bpi7lXhE7qKlwDn57PerNETmCX3bOQ6Qs6riZX2Xz+SLXRhqxEq+rdNcFZVo86DG6THJtKr+dGQtmEIjPhIFELPBqZAmy+LJrn0GJ0D/g9GUZR/kU2836Scq7b1ff1n6ewjHN/z32yKzM4uSmgX0ZVB0bT1uFuJU2Y48B1uOz6lvvjykoAcsDhX+CEsyuU/m9biwpBaTxf3/ZqEWDXy6NTmpUuFemTmh/UrwMVr+P4ZHzOqtnKlg4vp7uM/XbRS00Qy6ovAXp2uxkq7sQtnpI05aXbe8J9RLLp90/VHqTPsJ2TrINfxe3uCcnzTP2voFjHd9Flyo8GoguCYWMpytBOZkeQahlHk3/kBtZZLp2NvF7qGnPaKAJpg4nyzT2yo+hRMH80e7wfZlqzkAF/8k6s5DGJikbVdzR7WVQ5Z+s80cag35fxSJ7UeKdM2Nr9JFji9el3Cvum55To00WxlnZNxD6zS9bqPx6piq6r0zZLpRff09AxroXiRv4f7jOUi/fxevBFozTXBeUafGgx6iy6/PS+O3MWBDQp6blHVjW+9vyrvG+Naiy37O+/2bstKj5NZzS8H1kT9OE6D1kc3wzsnnXXz7096/5Ng4PyPxjUYEro/xsdJl7QVQdR9tFwK20GXsMsB5Pqm+PRVQQDq48Gn4ose/oZc8ZderjC7PQQyhMGv/3vjep9t6hvuxrsz72HC+D3e8sqH1fXIbzLu1OlmUYtVwUeZWEdOIygxbss0wZj8PY6iFNW162vSfUSyyfdv8I9xEJPpRkw9/E7Ygc9Vv4MVs7voFjHZ9yIKNDP++ozbKhAKMrIVDSfgdmbILiNGQTp7nhVN7D0Tjk0Y3+GsavoFAjU9PV5sYqHcAis0bWio2iRnc86jOf9LlyyXlTp57OkOwt2g32GKiNr8YyXBqbpGxUcUfXZd93pgGCRUyFhep05Kobw2RiS3fuxsZjYfShmtghquAUnRmL1KMimueF61LuZfNNj4/L/pzobzY/9EeW0Q5M2S56vX4/S+7AsJ/C37eUFNiTxIpZp/5eC25LuqDyMriKPBp/kyLngVmHsjFwk7JB4ErhtzNjwQTJT2Tgw+n09ljMRzo2a94ZETiFxzXqfJXNtsbnzH/ZntrTEXoiyd/jZm+b0XuM1Lmhp+Qi7V9tnDbFrJqK599Dj5P76Vg3HP9oqv1I5qbuJNKInJttM5b4p7D4VlJ9cx6i8bM4ecpW23vGsq6y71rFWALyfXG2yBFxtDlnQB0vg/L7pJmyEH4bLmyXwvtvZBaS0yyY8UEtX073/pHLA1OuA9nUq5CXqr7IsfBLqFfFsm1Z5/Odzo88MfefAm3Y2nuo3An1EvUnna/ZfYR/TnxlJsGGv4mFRY57qh+ZU9ORHBTuy6Nk3LEZjwTKevR0M5Id96ROxYc59dKvzL2cesSxM3n0e0SdZ7K7e51yW3mqHA9p8KFI2XtFKu+16X9/rlFlW37P0sZOVT8yLiqa88TnVPXjySN5m61scpT0+V65x00a2Pa5yIbDvZLaPS7nygvrgmqSHfLFHKcp69r7Za6oGvUm/jeirr4ue79AlXf6segkfrKSlacFpFwP5Y2vRWqqV40H6axTQR4Bd3lU+a7i531tg0p7Ler//2bbZMgqubojTz1MbeKeNrWdwumqqWSVblBO7Zz7dapw2vL4p+SlGDzOzGnXXhRUXWXvl6gaPF56OaDmY10Pcl2uQLufog4+xf28S+uyXr9fpfKrLv2/J/nLUv655M+WZ//a1HXJJWqzf+bu+Xkq/ocbpf5FoTq+acOP+eHTIADIo8YsiNhO/jE/Xd/vJe0i1U+MlF0OYHscVMQ+ag8E++ijDdrYrodEoI+uB3lK5F7gN1NfUsc62o7yThflM9oXuE6GEqgs103qhv1Z3oorZVrflqcheIQtduX8mP4x+lz198U8qVFzz3/sV56qWI/aNtFvGdPvHvn3siNPJkbso16o50xnZZSfcT44D6q8Oi7UtL/5Hb/lE3SCyh/zep8Yp7+1wT7MNjLFwIR4x+H9aFF5S+dvn9vffS7nmVkejwZHRfY9vUH9UYFqkZkjf9N2woZjFjmyZy370ngKKop6IaJ+gkjZuzj1BWbaPm6wzSTFP+1HId+aVd9sv0IQK2P24UHRy3XKbnF97pVjbwv38e27Lm1OfFEek363O42Brvh62bfNxP91OzX9gT+yqb0rsyy2MgjfRXByjNvjfMqfOZjRWanNs5GnEhWS9mP2YXlDOpe3vB31B87bG/9PZPh9Fdv/h4iTcD1NWb4tC2Pud1Ucm5RfXpMQnCMzlbq9h+4frxeJC2XVBs3z5vQRIR+K94WJNvwNLD+Tk4Qa+YVnP5ZFHvUz3x2R+M6RWajH5MLpLIM8Aj1rD8giqHLZHltMwY3YJIYxegjstUj2LqU8KfMh5y5rxxuqS/K81DZT9l4ku0EeF7XhLHSakzxz/m8MSTuw55y6uY7fTjDsc32/TWARf7Sg2vqscsqyzLLpc95urdw2bqrNLIBvP3s51W/zXMi0r+R/5vkijHTnr+8bvA079Ei9DXWfFP7M4rQ861UAc/wtFLO5PLda/5E2nDZUzK+Xa/YR82x4i9y4yJHpsNAUKfgLMBwYAAD+Fk5rlLUtO8kboueJnJQM3lapu+SrAFaH6/URf9KGNyty5KVBKdabwV0DIgcA8BeilgBL4X1R8mLDnfx0b8zCuNQ/LKs3w/dPGrS7xJOTq8eifcTdseHNL1eBv4txj+rPSlSQNfCHRSo9b/+RdVMAAFgG+ZMjdf2nJNSfV4i9o2dRXOrty16adSrI/qTfubx4F1mqj7g7NoTIAQAAAMBKApEDAAAAgJUEIgcAAAAAKwlEDgAAAABWEogcAAAAAKwkEDkAAAAAWEkgcgAAAACwkkDkAAAAAGAlgcgBAAAAwEoCkQMAAACAlWQxkXPl0ehbh1p7ZWqe6WNgOf60LS9HNPgir0OvUnfOnyPxfnSoedRL/2puLtt42KfOcZXKR319cDG88ZCcj3WqvO7Snf6LWgvU48J2DFD2dKh9WKHqJ7s17rq9xk6TyltZyshr3t/+gb9vl8KGNv46u44dah22aRD7q+MeDf+pUfF+hjJrG1TpREqzovaxkmijBVig3U9Y0sbgeiwmci4G1D6qUCGTodqpPnZTXAyp32lR/bBFnW+j2/1z9HeB27RlCtxvbWq+KHBwLFE03oUZU2eHA2MmS/W0jdkbUY8FTulBhrKHy4gcDiBfW1Td2aTMk/bNBU/2MefEsX6Gy/6F3NT1uIQdAwx72v9A3i3ZK4oK7A51TmN/83km3lmdCm8GfP2YnOM6tZw/EODn2tDG7dnV/RH3wf7PxaSfza79QxE8XMZ/wrkd/1NiYePyjQfUOWpS50fkXnfMPibeeX9h28wiyUYLsUz8XsrGKXGN/vN0SO6//e9tGSyxXNWn2g13zN5pjXJrNepduOSe96iay9D6a4eb0Kpz87ZcCLZ7JlPjXBict6m8FxmVjQfkLNxwrv+XzccfSzcbPFV5RWhEP5vU+K7PmYfnUP1RM/IH6lLW41J2DJhvzxu3V8CVS/2jEuW2d6nFAmexAYhL3ed/wsc9cv5ToOY3/VWxnE/evF19m0T9cLF8Jdj1ckT9kwGNQ3U0oMaDErUjf7Ry9LFM1c/mPe+KfQwuHardtCiw2mgO12n3Ia4fF2P8bFNpLU/NM+4/fw2p8zpH2Z02/rCo5g6InCG1HnIj3+tNRY0jndG8GYZV4O6JHPdThTIHyy0xhbmDIscGB69qsUWp5ya+N2gzlqffUY9/SORcjai9k6XcgbOkOBPbxDvY28fWsd+VTlzyERlcLMwCdv3FnWB0MGMVSXfFPgFj6rwqU4n7hxsVBctwY+3++nExyui4QJlck3tSjdej6jIzxivK8iLHcWnQqVFZ/vz60wY5urGNPtepfhh8WtR3w8dap3wgwvi7QwOzzoctyi8YGMcnTao81n9qX/Y9mOutV2Pqf9R5fVyhZnS6XE33VpN/lynewwoVVVlr1PkeLoP306Hmiyb1uROY5ONxlbo/9QkTPBp26v7vks6P3uxG4o3IOeL8iLP+knsUuXxlqn3xu2TzXu3J9DPf41NT2brWCdzeo8E/vv0b+lpFSOTwaP24TruPspTZrvj1ddzno/zLsMf35rpU5zGcrz7bq3nmTfOgymPOvZmNeURdXf/TdM1jvp9ECYLnaFL2IlU/DnRnu1yaUSRAlGUafy6+XWtPc5ThzrOq7tHV4mga7HxbhespIGbHK78N1WV93u1TS657yqNFbcax06LqU6lf8cn+3OA4016S/sQ2/PnMeQsdC8pi4lH/kMsraS4hcLyfPWrtlymX2aTSa/8+3XP9Y7TNnUzL5Z7KtDuf/86ZdCrjr9qnPxj7eXT7aEn7OOe2xLYq7nXpf4Zdalrva/jkL7bnQdmPF8eDaZoWbt6uPLB7yenpb4syy67eTykXf9eGU8vSrwqUzRSoovLD/vf/kfztUmEtQ4UX/vV+XL4r9vEZfdyl+ulwOVEgMVvl349N7bPp9SEbRfIndpz4H39ap//fa7f7MIGNR+H4rfsU8962/Cj7zQMiJ8TSIie/U6f2tzG5F2MavC9Rdq1EHS1Khu9ZWW7UyDFahufUqPRuojVn4nbK7FANGqQMrN5JlbJGIHZeG8JBjUTXqfRBOwc7f/NJlqpfdeauOOA8Mn/vUoUdZPL7JZc3l1OiTqGvFycVxp+rlN/a4CCSp9LzCtU+9sg56VGDR7/S8I2m5XcYuSr1zl22GwuFozKtJ4mccZeq3EA3OBDldypUOWhT78RhsSUBq0S7e2UWcx11r9bzTd9e+lLPHVP3ZSY0I+NxvlvFSLCIzOR4Fy712HaZ1z3OH+fRZXH0rkD53Pr0PCNf2Rx3Tqcjde6ws8tBt0CtSRVHRixi5+0Mbeyby5AeOfslav7QXyOo4PmAg/Nbh0aSH72UmTvUHd0SaYbwpG6rIT+dheeyKHlfpEyxRQPJz0Vwod8mSs8qVH4jdcL1dCD7nSrU1W4TsyPXVvNRnnL32N77De6I6vzJ0/pWg/qcrOyhkDbV0m1syGIozzafFezn2uuSv0saga8L0j6esk/adN5Fh8rcFsQ/vZ8DLteARiltpfA4D99bVMwUqcVBXPxELXVF2yQLnu7eJuXYX/18yvJYPtx++JjyzcCnDT8svWlQbb9JjcfrtP6sQ+Ok+2qflPZU3mup9tR7X6HNOcuVN25X8ZeHPCjgttv74pCz6B7EhPJNY5ExQGS7uV+q7HecF8m7nPt/e/xfzjP7bPWLf4ybOnNX7MPwQLf8ViJaJI6kYsRxYZNjtnbWc7aV9iWbjTwWOg0zvzxc6u0VqMbCW+x6nXYfxy/PJg8kGyd+7Bxx/eQyORYlfrreV+7PJH/mIPmnbCPguJzCT0bHHDuwXDXhhparxKm44pRTMuxUBR0cfbjjeV2hzoX+OgvVcbGoOA0caT79Aw5+L6fLXbJRLdhIqgTTw9Z0Ko9RjXKHgyH/W031cWCc+qTLAZdHhO/9KwZvWECEfmdYHGTXdqeOrKaDOeAEo1RBLbkZU8Sqw+BgEdojYLOlid8gisdGcFAqnYPTif4uyFQqNwpzeU/ZJLTsZAkWluWq+HVM7Dxb4HGp84yFz2QvVfwcZes1TidofLJU9DxiWwNVTyGhyJeIoDWCyKJpmohvbMrGzQWw5Smox90vhs9qsRwaTSXZ+x77ktk2rmSpJROZYbLZPMx8e0k7jIhvbqulBBtIsM0o8c6Cer9Oted59vs8j67Tt02/bYRnZa2DGHVebiJObWVJ8unsVjM+ILLcNzg/Hxps+baetQn1pu0q8VJmHJsfO9Q+qlLpfpbLUKf+Ik/7WMvH2I5b/C7w2XDsuSP24YFl/VXQSc/3+xjKBvnpQIdF9OCMhaT+arURi6oC+5+IOe+0Trt6EBtwrXYfwlYebZ/nXT9uSQyLDGhEuIT7jih9arLol0FT/lVnscHIinNje3JUAJo4QaTDS93xeJwOB9WIg81DnjLIcZ6yWxWqf+wbG8o8VuScr2D5RX/UkozKq//ES/ITQCy4Hlp+V43EsEGKwOJ3GDVyQsE4ncgJNwjLNZb7/36Rww3xA492JoLSco6eGaie+C1QAqF64iMBa2CJ2n7BNCcoIREVnfOZFezC9Wg5lmRvcz+aoJZrixQaySXY3CSVvb6JIC5MBPms4KnSMwUko2ZpzfX/ecR8U7dJPciY4tsrKJ+tLEk+ndcDkhC2Nmm14e+3awy9uXYySEyDtXyM7fiCIufP2kdmvHdp6vvz7x9H4jrH+Mw6FWVGahiJBwm2832b+5/JjM4UaxmtNrQdM7GXR6Vv1JEaXG8HewVH1NpJubJx5fkzQ/fKk5WVfzu3JHL8zia75i8FSAcfdEKzkN3+RW7o88+0oNaDC2r6OiMVrBqJfmw3WH4xP2p+1ne45ODCIwpOr2hOswrRBpwisMjyQ7pAY2JrEJZrLPf/EyJHNdQ1HpH63yzn+CMWX/xyZ/d69lJRquC5YJoBssE6Owki6blWsEtrbxbtoSUHhd3mJuns5c+6FtTsIIv4F8k2UOkZy6AKVYYFHgqI+aZuk/uO/h7g2yson60sqXw6wNYmref/frvaiMbPuVjLx9iOW/zO6p93wT76uuiTZ8EnnN8Z6P1uZbVEnKW8KVySbCfLWnyPybKpgbWMVhvajpnY7anSN+tIrYZoUciDnoo5mz8X/x4LieYV5oZEjj86y5oBSE+5Vz6NqPtyfscz+rRLuzwiS9E/xZA108matjdUT4MEU3/qnQiR5SqT/gH/Hl2OmqAf9YwGZDXSzk/3n6QJLKrjiq7VLtMgLNdY7v8nRM7gLY8+ginXhHP8ER3b4bxLu3NeE2ANLMr2EVsvkKZC7+VJt+E4zLWCXVp7jztcn9F9EAn2NEhrr8ly0fcGlWYFT85vlvMbmn1UZahSL21Dtfim8pNiZONtsAyr98LZynKnRM7SdvU3sLe/hQ3o7HPZJm0nBUkddZpYpLD57F2wT5T5949x5ZFrLP25JzW1SXvSnmw2kpjwjH39O/+2Ft8uca12H8JenuH7yB409gRZDRGhMnhbCm+FCCEPszSp893Mr54tjcaVfylLi5yQk8pz+no900QFs+3CjLVpHxE4hedNtdHNfDmW88Nv8oO3OcrIewASNpP2D8IdgiybTJbKuEHlWMmHNr25DjUOe35AUb9vUuUf4/fzDtWO/TzLhunNNQ7qRqORac2sOd0+I7BMOggRfTkeybAtJu6o7LZog7A0Isv9fds3aSj3V1OYdSrcj6QVzSOjOpKoqIsFST9fm3zeZCMcd8yVtSyL2iBM++fEZsH0Gn9he/50vgosDzh/k8jvcWewSdlYZ5A+TcGcZQwjopZF773dxA2RKk/RDjqok5DZLPVk6WysIkfnI/uCfSywb4r3haS2l9o3sMn22p29T075rLEJn5Fp9EnbuuB01jK0/kq3JRvKNyOCTfm9uUmdcyqbLXN1telaUK8ykHanE5anhCqcl8VEjn3JL+yTM9LQ3Kxd/ZnHUIem6taw87J2FRJjUcIAK+Szd8E+USz3n2cfsYF57yu2r7FUFrdReIlsxOXJSnmMmH+tdh/CL08odur6n8ZOH9UGHhSo8GrWVg9fDIUEstrovcl50P6k+8DwXqt/D4uJHLevloTWZQ/E26b/+Kc84XAvT7ufop0Zo6bcLA0xhF/ptqnJIKANj1jk8PckxxHRkXtc9ffc7Feo8KhGPaNNiIiSJ1My93Kc3xyf2wy90jv4PXufy7O1QRvPWjQ0f++wCNuuUE3Sf1Wk3HPj9/MuVXdkt36WNnaq+pG/JlW2/WnSjZ3G9FHmn13a3crSes63W/moTfWH3Fgl7dijgSPq7pX8p5jul6iqH7307e9f0zx1/Xs9Ct9f8atDZXlyR+x4r0BVrh+HO9QgrdHnmpHH6XXu511aZ0FZ2a9S+VWX/vuZ/6umfNepII/Jq7LoYLhfp8qW9oG1dSoeaQEnj2XqvMu9K+/8R9ED1Gbh6DJIhBHfVzZkZp7UqLknj2byfTgf65G6C0iTpo8/bW7fcMzi4iXfM9pJmHxvsq/IWj/b7ynbYzytE9kTJnViqycpT9iOLvXfsa9KHbFfygsYQx5wOaDm43XfJ7nsxb02NV/q+tOP9pssZi/d0UY7IRviszxQkY3Hda7TvOn73GntSh3HRrg+7qm8DVd8k+2QkxfPTUvonjWpmCv6j+Tul7l9hdusPPnWUH+ugNNf26AS+9ZQOpqJP5ntI+5jItCa0tY4LtReyKv3h5PzM/f4viovljYW4VbsOu5RbYvzrPYIVqnIdbzbMe69pF1tsSDUzh9p//TPZl9n/2Kfre2VOX7/9+7YJ4RF5MyxD7nydJf2WbZxdYfj2bG/ShCz0f9Tx+/Ar6TtygZ7ac9mW1uy3YeZ2rN00KSqPD7O9srdM2Knid6AHBU/MVS/MsOffjTVntV/68zOEjM5zGXwKKg8imgsFcUYUpMFQ7xpLMiVNMg5Yknnxd9rYyH43dJBKq77+wLIo9pBOl5Sfm+CaP14Ke8lj53OzJcReAK7LFIMbnTlNNPVknZg73l5SpvmPKRzfBgd9UaQR3gnj5HeLrIUOyl30O6SWMBe3pd0++QCTJ8NIcF/oU4rjEo3KZ/L+m9A9PpluSW7qrpNyt817ZoWZf8FzRrjFv0ukRT2mWnfZbipds/pBHmabX9Zdkq3x1CYVV4ZvP5b9+gsJ3LS8q1B1XkqNA0ynfcy+jQG+HNYRlcLMHjLI6jU09XpuLE0f7Zp1/J0xWrhUmevkfo9VLMYfdidvN8DwK6zgX0W4qJD1RsRJh45B7v/2qetblzkuKd1KssbHE8darxs+XtCrsMveZNpY7F3SIBbZlGR41L/sKyWXPonDbXB/PrcfJrygrXKi85qvkTrakidF0Uqv3Fo0NkN7bNZCnl65bgS3sv2bwR2nQ3ssxjDDlUel6lxMqDOy/Be0KW4GlPvgNNb5N1WK8bNi5yv/ptZ17d5ZB3a9LcMHg0d87034I8z7lH9WYkKsvb+sEil5+0U+2Bc6u3LOvc6FWTvyY3U502nOabByQr/9V55euTx+mR/y7VD3q8BOdH3j/wbgV1nA/ssxrBFxXv+fqBm5Am8ZfCGDvX/pTM4Abe7XAUAAAAA8IeAyAEAAADASgKRAwAAAICVBCIHAAAAACsJRA4AAAAAVhKIHAAAAACsJBA5AAAAAFhJIHIAAAAAsJJA5AAAAABgJflXiBxvPCTnY50qr7vp//7V5YgGnRZV5S/O6kN/BVcejYcOtQ8rVP2Ev/ZlJY2NlrTjUr52l+Byj771VsJ//vq6AABcm3+ByOGg/ZXFys5m8p/mt+B+a6s/m5/J1G5W5ASdyFGdmh8dGi7wRyX7R/6f5k/+sCDzRtQ7rlLpwfJ/QHPlSWOjpey4nK/dKS4G7JsVKmS43P/8zf6zAnUBALg2KylyRh/LVP0cDmvjj6XFg91p7WZFztWI2jtZKh0Pyb0Y0+B9ibJrRWql+tuS/h/FrDn66682laQjCjrgK4dqmRK11d8pud5fCf93kMZGKc45b1N5LzxTsJSvzcUj5z8Fan7TX9PiOVR/1Ezx98VM+uxL7Gun+uuC2Nrf7+DG2j0AYGVYQZHjUvd5PEDfBZHjfa1yenlD1LDoKWYoe5jmDtLhFqkd/NHTqMhRaUHkpOdmRI77qUKZg3D93U7HOqDGg6B+F+B7gzYXzst1RI69/d0+N9juAQArw+IiR/7UfadGZbU8Uqbax8hfCb8cUe+oQkX5/WmNOj/8v6Q6+lyn+mHwaVHfdal/PD3WPVen0fisTbWnknaRKkdOKG3vp0PNF03q87HxSZMqj/m8x8ZfO7/oU+twlwprGSq88NNtnfp/sXYS7K7G1P/o57/4okWDWX/KXoscxx1Q56CsloTKb4I8jag7KQ9/jvscZs1jUkaVyhS2Tf90ZPwlXo96e5lYJ5mExzbzAntokVP5NL3J9Hejc/7Vp7bKO9vzOP5XgL3zHtu06JftoEND0x7eiByuy+YZ//uX2F7OK1L108j/PYJ72pragz9Sp6Fjn/V1Ys9Dw0e+B2XwaPipqc6tdQIl6NHgH//6xhf7fRVmmo85z068Wxs7sscq+J3tYhEwac7x8f1391GWMtsVv3zKBxbwNeP3pDwL3rBLzf0y5TKbVHo9ta1iji1rT3OUYXFUlfwddtlDGb6vc1ydtmG2ddgvLCJnUv9Slib1zi1/IXlG+wvdU8p6YqkfadNPS1TZKau2P5Q9UQcVav3QJyTZ6ybafULcUuh20JJ2wO1F4lMxMnsHALibLCxyRscF2tx3/KB4NaLWZPaAueTgmMtRzdGB7VeXqg8K/swFi6PuHncI/6tB/SDAXHnUf1ukuuMHlBEHpPWdNo2koxYx9a5E2b2eutf4c5XyWxuUzeSp9LzC4qpHzkmPGjucZjBS4/Tcix5VOUBXv7j8b/7oWKWC3UMOoE+r1PrikPOlRZUHGdp8O2MiX4kcvt9/2jT4xWn9GlCL75fd6ej7Dam1naGNwB4Kj5z9EjWDwDyLKxmdZ6jcCTqmBdAixz5i9kVOfqdC5b0W9U4c6r2v0CZ3ko3v+hTG4/LlciLi/O9i483tFg3F/mOuOw74G9xxSDqVg7afzluuk8myWByZrVK/B8JT+ClLOj1yJd2oj3An3XySZSHhCxjPHVP3ZVj4eXxOqzhjRkXsmDN+/9GkQqZMHWO/0/gfWRosUevbWC0VDlmo57lsZpppzjHx2L96rzmvr7ls4mva2VL5mlq6XKfSh6nwEztUv049aYLHaX9vUTFTpBaLGLmXErNzbclt6H2RMkXu1CV/F5K2zHiwDwf2dbm9rLFfhJbBIiLHc/gco05PqnZhntT+omVlwdHd26QcpxGUVmbEsuyLQWwYvitwrKhSh31O7VubZa/rtvtZcctoB6U3DartN6nxeJ3Wn+kYAAC40ywocnTn+W66iWT8vU8jHVAGbzYpo0VJQP/AWI753lCj0WlAZZHwpOHvF7joUDm0lMOojrxEnSCaqO8c6INRrOBEl5QiAVrjB7um34FrBm85v4FgsWFbrjpvcQc6FQsi+jJrfE6QrnQIzztqRD8PEQQTUbcoaUSOUU/+cgcH6mAzqRZY4U5VbJeluoxYFX46xWPdsQhq70/SfRnVIYaFwei4NKlz5SPcQYTsw3bOru1SVx8Unwl3osbMlA3pqB9WqDMRXhEfsIrJSJppzrEQzytflcLX3E6Zz2FBqb8L6rokf9RtwRSXaWyp0gwt13Cbe1ykxllQ77YyRuyn2sEu9YLBicxI/gjd1SDe/lRZH3A7N/1clSc3GQyIHUPCQ5bZjLY3317Lt/u5cUvbKLvVDJcBAHDnWXgmR412OZisP5aR0dAfnSs4eD7kQLVT9afu1adGZR5hTzsBlzrPOFgE3zmQlXQH6u9XKVBlci1/XhXCswaWQB8XIjOCXSjY24+FsIkcnf6kU1DijEeUJ36I9HiUW0kzM/OTy7LFaUenzdOSQuSEO67IsWGL8sbyh/qoJREzzRQdoAXVaWy3/KUR/v/WTtDB+T4S24MUKcvCIsfAlSWOtxUum5FHVVZjP5PCZo8551hIFDkzfU0vUwbLXPqjlr6S/DHm++lsOcvHvZ8D6hxXqXhvTh17fapLO17Lc/tsU99sfzGi/qHLGhNv4XbUPzRmlwQZvKzV+Swhjb3sfjm/LtLELd8P8u9NiQUA+BtYfE8O437vqLX+dQ4q2S0ORKqj5kDII/ji+4E/XWx+jI5cREB2rUqyQjXgzigI2iKeMpkq9aLX8ie8D+WOiRwOwM5rDtCvZcmKg/Frv2wzkenxxzzaDnWoCxJ0ZsHTViFsnXPk2FmdBeR0+cNqb2s6dvuGULNdBX/GjcVDZTITpH0kWHIIuAGRM3YaVBbhLXueriJ5VGWN+I3VHnPOsbCcyBlTZ4evC5a5zE+wzhIl5vvpbGnLi/ejTdXHZWqoQUrKOpY9NfJo+X0WFpl1Kv8Tue+E6LW6rPtRR/XPm9xXRP89vVR47lBt27xHGnvZ/XJ+XaSJW/P9AABwN1lY5HhqXV9zwcGIRzz+NLMORJFp3xh6WaDS6VHjlTHVrjqZyHJVlLsgcjxZ+8+G0/8mU+sV6p53aVeJnRlccvmf16h33XipOzN74LUF5cixcUddb90DMiFlBxjDn7ETvxi85Y5rsrzoPwET6/DULMq07hcWOWoZ1FhOieZRlTW8H8lujznnWFhO5PB1hywWIssvM4n5fjpbxvJy0aXKWt7YM5aijmVPUOAmVx4NP8hsLvu7dcIy7h9qeajY1jN7GtWODP/zBtTcb5Fz6pBz0o+9P2q+vZZt92ni1nw/AADcTZbYkxMObs5+hgp6pK42D2aMDXzCOY8aj8OhSe1jebBJNbOD1ZtHs+YelSuXnDd16gXJzRA5zmT2QQe7SOxXgS0SaG0BMIRK2+ykOe8c4DO5yP4Cvd+lsD3de2JFBM6jItVY4DknEsyDT7CvyaXeq3XKrJWM/SUJpBA54VF+NFD7G1AzxsZjYfShagjNGR2gdQZpinq0+kGBCqaQZTynRptrVUOQcL/8vjDdzM2oTnFb76PgTnX0pU6F+8mdjLqXIXLcswbJy+ymedSbbV/wPYJ6u2SBznUWtcfsc+IokRMRGql8TQmz7HQjreA61Djshew1QdV3eDktjS1jeVF7XQyRc95RG3HDvhKpY24Hof0yP9tU1LOxcSz+IbM0MrNnhAG1QT1Xp75OQ2ZyN2e9SmGuvZZv9/PjlqUduD3avSfxKroMBwC4SywocrgT3stR4XnNX7veK1H+OY+uJkHWo8FR0V/Gup+n/Baf+6ob31gr+1hsQfJnl3a3/Onw3MM85XJFan7TJ513qbojT1dlaWOnqh9PblJlm0WBOtbQj2xzZ/VynbJbFartlWn305hGn6tU0tPs8uinBLzJsbUNKuljJpO0OZ+NI//xcXm6a33LvszkCze9iToJJZq4U4x9AuEmeZd8Tjdk2pCXnvlPmmk7Pw3KLoyoy/UiT4Nk7hWpqh7bnh7L3i/pYwyLruZjbb8tTidXYHsFlrBc4/bVW6D9+mVBFzwebENvQDYfcQ8YdXZZEHL9iA+9KlIu5EPML/YP7kCUbe4V1CPrDouJUN5NLvtUF7/husxvFVg88/n74gMl9ci/yoEuq7IX12Vxr03NlzpN/eh3qnMiuJ93aV32quxXqcy+/t8FfG30aVc9vZW5l+P75Sj3uJn8SgMeBDS5jLIXrvaiTE29cXiuLb83+R6SlxpV5E+UXI6o80zqnNsY13mFO/LBhyJl2VfKXN4ht7OaUcfK3j9aVOC26D+Gzuk8Ehsnde3x9qeOnjWpGKSxX+Y8h2czvbO62g8Wahe67gNm2+s67X5W3DLbQYEq77QfuByrJC85FuPyHQBwJ1lqT46avg6tWUfg0bf63TrSm488+uo/7ro88njvsvc38YJEVJlnJPijSWXzKaRlEdsl2fW2uJSymXtxbgLZLDpjf1LgI3N8aJInb35lRus8tLSqUb4VnMTltpU5zTkhxH7LOts8O5hEbRIwLw2L76oyGufL93nlVPa13d9CUvtTxy0/eN94UHHEAkLfY/JG8Oiy2JyyXqvdB2mnvZ7tmsYWAIA/x3IiB8QYvK1Sd4G/Q7XyXHSoai5xAJCEbBRfiz7ZxqjXFSTt/QEAgPlA5CyNS/3DslrS6J80aBePlxINO1SRp3ZOBtR5Gd4rAkAyQ2rmMpPXSSjkZaDvS5Q/nL4wEAAAFgUiZ2lc6u3nKZtZp4Ks7WPaWj3ZI+9ckb0ck71UAKRh3Kf2of6zCrIf6kWd2qfY0gsAuB4QOQAAAABYSSByAAAAALCSQOQAAAAAYCWByAEAAADASgKRAwAAAICVBCIHAAAAACsJRA4AAAAAVhKIHAAAAACsJBA5AAAAAFhJIHIAAAAAsJJA5AAAAABgJVlK5LjfO1R76v+NmVwuT+WDDg1v4o8xXnk0HvZpuORf83b52s5xnerHHRr8XOJvJ3kjGnxpU/OwSe2TIbmL/D2qiyE5J471s1B53CH1Oy2qH7aoc7pgHqJccnlOOtQ/198X5WrM13Me9Ne0uD/iNugvUh82W56Nlv5DjePvC9ZBlCXtaPpjf7iYFW029D8L1Ae3p9G3HrWP6tT8eA0beC6n06eRrQKuXBqecJs5apMzq4y6bfe+Dhb2JwAAWJaFRY53WmNhUyMniFRXA2o8yFDtVH9fBteh+uMcbdzfoPXMMml51D/IUXa/R+4FB+QvVcpl1ql6YonKHGxdmyD72abSWolaP1xyfw2otZOlbLFFw7Qig+2S4bzHP5vU+K7PCZA82DoMlYc8Nc8kD0PqvOYy7bQX/+Ofbp+aOzkqvGoli4tLl7w56Y4+lDj/Nerr7+lwqfs8bofSx/gfW/SsRuAUPlVi12eetGmpP9coNuXrk3wqKQ+KNHZMYPSxRNmHTeqzP46HHarmsmwD469sByT4Y/8gUv7g86BBA33OTK5G1GYfLh2zKLpgsfqe87NWpNYifyz/vE3lrQ3VLrOZErV/6eMB6h7rVHo/oLFqM/xvSxlHnSoVckVqfLmmaAcAgAVZUOT4HVjxgxnI/GPXEjkT+lTjQB5Na/RPgzo/9ZcJLGyOuBORDmLYojxfV/067Yicfe4QdjrxjvEXd3oH0W7bo94en/+QRY0+Ip1jMZOl+pl8Me5lwkG+86aTLEI8h6oslGJhnwWRrdMfHRcok2tO8+D1qLpoHpRQylFtokLt9A8snZaBd9ag3Z2IyLnkTv+ozzmJ8LNDjX+CUo6p/SSNMEo+b8wCIdGfQvea4p02qXkayZnXp8ar0gyRMyOvM+w41x+5xluPMpQ7mioK72uVMmv1+L2s/mjHO6lS8VjKPt8X1P0yeUPUsCApZih7mO5eISSPFpHjdsqU2Tb8+7xFhUyZOpMZI86nDD6WEeoAAHADLChyxtTZ4UC514t3dCZXY3KOq1R+mKf84wo1T9KOwe0iRzq28n0OspOORYInp80BW+VDLavwaNIIpMP3efvoP6FT8c771D83SqUExjQv3mmd8lvcIQYdixrFblDZ0uEGiGgpdyxiI0HkxAiJnBR54E69nstQKSRC7cwUOSxm6q+4Y3JkdsoUAWz3Q7Y7229iKRED97ljm9TNkFov+Vr9LZlkgTF8v2vUdQTpyJ9thGYMZHYxv8UCItTpS14lHcfuU4qEPMyz4zx/tHB9kcPCaXsqIOb6wuWI+qfmEp8W8vpe/SN/udn6edUNtxuryPEHN2HR5M/qVj75Pj/+p0TZBzVyomIMAAB+EwsvV8lSQpY73nzSFL4KtuvTDoIFSHdvk3Jmx5hIgsgRJh2LO7dDkQDceZahzTeWif20ncq3Bm2GRqVGx+LOFzjSUdZyVXJsmUwpckbH3ElERsGz8qBG1mv8m9qL4ZDzjTu5hBF0ssjhzvD1LnWl3GoJLioCpkLHjQkcgcv9sEadkx71vszKQ7LIkfqtdRy+vkcOi9fYXhBD6LhWgcO5ZFGxqzrbGT6VkIdUdlzEHzm/rScJy1Up/VEtE792QvdYyB/1svJEdF+6amnX+oku4VlFDgvBtegypNhTCx99P/X7xZD6J8vvtQMAgGVZauPxqLNLeQ5wskdgfbtK7e/T2QrVQci+AbNTUEEyR80f+nsiszok5rxFRf59tsBhhi0q5Dj4645v/InzG4xStzYoey9njFyblo5WRr32/QWyZLCRmdOhMGIHU2SFRs65dcreN76HRs59avKx3D0u56uOdbOnPQ/BkluJKk8rVDusUWUrS9mJAPDTDe6Zu5elja3p991Pfg5GH3epHiz7WEWO4JHzeoMyG1GBI4yoeygbXTvUPqqyCDLyMO7SrpGHjbV1yhnfm3rGavS5TvWjNnU+NqnKnXd2LT/NU4AIhyKX1yJwZHZpd+IjEZ+am4d5djSY549nTU4zR+sZtm9nOquyuD+KaN+kxjf91SCtP4roW1922ShB5IhdbSJHzRapJWQWos/KVN7j+twrsh3W5+YTAABukqVEjkKeqvjSUJ1YhgVMTXVCuoOI7YWxBUQbM0QO38+REfOramSpIMIlp7EV+d0zRqnfuWN67W9Q9j/x7kk2jYaWZAKCJYE97qTMpYIoahQb6ZTMkfOXKhXfD6bfbZtfZRZBNlDfYyFhdi6JedCjaHNW4GpIre3p3hAvuB9/eq+L1GJxOsmDZCEkDpgkkXPuz+BUX3F92OxkculQjUf0m29Z8HGZJve7GLBIqVJv8j1pIzQLqv3N2IZb15EZnF2qRpaulH1emYIk4lNz8zDfjoq0/ih4I7Y3i51nul0s6I9qVjE6cBDS+qPMuM36fR7LiBzlO+FrRGhl13apa1nBBQCA22B5kROgAi0LHSVs/D07mX1H/xhwTZETdChBBxwsFUQf6ZW8PCuyuJjR7c5ZHpBlgeLLbnzEG3QoeiQaLBXY9veqJT1zQ2YUvsd8Wwh+p6EEgjAzD5FzNeopHcsGbNtyVeITPfIJ9jdpgePP4ARLV87Mp2ZUurH9UZJfi4CyEekwfYGjhQzbRC1dBcuj6txI3iefaJlteUhhx7T+aKKEguVJuzn+KLM43edZKqgNxwZp/VFE/2MWFhERdv09OSz8HtpFjrKdqodKWNCodKZ7zAAA4LZZUOTIkgcHzHBvpZ6GCTqxwVsedRcjG0/1Jl7z6Sc7NpHjcZqF+JKA6lg4iAZ54aDffbVLrR9z7jGjU/F4xFzZ74U2MPuMuaOZdigBqmPZ5hG2eUs96rduOA6wihyPhp0mdb6biemZMZXf+XnoH7DYjAhM1TlbNorPe7pKoToqQwSMu1SJ7cHxhU6BOzZPyvCpSe2IyFRPuj3vcndtYhc53rBLzY+SloHaAO13mFJHhejSkRY6Fb3kFiZBOCvseZhtxxT+eDmkzlEn7BeRjewT5okcWXqN7A1L7Y+XA2o8r1HPZpZr78mRJcuIna5kk3fWf3WDuqZIoRkudcx84gsAAG6XhUWOBLHQSIxHtb29LOWCka9MjWcKoUCmpqlz3DGp2OmPTDP3dqkX0wFJMzn6v1GC4yJwXhao8k42qgYvTfM/sc2OsifjKN6pqM7zcY06X8PXT15CNy8PGtkjkV1L2HAccNac7IGZ4m+WDomBS+4Y1zbZHjqxeXn43qAc37sXCAC1bKY7nQj9o7hYjREVOcLMPOiOz5y1UctVnIeYwOWO+lV8/4myX6hD9ZerQk/02fIgx6x5my1ybHmYa8eZNmAuWPDwPYOnjATVBh6wLWNmsPujj2/PbGTDsWJeHkTgPCpSrRNtEwkv9ZuFVeQwYiejTKrucsGymp6Bej8NBNFHzofv8lzXOY4ni2YIAADSsaDI4U5hr0Ab90tUPaxTXTZlbueo+MYJzX643IkXc0X/nP0yFbbN0SQHv5fcEZpB87xLtRdFtSFXLSvIRszHFap9Do9UE1FBmK+zfOydW5zEpRrbY+iJyGO+GftTXWn4yR3eFos1ZdsqFe/7G1YXYfRpl+0tG2brVN3JU+V4GO8g02ITOfMY96h2nTJcjam3n6fCC7mey/B4w9+AndSpz2WWyEnmunaU6/OPKqoMsul2Y2uXOou+eVq9d8a+4Xguqu4s/mwTKwm4py2qypvN1b67jL9Z/mmVWqdT8Tb6p0K5x7tcTrZXdJaPhVbzMccH2Xi8X6HCo/Cs0vAox+lmafdzbLQDAAA3wnJ7cozNm7Pemqs2ulo31XLwexhZrwcTPHe+bWei62fp62+Aa5ch2Jz7Jwf517Vj0E7+aCF+A3PspHwhwQYz3zgNAADX5Pobj5ch+hQPAAAAAMAN89tFjjwyW3lxneUHAAAAAID5/GaRo/+qNQQOAAAAAG6ZP7NcBQAAAABwy0DkAAAAAGAlgcgBAAAAwEoCkQMAAACAlQQiBwAAAAArCUQOAAAAAFYSiBwAAAAArCQQOQAAAABYSSByAAAAALCSQOQAAAAAYCWByAEAAADASgKRAwAAAICVBCIHAAAAACsJRA4AAAAAVhKIHAAAAACsJBA5AAAAAFhJIHIAAAAAsJJA5AAAAABgJYHIAQAAAMBKApEDAAAAgJUEIgcAAAAAKwlEDgAAAABWEogcAAAAAKwkEDkAAAAAWEkgcgAAAACwkkDkAAAAAGAlgcgBAAAAwEoCkQMAAACAlQQiBwAAAAArCUQOAAAAAFYSiBwAAAAArCQQOQAAAABYSSByAAAAALCSQOQAAAAAYCW5WZEz7lL1sE+e/rocHg3/qVHxfoYyaxtU6Yz18QSuPBp961Brr0zNM33sRonnx/vRoeZRj0ZX+pRbwhsPqd9pUfVpk/r62F/P2KHmszxlMxla325Qf46ziA2cj3WqvO7SHE8AfxNXY3KO69T+NsMBbr1tryCXIxrMixlpzrkLcP2Phw61DytU/fR3tv6VjOF/GcuJnAu/4uqHLep8G5FndPbD90UqfRzpbzb61HyYp7zx2TUcePxPiYWES+QOqHPUpM6POb3gxYDaRxUqcKdZO9XHbpB4fv6HOjsseDJZqt9q4OUA/5Ubx84mi6v6ajQQr0/1Rw0asL+MT9h/jh0azxSKhg2etG9Q5Ex9sPgmIsrPmjHfHH/aDR2TT3mvzvnv0OCXvk6IXJt/uEtdM9Pcsfc/1qj8MEe5nH9O8UWdOt/Zv/5tnNWV0M3sdJLrdYm2baur8CdSJ7eJO6Qe57+4xfW95d//tuvb/dam5osCx6daYsxIc06U8XeHhhf6y+/CG1HvuEqlBxnuU35Xpd0kKxjD/0IWFjneaY1yazXqXbjknveomuMR+Wtn2lFwR1bLlahjBn8Low9FbmRFav/UBxQDajwoUXvmtR45/ylQ85v+quB73orIScjPeEDO6ZDc687keA53+k2+SzLjj6XFO/jzNnfCkZmPFPe6bdxPFcoczGnqlrwvZYMUOPsiVjep5kSENI8ge6+L1DrX34UrR/nYJP8yy/ClSrlMjv3OvH5E7SKfV2zzvwzGflvJvezQ0Dh99GHZstnawfUYfSxT9fNNWzkJtt+pExaJVh9drG33DzJU/BBY3r926nN+3dzGYCiK961BhbUsld4PQnFidHw7vhyCY/RcAZPmnICfbSrNqwNbzFmCuA+Oqf3kFkTOkvFwmTZyW/ELpGNBkTOk1kMOGnu9qahxpLGwqDFqcHRcoE0OLJGuI4Sq+EyVeuZJv6QxzWt4NuFxSyInVX6uwfcGbc5x/mUaiFVMpLjXbSMd0LxgZcv7bQWJ/sEm5XJZHmXFRXn/wO5j0w5UYDG0x+0hNBvhB+VQG7nizpWPZXdY+ESFscxoLFW2NAOCRXCp+/z3CIBErD66uMipOfqLvtb0JxG2t17GSxa0ayxobTHwd7TDmxQ5PGhtvCrNFTmpBjBzsfngLYmcpephuTYCkfNnWXgmR6YtB2ZtDVuUZ5ETCrYiDtaqFB0gm/giZ9rI1BTqqwJlMwWqHNbVUlg/MqvrDbvU3C/z6HmTSq/lnDp11Wh7GgjdYY+aL4qUf1im2pf4spl3Hvyep/IBj6ov9Q8RZuXHvwd/979yJ+bSoFOjuiy7uX1qSfpPeZQg5ZdlroOyP1X+tEbtMzGeR8NPTao9zVGGO6qqSr8bHvlrrA1ksuzBaT6uUNMJfnWpf1yn3UfccW9XlH3qx/+H/jvjXjPt4Y3IOapQS5bl+Lza0zwVk0Zrao9FdZqnE+MsNe3M+c1laHOn6ufrc7S0trz3+ahhA6PcRbb/IFp3l3wfWR7Qtp631KmEzA+Hag/iAiRJ5ESDrZoNCtWPFjlGwPdOquxHWXtwvPLIdRPyqf1K2VT8+WNfLe8ltwO++4ms/8v5C9TnBfvs4S4VuGMuvPDTa536zj4+aVLlsaRXpIrsQ4u1lxF1lU/pj9TreXf6XbUbv27979r3OC9Sl6rNzGwP6du24tI1ls/9azffGuP10O9h3O8dqhttYRCJP+63DtX+w/bieukfi5+Vqfk9XncyyJOBn1WAzqrvBGbWqXA5pM6h7/fq9y8WAZPmnBge9dkv2j/9WUx7557cbtWvc2w6IdEHDZHzq09tFUvZF48HMQGZLrbPjr2J+Z3RRlSM17YNx2MfiJw/y7U3HrudMjuLv89iSp/qa5vU+K6/WoiKHAk+7pcqH6v6S2H8iQUjj49/b1ExU6TWd/Mc3QE9q1D5TYecE4eFhQSaCnWNRqWW2nI1cvSx8ecqbW63aGgLegn5GbwrUD63buR9QM1Hecrd445tv8HCqM6fPK1vyabaEbW2jeWQc867dnaPA//gfZEyRe6sVfr2wBdrIDIrsLNOpWBGgRtY80mWql/96z1Oq/ea8/K6p/IsATXpXjPtIZvIudFucKMuvWlQbb9JjcfrtP7MsocimicWI929zelIVgL7xYBaxQwVZfpe8mAJQLa8C8oGD0tUeVql1heHnC8tqrAwCXde7AO5HNtaF+YX5/9BgVpD/6uNQMgoO4j/GLM0qUSOTOPLksQ/pkXiIqd/yB1AdNYyBWpGdF8vBbONW0Wdp4R2IKPp7Br7pdQfd8S9vSxtvtE2mlWfqn56VOXyVb/46YnplThj3wvEn8N1Y+3oLh2qc30U3nHHo8/1nDptcEffCtbmuC20n5a5w+TvZl60PZPbQ7q2bcdSZwlE24L7vcl1y/bWy+lmu28c7VKdP/l7eWqcBfkMGPt79h5yO9JHrsPMOhVkn5ssg3KbGYndzvvUfGbGJybNORa8r1Xa/SQG8e1oFzl8Hqdpa7fzbBoiwQeD9pTf4frfa1GP67/3vkKbLPDN/mWR2J42Hobym5S/qwE12LYTH/vRpEKmTB1j/xJEzp/leiLnasideHRPguA7ZkU1EDsxkSOwk81reP4Skr0D2v1i5MPtUsXcHCzOyIE4EAM+ct2MDcRJ+bEcl2nyzL1d6pqb81Re89T8ob9z5z84G01GIGmcP3qOEpWRAKrOMZZMVF4iU8exe6Wyh1+P2a1mRMSGsQpdVfbctOw6rXkdTmLeHzZDAWvwdjNU5sEb/m4uETGSVvYw2ZtMITN4yyM7zm9dd1pJIsefiapR5XGO1rer1D6NlicqcjwlDub6dQwd3N9Na3r8vU+joICWdiCb/otvp0skcf+aVZ/xjkzVxcupTT3uHJM2nyr7G/cavClwh5GhsmzaFzzuIJ53JyP8IC+mP8TzK6Ro24n4184VObotTPKq6R9kKfvSyLNq9+u0+zk5rsnMVmub7RYrx3LMq1Nr24vEpzTnxGABvzt5UjbuG1Fi7TatTUPY7hNvB+xdKu3J4GKJ2J4UD2fn15I/l/36YcVY7o6fY/dr8Lu4hsjx2AHyHEBs08bxABZFVXy0kc1reMIMkRNuHJFjalltOr2vPmrKP3qdQVJ+LMdVI490smKHzo6M4tepKKOQYbgBpXH+8Dl6D0gwLaw/aqrYSCdRKJj3SmUPHWDezxqT2valCL79pz4w3yeEVHlnwsf8vWKTpTD18ZfHommZhISMmo1iO/JIrn8Z+U0RLo83dqjGI/ty7BUHfjnN+6oysb84MWExG3myTz1q/1hmsCIb3a3tQOPpR4Qf82g9ZLdZ9RlvQ95ZXflDdov9TS+VJXLe4hGszs8Vp/W8Q8NPFfbVlloKkFmB8KAn7g/29hDPl/2YjXCdJaLaQrxDVPkx27lq9/Nm5HT9RzeeyzI2+6V60kYtgduXpxOx1qlue/uTTUg+ofiU5pwI0hZe1VU78Jlv71i7TWvTELb72OJG5NgSsT3ma6nyO9sOrjzu/rbC6YTPsfs1+F0sLXJkl3nxbXxd1Md3wt89kxN2vsgx9cjqdHrf/MSWxQKS8mM5buucFcG+CjXVnaW88R6hNM4fPkdPhQfTwuZHTxELqYRCKnvYAkwUnadoENX2n16bJq2UeWfCx2R51FgKMz/WdXmfmJD51aESp5NlsdqbI3IElYdgKWGCX06zDOq8TH7m0lkSskdA9g+s872zW0bHY2sHl0Nq7xWp/KanZlzidptVBwkB/JdD8rixLC1l7pWpY1tqUPgzGJK2LHOpUbXnUHWtoJ5S6x/sRpaX4nmx1bM9Xwl5jeGfF94sbkG3hegyil9vRjtPE58YGf0niaFYmvOYWae67UXjTiifac6JoH7ja6yfaLvwibXbtDYNYatXm89Gji0R22O+liq/dr8bOw0qy0DkVF6nEj8ndi/wW1lK5Iw+7dIujwbtAkeQTmf2dLLV2dMEkWVFzpg7MP4entKcQ1J+LMetIkfWcY1O1j2RvR/TteQ0zh89R+3vmLPen0oopLLHrE5xilo6io5cZXkilH66tJYTOTqQx2bSZhOfrZF+uUabLEazshY/R+QEI8jw3jO/nKEyXHSpwiKhYJtBkUdZH9pfFOaZ+7QuZObI2IcUawfy5AeLaHN5K2a3WXUQb0Oyd2HSSXjc2cpMV2jJKYxaFnnSotZ+TT90IEt1Wdo8bFCNhXm4buJ5sdWzLV/2Yzb882LtMopa/uL0Ijp9+D4fbmtp4pPAfiHv9okufQiqjGnSUMyvUxUPonUSyWeac2Yz396xdpvWpiFs97H5bOTYErE95mup8mvJ3/cGx/Rd6s2Y9bL7NfhdLCxyROAUnjfVBjDZBDj5/DCakArAs6d1/cYe6UhUw5uzoVClHVXc2rFCDhp1Nj9gyHJEsLFMGH1gBW5vccn5sQQIq8iRvJrBRb1rxR/ZCsoGUXEQIXaOalTZ0CZZch1qHPYm91F5icysxO+Vxh6zOkUD9R6N8CZfWZ7I5urGG439tEKbhS2ky7s+ZgQOtUFT3lljFua8TdXjpMqVe8VFjnTM/QPZn2MXOeE69meQwss/fjmjQc3f3BzJnyCPslo7G0kn7HvyJFfhWFsh1g78PQWTDvFqRJ3nUfE5qz7jbUgesTcFnLzbKmu+EyvKRYfKnEbWtNE3KZ+tA4rnxd4e0rTtJGx1ZoPF2P6mmsGb5FLtN4xsKl9AGIy4LCKUW5En/FQZjTTUXrA1Y99eiBR1quJBgRrGm6PVu5fMfKY5Zybz7R1vtyltGsJW176fhGfjor6zeGyP+1qa/Mbzpx6dN0SOe9ZQAtc8J3Yvt0e797idzHoRJrgxFhQ5vnNZpzGNQCIjuuRgKE9Z5Cl/n52SO+uNrSLVT1wafa5RZdtf0tl4VKFm8HhelKsBNbeyap9C7UWZmv/7/6jpdH86X1/n9ifH1reNtC75WlnTVvflPOQKtPspHFIDkvIz+lzVS0/rVHjBI3Ae7fbfVaggT1fdy5G8EMt05irfo7LvrxNXd/JU4U53YpfvTcqvyX4dvpe89jtkMHk0s0olZafgXv4vIjTzavkgR3l5e+7jZuhxavfzLq1z4Kzsc15f6Ue+bfeaaY8RdfdKapkie5/L8G76WKgN96xJxVzRfyRzv0yF7Rr1JjGoTy2dVsxGEaJ5/y/bO7CBPO4s10kdqGNrG1SapOXR4Kjo+8F9LstWjgp8vf1Pb/g+mLvnl7v4HydcNhXcpiLHPalTke0saSubPw0CljxiK53Uhn9MXoimnxpSxx7XQ0HX/c6ia3uDNoK9Q/vsN/c3qBC9v0KepOEyPK/557L98s95RBnUc7QdnHk0+qfs+7y8TVnO/damotT5syq1h/PqkzuKl+uqDdX2yupNz8P3BfYtI6+PjDq1Ivs/WBiZLyhUGzojAx7dPv28lKgavE4g6qPjaTue27YjxOrscYU65ssdo4iAeFWY2Hv3cS7UVt3Tpo4H65R7Wp08sj+L8UmD/XQ9XN9bBRbeg4nth0ciqJMFxOw61eeoeMD5kkeY5bH2D3XKq5hRm+QzzTnJzBc51pgzx6Zxoj7434nPZu5xbFF+Yvqx4TsLxHaFLR7OzW+8jchTnXVuh6q9c93Wvo5YLMk5JSq/+UInthjudmlXypRrzpyRBzfDNTYeJyBBjR1smf0HqVGP883YSzMPeTz8OtcviEz7J95PHgdOeHx8JtoGiXtOpIzGPh1F0r1u0B7yOGnsvotiy3taArtcMwvkeantoep3kftpe6eyuaoz/tjq2dYOonUs3xfIm6o/8/zAntc2aEqWbQ83hbb3TbSFgKD9W214JR1ndMkzQpo6NX1B/j3PX5LOuQ5J7XZBm8Z8cBEWiWVJvjYnv7b8RY+Flppt8D3S2gNcjxsXOTI1F1pKAQAAYOfSodpLLFsAcFvcrMi5kb9CDgAA/wJ+yVunG8aj2gCAm+bml6sAAADMwaOhM+fdQwCAawORAwAAAICVBCIHAAAAACsJRA4AAAAAVhKIHAAAAACsJBA5AAAAAFhJIHIAAAAAsJJA5AAAAABgJYHIAQAAAMBKApEDAAAAgJUEIgcAAAAAKwlEDgAAAABWEogcAAAAAKwkEDkAAAAAWEkgcgAAAACwkkDkAAAAAGAlgcgBAAAAwEoCkQMAAACAlQQiBwAAAAArCUQOAAAAAFYSiBwAAAAArCQQOQAAAABYSSByAAAAALCSQOQAAAAAYCWByAEAAADASgKRAwAAAICVBCIHAAAAACsJRA4AAAAAVhKIHAAAAACsJBA5AAAAAFhJIHIAAAAAsJJA5AAAAABgJYHIAQAAAMBKApEDAAAAgJUEIgcAAAAAKwlEDgAAAABWkpsVOeMuVQ/75OmvS3Pl0XjoUPuwQtVPY33wX0aSDcYOtQ7bNLjU3+fi0bDTpOaXkf4exxsPyflYp8rrLt2YtTn/o28dau2VqXmmj60It2KvJP7NbeFyRINOi6pPm9TXh+4E/7Y6WTjm2Pmt7eY3Mv7u0NDVX1aNqxG1/9Oh5N7j7rOcyHGH1OfgUz9sUed0SO6VPs4M3xep9DHZJONPu5R/mJ/x2aXu/4yod1yl0oMMp/UvC+wBnt0G/cMsZTJ87J+Udhl3qMTnZ9bqCR0Fi5Gv3JHsbFLmSfvmgs/FgNpHFSrwvWun+thKcEv2SiLBD24Mz2Ux2qdR0shk3u+3iPutTc0XBfb32t0SObddJ3eMhWOOld/cbgJm+S/3Y85HHgB+nCNSlKjtU+/rgGKnXQ2okWP/NPrAW21T7Hsi/FXf+21EnnnfRNj2Zw45J5bPGaehz4rjUf+gSPUz44wL32b1ozY5f4myW1zk/GxTaS3Po3OX3F9D6rzOUXanTaPA2F6farkSdX7p7xH6BxkqfghEEJ8rHfBBEMJYNRaDTnFM7Sf/jiCSjMUGPLrtnwxonMq5fWSk0Z/jkOOPpesFH8+h+qMmDfRXH79+V0vk+FzbXgtxC23hvE3lrQ3auL9B2UyJ2tH2Ou/338Vp7dZFzuhjmaqfZ9nWI+c/BWp+018V/6L4tETMSeK3tZt5/iv92L0Stb6Nafytpf7d/ql/Mxh1qlTIFanxJTyYn/C9Qbmg/7rtNqXyXKD6yYjcCxba3PeuP+uksKXvqyJUY5/n3bhw03hfq7S+15uIII/bYi63S222mftrQK2ddcq/uYGVm1tmYZEzOuaRVa5JQ/2dvB5VM1lWe/o7I+dscsXbCi8ip+boLzGRQ+TsQ+RM+X02uHbw4ca+GbseIudmuEU/+MWBc1bAnff7bXPrIsel7vN5Psqj9QdRGyA+LcPvbTeM1X9d6jzLUOF4uuKg+jUWDNMOX2YxIgN4C8P3BaqeRHq6W2lTfp7z7yc976Tvjd0/JaPj4oxrR9Ta3qRGIOxlxupBhqpfjfOHLcpnCtQ619/vKNffk2MROaoS16rk2Ox36RpTbH4nuPnWGP9PfjeCyK8+tQ/KlH9YpMrxIC6eeKTRO6pQUZa7ntao88M4wxuRw7+pfSG/HGq+KKp0qp/sS2ruqUwF1iefLldg6Nhnfd3VmJzjKpXlno85/ZNps52c/86ZNObx16Y6VvswW/mOHdmDoNN0uNyRQOr9FFtwvviQLa+jz9PvrVNuslcuDb80qfI+0k3IOvuetumRQ/0PluAzy64TPBp+alLtaY4y3BFU1b27eg13KnLcYU/bvkw1y/6g8Vmb05DlSj8/iaNGLs+gU6NaRwwwoI7yizyVj6Z+kdr+1rSmPuZ+7+g8lanhhCwzCdYj06c+DmKjPe88KDfn8aBDQ2Nfg/dTrm2pDnz0pca+xGlYZxSCtjCi8QnX5WPxjyq1v/shObXP2ripgGy2B6njzjDk535Zm2pa3yxDNzp6vhxS59D3OWUvtss8kaPSe1qiyk5Z+c5Q9sscVKj1Q5+Q5McXfWod7lJhjTu8F76tVJsx8IZdau6XKZfZpNLrqX2ndcL1NSc+zfKBKO439rn/dNn/XeofS57L1PyuU5zVHq/hy+p8bXM/7oR/N2NOgMonl0XyKfdV9f60Gd+3c904o9Ovy94nl+tL7Cj3iRo5CZv/ul2qRPssGaRlKtTV1T/+p0TZBzVyZu5DGlLrYZV60bws06bGXdqV8id8mmd+LA2JDO2D2UPdOhaxledQNdegQVKcFXs84N/1Vz/PeWoZGiuI79dbxrx9ri1yRsfsDDG126f6GqvA7/prItpI1tGQX4H5nQqV91rUO3Go977CjhhJ95LTyOWo5mjv/NWl6gNWl1IZshGaHWSDg5ikUzlo++m85TzPcEKZplO/mwH4Z5vz0fM7MdmMtbNOpWDZjQN8d29TTVsqf2Kh1j/KhxszH+u9Ds9aRVENa82fQnUvxjRkh81z3gP7jD9XKb9lTHVeeTR4J3sWKtT5pT1Z1o87bDPuED1W381Hecrdi9z3V4dFaJZK7wc0vnBpPOSAtZWN5HeGXSN4Ljeu90XKFFs04PTci6BV6fp9xvl501FrwJ0DP79BMBFGLBjWAx+ShvqO7WBMk04xyvOkTFXuNDuyrvyxyp1QdjoaT2V/e1q9413VoVVecZ61v9jyrEQO26Py1qGRlJk7smouQzlj470/vcuBMgicXH+b2y0aSkdv1GXjLXdORw0q3lunsnRSMfy2sLldoYaaqnZZFEmZc5P18rk+m8QyATmGzIZkKRvY1mVbSPvXo8BpWfNUel6h2sce+0KPGjsRn/M4bogNX/e0TfvUfLY+U+S4nyqUlT0RujMaSnv4X1VVl8MLPjDLj7mtuBcySOPO44v4LX+iTufxse8tKmaK1GJRKeeYg7B58WmWD0SRtpzP+eVtHO1SnT/5e3lqSB3PbI/X8GW1p8SIwT+aVMiUqSO2Y2Ixh5nms8RlZ1HUkf0dbeX/Ex8Qrh1njHLtN6j5qs6fPK1vNagfDw52bP57Vg+VR6HO08JHz1oom1wMqX/S930pynmLCrblnmXalPJF7YOWj8RyydN0q4ePrIz4MW0xW0n8Mmeyoow+cDw3Y7AShuYqjGAI/TvMkiKHgw+LBzFo/lXHsoHKL3zlU6z6I+hOcJbIeWf2qtr5DOU4eLMZrgxGKn6ibnU6RbNCrxx138QpalG5hrgQRMwFQdvtlLmDi6hg5bg5aurRo21aduqQFrQTlzumzSxOFG0gF+x8nNfpdR71OPCYHXL0vspmoanZeH7n2zWMrbxB/e5+MVKJjqIuOlSOjhB0Ga39PaPK89psbf5eLtNOae0fT0tGZxF/sYz8bOl7JyI0tO11fYZHXmIPIx1Vzizlj8I7meLYgolHzmvuMIIgO8dnE7EFXJN5vyvYZo+LfmesSPJbFgrm1LYTnqWxtqs5y1VSf6GZYDUin54/3499H525XGW1QYr4lMYHoqjyrtPuZ7N1pmuPS/myCNKHMkjS3232sJVf5bNKjlFXqmOMxpAbiDOqXPd2qWsTGvNIzHvkmDpPl1stw2zw4KzMIq5O9b0irXOdlP8JiwIpi7WPs/qLwbzfE5ClsYwaBPv39M65H9sOx7RUtlJ+ORWyNqJ14PcrHG9yVer95NpiUTb+1qaK+HsoLt09rjeTwwVVI8p7bLBQhdmCsg2/QdnPs6URPeY34s2d6nRq/rBGZR5RTCvels78wKYaH4+4fLceUWsnCL5S2Zz+TnTDV7gsaTvZCaphFSm8+c2Sd0sDUXkN7sVBbJcDXTRoTO+rA19kRBDObxq7hrGV127n8DGZgchkClSZ3Ic/rwrxkZZB3I5xO6W1f5q0bOWwljcWKKdLHOqjlj2MdNT50SlgG7Y86TxEO3Srz87ghgOy93NAneMqFXkANM9vwwJGt6v90FBxvsg5NGaQBBFOkycJ0/jx/Fhgt4GtTiLH0vhAFC0ewksg6drjsr4c4Moy39sK5zny+9y687HFkJuIM6pcESGUmsS8R46p83S5Lb+rmdI1Fg8TTSN7ZBKEgtVfDOb9noTMcn/ktiWbl3N5Kr9pUf0R168x6E9jKzWYiIjPKJJONN6oJek3Zcrn+P5bRap+aMaX/e4g19+ToxtSaDSlj6WdyYk2BJ8UQYSvr/Potfh+EJ/im6ylLtbQJ8hUZLCpioNVZTIaGlNnhx0pGox1msF90nayE2xTqLa82xqIkVf3026sXOH7+jYL2yOa3zR2DWMrb2CTcH7Cx2SJTgX16H34k/R4ZNyOcTultX+atGzlsJbXDJSqPqdLHNZypQ52tjzpPJgdTaLPzuCGArL3o03Vx2X9FEpKvw11lLpdRduHpTMNYTwl46qRrTniTuPHKWKB1Qa2OokcS+MDUazlTdcel/Zlp0Hlx1VqncoSt8Uec+vOxxZDrD67YJyxtdvU2PKuxGfkmDpPLzWqsoVnw/3fzRmwLlVi8U5j9RcD2+9z9+To80xUew8Lrbm2klmc3PzNypJOuE+Po2auozOvd5AFRY7/YrlOsBFOoUdgIcOK86ZReH6DsldKiiDC31VgnKlc0zX0OP5udqnowVsOosY0++Atj5iLbT1i1qgN2NOp6bSd7AT1PpvoPiZL3q0NKMhrjzqv4k4Xvq9vs6gDh/Obxq5hbOW12zlyTHUEaWYzpsTtGLdTWvunSctWDmt5zeCp308UXqqIMC8YTrDliW/3PrLvaIbPJrJMQI6ilkw5EAcbfW35taUT6SjV+1iiexzmiRxvQM39Fjmnsi8kuncijR+niAVWG9jqJHIsjQ9EsZY3XXtcypflEejMLvVmib4UdSfYYshNxBlbu02NLe96aTe0v0TNAOqHZdQ1kVl1dWwap2QvWOKeFqu/GNh+n7snR583Qfrdda7bcB7m2UrNSKUQJmrpMTaQN7gaUms7x36ygG//IRYUOX4QDQWiS3+TYaiwqhItu85j+A3KXil+Aw3P8sQbrdp4mDE2rgnnPKo8DnrNGQ19Rh0KkrZsLi28ikztyehRRsxGx6ycJ1efbPJS13Kj6ekL5cVmFVbQyQ6oN2++kCcW9KFLHplG1zwTGpCvqjepZD5iqIk6vrLZWsXY8+KRs28seTHz7RpGBa+o8LPaORJE1cgiE968fuWS86Y+sV2UpGBu+kpa+y/VMTCqvPL0xSSPvg2zk7bh12fG2HQqjD7wiDkw4bxgOMHP0yYHnckmYuUb2dhsaaLPJrFMQI6i9sEYIue8o9bqQ23Xlo7uKCf7OlSHW6DGt2ngGMnTODNEjswEbibsExPm+3GKWKDybl9Knh2fUvhAlARRl6Y9LuPLyl8MkeOeNUi9wNO0x4y6C90tEgNUnm8gzsTL5VLv1bran5L0PrYJCf47eJszXnPi72/LTQSZX28FI5aqJZ7JUrAIjBkDs3ltZt7v87gaUedlnvLs99EuNm4rkxELk/Cj84lw/SoxpL+GcPvUeLQR26N0V1l8uepnl3a3gj0UVSrez9NuJ1xYcYhsZF9IFPekTsWHOVrnBpW5l1OPLnYmI88RdfdK6qmozD15rFbSnx7L3i/pY4JHgyPZGCbHueK3chzgu7rDtFzDFSRvUfXPL1Ej8shoCK34bctu7lmTijnOm9hhv0yF7Rr1zFjisSPIkwRSvrUNKh0NaChB4B7b7l3f3gFd8qj08bpfjod5Ku61qflS5/24T/9z2qQKO1c2k6WNnap+lFWjNpPppYoJUv6yv+M+dF9tM86Xmg6Vx5Hf7fr53GtRX500y64Wvjcpv7bOea5RRV7DPzbsvFWhptjZsP36tj4mKJ8SW61TjvOTY7s2jY5uikv9dzyCCpXH9BU+FvjiXPvPTmviL+ddqj71/TTI8+hzlUr3Oe0nNWru+Y8Gy9Mm648jj9Dq+sxIfW3JOQXaDV5dIOnu6Lp8ZNgixjRPpYMmVeXRa7HRPba18dj8hBk+a+Ke6lcVSDmCOn4qSxb+dfN+DyFBVz0FxfXH5axwBzXgkWCW226ZfXhollX7rSu+vK1ts9PQPsellTeisx+JH8jjzs0PdcpzuoUXtbC/a7yzutrjouo5+HB9Tl8RMc+PuUN7yW2OfbTGbWX3k9mINdy2muxL69xOai/kz5QMDZ+bE59m+UCEqU24/GzrcHlnlWN5X5anm+rSTiQWcFyvfR2xEBF7lKj8xrHGHDOfBXktACczaRPqWPBnAK4bZ8xy5diX+LgcVnUm95o+6BFlrv+Kzz7PUfEVx+9XBdp4xnk2Y5uqN/5dNh7vcx4eGfFd2pg8Iae/Btxom7Lhst8dSV74mrOonybZaor/YMTsDccTVH8SFnKeelVCifLcXnvns3r3u8XSe3LksWHrNJoamYdnOX4LwXTfjdpeFHvC+340ntwz6aY6TxMbeekyp2wbpDl5b9AtII/HBvmTvNqyt4hdVXrpymjD96nlr4+xpP1TIWkHgobrKNEHBPndzMcysG2D65XPJd5uvs/eFqr+DJEn35cqs1lvpp0teN+4wz3iTl1soj5jGryXV0RE9lTM8ePZNmWivrQoN+EDwpxyLEu0/N5NtsObjjOCnD/DL1Izp+2GYnHAac2Y9fmNsB3HN1HmlMgs27o5WcG2GqetnzvEDWw8DiNTlpP3x/ztXHSo+iecGYBl+Tf5rGySXYsuIzHqFRERkQPADTF4I0uq+ssqo94HV/z9ExY3zM2KnJv6K+R/kmGHKvKUyMmAOi+rxoY8AO4o/1qfHVIzl6GSucdAHrN9X7LuVwDg+ozJede1vsxxJZHlzBfRvZZ/Fzc+k/PXM2ypd3zIOrZ9XwgAd4x/s8+O+9QO/iQBf4ov6tQ+teyrAQD8K4HIAQAAAMBKApEDAAAAgJUEIgcAAAAAKwlEDgAAAABWEogcAAAAAKwkEDkAAAAAWEkgcgAAAACwkkDkAAAAAGAlgcgBAAAAwEqyIiLHo2GnSc0v13z59JVHo28dau3JXxrWx34Xq/AnMQAAAIA7xGqInHGHSpkMZdbq1NeHluJiQG35U/acVu1UH7sxWECdOeScWD5nIyVuhu+LVPq4In/cFAAAAPjDrMxy1fi7Q/3hTfzZ4T7VbkXkjKn9hIWYiLHo53mXVM49vneuRJ1f6gIAAAAAXAPsyYlxWyLHzui4SNWT6SLV6LhAmwdYtgIAAACuy+IixxuRc1ShluxZOe9R7WmeintdCv7u7/isrY7lHxapcuTQ2PiT9N5Ph5ovmtTnY+OTJlUe83lPa9T7yT9ejVW68teEi3ttGl761wSMT1pUVenmqXzQCf9+5dLwC6f33lis0vlUe2t+yX2LKk/VT9HlINnPU5/kpfODy2QROfPL1VJLZaMvNSrLfT6n+EvInkPVXIMG5p/t/9Wm0lqVHKgcAAAA4FosJnJkcyyLjI21DJXeNKi236TG43Vaf9ZRImf0sUTrO20aSafNwmPwrkTZvZ6alRh/rlJ+a4OymTyVnleo9rFHzkmH6o+ylHmyywKGBUnHIedLiyoPMrT5diB3VLifKpRdqylxJOn29rK0+Sb4fUDNR3nK3ctQ5kCLHCOf+Z0KVQ7a1DtxqPeW85MpUXuyHORR/zBHmVyVeucuuRcj6h+VaT0ictKVq0SNtzWqHTWoeG+dyp35ImfM6RaOo6KrT/W1TWp8118BAAAAsBRLLFf5e0uyW83wDMRFh8osYFpD/V2QWQnu/Cf9vfpepNa5/s54X6uUyVTJMdIavN2kzI4vnATZkFt8O13CEXGQedKe/C70DwyRo/DzWTRFxJUTnqVReWZB8U1/V0SWq1KXK0v5o6kwm8vVgBoPytS50N8n+PmufLqJ/UUAAADAv5elRU7+vdnrB2KlQJXDOtWDz6tCeOZEi4PpTApzWuPramqpJ8AmYhTeiAadFlUfr6cWOaWPobNCAsbPcy0ksOznpClXRAjNwe2UKfOs4284DmHLNwAAAAAWZWmRE+2Ex/+wMMlUqXchyz7hjxeIiGVFzuWQ2ntFKr/p0fDC8juzjMjx8xy+t/2cJco1C5nFyWVDG46n+PnGTA4AAABwPW5M5NBZXe23mTmbsZTIcan7PEv5d9OEb0rk+HmuUDekJ2znLFGuGcjsUPZBZMPxBNmTk6X6734ZIQAAALBi3JzIUbMTGcoGG3TVMZecN3XqBSJiKZEje1cyU5FzNaLO803KFPk+/hHFQiLH0V91ngtvBpP9PvRT8miInGXLlciIWtt8z9iGY41Kq0o92yQPAAAAAFKzoMgZUXevpJ5ayt4vUOVdP7yn5GeXdreyLFrWKfcwT7lckZrfdG993qXqjjyFlKWNnSp1z4nc0yZVttfV+QV5tNx1qf+uQoX7nMbaBpX2ukrIjP7xn3haz+Up/7xFw29tKq6tU/FZldpDyVPZf7rqXpAnM58lqn7mVNw+NV8UVDpyrHGqc67zrNKWx9OP2lR/yPfarlBNrjPOmVuuRxVqBukm4J1U+VzbhmMf2auTfe1MRRcAAAAAlmKJmZz5eCxW3Isb7qa9SJry/QZv4ck+G/3uHS8h4Vspl4maNSostIEZAAAAAHZuReSA5ZBlutKHhGUsAAAAACwERM5dAX+FHAAAALhRIHIAAAAAsJJA5AAAAABgJYHIAQAAAMBKApEDAAAAgJUEIgcAAAAAKwlEDgAAAABWEogcAAAAAKwkEDkAAAAAWEkgcgAAAACwkkDkAAAAAGAlgcgBAAAAwEoCkQMAAACAlQQiBwAAAAArCUQOAAAAAFYSiBwAAAAArCQQOQAAAABYSSByAAAAALCSQOQAAAAAYCWByAEAAADASgKRAwAAAICVBCIHAAAAACsJRA4AAAAAVhKIHAAAAACsJBA5AAAAAFhJIHIAAAAAsJJA5AAAAABgJYHIAQAAAMBKApEDAAAAgJUEIgcAAAAAKwlEDgAAAABWEogcAAAAAKwkEDkAAAAAWEkgcgAAAACwkkDkAAAAAGAlgcgBAAAAwEpysyJn3KXqYZ88/RX8Ia48Gn3rUGuvTM0zfew34I2H1O+0qPq0SX19bC43ldfLEQ0WvfdNwPkfDx1qH1ao+mmsD95hkvI7dqh12KbBpf7+t/O31cu/AO+0QU3H3jtI7HA+1qnyuku3Ulvs381necpmMrS+3aD+5Zic4zq1v91yb6XiW+/v8MPbigE3FeOX5NoiZ/zdoeGF/sIM3xep9HGkv0XpU/NhnvLm50i6pDF1XxnHXt2So/9buBhQ+6hCBW7QtVN97NZhR/7KImNnkzJr9fRC44by6n5rU/NFgTKZ2u8VOd6IesdVKj3IsN//BV6bkN/+YZZtx8f+WZGWd1v1ctbUcapIjdNwB9k/MmLYw13qjiNxTX3KPBCsU6szoPGVvpAZf9qNnBcR6+6QetxOils5ym3555T3WuT80r/fdX62qfyskxDXjdjxpH3zsd/rU/1RgwZs7/FJi+rHDo3/r7oSPJmdpDzdEEZ8u+tt69ZiwB/pj6ZcT+Sw45aiGWeHquVK1JnR+NxOmY2Zo+Z3fUDTPyzxMcwDhfHI+U+Bmt/0Vxuew424SQP91Yfr4Q841fhjaYlAdUN5Pa3dgMhJYe8YY2o/ueHO9Fax5PdyRP2TcMf7tzH6yALis1kHt1QvV47y18yDGjnRUa/Xo2qxRSPTjo74peHfIsBe5yiTY181rw/S3Xf0AR/vR4tKa1kqvO2Ta6Tr7HOndJDg7daY8Ie4GlJru0Ctof4unLPo2QsPZpeLHfNxP1UsdmJhderQ4AZEYtzvoiwT3+xxaP69rsGNxQBb3v9MfyQsL3JYzDReleIihxkdF2iTnSpRrlwNqMEjrOxrZ3rOJQeH173ka/61iK1K1J7VGL83aDMWHCByliOFvWOsgMj563Gp+zzqQ7dVTvbXBznKrXEMi80E8G9R/1d+WaT2T/1dEDHEPh8eNfvtIP/eUAOXLHw4VuYs8XT8D7e1JJFjjQl/Bu+kStlnHa6hKTbhcVsip39wm75u87soy8Q3WxxKc6+7gC3vNxTjl2BJkeNR/3CXG60/8ohl/FebRx5VSlh+VfizOWXq6KWu0XGZGubMzpWsmVapLFO3jyvUPJk6qXvaovphnervnEmDGH9tqmO1D7P3BLnfO1R/UfSnew86NDRHUu6AOocVKgb3dMINw/3WoRpfM75yadCp+Xl7yqOlWWuYUo6jCpV3KlR6KuUY0vCkTbUXLZqEMlbQaipapVejzg+/BN6wS839MuUym1R6zeXl8nXP1U8aj4afmlR7yqNCdiqZBq8fdslfLJw6lTvsUVOVuUy1L/GlxPEZ5+epTIEXqXLENp2l5OfYKBqovJ99au01qe/5dpDrYnZPm9c59w5EjiPnHZT9On4TL493HtwjnJf59p4ydmT/T5CPvrUzTbqPkM4uTIJvKLQf1jp8X7PMR4N4hzgnv5Kf9gGX1yhCWn+XNlV7VqKyfPj8wZDzwnmufzG7NQOzHqVM38PneRxXmi/YNlxv45MmVR5LvqvUNUWCyQXbkuNRgUVH4YVfb61TSdMQOb+kfGIf9vHjuH1m2jkG+yv7+NCp0WYmy+mbfur/FvIE5ZeRoK9nbcI+47cD85gMGGPXBlx55Eb9JSEm/L8++3bxPy3qs3lGxjFlL67n4ZcG+9PIr9OJv4RKo0gfM/yOufIpqGOX+sd12n2Upcw2+4jc/7ivBNAkdnDM7H/0/a3IcTIWX43fk/KnUEuWfF4uQ5s7Vf9en3Vd8W+SRt3YJ+P7HduG/z36IukXJ7MmEz9U5e3RSPKU6HdRpvHNZKE49G3GvebYQ7Xj/3RVO+4fi4+XrSsm14kBAckxNGWMZxbqj1KwlMjxvlZpVzmtvfLkeH1tMyxaosiyFo9QNt8M+N8OVZ8bSv9qRO2ddSp90AbgSuzubU5HM5dcWUf5sOrnY73XmeSRDeNyvnM56QT974O3m9zQWjQUI8rsEjeGSYD50aSCIcIG7wqUz62rgFPeY0fqOOSwWKnyNdnEe0oDz07zfTWk5jaPyl53+NqhX95LtkMuR7UgU7+6VH2gp3Y9l4NNi4o8CmxxR+BeuORFO2yXne99kTJFDgb8u3sROK9fN6VnLLDeyP0c7gQlYFaoOzE0N2YOLOs7bX96XRz5XYmyewkzanNsJJgiZ/y5SvmtDcpyR5CTTutc8jekzksOwIHdFSnymuLefmeSp9J/2jT4xff6NaDWTjY02vb4HNMHJI+bQV5S2FuQEXR2rUStb2M+Z0xDbvx5Dj5m5zTrPqntMss3eLTUfJSn3D32+SdlqnI6Hbab85F9nNM12+S8/E7zM+1MU/v79wblOO1glsL9wqN2rpfmV4f6Py1eFC0TC57mk6lQmOaF6/F5hWofe3zfHjW4HhNH+dLZX/gzI1UWVlJvrrq1L3LyPMCQ/Ss9tk/vfYWFSSQ2zbSzDT5f5YUHewdcZ2K3iQALfjOwiBxpd1In4WV9vlbawcSPxtTZ4fp9yD6hj6QhKSYM33Ob2mCfNKrFY6FWeiepG/50v0D1zpDGfO34tMEda5aqX6cXLRYzRMzlQ7b0OF0Vq1/3/LryK8uPHQ9LVHlapdYX9rcvLapIH/HWWHSL9g3af8z8TVB+wTGgmKHi+4F/L+mc5QEZ7qw3EtpA4y0PHI4aVLy3TmUeQKiZKK7TYAnS4byr9pXod1H8ejXb5MJx6P9OuNcce0zbcY0aR7tU50/+Xp4aZ+GMXisGmCTGUO3bN9kfpWRxkfOzTbuTJ6jilefjB5eperejnHqNHfpdhRrG+p2a5XngbxSbILNDso/nh/81OmMgyLTkrDXqqggvc53we5NVbZV6kk2XHehhxQg6lrKpYFUlx8jX6AMHk6Tgq9IIB1QlrIw8Dt7w90glSjmybGOFKnc4QEax2SLI/+4XI2W3SxXuAOvBDveLDpUjASi4n0wOxEhho1hebPlX9+WGeBLkLUVeU9dPZLnqvMViSNeBXiYNB0RJx7jPPHvrNMod07cjyyLL3idil7m+wSiff23u4eCgx0E9mpeZ+RVs+Unh76q+n3enAxRVb8n2U2WKLF3IfbJru9Ngp/LCQdKcRVP7WmYtRVr8QZczrzrxAN8e5jJRGjuH4XsFNtDiO5OrU18lYPwWoOyoR7b7PJLmjqOw16Z+zEZ+Gab1MqIWD4qS40sy1pig2oIpgD3usLlNGQMFWwxV9uEOWHWji8aMhN9s91F5ftg0Bj98b4mXxiBF9Q0R0aeuS9xAbPF1RVIbyFL+KLK7UfL6cuof3nnfeNjG5ndRIucsHYfi90plD+V/67T7OdTq4tjumSIGxJiR9xvtj1KymMgR1fiKG/NkqiqpgpMcK4KezQkHPY96e3zMttbN9wrStDViW8OZcCa76dMZy5VHT99WKB8tm6rwcKC1BpMJMqMVHlU7+2bwHFLroTGVqj7+9OqkHFaHCWPPg61uwsdkRi6TKVBlcm/+vCqE1HwSSTaK5cWaf78jnu49mJ9Xk0XqJ0hH+c2wxddMp1HVR02tGunMs7dKI7K/gksb8vel72PaJYVvMHGft+VlTn4FW35S+LvaF2LWNw+CipyOvZ35ZYqJB3XvObax1q2JzV9scSh6LJ2dw/C9ImUurQX7ZiK/CSrvujw8+h+f8Cj+XtnycIbhqwo/r5kij2z1kbTYY4JLnWds/2AvZHQGnbHGUCUweTDIFy0cM1RdxustUeRE8hw+pvuGYJlLf9TSV6ysATYfEJLaQKSTZTzuO6TtZrf4vh/7keUTm99FiZyzdHyI3iulPZT/+fU3k5Ttzu5bBqnyLoSPXac/msViIkcVmI1q/ZgZ8R1o3kxOcF40SKsp2sgTBoFBAqe0GXqmyFF5D0+NRRk7DSo/rlLrdETelaVSlqhwf/qtpZZPRhzcChLcjKntOgfHyVSq+QmEpNVhwtjzMN+pVAclzh+9N39syzTCPBvF8mLNv1/v085ufl6FZeonSEf5jRK602lUa3nn2VuLZVt5JgFz6fuYdknhG8xckZMmv4ItP2n8XS/1VL+M1PJg+3mO8px/ezzVZQqm1gPUvY26TJmXMDYfspQzdiydncPwvSLtTS0Jyizc195skaPQ9RyLVYavavoH3GGl6aAiJMUltfSi90tKpzKdTfWxxlCdfxGuC8cMVZfxuLucyNF9Q7DMZX7s60SMzQeElG0g4Jfs1ymoJa5MJIbH/S5K5Jyl40P0XintMbftaFK2uyTfmpAq70L42DL9URqW2pMzJamC/RmMyTRUIr6jRZ1dTVFGRy/6aYRgis9m6JkiRxk+slxlInsLMrvUmzVLtUSFe9+bVHvvUF/2S5wOQ4+ASvmVk85ac5zV8DT2PMx3Kr+xxUcuiaSwUSwv1vz707VTEZwir0vWj+83ejZt3OG8RKeJI8yzt0ojsqeDSxsKmEvfx7RLCt9g5oqcNPkVbPlJ5e9j6u43qHMq6/UODWz7cCb4m1BjAxg1sjX8MGVewth8yFLO2LF0dg7D94q1N4+cfY5bHPdk/0boN5X3cHmG7/P+krz+7uOXIZRf5fcJe07kMeyEd4olxiW9VFL5NKLuS1/smNhiqHoSKsjrojFD7cmJziTa72PLc/SYepfLQnuUbD4gpGwDjOxxmnSy3pDasj9sskRr87sokXOWjg/xe6Wyx9y2o1k6BkRImffYsUV9KyW3I3JUIdOMPnxHiwkT9f6d8MY/GXVkJ+veuuHxiETtp5Hv39pUyXGFJ4kcFWD5d3nbZdC3ym7zt3XqXuj0jE7UPWuQenmRGY+TKjxxOlkC6OZMsSf3zWaMTY8CB6/qsS68smU8SJjY86DrJtSfROpL7yfIBhu91DGXnDf1iV1N0tgolheV/02qnUwTHHe4zGs8uouua8/Ia/r6KYX2cow+cH5ywf4u7QPGhj9h9KEa6WBn2dtPI/uiM5221o/5TgNm2vvMtstc32CSRM50tiRNfhmVn5QBzqxfCUzykrcg7TnIRtdNabcTsSodfiH8KPaMvJh7A8LYfChqCyHeuaWxcxi+ly3Iq1ktro/obyrvU19WWAO6X4ZoDAs2KbcjT/qpNpHQ2cyKS/4DFwUqyUMfEZQ/PTHe83PJMUIelgg2/y4YMwJ7R2f11X0iYteWZ3XMLKMWfZONtoLrUOOwx55uw79/aPOyIu4HVr9j+gfhQYLsSZm+/sTmd1Gi5ywbhyz3SmMPSzu2smwMiJI278GxJfujtNyKyJHNUKF34FhwTxvqcTR/+i+nHiczG7F71qRirug/ArlfpsJ2jXpma5b39Gyxo/D9M2sbVDoa0FCMf69AlXf+I4kxuME2H8tu8XXK8b1z9/NU+6oT5QBVl/Q4rfxWgY+PeGS2TtmtknoM+X9Om1TZ9q8tyBMxfIPR5yqV7kse5FjHUunyqL08fcF5ND7r2+bjsB4Njoq0zseznJ/8Vo4KPDqbVjLnmfO1/rhKtRfyWmyLVb83Kb+2TsW9GlXkzxqM+2pqVaW5VaGmPGroTo+tb+tjws8u7So7apuwzZtJrzqfaaMvdCJvmJ3Yw7dR4PC1wwpfI+XboOw94x5GvmbmNW39cAfaOPIfpZZ7rW/thh89nvhAljYkP7kC7fKodkIae+s0VH3xfYp7bWq+lPorcceofW/efebZRTHLN1igv6tQQZ6Gmfg8j873SrpN8bGOvt+c/CrbPZInKzivO+yb3A7dtP7+i0elcj/O4+Sj22OCF9Gos8vtucJllzX3IuWe80g0ED3nXaruJOVFjhmDlBDccbwUf+B098ps6/8atpBHgSW3U/uosgePE89rgyYye/IwR+vihw+LVDdEqmLYosKkU+YA/Z+ifkKFfTmXp3LwuDnHr7oEdL6fHHNP6lSUdMV+Eg+fRjr7kwbbfoPtXvP3KnAZc/w98e3y0ZhgVoa5GT+CEh8v+R6PfF/J3cuqN9CHbLFIzGDU5tjITJn7eZdtmKfKflXNRv3X8K3inv8ajIm/iT/pY8JI3g496TdylHuc8Egzx5HWxAdyJC8fVGno+BLyA9PvHhnxkRERnuN4oOy+z23ukdkXRf3O7KQYTrcWxDfT55aKQ/Z7zbKH2Y5zT/32ZEOdt2wMiBLN+//+P7fTH6XkmiLHglJjsx6/XAx53DBxvVU9wmdOJaY0xmXyOp+6n5GMN3kkexkkePoVOFlf1I81h55IEXRZrEWNltOGPLp3jbzKlGza6xeykTk6UHm83vrqvHt7wY/z7DHDB1LZm1E2C+7H6VnPT7rPInaZ5RsLkCq/i8JBqXrAwU7ypz+jL/IYu70TnRCUydY5XYOofyzETdn5MmUCKf3MxG+n8klxj8Q2MKTmM/20VARzZlDZckb9pI4ZQZ8Q7WClbSxr7Fvyn0SC+yXkd2m/WyIOWe/1u+0xjyV822SR/mgeNy5yZCorNHX2b+a0RlnbtJ48rRAVOauK2ZmDKSthF3/KPz5VL0+JzRE54M/xrUHVhIdC4sufN4O8Fya/0L4nAG6GmxU5+CvkYX40eUQb3iMif6ystZOnum0ZZBWByLGzEnaR6fMsbe470w31PIKTmZx84ntLwJ/APa2rJxPbpw41XrZC76IxuS2RI4z+qVB91mvwAbgFbn65CoSQV1QHf0ZCvab60PYSsNVk/JUD65OCX/ZiiSof4hsd/42slF3kzyEEf35FPupttdGnCMGfxv3qv+U6vB/QRB7/L/l/1uJhgUrP6uE9kAD8pUDkAAAAAGAlgcgBAAAAwEoCkQMAAACAlQQiBwAAAAArCUQOAAAAAFYSiBwAAAAArCQQOQAAAABYSSByAAAAALCSQOQAAAAAYCWByAEAAADASrICIsej/lGVOtZXld8wY4dah237n/W/Ta48Gg8dah9WqBr9U/53DG88JOdjnSqvu8v97aLLEQ06Lao+bdLSf0FH/n7St95fYS8AAAC3x4Iip09N/Tdqim8if4jzrOn/7Rr92eXOZfxpN3RMPuW9OtWPOzQI/f2mabrBR643GZ+2qfY0T7lczj/ncYXqnYH/N3Iue1TdqlH/lsVH/zBLmUyGSv/85o7T8/8+UOkB3/vjXe60WVx8ZYGys0mZJ+2lRI77rU3NFwW2M9enPrYwFwNqH1Wo8CfqCgAAwJ1hqZkcZz/DndAm1aJ/UZZH0L3XxfBf3b5yqMadzeQv2+q/UpzL5Kh2Gr5+9KHI6Rapbc7KXI05zRxlcrvUGRrn/wz/FefxxxLlbvsvoF+OqH8yoPGt//FBj5z/FKj5TX9VjKn95K6LHB+pi2VFjuK0dj2Ro+grv6ud6q8AAAD+dSwlcvoHm5TLZSmzVqJO5C9q9w+mwsPH72yKH0b6u8BiaI+Fz04n1BGqzjFTpZ6hVEYf+BjfJyR8FH2qy/HgXp5DVfP7X82AGg+iZYHIWQyIHAAA+LezpMjhDviHQ7UHGcrutGlkzGwkiZxo56xmgyIdoS9yjM5NCRe+RzALFMFzXfJC985S4dgUUwEeDT81qX5Yp1pnODk2+KeujjW+GNe4A+oclP0lsac1ap9Nc+j97FP7oE5dI9Putw7VDlisXbk06NSorK5rxvbtjE+aVHlaospOmSpHDg1lj81BhVo/9Akab9il5n6ZcplNKr3289dVM2OGyPkl+ZA8FqlyPIjNXnnnPWq+KKoylDlvwznLeOMT2QMjy4ScHuctNFN1NSbnuOqX63GFmifhelTIXqU9nR++vi/CNCpyLkfUO6pQUdu182PGnJsWOY5RF+U3kXwJM9O0ixz3e4fqhm0GbvBDn1psa7G3fFqnLrmnrcn3+mGXRvy/bvD9uE98BvVerVvFPgAAgD/P8iKHg7rHnVFOBIwxS5NK5MhS01o2tl8iJnLO6pTla6tf0y1Cjf/h6593ueuJ47lj6r40ls0YjzvRVtHM24ha28Yy3HmLirqzHn+uUn5rg/MzLd/gXYHyOe7k+Fh5jwVAxyHnpE3VXFiYuZ8qlM1xubTYGPJ1mf9Vpc4Ji50L/9gEj7vO73zfTJFa3/nfF4GQ80VOfqfC92pRj6/tva/QJouhxnd1pULVCd/L0UaQfG9ut2gYFQia4XGB1idC1aXuc877Xs8XTlcjau+sT+uXBU93b5NyXLZJjfzq+HX5fkBjzut4yKJvKxsWOZfsA7kc21Vn6leXqg8K1Ar0ZhQlcvJU+k+bBr/YBr+4nnayLKiNmb+5acZFTtQ27vcm553rU88SeuyXZfG3z1MPGn0oU2ajRr3g0KVD9a06Oaou2V4vZZ9WjpoRsQoAAODPcy2RIwze5lSQr5/53V6SyNncqfIIuEaVxzla365S+zQscISoyPFOqvx9gSUH6RwfNGigv0bpH4RFTiAcJiLnl+zzyU87LO7UB2cjo0MP7wNSqA65So4hItTeIqOTl/tuvjVy9b3B4mTGcoztPoHIeWcqA1nW4vwHYvHK/x4WhWL/LNeP/mrCIq6QKVPHEFquiLnHLIrk3x3u4MWepkBSeZt26oM3m5R51gkJy+hylTonEE4asUn2MMECyqYR+6i8TgXd/DQjIkfbptwxcyrXsHh6GQhjlzrPTIHK35/nKPeA7xvsjxq2qGTW5ZVH7i1veAcAALAc1xY5/mifR7N6pmLeTI43dngEvs6dTdAFTonN5KjOjjsqR3+fh61zNJgrcvh7R8qSWaeizJYMwx1issgJ3zPayctTWaElN4evWasn5nOWyAnNiEWPcQecN5a51EctfdmFopr5SsyHfd9UuD6H1HoY3W8VLb9/ji9yg3zVqJyL1oWBtR7j952dZkTkKNvExZ5NWGfX+LsIO66HypsBC/lNyr52lKAavi+FZs4AAADcXa4vcgS1ZOEvc/TmiBxBdSxBR2IQEzmqs89Q/n3SukYE6RyvM5MjBHtr1DJUlvLmE1tLihy1PHevRK1vY3LPWeRts8j7x7Z3SLOsyFHLe9NlLvNj7l0KUPlMtJcIPrbXflRhmvUpm7+jeYqW3z+n+H4Qy1PiDMhckZMmzYjI0baJbmCP+ZzaB5ZV142OK/7yl8wirVXJ8djez5P9CwAAwN3iZkQO4zk12mRRkI094RQXOcGMQ3REHOtwZM/D8yxlrHtK5DHrPDWNkbmamYjNPEyZK3IiSw/uiew5MvK5rMjxBtTcb5FzKnt2+vF9OFGWFTljFpts67R7mCTv2chylYnMYGSKbQrJMa9H1ck9fCEUWopjwuXXYimytDQTm8hR9/XFR7o0IyLH7VJFvkc02/B9njIP/eW5AFkKyx60qPWypcsue7UyVH7ToGpawQ0AAOCPc2MiR0RH/0D259hFTlhc+CPx6AyNL3Ii16sNphnKHTj+i/8m+HssJp0YI/srZs36qE57u+kLJvW+njoV7hsiQcSFuXFZveOnMH3vzyIixxAHIr42k/af2FD3ic46+IImvDQUFT5aFBqba4XRh6p9k6/sU2Hbbj7vTJ+QuxpRhwWZ2oej3kUU3iDsfa1SNlenvlYXalP1WoWmq48sPvfZzobIU+fIe5HMTJ23qXqcUFfKpqXQ+5bUqwRy0/1B89PUImciavx8TTZVC1dDFi/xDfD0TfZMhQWl2p+UyUfsiKerAADgLrOgyBlRW946fC9LG1t5Kv6HhYf+RaE6jakIcE/qVHyYo3UROfdylH8adPwsiA5ZEK1t6GN+uvn7sh9G0i5S/cRI2R1Qe69AG/dLVNX7LyqPNmhjuz7tzNXGUkOQ2PjVofI9zovKT4Gqn0bkyGZVSfcz58ztUTVXoMq+v8+jupOnCnea0im6p011z6zkb6eqHutWx7ZlWWudCi+a1Oe8jD5XqaTKIcdYPPC13lld7YtR9w0++v5WuCzNrSytP65S7UWZmmdD6u6VaIOFYeZe0c8rpxwcm+RfuORrH/tLbVJHeS7PbtJ9hJ9d2pWnoaQuHubZxmVqGY9iu2dNKub4nmL3/TIVtmvUC2kCjwZHRVrX1+c5z+13uyq90l5L2WRyDpc7e5/P2cpR4VU39OqBgIlN16rUONKP8m9t0PrWLnVDom9GmuddtltB/2bYRgTcqwIVntdU/e4+zk3qN4zs+YnMcF2w70RmfDi3eLoKAADuMEvN5MzE86z7P2zIe27ceA+TjCwnBXsvItfJyH49zZKITmOSR85vFJUv85xr4n3jjvuoP837xZgG70ssmCrUDalEg2g+F+VysTL4ZU62nif5nlVZ8uh7cD/Ju+3UoP7mVpIkp09S6c64YIE0J5h5vS5yfzxdBQAAd5KbFzl/Aq9Pte2afnfJHeOK87YW3/DqL4XNEDkAAAAAuBYrIHJk2aIaFxF3hiE1cxkqmW9ilie43pfCT24BAAAA4EZZjZmcu864T+1D/ecH+FN8Ube+DBEAAAAANwdEDgAAAABWEogcAAAAAKwkEDkAAAAAWEkgcgAAAACwkkDkAAAAAGAlgcgBAAAAwEoCkQMAAACAlQQiBwAAAAArCUQOAAAAAFYSiBwAAAAArCQQOQAAAABYSSByAAAAALCSQOQAAAAAYCWByAEAAADASgKRAwAAAICVBCIHAAAAACsJRA4AAAAAVhKIHAAAAACsJBA5AAAAAFhJIHIAAAAAsJJA5AAAAABgJYHIAQAAAMBKApEDAAAAgJUEIgcAAAAAKwlEDgAAAABWEogcAAAAAKwkEDkAAAAAWEkgcgAAAACwkkDkAAAAAGAlgcgBAAAAwEoCkQMAAACAlQQiBwAAAAArCUQOAAAAAFYSiBwAAAAArCQ3LHI8Gv5To+L9DGXWNqjSGevjCVx5NPrWodZemZpn+hhYCbwfHWoe9Wh0pQ9Y8MZDcj7WqfK6S3M8BQAAAFiYBUVOn5oP85Q3Prufpt3T+J8SCxuXyB1Q56hJnR+e/iWBiwG1jypUyGSodqqP3QDjT7s6fxXq/NQHFWPqvjLz3+QSxcuUf1yh2mGT2idDcieddPRa/hz19W8+7rBHzRdFyudy+pwyVY8dGs/o6FeTMXV2WOhmslRPFK8scL+2qLqzSZkn7cVEzpVLg06NymLjrRzltspU6ww5xdvE4ifRT8Qf5vKL28lxnVqdwWI+ctaM3dtsh3PhwcV42Kfhhf6elrNG7L7Tzy51F6nEiyH1Oy2qH7ao821EXuryz2+H83C57GL3+nGH+kOOV6mZEf9idbKgPQzG353F60YzPm1T7WmecteJQVw3zokT/pxxHemfZzOvnUjMXZDLEQ1OuK7O9fc5TOO//ZO6rXgj6kftoD/9n2msYbMF18eh3+ZHywQsjn3D0w61Yv3TYsT8hPu8Oudp2fTuMkvN5Iw+FLkDK1I7JCAG1HhQovYv/dWKR85/CtT8pr8q+lS7YZGj+NmmIqcrHWhsNmHYouJrR3/x8ctk5J8FWGsnS9mdyPVOjc/j/IYu92j4vkTZtQI1To2geeVQbW3Jsp23qbx3gzMcnkP1R02upd/EeEDOabgRjj5yA/8cLtH4Y2lBkeNR/4CFzYEzTftbgzYztcWD5yL8alOJ7+Hoe6p8m/4ifrFAObzTGgeYKvXOXRp9qfK/Of+X+seUOPsiJKd5movLPvA4Rxv3N2h9iTanyrzTCZfxakit7Qxl93qpRaYq+1qNehcuuec9quYytM7tcaGYb22H8xlxGbLS0fK9x8MO3ztLpY8j/Ws6YrFiwojaRa6TIscMfWRhOG6VlomHVyPqvsxRRnzK7IC53S8ag9xPFWXb0GfBgYjVRh7X9SLt1GWRsJOjwqtWSlFhILFX8n0QvtvwfZ7rO2VJVJuP2EF/Kp/Si+OYLVi0OW+KtC79xbcFysV13GZ7VD7woOhiTAPuc9aj/dM8rsbUey1+skudoXFv5Xc2n/77WUrk+AGeG5NZP7oTmO3ANiF0SyJH8sMqNcdp5w774QAqv0Wc3y9TpMNgMZSPzkZwgM5k8tQa6u+MxwF3M5PjMkQd1p/RWKZsKtBE8ngtvrMQWHTG5EZxqfs8bouFRY7bpUpUYKtjv0HkGJ1XTOSIqE5bjitpB1mqngT+wuL/dZY23ywmQfsHEnCXKfdybU7KvPk2nMfRB7bDGseC1AKNRdFDzrcpipRgKdG81e0QlnY4nxG1HnE8OJpe5H2tcv7rC9nQGv8UY2o/4bJFhWBavD41XpWWEjnD9wUuB/tjaOAp2NvdLKR8y8QsE99GUQEudV+hbhp9IJ3uGsdUZ5GZNhPfx4sfwnJT6jvqw4vBPlSskhOr+2TstpjWWSetsDirUzYkoCWObFLju/6aAr+92vykT3U5DpHjE1RaEBjcb21qvipQNlOgymFdTUH3I77pDbvU3C+z6Nik0ms5p05dNf04DbiT5Z6HZap9iY+FPB71+b/nqXzQoeGswKqEjONXalSAzBA5oaN6NijU4FVwNZ2BnZ5Hsokd9aWbPBX/y5mUp/iiyaN6yaNL/eM67T7KUma7ouxUP+7zUflpQJ3DChX19GLTCd/R+ynpse3536MvspxTpOrn/6HhpybVnrJ6Z4EpU6X1w67fUCS9g7I/Xfm0Ru0zSwl4NNVS1/if1imPvk9lmSE4JmnxKDL4rvPq16WfF7qQNHapwCPKwotpOoKyu9iORxj9j/4SVJGvGyTV7bjDnQALhK8LRBlmfNKi6lOZLi5S5Sgyfa+Xv+oyjS3llTp52qSBeYsrj1x3esD3FyNgm7//aFKeyxoT1wEiOCOduhK1DxoctmZP95tT7f1D9pEbEzkp7utx3ZsFUqO/7EKjWkGWYwamq6nBhG5T4y7tWu4ffCZ792LtcDlMkdM/st9TfV5NZ1WtsUKhRc5SgxOP63OXOx9/BmJSN2ns4TlUZX/LJt13VgyyMHwv+dBfIixtI1ly+umxC6XIC4u9ei5DpYhA8UnbPnwfn87aeDT6Icui3E4XnDE18U6qlNODkWv7y0WHypzHtKJL+arEiIn9ROQUqCX96A34Saq6+Qu5EZEjjcj9whUgoxuZguZPzFgSIL+3WDQUqfXdPEc747MKld901Hpn54AVrtmBMP70PqthfWz8mRX5douGSZUSCBk1xcedwQO+NnDuVCLHXxbJ5DgAmoE9GlxVp5uh/PuFhpTa4TidIJhw4wmCo8e26b3mYPm6p+ykOk8Z/UvDDxotd6SFTJk6eu1e7JHf2mChWaLG2xrVjhpUvLdOZe5JxXkH74uUKbJ4UPUjBRJxtskjJV24c66bBKHmcWcmjbH6eVohow9lymzUqBccunSovlVXNh68K1A+tz61pwSWC5mq5jS++HUfdJbK7g9LVHlapdYXh5wvLao8mNXwZWTK9bnGAY0FVZp1bVmiMKd1le9MlocG1HyUp9w9tvd+g8V6nT95Wt9qhOs9QmLgErhuZAYx+7Lri9MIsnctdq32KxE+Uv/KRraPkaeZeZiJTeSkv69Ct6vssrMWBm6HfSkI3spXLPfXn0lcuQmRw2VoPTGWqySOWe6pPoYBku2+vMiRDmxXicVI3aSxh4zwpW0tKPyT6B/kqdZxqPelx/E4sndkWRs5tdTLRMof1vhaLvvoG8eEyJ6tdH4aFTn8fZEZYytSv1pUCNf2F728mTZflxxDZfD0sqNimSz/F4KB1B/wk7+FmxE5ggo6too0EHERC0y+M+5+MQyvlh+MZSI1vR+tHLluxsZWU8hccHqiYIOAnChy9EzUXpny93NUetuj2L7EaHBlcSAbp1Ov8waodHan0/w80un/mN5MLUWYeXTZwWUj9cR2kWAoKPtmKX8UFwiqfGZjUueywv+hv1+NaZC4udClzjNzBMDfn+coJ1Olwf4qHo2XTGES8wdLfhmVr4fNkFgdvN2cPeXPnVOHhYg02ExmnQp7bRrY1ISgRktGPhV+Z2QuWyh739ulbsoNn8mBSzNj9JzcfhbrtOfmIRF7XSyCCLXsIlPtSag9Pbal3jksYa8JapNwjtbZ/3c7aTfUTvHtnqPi8wpVQp8S5UUsLypyeBCxO5n1W7xuZHZB9olcpz5NRp85Bh61qfOxSdUdHjjxgKK+YP34NlqnXDCbcF/EZJoY6VFvj22oBj7yAEiNKlsspnkAtdieNd+O2fvBbAbX93VFjuz9e9axDlxmkdxOtSheoA17P9hX2B6ZtSxtymxRQoyxcdN+8rdwZ0RO2PCRY2o6e7rMpT5q6WtGhUWEjJoJYgGgRm2JIkfnn1Xx8AOP/m2j+WhwVWWKr/3ORU/JyoxE5bBN/UiwjokcA3foUPtthW0SKb8WLrZ9Cqp8oUYu+4VkuWOdinst6s15ykQaSFaNrvgL36fyZqDESFZvGJWN16G14Zg/2IN3PF/2Y1YuhtR7U6INFrCZhI27aoqX6yu630PZ17iH+r7A5llrG0iJ9dolOu3l87B4RxriV4dKHGQX3bAbR2ZLZSPoEuksYa8Y3khtwlznjmuurxkk232JmRyZEXtlduBL1I2yBV8T2YStxMphRQ3CNneqkyXixfDI2edBh1pKTU/MRqlncnwbhpZU9OZ2c1AyH9+ONzeT4w/0yvL08ILM9ZfUG9W5X/pYVVs1+l9kpp7ttIj4S/CTVefvEDlqmm26zBWbhrMREzKy5p3jPBao9XWOyBGuOA/cecYaZjS46vMW6SAnXI3JkUfoeZQjYqP8z9TVbSJn7DSo/FiClUzfWuxmta+PKl+0kQePYqulpSzlk/aQCGp5LavuNzqu+EJKZrHWZBMeN9bnkSAY8wdbPdvzZc3rLNQmRa6rf+JXBEtD0U1/VpGzQOcU+EvqJ5sMfOFlaz+yRJt2z8E0D+lzHWCri7T31eKYbbfQUx0WZLq9+HYQ9rnfvCfHbzP+5s0/sidHlYOvsX64fIMU9lBlSFoy9+t64ZlmE8PWS9voV486qUSWb8PocrVqn2p2N62fRsut9+TobwvzvUE5Fev0d+ba/qKeNmOhkvLJQjV7as4kXXIZeaCsbJWm3cz0k9Xl7xA5et/LQmuJcq9osJFRkwQh7qyjm6/iZdLTps8j+yoswXXwlsVTwhMmEsjNjmmCuYlTzxxljX1IsU5XGpm5vGWzm9W+Pqp8pnCQNVwjv+6JzHTN3qk/eLPJdmtR62VLjzz8TdflNw2qRhtOzB9s9WzJF2M7NkGWGowA4uMHRmsgV5t8o6870HVrCNPlRI7d1nNRS5zhPKnHTLd9u97lPTmyQVr2fUU3pib6eQKjT7u0yz4Ta9Hil7b7689kUGNph3O5HFLnqBPeUK47GmWLm9qTE40ZCxGpm1T2EH9m4RnalBrgp5dW5KgHRD5GhKd6+k3HpmvbaD79Ay7Lfni6QbVP3V6X25Oj4cFhY+FXafj2jT39eE1b+G0pl/LpKP9J3Wh5VNyQWJnKT/R+RuteVnm9izGIWCGuIXIiAUYFnfBm4RiqE452OLpRh3w6GoR15Rgbj4XRh2ryI6Q2kSPoUX9slsRSJn8WIPKoqCpnpIOYbMKMjm79xzetAYbTCY1WOF9FY6SgGrXR0P13V0xFjnvWUNPQIbvNEznmtKicawZj9V4JY1OdDfU+mnB51CZB2xJZksiJTJXG8sWoY0kiR9KNPvIr+5XWEoKFFrYFU4SpDXw5qp9NK/ZGRc68p6u0P0/tKGJxiaeUorZTQjhL+XfzRmrR9pUSvbctZEuF6ee6rd5jX00ojgicwvMm9SIvWHOMPWlzsbVDnb/1V72pX5vop1lMO8usWvYB+6m9oqwk170WORHf9QdBxv63mSxZN3pUn3vdi+zT8NOb+NocG6ll6VDZ/OWqRd6DJMxqH3PtoWdNJgO62CsX0uCXO9amJc4G9TPPXwLUoGRObJyBzRYqfq+FZ+/n2UXtVQztCfKX0BZaxgv8xHzPmMLf9+r73fw2/DexoMjhDkMew1XLK1na2CpS/cSl0ecaVbb9JY+NRxVqJk1LsrM2t7K0/rhKtRdlav7v/0PNFwX1YrLslr5Opuv1sfVtI61LvvaxvscW5yFX4JGj2TVOcU/qVJQnje7J2xzL1I44pwpsE+e3l0mh9h5wPnJy7H9Y6crbjCUPcixPZXMvgSw9yf6Q+wWq7Pv7hqpP5cVr7Ny2xvGDGw6n6z/SzfZ7VKDa12lodD/v0rrs19mvUllmLtg562rD2Qblt+TcEQefdbZbicpv2GHPu/4mwaQ6+C4dr+y/4Xs9bVJ/zB0923CS1x2+1/G8twbLey6mT3QppON4yCMD/VUYfeY8KzutU+EF30tlhRvOS8lvhWp7/qhfzivppbrinv9Y++QYl7Okj4X4xeXc3qCNnarem1VRdmxEHqcPIT71OMf38G1d3jZt7VL/HachG0bZX+QFjHavCoj6C/vBW/2If8Ccp6sUXJ8NzkeZ7V+T9GYtFSaggqfZoer7Joo19pGaeiO378NSXvV278+zSxzgP7Ku219kOlz2RU0C5Es5z97BTYSA3D/6SSUy3eR26HZpl/ORKJAZEVh5bh/Kd/aKXJZd6qTuvGbEivMOVR77dlBt9HF9MiAbHskyeVrhsqTIEdwBtfc4dt4zYxDnd6cxfUHgPBvJy+L285NXPVQfc1le+U/zpCNuo0on7F9p7KGEMMf/WurYNEXFf7WxnMup+oCpnyq/Ccqewl+UyHvNZVliw7EtVqg88H/VK0Mi+yDn2uWS4+9zjn3cf0rd1J4XqMB9w8LLxtpPpG+a9j+c7nbgs/Pa8N/FUjM510JPqyXupZmHniJc+nqNZ1lasqLyu0D3Y04bprhHMPVqLY+U1Zj2FNT5xiFvkbzJElnkfHm8/CbsmZZo/pdGlSVenpnckO+kgu+V5j7K/ml9MYKInOjeBRHHyY/f/yZkMJP2pW83jYj5ectFQRu9EUdMwZV0Gou9tO1aGDHI6oNpbBS0r9swUVp7XLevSEMaW/wu0trlpurG7Kuiaf3JNnzD/H6RAwBYmuG7PGV5pF7tONR6Vo48ws2jzoPd6z/WfV1Cj0T/XkYfdkPLkHeCS4dqL6//PqGb4o/b6A7Z4075y13ykz/Yhm8aiBwA/ibGLG4O69T86ITf4STLDAdlaiz6vpkbRl74WXmxyPLGDSFPCh5XqGLscbgT/OpR7WljwXe83BJ3wUZ3xR53zV/ukJ/8sTZ8S0DkALACeEMn9q6l38+YBtf4y8jX4teAnIX+ovjvwKOh01/ohW23yh+30R2yx53yl7vkJ3+wDd8SEDkAAAAAWEkgcgAAAACwkkDkAAAAAGAlgcgBAAAAwEoCkQMAAACAlQQiBwAAAAArCUQOAAAAAFYSiBwAAAAArCQQOQAAAABYSSByAAAAALCSQOQAAAAAYCVZTuRcDMn52KT6UXvhv/8x/rRL+Yf50Ke8V6f6cS/8BwcXwPs1pP4P+8Xjbx1qHbao8+2af9v1R4uKj1s01F8BAAAAcLdZWOR4pzXK5XapzaLB/TWg1s465d8s+CfZrxyqZTKUOej7370xDT7uUm6tRO2f/qH5uOT8p0i5+xu0cc9Ia4JH/YMc5V73aHQxot5r/jefs+zfaB683aRMZpMa3/QBAAAAANxpFhM5VwNqPMhQ9ashFYYtymcK1DrX31PRVyKn+MH8M/dDaj3MUPYwKlbm0z+wiJxvDdpcq5ITZNVzqLq2pEiRcu/VqMb523wz0AcBAAAAcJdZTOT8alMpk6dWaM3GFyylf8ZE4y7tRpaizE/zTF8SXPPRXELyRc7m28VFhE3kqJmXnQ5N7+BS93mQfp+alvwFn91PkaUtFkzVTy4N3+cp86BBgxX6M/QAAADAqrKYyHG7VGFxUnP0d8WY2k+0YLnyyL1wEz/eRBxERA5fN/pSpVyuRv1L/9AixEXOmDo7ceGjztPCx7Pkb/KJrGkN3lSpK1t+1KwVlqwAAACAv4EF9+R41NvLUiZXpd5PVgIsTsbf2lR5EJ2VmYcvcrL39ezJ/SxtPG9S/3y5HTM2kSPCyypynrSN2Z0UqKWqLvnbmvVsE5asAAAAgDvPwhuP6WpMzpsy5XMbtLFVpOqHJlUyWapPlqLSYFmu+tWjai67+CZm5lZFzmmNyh+Gk1me/tscZdZq1MeSFQAAAHCnWVzkRPBOqpQN9qlca08OkfupQplMiToLqRCbyJEZpwSR81xmZdLvyekfFKhyWKd68Hldok0WdbVTfQIAAAAA7iTXEzlXQ2pt57jD13Mvy+7J0dycyCEaHRcoU2zT9PmtEbWLGSoc+0dS7cmRJ7Je9yIzS/opsMj9AAAAAHC3WF7kuH1qPNqg8j/mY+Bp8UVOSJi4DtVyLB7UTAvzvUG5TJby7+a/fs8mcuiiSxV5784v/f28RYW1CnUv9PcUyCxV6HF5jXrKCktWAAAAwJ1mYZHj/epT+6BE+Z0G9ZbYKOye1Kn4MEfrInLu5fQSUY5yuSJVj/s0DoTDjyaLHIt4mTCi7n5lmlZmnXIPi1TZ705mb7zTBhW2y1Q7rFF5K0/1YMZpLiNqP+V83V+nDb6u/LavNx77LyDM59b5fln+rUyNU/ublgEAAADwZ1l8JufSpfHi2mYp3M+7S703J4ReQpsulQEAAADg38C1Nx7fHh45B7vUCZabAAAAAAAW4G6KnKsx9Q5kKeg3TRkBAAAAYOW4kyLHGzrUxwwOAAAAAK7BHV6uAgAAAABYHogcAAAAAKwkEDkAAAAAWEkgcgAAAACwkkDkAAAAAGAlgcgBAAAAwEoCkQMAAACAlQQiBwAAAAArCUQOAAAAAFYSiBwAAAAArCQQOQAAAABYSSByAAAAALCSQOQAAAAAYCWByAEAAADASgKRAwAAAICVBCIHAAAAACsJRA4AAAAAVhKIHAAAAACsJBA5AAAAAFhJIHIAAAAAsJJA5AAAAABgJYHIAQAAAMBKApEDAAAAgJUEIgcAAAAAKwlEDgAAAABWEogcAAAAAKwkEDkAAAAAWEkgcgAAAACwkkDkAAAAAGAlgcgBAAAAwEoCkQMAAACAlQQiBwAAAAArCUQOAAAAAFYSiBwAAAAArCQ3LHI8Gv5To+L9DGXWNqjSGevjCVx5NPrWodZemZpn+hhYCbwfHWoe9Wh0pQ9Y8MZDcj7WqfK6S3M8BQAAAFiYBUVOn5oP85Q3Prufpt3T+J8SCxuXyB1Q56hJnR+e/iWBiwG1jypUyGSodqqP3QDjT7s6fxXq/NQHFWPqvjLz3+QSxcuUf1yh2mGT2idDcieddPRa/hz19W8+7rBHzRdFyudy+pwyVY8dGs/o6FeTMXV2WOhmslRPFK8scL+2qLqzSZkn7fQi56wZroPoJ1Int0m8votUOezQgJvAQly5NDxpsyhskzNc5OIkn4z49KI24cHHeNin4YX+noqE2DDu0m7o+C515fCkjU6PzUQNiHocL+rU/OgslreYzwT3i9ovRT4040leejT4pQ+mIWaP+MeMqam4GtNAYpX+Op+0MS8tXDdnDjkn4c9i/sNIv3FQpvwW50c+T2vU+b5oY4pwOWLbdKh/rr/PwxJfynt1qh9zu05Vz3ZbqM/ZiH+dh+GTLzrhQWLUdxZp1+IjXzjGHLao843zsUAdm221+jmpPjxy/jPN28I+fIssNZMz+lDkDqxI7ZCAGFDjQYnaMx1BDFGg5jf9VdGn2g2LHMXPNhU5XelAY7MJwxYVXzv6i49fJiP/LMBaO1nK7kSud2p8Huc3dLlHw/clyq4VqHFqOMGVQ7W1Jct23ubGdYMzHJ5D9UdNrqXfxHhAzmk4YI4+suj7HC7R+GNpMZGjGFG76NeteZ33tUqZg98hcjwavC1wfZeo9c2s7xG1nmSo9HGB0vA17Z11Kr0f0PiX+Bz/++NI/5gS9mcZKJRlgDGB031Spd4ifYTLPvI4Rxv3N2h9yTap6jOzS71LfUDBovdphjYOI3Uj7XA/3A6tKBtlqXTM/nTBwVq1tSK1hvr3NEhb5DIVjy22PU+ZD4VH/YMcZV5y27xwaXTaoNJajm01v/tSnHL8KHJM0V/7BzIYqHEU9FFxaEEfHn0Qm0/TSEvqmDcXif1SjvBnIf/heC12rH4x2s6vHlVzXO+LtgfBZSG3k6PCqxb1f6asmwmR+OJxPX+pUi6Tpp7H3O7itlCf593UQtSvG44lH+JlH74vUvVEf0nDJfexuQLVTkbcfkbUe52jHPvYQlYJ+tPt1sR3Q3D/UuW+LpOpkrOQ79w+S4kcP5BxADWt9IuddG5DswmhWxI5kh8eYec47RwH11CFym+RQOKXqRauIA7C+ehshASpTD4UYD0WPpvWBuDPaCxTNvdT5WY77O8N2lxYTNwkLnWfx22xnMjRgSTaMUl9LRBIlkXEVDYh4A3ebi4kctxOORw4uMMtZMrUWXAUPHjLHe8at0ktLlwefVW/LhTGDK7RJnWbCV3r8gh0LUuZB42QyBYfT5NHJV5Dbc7vhLJR0TQTv0zWurHEg0Q4mNe4LLvGiHb4Pk+ZnU46H5b4YfhtVOSoQdQC7d47a9DuznIiJ3XMmwvb9jqx5Yr7hVyGNi0dr8f2ktja+K4PpEELppqzbCSwx5f+QdyH0zI6FmGSvj1K3eS4/8pw2etn4evkt0XapqywhMrC7bGSqVB3EfNIG9kucGzapEZoksLH7VSosM3tYAk/vG2uIXKmhXG/tan5ike2mQJVDutUP2T1HDGgN+xSc7/MooM7gddyTp26agpxGlAn0/8Py1T7EteL3nnwe57KBx0ahkaLEVTgcvQoJ9IhzRA5oaNavYYcSokcU6jx6H2bG0RSI790k6cGfzmT8hRfNKl3Lnl0qX9cp91H3KC2K8pO9eO+33HLdO5hhYoyJfi4Qk0nfEfvp6THtud/j77UqPyQG9bn/6HhpybVnnKDYYFZVfXT9TvVYHpY0ntao/aZpQQ8Imqpa/xP69Ql97Q1+e6nNaJu8F3n1a9LPy90IWnsUoGVfuHFNB1B2V1sdzWm/kfJs9iiRYNZdRsEIaMOvfMBjS49ct3kQDI+aVH1qUynFqlyFFlGvHJp0KlRXaZZpcxSL0+bNIglN6e+edQ3zYJLvVfrLD5K1LHOcPrCL9xZ+6Piyie2z5yljdA+tkvufPk6JegveQT88jpizyJyUudlSK2H3GG9nXYFSnAdNf7/7Z2/axvLFsf/HnUCg4qAIUVcqbIgYJFGYHgCQ0QKi1tEXAgiEOTimRRGKYJuEWEI4kJARXAgoEAe4kFQIODwAiqC7oOAwIUgoMJw3jmzs9Ls7Eg7K8e2rt73AwuWZO3Ozo8z3znnzCowkLPJakq9J56G9ueIBp9MV798N2x/R+jFOOZu818kchyYImfw0l0Odfx+xn2O+6jRt5XIMSdO6/Ol8Ar9+PcOjZR3eW67oqFA+5AQvf4/X5uXxJT72wJPmE9ZAhFr9g0DEUDiJXrSiwkgJ1OuExZMLg+If1+J2xfBWV8+iJcjz20s9sZzHMm1Gn3xxnI58nxNo0+oz1K0j+qfj7pzeyAihxdEfalQ33GtxkiXuo/YXj3tW23B9XVQp/arFevnmvklIkcm8sl76ai8krzgv/mITexi/L+2eQCVqP3V/B9tfB5VqXLSVbHL7lGRzxU1gKLo89zYoTgfv6vTDq+AhwsFhDZc2tWducffDTuKl8jRbun8MQ3MFrVFzrhLZS5/4VUa3zmj3Ht8njDk93Eeaply3fSecud+2lP1pCZuvdqZGelvrciKX+qjsLvNQrNMzRcNavCkUrqTo0p3zFXPE/irEmVKLB5U+8gNyWS9wwNJ35y47BdM3FM2fBW+RzMeO3pdocx2Yx4O4Un2ePdY1fH5H0Uq5HlyD+tTDPcFG0I5x/ug7UMhoOr9fpmqD3mQvO9T/32bqmzUzEkyTtwI9Z/ZHsIoI75OznDDq/4zMx7n1HpQoPwdPuezJgv2Yz4KlNttRtteSNXeLGIec99jkd36pt+KwAaZhV904g3uTQkfVW+6vhyHPcZCD1Nhj/vFkrpIxiFyUpRFvFmZ+zw21SsRcuL1DcThrN4u+RrcHq7+loie+MLwnIwXV5nUMWu/axI5ExGXxiJKbKGrHHI4BLgSOSt5QVjoPa3RmYx/ZZMM2yW21nV9dczL4G3zkpD6e9Ri292jHo/hgZlX5lGWwJtlRQZm6Py+LS6TfmcZyjO6xffE/XX0he2JlX/i11dcImdK/aey8FwQrlmC1HMxDJN6jiP5jhp/yivF9pBFZFi82We+DMU7nKXiC16A8vUHPL9W3qQrTzhGpjxPZW1PM88d5RNeZMb603rwa0SOYA80F1JRES+IEBif2nujhyt3muEy1UYt6tqW7y1xq5qG60KUK08coUvZYdSCe9KeqCcVKtzNU/lFj2J5oLbIUeGFBcZzGeo8Ru6CrFa/zS+mBr5ZxgmLBEmkntWdYyJS9Zulwsu4QFD3ZxpT9b+s1MPJVxLTFibGTQIFPysPvz7MU/6e4brkgVQ2hUmsPzjKy6hy8YrOFKtqklzq/tdG6E6Y8FugbRGMiyb2iy6LNNvNGpwj/3IuVlSd39ETxyLStrcYEWMVFsU18boMrC/6u9zO6XIqbNxt5Q23fTZcpMhY1qvw0SkvXkLx87VJ5bQLA42IOVOw+uGqa43DHiShPBSyqNi28vBSsqrIGf1Zo+NQWPnYXgfeNi8J7e1td7vUflalIi8Wco+spNmFiHjgOlhS/kAE+dyf9vCpRZMkUjeoupulLC++TE9IMtYY5DGscnK2CvM690XNXenDz9I24fiTsG6W7Xr5TdBLzM98Gfdl0cs2fIvFDtu8lHcxHyN6Lp6JNub8pEzt72F/St8Pr5u1ETnRRrPeU3HieZhLHSr0tcQQW4ZLeYKko0gSm8OoRe6JO/XwNa/8XSt5dZ/GPah7ylDJ6R5dgnarZnjgVJ93aGBN0DGRYzAZ9qnzosp1Yt2/Kks0XyhE3V/EmMoKSbwMOSo9aVMvwbIpBa9WSPyCr1Nl5S5iJHRdSuJ1xN0c6w/uiTNeLvd7UeJCYJknJ3CHl8l+ooE9wajXSW7xBe09USG8OpXFtS5hxnc+/cE18V5B5EiYar+kVm2hQVwNd1t5I+EL/r4sSsRAq9CboARi0D9j/cUXWdnucr9KNWkJrrrWOOyBNypZN0eFk5SJnJqVRA7XQU3Ckvrl1USOh81Li7QR1/Ws3RMIRYw7YVULF6/7C8bOfDHGXA6VB9FczCSjx2C4iJKdZ6cs/lIKFUF5lsxQkSfSNvPxpz1s2vMf/cwDXsD2TypUPe1T/5TFOS/4/UWoxhgjarEiIVb5vnhkS4F3K9Kf1oi/h8j5fMxKdh7mcrrTbGKGizvKc0nkKlL7Q9yoxe5JGi8WSmBskaP/zztmbCKdT7bQ3w3ExsyFyLhEjqjxyn6d2pKfINe1681ZvwHq/mxjqvNQKiq0lKWCaThtVHgtSCgdnVYDISWTlortslE4tBLybljkjD90Y3lgISrxjstiG1GnyLHqPMbS9k4rUIL8FZfIUeG6NDk5XJowfGEnIafH0VapyqJzjY7OqHtohp2DkFWRjW3ngPtGGiMr/ORy7fM9RnZ1psvJcS5GeFIuebeZA+7roecqMSdHfyVE9Tljt5UPgShYcHB//s+qOTmLbF5q5uPAJycnKIe9WzckGCPL7UGIMXYMVH0pz/DVcnJSo1IMstGE4zQ5Oeb4CxfFe7wgZTFq29HFBPPeDi9KZ+gQWKq8P3M+VZ7x4L5k8aseG8PE+tOa8PcQOToPItVukZjIYSQ/RzovT9YRtc/E70mvIOzdOrbIYZZNKrJt2vnMADNBVa+iZi5+Jjbhfm1SPrI111FvaUSOFUaZfBRP14LkP835yQ7XW5vaj8O4dDBpVU6aVLdDDzcscpYiO8tiRlS3ryFWvEQOM3wlOWMuF3Ra46jj/GbSptrqrA2jtJEl6s0jkmvwoc4iWdcYG0RJQnbtVvHD0VYpyiKoFey9HdqxVrFqFSi7HtMuCn7yhHHYoJ5rKDnKMztmF9Ft41hVS1m9J/Zxn9ove9G+qTzNetytkpOTZDeTsMfaFXJynDZvKbJRokW9yNgKdr8pseFTFjVpRkMgM5T3L5vCK2SNJ0bVse5vq+fkpEflyIUejxDPcSRtY9vK0EMmIafYZwsJ8v7s/+8/0/fnO64j86m2W49a1DrUCcxMvD+tB1cQOdZkqgZaNFk4hpqE7clGG9RIv7SNrKwMuVKNxGNh9LruDM0oXCJH0CrW7sCuewo8AFZCnLpPewIIkpvjz5cIVrROA8rniaw4ZDUZZrwzamAag1VtKTdEzuSz7Fax6i1J5JgrRvlf05ipybWoYqsL+SJiIXo/ajJzhcgWiZyo/YmXi1Hv+Ygcr9Udo8Vt0RRiEtrZim7P9BU58/ZuWzv8bOOYtLuKEfF6j+tJF0OFBcOdGL7IzqrH0b4XJiGbojUQ40Ye1kIcIictqi86+n6Y02SG05SAz1LhjwWDWQTOgxI1ur3ow9U+Dmhkjs0EgtwGx7NYdtluhYI1qSxqDEQXA0r0+vZFC6fI0TmEud978/G5jNhY88PP5mnbe4dtj7MwwUInsmhUkzHbkkW22YEkrcpzpyJzgx5nElqZ1W1S+8jn5oJT5ZBY3pRE9Dh25gUm1UdI6LVM46ObI23jGn+qniJjM6k8wRwU8eToOjEfg5CIPZ/qucDcaRX0p2g/9Lc510dKkcOdTrbgqvBKlrZ3S3T8cUKjdw2q7gUhj+0HVWotSsTjym3tcqfdr1Pjtwq1/vVvav1WVA8ey7KhUd+Thzjp93J7xrnY0LX29TXkaZj5ItXeujvQ5OMxlSQpUMVUK9SxJm41AcwazH1Pih9dJYhyeXnvv9T/pzzdVsog7xWoYj6kSsU9y7R9t0jVZ0HeUP2hPFiNB65LOHxjY8/nDbZ0c/09KFLjw3xITd7VKCf5Os94hS5u7p+syLnu5OcyCrvyvyNW4zmutzJVTvo0+X5G9QPZXbWgDb62qLAl+Td8rYctGozZuHMdzsp6wNc6TUpIE9ex5cGQVdhsJ03A6B2XWdVTjoq/8bVUUXiwPZbyVqnxJPBuyf+Vdaiu9CTY1j57j++zrN+LIA9JvC+JxmyEpC72q9RdJsxCpF/t5/k6QX1X9sz65tXoH0HCpMTh5SGMiaYpbO87Us6gDhvcbwsPWHjPHhAo9yz3t2h3VcDoTZXy+zU+R42Kd7l+nW57F/O+m70774+q/9/PqzGk8goeBiJy+FLCtUvEC/ehhnqCc9DH1XclH8Erv8hG+opLcIvxt0TxtxZPXHy9RQJTLyzih1vQL2ZK5y9LQb1w39lW7V2i1hej1yeVRZ+jcFAP2vyQ++J+2MdToB68qHf0cf/Py2MNurqe1XOF+H1f4ZRa5PjaPHkv7MOL63rKtqzCdkjZsmdVPi/X6ee0FcKTZL+pnm0WjCe2A/I327bIox4S24fv7i2PI547Gt52zSDRviTXh+DcheTFJJhnuG1kjgnH7hzxtpmeHI/ysK1v7PG9HDZUn62LHXx57l0nkfl0P7T1Mo7DzRzzMod9OexPiTbnBljJk3MltHtsYS5NEtodvPL3NdPICnwJqrzeQ2R2f+rwuEboPnXej9yr5eJW/2+8NU1TNuU6ts43WXL9a8Au/43zi/rPDLO9Xfcln/v0tauOCx8uxSAuD0n+Un4uaGjH+yLqlz824BcyazN3+bzKEp7D146kRRYlN/BgSyfq3oy6kcXp/QQvPRPYsgVtngK12+pBdMelSZr2uZbx5Fkf1wbfW+S+fMvzq22fDzdtcxzcvMgBANwOKqy1bGv+bTGl/lHtis/2+VWsR1lGr2uxJ93eGn9Zu7muGREx8rwvdyLyGrTPDddHIutWHpM1sDkQOQD8P/CjR42HzRW2Xl8zl2PqHVWomfb5I9fBOpRFdjyeVqlq7LS8TeQBrlX7hyKvm8sRdR/lVCix8WeP+t02nUmMZA3a51bqYwnrVp4Ia2JzIHIA2HimNOwP1vLX8KfDfuwZUbfFWpTlx3nKX6K/TvSvm99Sv5kMB0GCuX5q8e23z+3WR5x1K4/J+tgciBwAAAAAbCQQOQAAAADYSCByAAAAALCRQOQAAAAAYCOByAEAAADARgKRAwAAAICNBCIHAAAAABsJRA4AAAAANhKIHAAAAABsJBA5AAAAANhIIHIAAAAAsJGsJnIuhtT/s0XHLzupf2dl/LZGhfsF42jRQH+2EpdTGg8HNLzQry3GX7rUft6m7peUv4P6uWWVs0Zncgrr/dbn4N8BAAAAsF6kFjnTTw3K52vUYdEw+XFO7YMcFU5S/sz7ZZ8amQxlnvX1Gysw6dPxfp62725Tjs/V+KTfnzGlwVGe8k97NLoYUe8p/32U9ufoR9QpcTmfRss5Oi1T+fVQ/WgcAAAAANaTdCLn8pya9zJU/2BIhWGbCpkitb/r114MlMgpvJLfz78qwbliIudLk3a26tQPizrtU31rh5pf9GsvxtT5B4scFkchIvJKqcUSAAAAAG6adCLnR4fKmQK1I9okEBnlN2PWBGdUM0I59jEP7ejv/JkyhOTELXLOX+xQ5qDLMiVkQmeHGdp5cc5/D6jlKF941N6G37JEzs8+NR53aAQPDgAAALD2pBM5kzOqiqCIRG8CIaAEy+WUJheThcc8vHPdImdM3YOoB0YYHPF7WvhMHeWbHTM3jSFyLkfUOWCh9lV/BAAAAIC1JmVOzpR6T7KUydep9xcrAUn6/dKh6r20guX6RY4dZhKUyPlHR4kcP8Lz9GjwvEaVgyxlD88oXao1AAAAAG6D1InHdDmm/kmFCvlt2t4tUf11i6qZLB2n2mX0NxM5WwU6/sSiToXrdvhayMgBAAAA1p30Isdi+rFO2XtNOpdQ1Nrk5IjHaYHIUZ6YlDk5s11gsmNrhzJ7bRoiLwcAAABYa64mci6H1N7Lzz0bV8zJmX6ox4RJMi6RI9u8i5QpdWikX4fbwYunwTupc3JCLs6oupWl6lsErQAAAIB1ZnWRMxlQ88E2Vd7MZYQ/gTCJeVqeZ+fbyr82KZ/h138kbTN3i5xAjJSp80O//t6m4laVzhY8NNCNO+w1fMUC6l6DBohaAQAAAGtLapEz/TGgzlGZCgdN6n1PP8tPPh5T6X5ePcAvcycfCRNtbxnenW8tFjlxgTHj+xk1fitRIZ+jTHiu/So13s1F1/RTk4p7FWo8b1BlV+fV+PK9QxVdpuDcx9Sf6PLra+byJap2VxF5AAAAALhu0ntyfk5ofEMejMm7mn6uzRXQITQ8nRgAAAD4/+LKicfXx5T6RzXqhuEmAAAAAIAUrKfIuRxT76hCTWzVBgAAAMCKrKXImQ77NIAHBwAAAABXYI3DVQAAAAAAqwORAwAAAICNBCIHAAAAABsJRA4AAAAANhKIHAAAAABsJBA5AAAAANhIIHIAAAAAsJFA5AAAAABgI4HIAQAAAMAGQvQ/iXfeqlJbr5MAAAAASUVORK5CYII=)\n",
        "\n",
        "Generate the check digit for the following NRICs:\n",
        "\n",
        "*   S8379951   [Answer: Z]\n",
        "*   T0971414   [Answer: B]  \n",
        "*   F9974757   [Answer: U]\n",
        "*   G0211301   [Answer: K]\n",
        "\n",
        "\n",
        "\n",
        "\n",
        "\n",
        "\n",
        "\n",
        "\n",
        "\n"
      ],
      "metadata": {
        "id": "nueVMJ1rrV7f"
      }
    },
    {
      "cell_type": "code",
      "source": [
        "#uncomment the nric being used at the moment\n",
        "nric = \"S8379951\"\n",
        "#nric = \"T0971414\"\n",
        "#nric = \"F9974757\"\n",
        "#nric = \"G0211301\"\n",
        "\n",
        "weights = [2, 7, 6, 5, 4, 3, 2]\n",
        "\n",
        "last_letter_ST = {0:'J', 1:'Z', 2:'I', 3:'H', 4:'G', 5:'F', 6:'E', 7:'D', \\\n",
        "                     8:'C', 9:'B', 10:'A'}\n",
        "\n",
        "last_letter_FG = {0:'X', 1:'W', 2:'U', 3:'T', 4:'R', 5:'Q', 6:'P', 7:'N', \\\n",
        "                      8:'M', 9:'L', 10:'K'}\n",
        "\n",
        "first_letter = nric[0]\n",
        "digits = nric[1:8]\n",
        "\n",
        "total = 0\n",
        "for i in range(7):\n",
        "    total += int(digits[i]) * weights[i]\n",
        "\n",
        "if first_letter in \"TG\":\n",
        "    total += 4\n",
        "\n",
        "remainder = total % 11\n",
        "\n",
        "if first_letter in \"ST\":\n",
        "    check_digit = last_letter_ST[remainder]\n",
        "else:\n",
        "    check_digit = last_letter_FG[remainder]\n",
        "\n",
        "print(f\"Full NRIC: {nric}{check_digit}\")\n"
      ],
      "metadata": {
        "id": "erO5jiTxra83",
        "colab": {
          "base_uri": "https://localhost:8080/"
        },
        "outputId": "9235d255-7d88-4e48-fec4-cc875fac66cc"
      },
      "execution_count": null,
      "outputs": [
        {
          "output_type": "stream",
          "name": "stdout",
          "text": [
            "Full NRIC: S8379951Z\n"
          ]
        }
      ]
    }
  ]
}