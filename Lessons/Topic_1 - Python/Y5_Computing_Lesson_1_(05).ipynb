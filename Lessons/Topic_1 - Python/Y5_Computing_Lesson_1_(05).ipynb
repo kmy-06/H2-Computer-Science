{
  "nbformat": 4,
  "nbformat_minor": 0,
  "metadata": {
    "colab": {
      "provenance": []
    },
    "kernelspec": {
      "name": "python3",
      "display_name": "Python 3"
    },
    "language_info": {
      "name": "python"
    }
  },
  "cells": [
    {
      "cell_type": "markdown",
      "source": [
        "##Lesson 5 - Loops"
      ],
      "metadata": {
        "id": "4vKCbrwp4Nwj"
      }
    },
    {
      "cell_type": "markdown",
      "source": [
        "> All additional codes are for self-interest learning purposes. <br> Due to previous algorithm language is C++  :("
      ],
      "metadata": {
        "id": "oU0CyRLlpx1a"
      }
    },
    {
      "cell_type": "code",
      "source": [
        "# Additional Notes\n",
        "\n",
        "help(range)"
      ],
      "metadata": {
        "colab": {
          "base_uri": "https://localhost:8080/"
        },
        "id": "HBWBhkSXM2AL",
        "outputId": "7c67b0fa-ad23-4ee9-faf8-6cb2bca0a618"
      },
      "execution_count": null,
      "outputs": [
        {
          "output_type": "stream",
          "name": "stdout",
          "text": [
            "Help on class range in module builtins:\n",
            "\n",
            "class range(object)\n",
            " |  range(stop) -> range object\n",
            " |  range(start, stop[, step]) -> range object\n",
            " |  \n",
            " |  Return an object that produces a sequence of integers from start (inclusive)\n",
            " |  to stop (exclusive) by step.  range(i, j) produces i, i+1, i+2, ..., j-1.\n",
            " |  start defaults to 0, and stop is omitted!  range(4) produces 0, 1, 2, 3.\n",
            " |  These are exactly the valid indices for a list of 4 elements.\n",
            " |  When step is given, it specifies the increment (or decrement).\n",
            " |  \n",
            " |  Methods defined here:\n",
            " |  \n",
            " |  __bool__(self, /)\n",
            " |      True if self else False\n",
            " |  \n",
            " |  __contains__(self, key, /)\n",
            " |      Return key in self.\n",
            " |  \n",
            " |  __eq__(self, value, /)\n",
            " |      Return self==value.\n",
            " |  \n",
            " |  __ge__(self, value, /)\n",
            " |      Return self>=value.\n",
            " |  \n",
            " |  __getattribute__(self, name, /)\n",
            " |      Return getattr(self, name).\n",
            " |  \n",
            " |  __getitem__(self, key, /)\n",
            " |      Return self[key].\n",
            " |  \n",
            " |  __gt__(self, value, /)\n",
            " |      Return self>value.\n",
            " |  \n",
            " |  __hash__(self, /)\n",
            " |      Return hash(self).\n",
            " |  \n",
            " |  __iter__(self, /)\n",
            " |      Implement iter(self).\n",
            " |  \n",
            " |  __le__(self, value, /)\n",
            " |      Return self<=value.\n",
            " |  \n",
            " |  __len__(self, /)\n",
            " |      Return len(self).\n",
            " |  \n",
            " |  __lt__(self, value, /)\n",
            " |      Return self<value.\n",
            " |  \n",
            " |  __ne__(self, value, /)\n",
            " |      Return self!=value.\n",
            " |  \n",
            " |  __reduce__(...)\n",
            " |      Helper for pickle.\n",
            " |  \n",
            " |  __repr__(self, /)\n",
            " |      Return repr(self).\n",
            " |  \n",
            " |  __reversed__(...)\n",
            " |      Return a reverse iterator.\n",
            " |  \n",
            " |  count(...)\n",
            " |      rangeobject.count(value) -> integer -- return number of occurrences of value\n",
            " |  \n",
            " |  index(...)\n",
            " |      rangeobject.index(value) -> integer -- return index of value.\n",
            " |      Raise ValueError if the value is not present.\n",
            " |  \n",
            " |  ----------------------------------------------------------------------\n",
            " |  Static methods defined here:\n",
            " |  \n",
            " |  __new__(*args, **kwargs)\n",
            " |      Create and return a new object.  See help(type) for accurate signature.\n",
            " |  \n",
            " |  ----------------------------------------------------------------------\n",
            " |  Data descriptors defined here:\n",
            " |  \n",
            " |  start\n",
            " |  \n",
            " |  step\n",
            " |  \n",
            " |  stop\n",
            "\n"
          ]
        }
      ]
    },
    {
      "cell_type": "code",
      "source": [
        "# Convert to list\n",
        "print(list(range(10)))\n",
        "print(list(range(5,10)))\n",
        "print(list(range(5,10,2)))\n",
        "print(list(range(10,0,-1)))\n",
        "print(list(range(10,-1,-1)))"
      ],
      "metadata": {
        "colab": {
          "base_uri": "https://localhost:8080/"
        },
        "id": "kg6lxPDHNFEd",
        "outputId": "bc9eae57-f059-426b-a8fc-5d8f6f2a81d7"
      },
      "execution_count": null,
      "outputs": [
        {
          "output_type": "stream",
          "name": "stdout",
          "text": [
            "[0, 1, 2, 3, 4, 5, 6, 7, 8, 9]\n",
            "[5, 6, 7, 8, 9]\n",
            "[5, 7, 9]\n",
            "[10, 9, 8, 7, 6, 5, 4, 3, 2, 1]\n",
            "[10, 9, 8, 7, 6, 5, 4, 3, 2, 1, 0]\n"
          ]
        }
      ]
    },
    {
      "cell_type": "code",
      "source": [
        "# For loop\n",
        "for i in range(10, -1, -1):\n",
        "    print(i)\n",
        "\n",
        "for _ in range(0, 11, 1):\n",
        "    print(_)\n",
        "\n",
        "print(i)\n",
        "print(_)"
      ],
      "metadata": {
        "colab": {
          "base_uri": "https://localhost:8080/"
        },
        "id": "ETkb--VFORnr",
        "outputId": "b95b1f51-10c8-460f-b2d8-7894046bd6d0"
      },
      "execution_count": null,
      "outputs": [
        {
          "output_type": "stream",
          "name": "stdout",
          "text": [
            "10\n",
            "9\n",
            "8\n",
            "7\n",
            "6\n",
            "5\n",
            "4\n",
            "3\n",
            "2\n",
            "1\n",
            "0\n",
            "0\n",
            "1\n",
            "2\n",
            "3\n",
            "4\n",
            "5\n",
            "6\n",
            "7\n",
            "8\n",
            "9\n",
            "10\n",
            "0\n",
            "10\n"
          ]
        }
      ]
    },
    {
      "cell_type": "code",
      "source": [
        "# While loop\n",
        "count = 0\n",
        "\n",
        "while count < 10:\n",
        "    print(\"Count: \", count)\n",
        "    count += 1 # Increment the 'count', otherwise it will be an infinite loop!!!\n",
        "\n",
        "    if count < 3:\n",
        "        print(\"Hi There!\")\n",
        "        continue # As if the 'break' statement doesm't exist.\n",
        "        break # Ignored\n",
        "\n",
        "    if count == 6:\n",
        "        break # Break out of the while loop\n",
        "\n",
        "    continue # Ingore everything below\n",
        "    break # Ignored"
      ],
      "metadata": {
        "colab": {
          "base_uri": "https://localhost:8080/"
        },
        "id": "7NbUF1LBPiBN",
        "outputId": "6bfec9be-e5fb-4e0b-c7ed-aca3b4d3c3e1"
      },
      "execution_count": null,
      "outputs": [
        {
          "output_type": "stream",
          "name": "stdout",
          "text": [
            "Count:  0\n",
            "Hi There!\n",
            "Count:  1\n",
            "Hi There!\n",
            "Count:  2\n",
            "Count:  3\n",
            "Count:  4\n",
            "Count:  5\n"
          ]
        }
      ]
    },
    {
      "cell_type": "markdown",
      "source": [
        "##Examples"
      ],
      "metadata": {
        "id": "UlmB8F0w4TRU"
      }
    },
    {
      "cell_type": "markdown",
      "source": [
        "**Example 1 (Convert from miles to kilometres)**\n",
        "\n",
        "Write a program using a loop that displays the following table (Note: 1 mile = 1.60934 km):\n",
        "```\n",
        "1 miles = 1.60934 kilometres\n",
        "2 miles = 3.21868 kilometres\n",
        "3 miles = 4.82802 kilometres\n",
        "4 miles = 6.43736 kilometres\n",
        "5 miles = 8.0467 kilometres\n",
        "6 miles = 9.65604 kilometres\n",
        "7 miles = 11.26538 kilometres\n",
        "8 miles = 12.87472 kilometres\n",
        "9 miles = 14.48406 kilometres\n",
        "10 miles = 16.0934 kilometres\n",
        "```"
      ],
      "metadata": {
        "id": "VN12JXrr8g9i"
      }
    },
    {
      "cell_type": "code",
      "source": [
        "# code here\n",
        "for i in range(1, 11):\n",
        "    km = i * 1.60934\n",
        "    print(i, \"miles =\", km, \"kilometres\")"
      ],
      "metadata": {
        "id": "1H-OY37uAibv",
        "colab": {
          "base_uri": "https://localhost:8080/"
        },
        "outputId": "41b14b88-ff14-4866-dff0-d0c9891c1240"
      },
      "execution_count": 8,
      "outputs": [
        {
          "output_type": "stream",
          "name": "stdout",
          "text": [
            "1 miles = 1.60934 kilometres\n",
            "2 miles = 3.21868 kilometres\n",
            "3 miles = 4.82802 kilometres\n",
            "4 miles = 6.43736 kilometres\n",
            "5 miles = 8.0467 kilometres\n",
            "6 miles = 9.65604 kilometres\n",
            "7 miles = 11.26538 kilometres\n",
            "8 miles = 12.87472 kilometres\n",
            "9 miles = 14.48406 kilometres\n",
            "10 miles = 16.0934 kilometres\n"
          ]
        }
      ]
    },
    {
      "cell_type": "markdown",
      "source": [
        "**Example 2 (FOR loop) KIV**\n",
        "\n",
        "Write a program to represent the following pseudocode:\n",
        "\n",
        "![image.png](data:image/png;base64,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)"
      ],
      "metadata": {
        "id": "_bhcJ6tiv2pa"
      }
    },
    {
      "cell_type": "code",
      "source": [
        "# code here\n",
        "for term in range(1, 5):\n",
        "    for week in range(1, 11):\n",
        "        print(term, week)\n"
      ],
      "metadata": {
        "id": "x9vM0ssM1uG2",
        "colab": {
          "base_uri": "https://localhost:8080/"
        },
        "outputId": "60331a3f-d3b0-4548-e1b6-73f183b7c18f"
      },
      "execution_count": 9,
      "outputs": [
        {
          "output_type": "stream",
          "name": "stdout",
          "text": [
            "1 1\n",
            "1 2\n",
            "1 3\n",
            "1 4\n",
            "1 5\n",
            "1 6\n",
            "1 7\n",
            "1 8\n",
            "1 9\n",
            "1 10\n",
            "2 1\n",
            "2 2\n",
            "2 3\n",
            "2 4\n",
            "2 5\n",
            "2 6\n",
            "2 7\n",
            "2 8\n",
            "2 9\n",
            "2 10\n",
            "3 1\n",
            "3 2\n",
            "3 3\n",
            "3 4\n",
            "3 5\n",
            "3 6\n",
            "3 7\n",
            "3 8\n",
            "3 9\n",
            "3 10\n",
            "4 1\n",
            "4 2\n",
            "4 3\n",
            "4 4\n",
            "4 5\n",
            "4 6\n",
            "4 7\n",
            "4 8\n",
            "4 9\n",
            "4 10\n"
          ]
        }
      ]
    },
    {
      "cell_type": "markdown",
      "source": [
        "**Example 3 (Calculate the average)**\n",
        "\n",
        "Write a program that prompts the user to enter marks and calculates the average marks.\n",
        "\n",
        "Sample interaction:\n",
        "```\n",
        "Enter a mark or -1 to end: 75\n",
        "Enter a mark or -1 to end: 50\n",
        "Enter a mark or -1 to end: 100\n",
        "Enter a mark or -1 to end: -1\n",
        "The average mark was 75.0\n",
        "\n",
        "```"
      ],
      "metadata": {
        "id": "DSnMaQd0AFJD"
      }
    },
    {
      "cell_type": "code",
      "source": [
        "# code here\n",
        "\n",
        "total = 0\n",
        "count = 0\n",
        "\n",
        "while True:\n",
        "    marks = int(input(\"Enter a mark or -1 to end: \"))\n",
        "    if marks == -1:\n",
        "        if count == 0:\n",
        "            print(\"No data, existing\")\n",
        "            break\n",
        "        else:\n",
        "            print(\"The average mark was \", total/count)\n",
        "            break\n",
        "    else:\n",
        "        total+=marks\n",
        "        count+=1\n"
      ],
      "metadata": {
        "id": "g9zlLlAru4Wm",
        "colab": {
          "base_uri": "https://localhost:8080/"
        },
        "outputId": "1d67f5b6-d3d2-4ca4-90f4-13fbb995bb13"
      },
      "execution_count": 11,
      "outputs": [
        {
          "output_type": "stream",
          "name": "stdout",
          "text": [
            "Enter a mark or -1 to end: 75\n",
            "Enter a mark or -1 to end: 50\n",
            "Enter a mark or -1 to end: 100\n",
            "Enter a mark or -1 to end: -1\n",
            "The average mark was  75.0\n"
          ]
        }
      ]
    },
    {
      "cell_type": "markdown",
      "source": [
        "**Example 4 (WHILE loop) KIV**\n",
        "\n",
        "Write a program to represent the following pseudocode:\n",
        "\n",
        "![image.png](data:image/png;base64,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)"
      ],
      "metadata": {
        "id": "pSEZH4CHweY_"
      }
    },
    {
      "cell_type": "code",
      "source": [
        "# code here\n",
        "term = 1\n",
        "\n",
        "while term <= 4:\n",
        "    week = 1\n",
        "    while week <= 10:\n",
        "        print(term, week)\n",
        "        week += 1\n",
        "    term += 1\n",
        "\n"
      ],
      "metadata": {
        "id": "RJVWmzQi19g3",
        "colab": {
          "base_uri": "https://localhost:8080/"
        },
        "outputId": "9254114a-dc5b-4686-af69-5149654ecd46"
      },
      "execution_count": 15,
      "outputs": [
        {
          "output_type": "stream",
          "name": "stdout",
          "text": [
            "1 1\n",
            "1 2\n",
            "1 3\n",
            "1 4\n",
            "1 5\n",
            "1 6\n",
            "1 7\n",
            "1 8\n",
            "1 9\n",
            "1 10\n",
            "2 1\n",
            "2 2\n",
            "2 3\n",
            "2 4\n",
            "2 5\n",
            "2 6\n",
            "2 7\n",
            "2 8\n",
            "2 9\n",
            "2 10\n",
            "3 1\n",
            "3 2\n",
            "3 3\n",
            "3 4\n",
            "3 5\n",
            "3 6\n",
            "3 7\n",
            "3 8\n",
            "3 9\n",
            "3 10\n",
            "4 1\n",
            "4 2\n",
            "4 3\n",
            "4 4\n",
            "4 5\n",
            "4 6\n",
            "4 7\n",
            "4 8\n",
            "4 9\n",
            "4 10\n"
          ]
        }
      ]
    },
    {
      "cell_type": "markdown",
      "source": [
        "##Class Practice"
      ],
      "metadata": {
        "id": "fv0kYQlyv4L3"
      }
    },
    {
      "cell_type": "markdown",
      "source": [
        "**Q1 (5.4.2 Eg 6)**\n",
        "\n",
        "Write a program which:\n",
        "\n",
        "•\tinputs the top speeds (in km/hr) of 5 cars\n",
        "\n",
        "•\toutputs the fastest speed and the slowest speed\n",
        "\n",
        "•\toutputs the average (mean) speed of all the 5 cars\n",
        "\n"
      ],
      "metadata": {
        "id": "QlNO3lityz8M"
      }
    },
    {
      "cell_type": "code",
      "source": [
        "# Define the number of cars\n",
        "cars = 5\n",
        "\n",
        "# Create an empty list to store the speeds\n",
        "speeds = []\n",
        "\n",
        "# Input the top speeds of the 5 cars\n",
        "for i in range(cars):\n",
        "    speed = float(input(f\"Enter the top speed of car {i + 1} : \"))\n",
        "    speeds.append(speed)\n",
        "\n",
        "# Using built-in functions\n",
        "fastest = max(speeds)\n",
        "slowest = min(speeds)\n",
        "\n",
        "# Calculate average speed\n",
        "average_speed = sum(speeds) / cars\n",
        "\n",
        "\n",
        "print(\"Fastest speed:\", fastest)\n",
        "print(\"Slowest speed:\", slowest)\n",
        "print(\"Average speed:\", round(average_speed, 2))"
      ],
      "metadata": {
        "colab": {
          "base_uri": "https://localhost:8080/"
        },
        "id": "6y-KEAn1qX5y",
        "outputId": "b5e71acb-cab1-4917-d9dc-3cc4885a61de"
      },
      "execution_count": 20,
      "outputs": [
        {
          "output_type": "stream",
          "name": "stdout",
          "text": [
            "Enter the top speed of car 1 : 1\n",
            "Enter the top speed of car 2 : 5\n",
            "Enter the top speed of car 3 : 2\n",
            "Enter the top speed of car 4 : 4\n",
            "Enter the top speed of car 5 : 3\n",
            "Fastest speed: 5.0\n",
            "Slowest speed: 1.0\n",
            "Average speed: 3.0\n"
          ]
        }
      ]
    },
    {
      "cell_type": "code",
      "source": [
        "# code here\n",
        "cars = int(input(\"Number of cars:\"))\n",
        "\n",
        "total = 0\n",
        "fastest = float('-inf')  # A very low number so any input speed is higher\n",
        "slowest = float('inf')\n",
        "\n",
        "for i in range(cars):\n",
        "    speed = int(input(\"Enter top speed: \"))\n",
        "    total += speed\n",
        "    if speed > fastest:\n",
        "        fastest = speed # Not the '==' sign, '==' return true or false.\n",
        "    if speed < slowest:\n",
        "        slowest = speed\n",
        "\n",
        "print(\"fastest speed\", fastest)\n",
        "print(\"slowest speed\", slowest)\n",
        "print(\"average speed\", total/cars)\n"
      ],
      "metadata": {
        "id": "WvMg-lec1_8n",
        "colab": {
          "base_uri": "https://localhost:8080/"
        },
        "outputId": "59304c32-bb5f-4a30-d7f4-1b4fcf5b2932"
      },
      "execution_count": 22,
      "outputs": [
        {
          "output_type": "stream",
          "name": "stdout",
          "text": [
            "Number of cars:3\n",
            "Enter top speed: 1\n",
            "Enter top speed: 5\n",
            "Enter top speed: 4\n",
            "fastest speed 5\n",
            "slowest speed 1\n",
            "average speed 3.3333333333333335\n"
          ]
        }
      ]
    },
    {
      "cell_type": "markdown",
      "source": [
        "**Q2 (Flowcharts-Class Practice 1 Q1)**\n",
        "\n",
        "The following formula is used to calculate n:\n",
        "\n",
        "n = (x * x) / (1 – x).\n",
        "\n",
        "The value x = 0 is used to stop the algorithm. The calculation is repeated using values of x until the value x = 0 is input. There is also a need to check for error conditions (x = 1). The values of n and x should be output.\n",
        "\n",
        "Write an program for the above.\n"
      ],
      "metadata": {
        "id": "GPlsCHW2sLTg"
      }
    },
    {
      "cell_type": "code",
      "source": [
        "# code here\n",
        "while True:\n",
        "\n",
        "    x = float(input(\"Enter a value for x (enter 0 to stop): \"))\n",
        "\n",
        "    if x == 0:\n",
        "        print(\"Exiting the algorithm.\")\n",
        "        break\n",
        "\n",
        "    if x == 1:\n",
        "        print(\"Error: x cannot be 1 because it causes division by zero. Please try a different value.\")\n",
        "        continue\n",
        "\n",
        "    n = (x * x) / (1 - x)\n",
        "\n",
        "    print(f\"For x = {x}, n = {n}\\n\")\n",
        "\n"
      ],
      "metadata": {
        "id": "lPlbqIVZCX3e",
        "colab": {
          "base_uri": "https://localhost:8080/"
        },
        "outputId": "5e20ea98-b83a-4b99-b938-8bbea1a45698"
      },
      "execution_count": 23,
      "outputs": [
        {
          "output_type": "stream",
          "name": "stdout",
          "text": [
            "Enter a value for x (enter 0 to stop): 7\n",
            "For x = 7.0, n = -8.166666666666666\n",
            "\n",
            "Enter a value for x (enter 0 to stop): 2\n",
            "For x = 2.0, n = -4.0\n",
            "\n",
            "Enter a value for x (enter 0 to stop): -1\n",
            "For x = -1.0, n = 0.5\n",
            "\n",
            "Enter a value for x (enter 0 to stop): -3\n",
            "For x = -3.0, n = 2.25\n",
            "\n",
            "Enter a value for x (enter 0 to stop): 0\n",
            "Exiting the algorithm.\n"
          ]
        }
      ]
    },
    {
      "cell_type": "markdown",
      "source": [
        "**Q3 (Flowcharts-Class Practice 1 Q2)**\n",
        "\n",
        "Write a program which takes temperatures input over a 5-day period (once per day) and outputs the number of days when the temperature (total1) was below 200C and the number of days when the temperature (total2) was 200C and above."
      ],
      "metadata": {
        "id": "mw73BSl6smjy"
      }
    },
    {
      "cell_type": "code",
      "source": [
        "# code here\n",
        "\n",
        "below200 = 0\n",
        "above200 = 0\n",
        "\n",
        "for i in range(5):\n",
        "    # Get the temperature for the current day (converted to float for decimal values)\n",
        "    temperature = float(input(f\"Enter the temperature for day {i + 1} (in °C): \"))\n",
        "\n",
        "    if temperature < 200:\n",
        "        below200 += 1\n",
        "    else:\n",
        "        above200 += 1\n",
        "\n",
        "print(\"Number of days with temperature below 200°C:\", below200)\n",
        "print(\"Number of days with temperature 200°C and above:\", above200)\n",
        "\n"
      ],
      "metadata": {
        "id": "rI_Kel6tChvv",
        "colab": {
          "base_uri": "https://localhost:8080/"
        },
        "outputId": "1bf5254d-05fc-4ea9-af5d-7ac1410fcb0e"
      },
      "execution_count": 24,
      "outputs": [
        {
          "output_type": "stream",
          "name": "stdout",
          "text": [
            "Enter the temperature for day 1 (in °C): 230\n",
            "Enter the temperature for day 2 (in °C): 210\n",
            "Enter the temperature for day 3 (in °C): 278\n",
            "Enter the temperature for day 4 (in °C): 189\n",
            "Enter the temperature for day 5 (in °C): 156\n",
            "Number of days with temperature below 200°C: 2\n",
            "Number of days with temperature 200°C and above: 3\n"
          ]
        }
      ]
    },
    {
      "cell_type": "markdown",
      "source": [
        "**Q4 (5.4.2 Eg 9)**\n",
        "\n",
        "Write a program which inputs 3 numbers, each number goes through successive division by 10 until its value is less than 1. An output is produced which contains the number input and the number of times the input is being divided by 10 (Testing Data: 85, 3190, -40)"
      ],
      "metadata": {
        "id": "_Hak0CFD2EvQ"
      }
    },
    {
      "cell_type": "code",
      "source": [
        "# code here\n",
        "for i in range(3):\n",
        "    num = int(input(\"Enter a number: \"))\n",
        "    number = num\n",
        "    count = 0\n",
        "\n",
        "    while num >= 1:\n",
        "        num /= 10\n",
        "        count += 1\n",
        "\n",
        "    print(number, \"required\", count, \"division(s) by 10 to become less than 1.\\n\")\n"
      ],
      "metadata": {
        "id": "w_ZNo2u9VEEE",
        "colab": {
          "base_uri": "https://localhost:8080/"
        },
        "outputId": "eceea494-c742-43a8-9c4e-f9b56ef04542"
      },
      "execution_count": 30,
      "outputs": [
        {
          "output_type": "stream",
          "name": "stdout",
          "text": [
            "Enter a number: 85\n",
            "85 required 2 division(s) by 10 to become less than 1.\n",
            "\n",
            "Enter a number: 3190\n",
            "3190 required 4 division(s) by 10 to become less than 1.\n",
            "\n",
            "Enter a number: -40\n",
            "-40 required 0 division(s) by 10 to become less than 1.\n",
            "\n"
          ]
        }
      ]
    },
    {
      "cell_type": "markdown",
      "source": [
        "**Q5 (Computing the greatest common divisor)**\n",
        "\n",
        "A solution to find the greatest common divisor of two integers n1 and n2 is as follows:\n",
        "* First find d to be the minimum of n1 and n2\n",
        "* Then check whether d, d-1, d-2, … 2, or 1 is a divisor for both n1 and n2 in this order.\n",
        "* The first such common divisor is the greatest common divisor for n1 and n2.\n",
        "\n",
        "Write a program to implement this solution.  \n",
        "Sample interaction:\n",
        "```\n",
        "Enter n1: 12\n",
        "Enter n2: 18\n",
        "GCD: 6\n",
        "```"
      ],
      "metadata": {
        "id": "PgX5tR49JuIA"
      }
    },
    {
      "cell_type": "code",
      "source": [
        "# code here\n",
        "n1 = int(input(\"Enter n1: \"))\n",
        "n2 = int(input(\"Enter n2: \"))\n",
        "\n",
        "d = min(n1, n2)\n",
        "\n",
        "while d > 0:\n",
        "    if n1 % d == 0 and n2 % d == 0:\n",
        "\n",
        "        #greatest common divisor\n",
        "        gcd = d\n",
        "        break\n",
        "    d -= 1\n",
        "\n",
        "print(\"GCD:\", gcd)\n",
        "\n"
      ],
      "metadata": {
        "id": "HvD9mxafJvsD",
        "colab": {
          "base_uri": "https://localhost:8080/"
        },
        "outputId": "f3ab9a9e-8834-46a7-85d5-546c6ec1dd3b"
      },
      "execution_count": 33,
      "outputs": [
        {
          "output_type": "stream",
          "name": "stdout",
          "text": [
            "Enter n1: 12\n",
            "Enter n2: 18\n",
            "GCD: 6\n"
          ]
        }
      ]
    },
    {
      "cell_type": "markdown",
      "source": [
        "**Q6 (tax calculation)**\n",
        "\n",
        "A town contains 5 houses. Each house owner must pay tax based on the value of the house. Houses over SGD200 000 pay 2% of their value in tax, houses over SGD100 000 pay 1.5% of their value in tax and houses over SGD50 000 pay 1% of their value in tax. All others pay no tax.\n",
        "\n",
        "Write a program to calculate the tax of the house values entered."
      ],
      "metadata": {
        "id": "ZlP4JWbqzvuJ"
      }
    },
    {
      "cell_type": "code",
      "source": [
        "# code here\n",
        "for i in range(5):\n",
        "    tax = 0\n",
        "    house_price = int(input(\"Your house price: \"))\n",
        "    if house_price > 200000:\n",
        "        tax = house_price * 0.2\n",
        "    elif house_price > 100000:\n",
        "        tax = house_price * 0.15\n",
        "    elif house_price > 50000:\n",
        "        tax = house_price * 0.01\n",
        "    else:\n",
        "        tax = 0\n",
        "    print(\"House tax for house cost SGD\", house_price, \"is SGD\", tax)\n",
        "\n"
      ],
      "metadata": {
        "id": "QoQ8Jyup2Av7",
        "colab": {
          "base_uri": "https://localhost:8080/"
        },
        "outputId": "23ef2164-1da6-4cb9-ba82-e98649a76791"
      },
      "execution_count": 36,
      "outputs": [
        {
          "output_type": "stream",
          "name": "stdout",
          "text": [
            "Your house price: 300000\n",
            "House tax for house cost SGD 300000 is SGD 6000.0\n",
            "Your house price: 200000\n",
            "House tax for house cost SGD 200000 is SGD 3000.0\n",
            "Your house price: 100000\n",
            "House tax for house cost SGD 100000 is SGD 1000.0\n",
            "Your house price: 50000\n",
            "House tax for house cost SGD 50000 is SGD 0\n",
            "Your house price: 30000\n",
            "House tax for house cost SGD 30000 is SGD 0\n"
          ]
        }
      ]
    },
    {
      "cell_type": "markdown",
      "source": [
        "**Challenging Question (Find two highest scores)**\n",
        "\n",
        "Write a program that prompts the user to enter the number of students and each student's name and score, and finally displays the student with the highest score and the student with the second-highest score. Enter up to 5 student records."
      ],
      "metadata": {
        "id": "L-_SQYxsAiYM"
      }
    },
    {
      "cell_type": "code",
      "source": [
        "# hmm...\n",
        "\n",
        "# Up to 5 students\n",
        "num = int(input(\"Enter the number of students: \"))\n",
        "\n",
        "if num > 5:\n",
        "    print(\"Only 5 records allowed. Using 5 records.\")\n",
        "    num = 5\n",
        "\n",
        "# Create list: General Syntax - 'expression' for 'item' in 'iterable'\n",
        "students = [\n",
        "    (input(\"Enter student's name: \"), float(input(\"Enter student's score: \"))) # Create tuple -> expression (item)\n",
        "    for _ in range(num) # For loop (iterable)\n",
        "]\n",
        "\n",
        "# Descending order of the -> lambda(creates a small function) student(input):student[1]('score')\n",
        "students.sort(key=lambda student: student[1], reverse=True)\n",
        "\n",
        "\n",
        "if len(students) >= 2:\n",
        "    print(f\"Highest Score: {students[0][0]} with a score of {students[0][1]}\")\n",
        "    print(f\"Second Highest Score: {students[1][0]} with a score of {students[1][1]}\")\n",
        "elif students:\n",
        "    print(f\"Only one student entered: {students[0][0]} with a score of {students[0][1]}\")\n",
        "else:\n",
        "    print(\"No student records entered.\")\n"
      ],
      "metadata": {
        "id": "Kfzq_hHOAjfW",
        "colab": {
          "base_uri": "https://localhost:8080/"
        },
        "outputId": "4ceab22d-096d-4689-801f-9070a7f5e3eb"
      },
      "execution_count": 39,
      "outputs": [
        {
          "output_type": "stream",
          "name": "stdout",
          "text": [
            "Enter the number of students: 3\n",
            "Enter student's name: Moyu\n",
            "Enter student's score: 78\n",
            "Enter student's name: Joker\n",
            "Enter student's score: 50\n",
            "Enter student's name: God_Father\n",
            "Enter student's score: 1000\n",
            "Highest Score: God_Father with a score of 1000.0\n",
            "Second Highest Score: Moyu with a score of 78.0\n"
          ]
        }
      ]
    }
  ]
}