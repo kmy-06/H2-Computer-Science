{
  "nbformat": 4,
  "nbformat_minor": 0,
  "metadata": {
    "colab": {
      "provenance": []
    },
    "kernelspec": {
      "name": "python3",
      "display_name": "Python 3"
    },
    "language_info": {
      "name": "python"
    }
  },
  "cells": [
    {
      "cell_type": "markdown",
      "source": [
        "##Lesson 4 - Conditions"
      ],
      "metadata": {
        "id": "4vKCbrwp4Nwj"
      }
    },
    {
      "cell_type": "markdown",
      "source": [
        "**Additional Notes:**"
      ],
      "metadata": {
        "id": "9MgaGl_jIp2g"
      }
    },
    {
      "cell_type": "code",
      "source": [
        "# - Can 'if' be used alone?\n",
        "price = float(input(\"Enter happy meal price: \"))\n",
        "upsize = input(\"Do you want to upsize? (y/n)\")\n",
        "\n",
        "if upsize == 'y':\n",
        "    price += 0.5\n",
        "\n",
        "print(\"Final meal price: \", price)"
      ],
      "metadata": {
        "id": "iZW4d3HUIw28",
        "colab": {
          "base_uri": "https://localhost:8080/"
        },
        "outputId": "55e38c6a-0b3a-4c7b-ee55-b52ed68d7834"
      },
      "execution_count": null,
      "outputs": [
        {
          "output_type": "stream",
          "name": "stdout",
          "text": [
            "Enter happy meal price: 6.1\n",
            "Do you want to upsize? (y/n)y\n",
            "Final meal price:  6.6\n"
          ]
        }
      ]
    },
    {
      "cell_type": "code",
      "source": [
        "# Suggested nested if use case\n",
        "data = input(\"Enter a percentage:\")\n",
        "\n",
        "if data.isdigit():\n",
        "    data = int(data)\n",
        "    if not 0 <= data <= 100:\n",
        "        print(data, \"not within 0-100\")\n",
        "    else:\n",
        "        print(data, \"is a valid percentage\")\n",
        "else:\n",
        "    print(data, \"is not a number\")"
      ],
      "metadata": {
        "id": "QPU93aDJLQZq",
        "colab": {
          "base_uri": "https://localhost:8080/"
        },
        "outputId": "85dcc617-43af-47b1-dba5-46c99d134ab7"
      },
      "execution_count": null,
      "outputs": [
        {
          "output_type": "stream",
          "name": "stdout",
          "text": [
            "Enter a percentage:101\n",
            "101 not within 0-100\n"
          ]
        }
      ]
    },
    {
      "cell_type": "code",
      "source": [
        "# Show 'elif' behaves?\n",
        "if False:\n",
        "    print(\"branch 1\")\n",
        "elif True:\n",
        "    print(\"branch 2\")\n",
        "elif undeclared_variable == 1:\n",
        "    print(\"branch 3\")\n",
        "else:\n",
        "    print(undeclared_variable, \"branch 4\")"
      ],
      "metadata": {
        "id": "z45IzaMEMF5E",
        "colab": {
          "base_uri": "https://localhost:8080/"
        },
        "outputId": "e868f361-5529-4494-85bc-58e8bacb3244"
      },
      "execution_count": null,
      "outputs": [
        {
          "output_type": "stream",
          "name": "stdout",
          "text": [
            "branch 2\n"
          ]
        }
      ]
    },
    {
      "cell_type": "code",
      "source": [
        "# Contrast the behaviour of these 'if' statements\n",
        "if False:\n",
        "    print(\"branch 1\")\n",
        "if True:\n",
        "    print(\"branch 2\")\n",
        "if undeclared_variable == 1:\n",
        "    print(\"branch 3\")\n",
        "else:\n",
        "    print(undeclared_variable, \"branch 4\")"
      ],
      "metadata": {
        "id": "0WrN30gPMrcs",
        "colab": {
          "base_uri": "https://localhost:8080/",
          "height": 228
        },
        "outputId": "f48b40f7-1415-48e0-8ff6-ff9121b23d7a"
      },
      "execution_count": null,
      "outputs": [
        {
          "output_type": "stream",
          "name": "stdout",
          "text": [
            "branch 2\n"
          ]
        },
        {
          "output_type": "error",
          "ename": "NameError",
          "evalue": "name 'undeclared_variable' is not defined",
          "traceback": [
            "\u001b[0;31m---------------------------------------------------------------------------\u001b[0m",
            "\u001b[0;31mNameError\u001b[0m                                 Traceback (most recent call last)",
            "\u001b[0;32m<ipython-input-12-70ee7ebde1c6>\u001b[0m in \u001b[0;36m<cell line: 0>\u001b[0;34m()\u001b[0m\n\u001b[1;32m      4\u001b[0m \u001b[0;32mif\u001b[0m \u001b[0;32mTrue\u001b[0m\u001b[0;34m:\u001b[0m\u001b[0;34m\u001b[0m\u001b[0;34m\u001b[0m\u001b[0m\n\u001b[1;32m      5\u001b[0m     \u001b[0mprint\u001b[0m\u001b[0;34m(\u001b[0m\u001b[0;34m\"branch 2\"\u001b[0m\u001b[0;34m)\u001b[0m\u001b[0;34m\u001b[0m\u001b[0;34m\u001b[0m\u001b[0m\n\u001b[0;32m----> 6\u001b[0;31m \u001b[0;32mif\u001b[0m \u001b[0mundeclared_variable\u001b[0m \u001b[0;34m==\u001b[0m \u001b[0;36m1\u001b[0m\u001b[0;34m:\u001b[0m\u001b[0;34m\u001b[0m\u001b[0;34m\u001b[0m\u001b[0m\n\u001b[0m\u001b[1;32m      7\u001b[0m     \u001b[0mprint\u001b[0m\u001b[0;34m(\u001b[0m\u001b[0;34m\"branch 3\"\u001b[0m\u001b[0;34m)\u001b[0m\u001b[0;34m\u001b[0m\u001b[0;34m\u001b[0m\u001b[0m\n\u001b[1;32m      8\u001b[0m \u001b[0;32melse\u001b[0m\u001b[0;34m:\u001b[0m\u001b[0;34m\u001b[0m\u001b[0;34m\u001b[0m\u001b[0m\n",
            "\u001b[0;31mNameError\u001b[0m: name 'undeclared_variable' is not defined"
          ]
        }
      ]
    },
    {
      "cell_type": "code",
      "source": [
        "# 'else' key word:\n",
        "for i in range(1, 10, 2):\n",
        "    print(i)\n",
        "else:\n",
        "    print(\"end of loop\")"
      ],
      "metadata": {
        "colab": {
          "base_uri": "https://localhost:8080/"
        },
        "id": "U6MFILXrNIuG",
        "outputId": "4816bbf1-d6ad-4a87-a63d-e8ed3e3408d5"
      },
      "execution_count": null,
      "outputs": [
        {
          "output_type": "stream",
          "name": "stdout",
          "text": [
            "1\n",
            "3\n",
            "5\n",
            "7\n",
            "9\n",
            "end of loop\n"
          ]
        }
      ]
    },
    {
      "cell_type": "markdown",
      "source": [
        "**Q1. (Even or Odd number)**\n",
        "\n",
        "Write a program that prompts the user to enter an integer value. Output whether the number is an even or odd number. [Hint: you need to use % in your if condition]\n",
        "\n",
        "Sample interaction:\n",
        "```\n",
        "Enter number: 88\n",
        "Even number\n",
        "\n",
        "Enter number: 27\n",
        "Odd number\n",
        "\n",
        "```"
      ],
      "metadata": {
        "id": "z7Aq9Hd-uvfh"
      }
    },
    {
      "cell_type": "code",
      "source": [
        "# code here\n",
        "for i in range (2):\n",
        "    num = int(input(\"Enter a number:\"))\n",
        "\n",
        "    if num % 2 == 0:\n",
        "        print(\"Even Number\")\n",
        "    else:\n",
        "        print(\"Odd Number\")\n",
        "\n"
      ],
      "metadata": {
        "id": "3hN9gfxHUggX",
        "colab": {
          "base_uri": "https://localhost:8080/"
        },
        "outputId": "0b9fc957-40eb-4dab-9809-370d0cc89228"
      },
      "execution_count": null,
      "outputs": [
        {
          "output_type": "stream",
          "name": "stdout",
          "text": [
            "Enter a number:8\n",
            "Even Number\n",
            "Enter a number:7\n",
            "Odd Number\n"
          ]
        }
      ]
    },
    {
      "cell_type": "markdown",
      "source": [
        "**Q2. (Determine grade)**\n",
        "\n",
        "Write a program that prompts and ASSUMES the user will enter a score between 0 and 100 inclusive and output the corresponding grade. Output an error message if the entered score in not within the valid range. The grading system is as follows:\n",
        "\n",
        "A: 70 - 100  \n",
        "B: 60 - 69  \n",
        "C: 55 - 59  \n",
        "D: 50 - 54  \n",
        "E: 45 - 49  \n",
        "S: 35 - 44  \n",
        "U: 0 - 34\n",
        "\n",
        "Sample interaction:\n",
        "```\n",
        "Enter score: 73\n",
        "A\n",
        "\n",
        "Enter score: 37\n",
        "S\n",
        "\n",
        "Enter Score: -1\n",
        "Invalid! Score must be within 0 - 100.\n",
        "\n",
        "```"
      ],
      "metadata": {
        "id": "2rrE7nln5Mc7"
      }
    },
    {
      "cell_type": "code",
      "source": [
        "# code here\n",
        "\n",
        "def grade_checker():\n",
        "    score = int(input(\"Enter score: \"))\n",
        "\n",
        "    if score < 0 or score > 100:\n",
        "        print(\"Invalid! Score must be within 0 - 100.\")\n",
        "    elif score >= 70:\n",
        "        print(\"A\")\n",
        "    elif score >= 60:\n",
        "        print(\"B\")\n",
        "    elif score >= 55:\n",
        "        print(\"C\")\n",
        "    elif score >= 50:\n",
        "        print(\"D\")\n",
        "    elif score >= 45:\n",
        "        print(\"E\")\n",
        "    elif score >= 35:\n",
        "        print(\"S\")\n",
        "    else:\n",
        "        print(\"U\")\n",
        "\n",
        "\n",
        "grade_checker()\n",
        "grade_checker()\n",
        "grade_checker()"
      ],
      "metadata": {
        "id": "tycB7XNh5OOC",
        "colab": {
          "base_uri": "https://localhost:8080/"
        },
        "outputId": "d552b710-d1a1-4bcf-c115-ed43bbeda286"
      },
      "execution_count": null,
      "outputs": [
        {
          "output_type": "stream",
          "name": "stdout",
          "text": [
            "Enter score: 73\n",
            "A\n",
            "Enter score: 37\n",
            "S\n",
            "Enter score: -1\n",
            "Invalid! Score must be within 0 - 100.\n"
          ]
        }
      ]
    },
    {
      "cell_type": "code",
      "source": [
        "# Using While Loop + Input Continuation & Break Loop + Value Validation\n",
        "def grade_checker():\n",
        "    while True:\n",
        "        try:\n",
        "            score = int(input(\"What score did you get: \"))\n",
        "\n",
        "            # Check if the input is valid\n",
        "            if score < 0 or score > 100:\n",
        "                print(\"Invalid! Score must be within 0 - 100. Please try again.\")\n",
        "                continue  # Ask for input again\n",
        "\n",
        "            # Determine the grade\n",
        "            if score >= 70:\n",
        "                print(\"Grade: A\", \"\\n\")\n",
        "            elif score >= 60:\n",
        "                print(\"Grade: B\", \"\\n\")\n",
        "            elif score >= 55:\n",
        "                print(\"Grade: C\", \"\\n\")\n",
        "            elif score >= 50:\n",
        "                print(\"Grade: D\", \"\\n\")\n",
        "            elif score >= 45:\n",
        "                print(\"Grade: E\", \"\\n\")\n",
        "            elif score >= 35:\n",
        "                print(\"Grade: S\", \"\\n\")\n",
        "            else:\n",
        "                print(\"Grade: U\", \"\\n\")\n",
        "\n",
        "            break  # Exit the loop once a valid score is entered\n",
        "\n",
        "\n",
        "        except ValueError:\n",
        "            print(\"Invalid input! Please enter a number.\")\n",
        "\n",
        "# Calling the function three times\n",
        "grade_checker()\n",
        "grade_checker()\n",
        "grade_checker()\n",
        "grade_checker()\n",
        "grade_checker()"
      ],
      "metadata": {
        "colab": {
          "base_uri": "https://localhost:8080/"
        },
        "id": "ojk50DvkTJxf",
        "outputId": "d7f01d8d-9753-4d21-c16d-ad7eb8b7d710"
      },
      "execution_count": null,
      "outputs": [
        {
          "output_type": "stream",
          "name": "stdout",
          "text": [
            "What score did you get: 70\n",
            "Grade: A \n",
            "\n",
            "What score did you get: -1\n",
            "Invalid! Score must be within 0 - 100. Please try again.\n",
            "What score did you get: 50\n",
            "Grade: D \n",
            "\n",
            "What score did you get: 101\n",
            "Invalid! Score must be within 0 - 100. Please try again.\n",
            "What score did you get: 65\n",
            "Grade: B \n",
            "\n",
            "What score did you get: e\n",
            "Invalid input! Please enter a number.\n",
            "What score did you get: 30\n",
            "Grade: U \n",
            "\n",
            "What score did you get: &\n",
            "Invalid input! Please enter a number.\n",
            "What score did you get: 0\n",
            "Grade: U \n",
            "\n"
          ]
        }
      ]
    },
    {
      "cell_type": "markdown",
      "source": [
        "**Q3. (Determine leap year)**\n",
        "\n",
        "Write a program that prompts the user to enter a year and determines whether it is a leap year. A year is a leap year if it is divisible by 4 but not 100, or is divisible by 400.\n",
        "\n",
        "Sample interaction:\n",
        "```\n",
        "Enter year: 2020\n",
        "Leap year\n",
        "\n",
        "Enter year: 2019\n",
        "Non-Leap year\n",
        "```"
      ],
      "metadata": {
        "id": "mST6cuh08MPy"
      }
    },
    {
      "cell_type": "code",
      "source": [
        "# Basic Logic for Calculating Leap Year\n",
        "for i in range (2):\n",
        "    year = int(input(\"Enter year:\"))\n",
        "\n",
        "    if (year % 4 == 0 and year % 100 != 0) or (year % 400 == 0):\n",
        "        print(\"Leap year\", \"\\n\")\n",
        "    else:\n",
        "        print(\"Non-Leap year\", \"\\n\")\n"
      ],
      "metadata": {
        "colab": {
          "base_uri": "https://localhost:8080/"
        },
        "id": "2tNCAk76U8T6",
        "outputId": "612986db-69b6-48c9-a0eb-1af4ec185ea8"
      },
      "execution_count": null,
      "outputs": [
        {
          "output_type": "stream",
          "name": "stdout",
          "text": [
            "Enter year:2020\n",
            "Leap year \n",
            "\n",
            "Enter year:2019\n",
            "Non-Leap year \n",
            "\n"
          ]
        }
      ]
    },
    {
      "cell_type": "code",
      "source": [
        "# code here\n",
        "def is_leap_year(year):\n",
        "    \"\"\"Returns True if the given year is a leap year, otherwise False.\"\"\"\n",
        "    if (year % 4 == 0 and year % 100 != 0) or (year % 400 == 0):\n",
        "        return True\n",
        "    return False\n",
        "\n",
        "def main():\n",
        "\n",
        "    while True:\n",
        "        try:\n",
        "            year = int(input(\"Enter a year: \"))\n",
        "\n",
        "            if year <= 0:\n",
        "                print(\"Please enter a valid positive year.\")\n",
        "                continue\n",
        "\n",
        "            if is_leap_year(year):\n",
        "                print(f\"{year} is a leap year!\", \"\\n\") # True\n",
        "            else:\n",
        "                print(f\"{year} is not a leap year.\", \"\\n\") # False\n",
        "\n",
        "            break  # Exit Loop\n",
        "\n",
        "        except ValueError:\n",
        "            print(\"Invalid input! Please enter a valid number.\")\n",
        "\n",
        "# Run\n",
        "main()\n",
        "main()\n",
        "main()\n",
        "main()\n",
        "main()"
      ],
      "metadata": {
        "id": "qN9AjQvr8RH3",
        "colab": {
          "base_uri": "https://localhost:8080/"
        },
        "outputId": "50d956c6-f828-457b-8a7c-4804937317fa"
      },
      "execution_count": null,
      "outputs": [
        {
          "output_type": "stream",
          "name": "stdout",
          "text": [
            "Enter a year: 0\n",
            "Please enter a valid positive year.\n",
            "Enter a year: 1996\n",
            "1996 is a leap year! \n",
            "\n",
            "Enter a year: 2024\n",
            "2024 is a leap year! \n",
            "\n",
            "Enter a year: 2025\n",
            "2025 is not a leap year. \n",
            "\n",
            "Enter a year: k\n",
            "Invalid input! Please enter a valid number.\n",
            "Enter a year: 1994\n",
            "1994 is not a leap year. \n",
            "\n",
            "Enter a year: $\n",
            "Invalid input! Please enter a valid number.\n",
            "Enter a year: 1988\n",
            "1988 is a leap year! \n",
            "\n"
          ]
        }
      ]
    },
    {
      "cell_type": "markdown",
      "source": [
        "**Q4. (Tickets)**\n",
        "\n",
        "You are to implement a booking system for Taylor Swift tickets. Due to overwhelming demand, each user is only entitled to 1 ticket. Swifties with a valid membership number are given a 20% discount.\n",
        "\n",
        "1) User is to choose the category of ticket: 1 - `$288`, 2 - `$388`, 3 - `$888`\n",
        "\n",
        "2) User is to enter a valid membership number. Valid Swifties membership numbers are 5 digits long and divisible by both 7 and 13.\n",
        "\n",
        "3) If membership number is valid, discount is applied. Otherwise, it is not applied.\n",
        "\n",
        "4) Final amount to be paid is printed on screen for user.\n",
        "\n",
        "**Possible outputs**\n",
        "\n",
        "------\n",
        "1)\n",
        "```\n",
        "Enter ticket category (1, 2 or 3): 1\n",
        "Enter membership number: 91000\n",
        "\n",
        "Valid membership number. 20% discount applied.\n",
        "Please pay SGD$230.40\n",
        "\n",
        "```\n",
        "2)\n",
        "```\n",
        "Enter ticket category (1, 2 or 3): 3\n",
        "Enter membership number: 10000\n",
        "\n",
        "Invalid membership number. No discount.\n",
        "Please pay SGD$888.00\n",
        "\n"
      ],
      "metadata": {
        "id": "A0o9NEOCNpjb"
      }
    },
    {
      "cell_type": "code",
      "source": [
        "people = 0\n",
        "\n",
        "while people < 2:\n",
        "\n",
        "    ticket_category = input(\"Enter ticket category (1, 2 or 3): \")\n",
        "    membership = int(input(\"Enter membership number: \"))\n",
        "\n",
        "    ticket = 0\n",
        "\n",
        "    if ticket_category == '1':\n",
        "        ticket += 288\n",
        "    elif ticket_category == '2':\n",
        "        ticket += 388\n",
        "    elif ticket_category == '3':\n",
        "        ticket += 888\n",
        "    else:\n",
        "        continue\n",
        "\n",
        "    if len(str(membership)) == 5 and membership % 7 == 0 and membership % 13 == 0:\n",
        "        ticket = ticket * (1 - 20/100)\n",
        "        print(\"\\n\" + \"Valid membership number. 20% discount applied.\")\n",
        "    else:\n",
        "        print(\"\\n\" + \"Invalid membership number. No discount.\")\n",
        "\n",
        "    formatted_ticket = f\"{ticket:.2f}\"\n",
        "\n",
        "    print(\"Please pay SGD$\" + formatted_ticket + \"\\n\")\n",
        "\n",
        "    people += 1\n"
      ],
      "metadata": {
        "colab": {
          "base_uri": "https://localhost:8080/"
        },
        "id": "347molCgZHdo",
        "outputId": "b89944c3-e018-49c2-b176-556e0cdd118b"
      },
      "execution_count": null,
      "outputs": [
        {
          "output_type": "stream",
          "name": "stdout",
          "text": [
            "Enter ticket category (1, 2 or 3): 1\n",
            "Enter membership number: 91000\n",
            "\n",
            "Valid membership number. 20% discount applied.\n",
            "Please pay SGD$230.40\n",
            "\n",
            "Enter ticket category (1, 2 or 3): 3\n",
            "Enter membership number: 10000\n",
            "\n",
            "Invalid membership number. No discount.\n",
            "Please pay SGD$888.00\n",
            "\n"
          ]
        }
      ]
    },
    {
      "cell_type": "code",
      "source": [
        "# pip install tabulate"
      ],
      "metadata": {
        "colab": {
          "base_uri": "https://localhost:8080/"
        },
        "id": "dTbL992lY6E5",
        "outputId": "e6a6311d-5b86-422c-e88c-e0417c49342d"
      },
      "execution_count": null,
      "outputs": [
        {
          "output_type": "stream",
          "name": "stdout",
          "text": [
            "Requirement already satisfied: tabulate in /usr/local/lib/python3.11/dist-packages (0.9.0)\n"
          ]
        }
      ]
    },
    {
      "cell_type": "code",
      "source": [
        "# Ticket Table\n",
        "from tabulate import tabulate\n",
        "\n",
        "data = [\n",
        "    [1, 288],\n",
        "    [2, 388],\n",
        "    [3, 888]\n",
        "]\n",
        "\n",
        "print(tabulate(data, headers=[\"Category\", \"Price($)\"], tablefmt=\"grid\", colalign=(\"center\", \"center\")))"
      ],
      "metadata": {
        "id": "X1tAXueFkDYA",
        "colab": {
          "base_uri": "https://localhost:8080/"
        },
        "outputId": "4ca4ed6d-ffeb-4ef5-9089-8d18dcc6d91d"
      },
      "execution_count": null,
      "outputs": [
        {
          "output_type": "stream",
          "name": "stdout",
          "text": [
            "+------------+------------+\n",
            "|  Category  |  Price($)  |\n",
            "+============+============+\n",
            "|     1      |    288     |\n",
            "+------------+------------+\n",
            "|     2      |    388     |\n",
            "+------------+------------+\n",
            "|     3      |    888     |\n",
            "+------------+------------+\n"
          ]
        }
      ]
    },
    {
      "cell_type": "markdown",
      "source": [
        "**Q5. (Guessing Game) Optional**\n",
        "\n",
        "Write a program for a two-player guessing game. A secret random number between 1 - 100 will be generated. Players are then supposed to guess the number. The absolute difference between the guess and the secret number is calculated.\n",
        "\n",
        "You may use `random` function. Find out more about it.\n",
        "\n",
        "The player whose guess is closer to the secret random number is declared the winner. Otherwise, it is declared as a tie.\n",
        "\n",
        "The following is required of you\n",
        "\n",
        "1) Input players' names as strings  \n",
        "2) Input players' guesses as integers  \n",
        "3) Compare the difference between players guesses and the random number. The player with the smaller difference wins.  \n",
        "4) Declare it as a tie if the two players have the same difference.\n",
        "\n",
        "\n",
        "\n",
        "The following are some possible outputs:\n",
        "\n",
        "A)\n",
        "```\n",
        "Player 1, enter your name: Tay\n",
        "Player 2, enter your name: Eng\n",
        "Tay  guess a number between 1 and 100:\n",
        "4\n",
        "Eng  guess a number between 1 and 100:\n",
        "6\n",
        "\n",
        "Eng wins!\n",
        "The secret number was:  9\n",
        "```\n",
        "B)\n",
        "```\n",
        "Player 1, enter your name: Tay\n",
        "Player 2, enter your name: Eng\n",
        "Tay  guess a number between 1 and 100:\n",
        "4\n",
        "Eng  guess a number between 1 and 100:\n",
        "6\n",
        "\n",
        "It's a tie!\n",
        "The secret number was:  5\n",
        "```"
      ],
      "metadata": {
        "id": "uUYCgRTs6evT"
      }
    },
    {
      "cell_type": "code",
      "source": [
        "# Random_Number Generator\n",
        "import random\n",
        "\n",
        "# Generate a random secret number between 1 and 100\n",
        "secret_number = random.randint(1, 100)\n",
        "\n",
        "\n",
        "player_1 = input(\"Player 1, enter your name: \")\n",
        "player_2 = input(\"Player 2, enter your name: \")\n",
        "\n",
        "\n",
        "guess_1 = int(input(f\"{player_1}, guess a number between 1 and 100: \"))\n",
        "guess_2 = int(input(f\"{player_2}, guess a number between 1 and 100: \"))\n",
        "\n",
        "# abs -> returns the absolute value of the int result\n",
        "diff1 = abs(secret_number - guess_1)\n",
        "diff2 = abs(secret_number - guess_2)\n",
        "\n",
        "\n",
        "# Determine the winner\n",
        "if diff1 < diff2:\n",
        "    print(f\"\\n{player_1} wins! 🎉\")\n",
        "elif diff2 < diff1:\n",
        "    print(f\"\\n{player_2} wins! 🎉\")\n",
        "else:\n",
        "    print(\"\\nIt's a tie! 🤝\")\n",
        "\n",
        "print(f\"The secret number is: {secret_number}\")\n"
      ],
      "metadata": {
        "id": "7PVizN4h7A8N",
        "colab": {
          "base_uri": "https://localhost:8080/"
        },
        "outputId": "c2e9014b-0993-49ac-d20a-a13181198e43"
      },
      "execution_count": null,
      "outputs": [
        {
          "output_type": "stream",
          "name": "stdout",
          "text": [
            "Player 1, enter your name: Tay\n",
            "Player 2, enter your name: Eng\n",
            "Tay, guess a number between 1 and 100: 4\n",
            "Eng, guess a number between 1 and 100: 6\n",
            "\n",
            "Eng wins! 🎉\n",
            "The secret number is: 84\n"
          ]
        }
      ]
    }
  ]
}