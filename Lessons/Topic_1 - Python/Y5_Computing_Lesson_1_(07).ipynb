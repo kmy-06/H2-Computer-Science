{
  "nbformat": 4,
  "nbformat_minor": 0,
  "metadata": {
    "colab": {
      "provenance": []
    },
    "kernelspec": {
      "name": "python3",
      "display_name": "Python 3"
    },
    "language_info": {
      "name": "python"
    }
  },
  "cells": [
    {
      "cell_type": "markdown",
      "source": [
        "# 2D Array & Dictionary\n",
        "---\n",
        "\n",
        "<br>\n",
        "\n",
        "> 1. '**Array**' is a data structure containing several elements of the same data type, accessed using the same `<` identifier `>` name. E.g studentAge\n",
        "\n",
        "> 2. '**Index**' / 'Subscript' identifies the position of the element in an array, whether it is <b>lower bound [0] or [1]</b> OR <b>upper bound</b>.\n",
        "\n",
        "<br>\n",
        "\n",
        "---\n",
        "\n",
        "> ***RECAP*** :\n",
        "\n",
        "- 1D array (list) -> DECLARE `<`identifier`>` : ARRAY [LB:UB] OF `<`data typ`>`\n",
        "- E.g DECLARE myList : ARRAY [0:8] OF INTEGER\n",
        "\n",
        "> ***2D ARRAY*** :\n",
        "\n",
        "- 2D array (table - rows & columns) -> DECLARE `<`identifier`>` : ARRAY [LBR:UBR, LBC:UBC] OF `<`data type`>`\n",
        "- LBR: Lower Bound Row | UBR: Upper Bound Row | LBC: Lower Bound Column | UBC: Upper Bound Column\n",
        "- E.g DECLARE myArray : ARRAY [0:8, 0:2] OF INTEGER\n",
        "\n",
        "- If 1-based array is requried, ignore element with index 0\n",
        "\n",
        "<br>\n",
        "\n",
        "### 2D Array Examples (in class):"
      ],
      "metadata": {
        "id": "-YLQxOaDaua2"
      }
    },
    {
      "cell_type": "code",
      "source": [
        "# iterate through a 2D list\n",
        "\n",
        "arr = [[1,2,3,4,5,6,7,8,9,10],[11,12,13,14,15,16,17,18,19,20],[21,22,23,24,25,26,27,28,29,30]]\n",
        "\n",
        "for i in range(len(arr)):\n",
        "    for j in range(len(arr[i])): # Uses index-based iteration\n",
        "        print(arr[i][j]) # Explicitly accesses elements (indices specified)\n",
        "\n",
        "# Output 1 to 30 in a verticle manner."
      ],
      "metadata": {
        "colab": {
          "base_uri": "https://localhost:8080/"
        },
        "id": "9UDow_3079mX",
        "outputId": "b4800a72-84dd-422d-b80e-ec8193661556",
        "collapsed": true
      },
      "execution_count": null,
      "outputs": [
        {
          "output_type": "stream",
          "name": "stdout",
          "text": [
            "1\n",
            "2\n",
            "3\n",
            "4\n",
            "5\n",
            "6\n",
            "7\n",
            "8\n",
            "9\n",
            "10\n",
            "11\n",
            "12\n",
            "13\n",
            "14\n",
            "15\n",
            "16\n",
            "17\n",
            "18\n",
            "19\n",
            "20\n",
            "21\n",
            "22\n",
            "23\n",
            "24\n",
            "25\n",
            "26\n",
            "27\n",
            "28\n",
            "29\n",
            "30\n"
          ]
        }
      ]
    },
    {
      "cell_type": "code",
      "source": [
        "# Another way:\n",
        "\n",
        "arr = [[1,2,3,4,5,6,7,8,9,10],\n",
        "       [11,12,13,14,15,16,17,18,19,20],\n",
        "       [21,22,23,24,25,26,27,28,29,30]]\n",
        "\n",
        "for sublist in arr:\n",
        "    for item in sublist: # avoiding direct indexing and making it more Pythonic.\n",
        "        print(item) # simpler and more readable\n",
        "\n",
        "# Output 1 to 30 in a verticle manner."
      ],
      "metadata": {
        "colab": {
          "base_uri": "https://localhost:8080/"
        },
        "id": "WmYidSvt8b9p",
        "outputId": "635ad5f5-b359-47a9-d2f8-2566d30a8282",
        "collapsed": true
      },
      "execution_count": null,
      "outputs": [
        {
          "output_type": "stream",
          "name": "stdout",
          "text": [
            "1\n",
            "2\n",
            "3\n",
            "4\n",
            "5\n",
            "6\n",
            "7\n",
            "8\n",
            "9\n",
            "10\n",
            "11\n",
            "12\n",
            "13\n",
            "14\n",
            "15\n",
            "16\n",
            "17\n",
            "18\n",
            "19\n",
            "20\n",
            "21\n",
            "22\n",
            "23\n",
            "24\n",
            "25\n",
            "26\n",
            "27\n",
            "28\n",
            "29\n",
            "30\n"
          ]
        }
      ]
    },
    {
      "cell_type": "code",
      "source": [
        "# 2D List:\n",
        "\n",
        "# Month, No. of rainy days, Total rainfall (millimetres)\n",
        "\n",
        "monthlyRain = [\n",
        "    [\"Jan\", 5, 75.4],\n",
        "    [\"Feb\", 1, 0.2],\n",
        "    [\"Mar\", 6, 66]\n",
        "]\n",
        "\n",
        "print(monthlyRain[2][2])\n",
        "\n",
        "March = monthlyRain[2]\n",
        "print(March)\n",
        "\n",
        "March[1]"
      ],
      "metadata": {
        "colab": {
          "base_uri": "https://localhost:8080/"
        },
        "id": "mojT1JQFc5o1",
        "outputId": "e09aa3d3-90f3-47c4-81cc-9f8dd10122f6"
      },
      "execution_count": null,
      "outputs": [
        {
          "output_type": "stream",
          "name": "stdout",
          "text": [
            "66\n",
            "['Mar', 6, 66]\n"
          ]
        },
        {
          "output_type": "execute_result",
          "data": {
            "text/plain": [
              "6"
            ]
          },
          "metadata": {},
          "execution_count": 6
        }
      ]
    },
    {
      "cell_type": "code",
      "source": [
        "# Matrix (nested list):\n",
        "\n",
        "mx = [\n",
        "    [1, 2, 3],\n",
        "    [4, 5, 6],\n",
        "    [7, 8, 9]\n",
        "]\n",
        "\n",
        "print(mx[1])\n",
        "print(mx[1][2])"
      ],
      "metadata": {
        "colab": {
          "base_uri": "https://localhost:8080/"
        },
        "id": "Qm8E_jnDl5Re",
        "outputId": "26c2f5be-7317-4721-cff4-fb33814cb4d6"
      },
      "execution_count": null,
      "outputs": [
        {
          "output_type": "stream",
          "name": "stdout",
          "text": [
            "[4, 5, 6]\n",
            "6\n"
          ]
        }
      ]
    },
    {
      "cell_type": "markdown",
      "source": [
        "### ***Dictionary*** :\n",
        "\n",
        "---\n",
        "\n",
        "<br>\n",
        "\n",
        "- Dictionaries are **not sequences**, they are mappings ( stores objects to index by `key` instead of by relative position in its collections ).\n",
        "\n",
        "- They are also **flexible tools** for representing collections just like lists, but dictionaries have more ***mnemonic*** (记忆的) keys are better suited when a collection's items are named or labeled.\n",
        "\n",
        "- But really, they can be **iterable operations**.\n",
        "\n",
        "<br>\n",
        "\n",
        "---"
      ],
      "metadata": {
        "id": "SybtYNZHnaU6"
      }
    },
    {
      "cell_type": "code",
      "source": [
        "D = {'food': 'spam', 'quantity': 4, 'color': 'pink'} # Note: Cannot have two items with the same key\n",
        "\n",
        "print(D['food']) # spam (午餐肉)\n",
        "\n",
        "D['quantity'] += 1\n",
        "\n",
        "D"
      ],
      "metadata": {
        "colab": {
          "base_uri": "https://localhost:8080/"
        },
        "id": "QCwbtoO5nhzS",
        "outputId": "5ee746a8-bd29-43a6-b62b-8e15485c32e1"
      },
      "execution_count": null,
      "outputs": [
        {
          "output_type": "stream",
          "name": "stdout",
          "text": [
            "spam\n"
          ]
        },
        {
          "output_type": "execute_result",
          "data": {
            "text/plain": [
              "{'food': 'spam', 'quantity': 5, 'color': 'pink'}"
            ]
          },
          "metadata": {},
          "execution_count": 2
        }
      ]
    },
    {
      "cell_type": "code",
      "source": [
        "# Create keys by assignment, values can be any datatypes\n",
        "\n",
        "D = {}\n",
        "\n",
        "D['name'] = 'Bob'\n",
        "D['job'] = 'dev'\n",
        "D['age'] = 40\n",
        "D['male'] = True\n",
        "D['subjects'] = ['Maths', 'Physics', 'Computing']\n",
        "\n",
        "print(D)\n",
        "print(len(D))"
      ],
      "metadata": {
        "colab": {
          "base_uri": "https://localhost:8080/"
        },
        "id": "XO5D-045rhhb",
        "outputId": "0344d9cc-0ca2-48dd-f6b9-decff2f0513e"
      },
      "execution_count": null,
      "outputs": [
        {
          "output_type": "stream",
          "name": "stdout",
          "text": [
            "{'name': 'Bob', 'job': 'dev', 'age': 40, 'male': True, 'subjects': ['Maths', 'Physics', 'Computing']}\n",
            "5\n"
          ]
        }
      ]
    },
    {
      "cell_type": "code",
      "source": [
        "print(type(D))"
      ],
      "metadata": {
        "colab": {
          "base_uri": "https://localhost:8080/"
        },
        "id": "Hq_tFyx1sB1Q",
        "outputId": "54e683af-02aa-4df7-be85-9d5ca6c2c5dc"
      },
      "execution_count": null,
      "outputs": [
        {
          "output_type": "stream",
          "name": "stdout",
          "text": [
            "<class 'dict'>\n"
          ]
        }
      ]
    },
    {
      "cell_type": "code",
      "source": [
        "# 2 ways to create dictionary using dict()\n",
        "\n",
        "\n",
        "# 1) Keyword arguments:\n",
        "\n",
        "thisdict = dict(name = 'John' , age = 36, country = \"Norway\")\n",
        "print(thisdict)\n",
        "\n",
        "\n",
        "# 2) Zipping:\n",
        "\n",
        "my_info = dict(zip(['name', 'job', 'age'], ['Moyu','dev','18']))\n",
        "my_info"
      ],
      "metadata": {
        "colab": {
          "base_uri": "https://localhost:8080/"
        },
        "id": "Ul8DeCXastOj",
        "outputId": "303ef61c-2db7-45c9-decc-573905a85052"
      },
      "execution_count": null,
      "outputs": [
        {
          "output_type": "stream",
          "name": "stdout",
          "text": [
            "{'name': 'John', 'age': 36, 'country': 'Norway'}\n"
          ]
        },
        {
          "output_type": "execute_result",
          "data": {
            "text/plain": [
              "{'name': 'Moyu', 'job': 'dev', 'age': '18'}"
            ]
          },
          "metadata": {},
          "execution_count": 8
        }
      ]
    },
    {
      "cell_type": "code",
      "source": [
        "name = my_info.get('name') # get() method\n",
        "name"
      ],
      "metadata": {
        "colab": {
          "base_uri": "https://localhost:8080/",
          "height": 35
        },
        "id": "Pk7WCu5JvDX2",
        "outputId": "d06bd301-544a-42df-dfb4-2046c72195c1"
      },
      "execution_count": null,
      "outputs": [
        {
          "output_type": "execute_result",
          "data": {
            "text/plain": [
              "'Moyu'"
            ],
            "application/vnd.google.colaboratory.intrinsic+json": {
              "type": "string"
            }
          },
          "metadata": {},
          "execution_count": 9
        }
      ]
    },
    {
      "cell_type": "code",
      "source": [
        "x = my_info.keys() # key() method\n",
        "x"
      ],
      "metadata": {
        "colab": {
          "base_uri": "https://localhost:8080/"
        },
        "id": "xkgPbDRsvNiM",
        "outputId": "799762aa-7493-4c45-f603-bebf78e5265c"
      },
      "execution_count": null,
      "outputs": [
        {
          "output_type": "execute_result",
          "data": {
            "text/plain": [
              "dict_keys(['name', 'job', 'age'])"
            ]
          },
          "metadata": {},
          "execution_count": 11
        }
      ]
    },
    {
      "cell_type": "code",
      "source": [
        "y = my_info.values() # values() method\n",
        "y"
      ],
      "metadata": {
        "colab": {
          "base_uri": "https://localhost:8080/"
        },
        "id": "0gpraB41v0P-",
        "outputId": "3287b12d-6af7-47f2-e151-5f31985901de"
      },
      "execution_count": null,
      "outputs": [
        {
          "output_type": "execute_result",
          "data": {
            "text/plain": [
              "dict_values(['Moyu', 'dev', '18'])"
            ]
          },
          "metadata": {},
          "execution_count": 12
        }
      ]
    },
    {
      "cell_type": "code",
      "source": [
        "z = my_info.items() # items() method\n",
        "z"
      ],
      "metadata": {
        "colab": {
          "base_uri": "https://localhost:8080/"
        },
        "id": "TGrjNPxSwGRN",
        "outputId": "77bcfad2-e5ac-48e2-e4af-681e89f7fb04"
      },
      "execution_count": null,
      "outputs": [
        {
          "output_type": "execute_result",
          "data": {
            "text/plain": [
              "dict_items([('name', 'Moyu'), ('job', 'dev'), ('age', '18')])"
            ]
          },
          "metadata": {},
          "execution_count": 13
        }
      ]
    },
    {
      "cell_type": "code",
      "source": [
        "# Finally, check if 'key' is present in the dictionary\n",
        "\n",
        "if \"year\" in my_info:\n",
        "    print('year is present')\n",
        "else:\n",
        "    print('year is not present')\n",
        "\n",
        "if \"age\" in my_info:\n",
        "    print('age is present')"
      ],
      "metadata": {
        "colab": {
          "base_uri": "https://localhost:8080/"
        },
        "id": "t4T9rJdGwViU",
        "outputId": "9f59db48-d8f7-42c6-8236-7c5a4d935ccd"
      },
      "execution_count": null,
      "outputs": [
        {
          "output_type": "stream",
          "name": "stdout",
          "text": [
            "year is not present\n",
            "age is present\n"
          ]
        }
      ]
    },
    {
      "cell_type": "code",
      "source": [
        "# OR just:\n",
        "\n",
        "print('age' in my_info) # Return 'True'\n",
        "\n",
        "my_info['year'] # Nonexistent key error"
      ],
      "metadata": {
        "colab": {
          "base_uri": "https://localhost:8080/",
          "height": 193
        },
        "id": "PkTSWFtG98q-",
        "outputId": "8ec2d3df-ac35-4003-d5c7-4b07b976fe79"
      },
      "execution_count": null,
      "outputs": [
        {
          "output_type": "stream",
          "name": "stdout",
          "text": [
            "True\n"
          ]
        },
        {
          "output_type": "error",
          "ename": "KeyError",
          "evalue": "'year'",
          "traceback": [
            "\u001b[0;31m---------------------------------------------------------------------------\u001b[0m",
            "\u001b[0;31mKeyError\u001b[0m                                  Traceback (most recent call last)",
            "\u001b[0;32m<ipython-input-33-94e01ca3464d>\u001b[0m in \u001b[0;36m<cell line: 0>\u001b[0;34m()\u001b[0m\n\u001b[1;32m      3\u001b[0m \u001b[0mprint\u001b[0m\u001b[0;34m(\u001b[0m\u001b[0;34m'age'\u001b[0m \u001b[0;32min\u001b[0m \u001b[0mmy_info\u001b[0m\u001b[0;34m)\u001b[0m\u001b[0;34m\u001b[0m\u001b[0;34m\u001b[0m\u001b[0m\n\u001b[1;32m      4\u001b[0m \u001b[0;34m\u001b[0m\u001b[0m\n\u001b[0;32m----> 5\u001b[0;31m \u001b[0mmy_info\u001b[0m\u001b[0;34m[\u001b[0m\u001b[0;34m'year'\u001b[0m\u001b[0;34m]\u001b[0m \u001b[0;31m# Nonexistent key error\u001b[0m\u001b[0;34m\u001b[0m\u001b[0;34m\u001b[0m\u001b[0m\n\u001b[0m",
            "\u001b[0;31mKeyError\u001b[0m: 'year'"
          ]
        }
      ]
    },
    {
      "cell_type": "code",
      "source": [
        "thisdict = {'brand': 'Ford', 'model': 'Mustang', 'year': 1964}\n",
        "\n",
        "thisdict['year'] = 2018\n",
        "\n",
        "thisdict"
      ],
      "metadata": {
        "colab": {
          "base_uri": "https://localhost:8080/"
        },
        "id": "jzSg4frexW3S",
        "outputId": "43f01764-75a1-4524-f6fb-a3ec28094356"
      },
      "execution_count": null,
      "outputs": [
        {
          "output_type": "execute_result",
          "data": {
            "text/plain": [
              "{'brand': 'Ford', 'model': 'Mustang', 'year': 2018}"
            ]
          },
          "metadata": {},
          "execution_count": 20
        }
      ]
    },
    {
      "cell_type": "code",
      "source": [
        "thisdict.update({'year': 2020}) # update() method\n",
        "thisdict"
      ],
      "metadata": {
        "colab": {
          "base_uri": "https://localhost:8080/"
        },
        "id": "eVsuY2_R5gPw",
        "outputId": "d019a946-c16f-4e26-bfed-7e737b892aaa"
      },
      "execution_count": null,
      "outputs": [
        {
          "output_type": "execute_result",
          "data": {
            "text/plain": [
              "{'brand': 'Ford', 'model': 'Mustang', 'year': 2020}"
            ]
          },
          "metadata": {},
          "execution_count": 21
        }
      ]
    },
    {
      "cell_type": "code",
      "source": [
        "thisdict.pop('model') # pop() method\n",
        "thisdict"
      ],
      "metadata": {
        "colab": {
          "base_uri": "https://localhost:8080/"
        },
        "id": "c2IxRkbf5t6-",
        "outputId": "d856f2d5-3e86-452b-dae1-dc181e87c7bb"
      },
      "execution_count": null,
      "outputs": [
        {
          "output_type": "execute_result",
          "data": {
            "text/plain": [
              "{'brand': 'Ford', 'year': 2020}"
            ]
          },
          "metadata": {},
          "execution_count": 22
        }
      ]
    },
    {
      "cell_type": "code",
      "source": [
        "thisdict.popitem() # popitem() method removes the last inserted item\n",
        "thisdict"
      ],
      "metadata": {
        "colab": {
          "base_uri": "https://localhost:8080/"
        },
        "id": "NJzv7zNc6hv2",
        "outputId": "fda6258b-a10d-412d-9cee-f3b1f770293b"
      },
      "execution_count": null,
      "outputs": [
        {
          "output_type": "execute_result",
          "data": {
            "text/plain": [
              "{'brand': 'Ford'}"
            ]
          },
          "metadata": {},
          "execution_count": 23
        }
      ]
    },
    {
      "cell_type": "code",
      "source": [
        "del thisdict['brand']\n",
        "thisdict"
      ],
      "metadata": {
        "colab": {
          "base_uri": "https://localhost:8080/"
        },
        "id": "EIfclakG643F",
        "outputId": "a654714e-810e-4ecb-80ac-91fd62dd9132"
      },
      "execution_count": null,
      "outputs": [
        {
          "output_type": "execute_result",
          "data": {
            "text/plain": [
              "{}"
            ]
          },
          "metadata": {},
          "execution_count": 25
        }
      ]
    },
    {
      "cell_type": "code",
      "source": [
        "thisdict = {'brand': 'Ford', 'model': 'Mustang', 'year': 1964}\n",
        "\n",
        "thisdict.clear()\n",
        "thisdict"
      ],
      "metadata": {
        "colab": {
          "base_uri": "https://localhost:8080/"
        },
        "id": "6qEWeBGa7BjG",
        "outputId": "8b9f1e19-54e6-4b16-d992-cb03ee21f860"
      },
      "execution_count": null,
      "outputs": [
        {
          "output_type": "execute_result",
          "data": {
            "text/plain": [
              "{}"
            ]
          },
          "metadata": {},
          "execution_count": 26
        }
      ]
    },
    {
      "cell_type": "code",
      "source": [
        "del thisdict\n",
        "print(thisdict) # Dictionary no longer exist"
      ],
      "metadata": {
        "colab": {
          "base_uri": "https://localhost:8080/",
          "height": 159
        },
        "id": "MvDHVnXC7Rc7",
        "outputId": "52ce0578-a752-4fe2-f125-1f226e6f3efc"
      },
      "execution_count": null,
      "outputs": [
        {
          "output_type": "error",
          "ename": "NameError",
          "evalue": "name 'thisdict' is not defined",
          "traceback": [
            "\u001b[0;31m---------------------------------------------------------------------------\u001b[0m",
            "\u001b[0;31mNameError\u001b[0m                                 Traceback (most recent call last)",
            "\u001b[0;32m<ipython-input-27-a0c4a3ca7488>\u001b[0m in \u001b[0;36m<cell line: 0>\u001b[0;34m()\u001b[0m\n\u001b[1;32m      1\u001b[0m \u001b[0;32mdel\u001b[0m \u001b[0mthisdict\u001b[0m\u001b[0;34m\u001b[0m\u001b[0;34m\u001b[0m\u001b[0m\n\u001b[0;32m----> 2\u001b[0;31m \u001b[0mprint\u001b[0m\u001b[0;34m(\u001b[0m\u001b[0mthisdict\u001b[0m\u001b[0;34m)\u001b[0m \u001b[0;31m# Dictionary no longer exist\u001b[0m\u001b[0;34m\u001b[0m\u001b[0;34m\u001b[0m\u001b[0m\n\u001b[0m",
            "\u001b[0;31mNameError\u001b[0m: name 'thisdict' is not defined"
          ]
        }
      ]
    },
    {
      "cell_type": "markdown",
      "source": [
        "#### **Nesting Revisited**:"
      ],
      "metadata": {
        "id": "1fGlzrVeutLY"
      }
    },
    {
      "cell_type": "code",
      "source": [
        "n_dict = {'name': {'fist': 'Bob', 'last': 'Smith'},\n",
        "          'job': ['dev', 'student'],\n",
        "          'age': 18}\n",
        "\n",
        "\n",
        "print(n_dict['name'])\n",
        "print(n_dict['name']['last'])\n",
        "\n",
        "print(n_dict['job'])\n",
        "print(n_dict['job'][-1])\n",
        "\n",
        "n_dict['job'].append('runner')\n",
        "n_dict"
      ],
      "metadata": {
        "colab": {
          "base_uri": "https://localhost:8080/"
        },
        "id": "S7DFsK6quU-M",
        "outputId": "71fd3dff-dbff-4d66-d879-be77ca02ccb0"
      },
      "execution_count": null,
      "outputs": [
        {
          "output_type": "stream",
          "name": "stdout",
          "text": [
            "{'fist': 'Bob', 'last': 'Smith'}\n",
            "Smith\n",
            "['dev', 'student']\n",
            "student\n"
          ]
        },
        {
          "output_type": "execute_result",
          "data": {
            "text/plain": [
              "{'name': {'fist': 'Bob', 'last': 'Smith'},\n",
              " 'job': ['dev', 'student', 'runner'],\n",
              " 'age': 18}"
            ]
          },
          "metadata": {},
          "execution_count": 50
        }
      ]
    },
    {
      "cell_type": "code",
      "source": [
        "# Side note: isinstance( value , type )\n",
        "\n",
        "x = 5\n",
        "print(isinstance(x, int))  # This will print True"
      ],
      "metadata": {
        "colab": {
          "base_uri": "https://localhost:8080/"
        },
        "id": "_4jB8ruCLKYh",
        "outputId": "ce9a06e5-bb6b-4817-82bf-895bb7d26915"
      },
      "execution_count": null,
      "outputs": [
        {
          "output_type": "stream",
          "name": "stdout",
          "text": [
            "True\n"
          ]
        }
      ]
    },
    {
      "cell_type": "code",
      "source": [
        "# Loop through nested dictionary\n",
        "\n",
        "for key, value in n_dict.items():\n",
        "\n",
        "    print(key + ':')\n",
        "\n",
        "    # Using isinstance(object, class_info) to check if an object is an instance of a specific class.\n",
        "    # It returns True if the object matches the type provided, and False otherwise.\n",
        "\n",
        "    # If the value is a dictionary, iterate through its items\n",
        "\n",
        "    if isinstance(value, dict):\n",
        "\n",
        "        for sub_key, sub_value in value.items():\n",
        "\n",
        "            print(f\"  {sub_key}: {sub_value}\")\n",
        "\n",
        "    # If the value is a list, iterate through its elements\n",
        "\n",
        "    elif isinstance(value, list):\n",
        "\n",
        "        for item in value:\n",
        "\n",
        "            print(f\"  {item}\")\n",
        "\n",
        "    # Otherwise, just print the value\n",
        "\n",
        "    else:\n",
        "\n",
        "        print(f\"  {value}\")"
      ],
      "metadata": {
        "colab": {
          "base_uri": "https://localhost:8080/"
        },
        "id": "8ia9WnAGImCA",
        "outputId": "42dfbcf5-963b-4290-87ab-c53c181abe02"
      },
      "execution_count": null,
      "outputs": [
        {
          "output_type": "stream",
          "name": "stdout",
          "text": [
            "name:\n",
            "  fist: Bob\n",
            "  last: Smith\n",
            "job:\n",
            "  dev\n",
            "  student\n",
            "  runner\n",
            "age:\n",
            "  18\n"
          ]
        }
      ]
    },
    {
      "cell_type": "code",
      "source": [
        "n_dict = 0 # Garbage Collection: reclaimed object's space\n",
        "n_dict\n",
        "\n",
        "# Both dictionary and list will automatically cleaned up their space as you go."
      ],
      "metadata": {
        "colab": {
          "base_uri": "https://localhost:8080/"
        },
        "id": "lZ7yeUK980X_",
        "outputId": "4159eaec-2192-4c83-c34b-46474e965833"
      },
      "execution_count": null,
      "outputs": [
        {
          "output_type": "execute_result",
          "data": {
            "text/plain": [
              "0"
            ]
          },
          "metadata": {},
          "execution_count": 30
        }
      ]
    },
    {
      "cell_type": "markdown",
      "source": [
        "#### **Keys Sorting** **(** 'for' loops **)** :\n",
        "\n",
        "- Note: Dictionary doesn't maintain any dependable left-to-right order."
      ],
      "metadata": {
        "id": "XQYEOHdk_D3N"
      }
    },
    {
      "cell_type": "code",
      "source": [
        "D = {'a': 1, 'b': 2, 'c': 3}"
      ],
      "metadata": {
        "id": "W4WjITttAR_T"
      },
      "execution_count": null,
      "outputs": []
    },
    {
      "cell_type": "code",
      "source": [
        "# sort() and 'for' loop to sort key list\n",
        "\n",
        "Ks = list(D.keys()) # Unordered keys list\n",
        "print(Ks)\n",
        "\n",
        "Ks.sort() # Ordered keys list\n",
        "print(Ks)\n",
        "\n",
        "for key in Ks:\n",
        "    print(key, '=>', D[key])\n",
        "\n",
        "print('\\n')\n",
        "\n",
        "for key in sorted(D):\n",
        "    print(key, '=>', D[key])\n",
        "\n",
        "print('\\n')\n",
        "\n",
        "\n",
        "# W3 School:\n",
        "\n",
        "for value in D.keys(): # keys() method\n",
        "    print(value)\n",
        "\n",
        "print('\\n')\n",
        "\n",
        "for value in D.values(): # values() method\n",
        "    print(value)\n",
        "\n",
        "\n",
        "print('\\n')\n",
        "\n",
        "for x, y in D.items(): # items() method\n",
        "    print(x, y)"
      ],
      "metadata": {
        "colab": {
          "base_uri": "https://localhost:8080/"
        },
        "id": "ah6HVOX-_AyP",
        "outputId": "65a21ee4-8f44-48ec-8b0c-92e3884b1877"
      },
      "execution_count": null,
      "outputs": [
        {
          "output_type": "stream",
          "name": "stdout",
          "text": [
            "['a', 'b', 'c']\n",
            "['a', 'b', 'c']\n",
            "a => 1\n",
            "b => 2\n",
            "c => 3\n",
            "\n",
            "\n",
            "a => 1\n",
            "b => 2\n",
            "c => 3\n",
            "\n",
            "\n",
            "a\n",
            "b\n",
            "c\n",
            "\n",
            "\n",
            "1\n",
            "2\n",
            "3\n",
            "\n",
            "\n",
            "a 1\n",
            "b 2\n",
            "c 3\n"
          ]
        }
      ]
    },
    {
      "cell_type": "code",
      "source": [
        "# Copy a dictionary\n",
        "\n",
        "c_dict = D.copy() # copy() method\n",
        "c_dict"
      ],
      "metadata": {
        "colab": {
          "base_uri": "https://localhost:8080/"
        },
        "id": "yb5zG-SmHnr5",
        "outputId": "8d9b0dee-201b-47d8-98ff-0cb77e1777b9"
      },
      "execution_count": null,
      "outputs": [
        {
          "output_type": "execute_result",
          "data": {
            "text/plain": [
              "{'a': 1, 'b': 2, 'c': 3}"
            ]
          },
          "metadata": {},
          "execution_count": 47
        }
      ]
    },
    {
      "cell_type": "code",
      "source": [
        "# OR\n",
        "\n",
        "c_dict2 = dict(D)\n",
        "c_dict2"
      ],
      "metadata": {
        "colab": {
          "base_uri": "https://localhost:8080/"
        },
        "id": "75jP1XkNH83W",
        "outputId": "35ea6067-e83a-4f7c-f157-ba17fd2bb61c"
      },
      "execution_count": null,
      "outputs": [
        {
          "output_type": "execute_result",
          "data": {
            "text/plain": [
              "{'a': 1, 'b': 2, 'c': 3}"
            ]
          },
          "metadata": {},
          "execution_count": 48
        }
      ]
    }
  ]
}