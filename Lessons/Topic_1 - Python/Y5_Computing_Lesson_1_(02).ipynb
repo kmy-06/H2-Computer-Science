{
  "nbformat": 4,
  "nbformat_minor": 0,
  "metadata": {
    "colab": {
      "provenance": []
    },
    "kernelspec": {
      "name": "python3",
      "display_name": "Python 3"
    },
    "language_info": {
      "name": "python"
    }
  },
  "cells": [
    {
      "cell_type": "markdown",
      "source": [
        "# **Lesson 2**\n",
        "1. Syntax  \n",
        "2. Variables  \n",
        "3. Data Types"
      ],
      "metadata": {
        "id": "yP1QFvjOuYCt"
      }
    },
    {
      "cell_type": "markdown",
      "source": [
        "##1. Python syntax  \n",
        "Syntax is a computing word for programming language rules. Every programming language will have its own 'grammatical' rules that the coder needs to follow, and thse differences are a result of designs to address specific needs and solve specific problems.  \n",
        "\n",
        "Rule 1:  \n",
        "Python is **case-sensitive**.  \n",
        "\n",
        "Rule 2:  \n",
        "All open **inverted commas and brackets** have to be closed.\n",
        "\n",
        "Rule 3:  \n",
        "**Indentation** at the front of code lines matter, and usually appears after a colon from the previous line. More about this in lesson 4.  \n",
        "\n",
        "First, let's introduce you to syntax errors. Copy/paste and run this line of code:  \n",
        "\n",
        "```print(Hello World)```"
      ],
      "metadata": {
        "id": "WkSuiUPOXbyR"
      }
    },
    {
      "cell_type": "code",
      "source": [
        "#paste code and run code\n",
        "print(Hello World) # Bruh :)"
      ],
      "metadata": {
        "id": "n0k9bepavnPF",
        "colab": {
          "base_uri": "https://localhost:8080/",
          "height": 106
        },
        "outputId": "220a3990-9cf9-4341-b10f-4c791a81f7a1"
      },
      "execution_count": null,
      "outputs": [
        {
          "output_type": "error",
          "ename": "SyntaxError",
          "evalue": "invalid syntax. Perhaps you forgot a comma? (<ipython-input-1-7f3e32ac93f7>, line 2)",
          "traceback": [
            "\u001b[0;36m  File \u001b[0;32m\"<ipython-input-1-7f3e32ac93f7>\"\u001b[0;36m, line \u001b[0;32m2\u001b[0m\n\u001b[0;31m    print(Hello World)\u001b[0m\n\u001b[0m          ^\u001b[0m\n\u001b[0;31mSyntaxError\u001b[0m\u001b[0;31m:\u001b[0m invalid syntax. Perhaps you forgot a comma?\n"
          ]
        }
      ]
    },
    {
      "cell_type": "markdown",
      "source": [
        "Notice that the error looks daunting because it's in red and has a lot of information. Just look for the line number the error occurred and the nature of the error for clues. Are you able to fix the error in the above cell?"
      ],
      "metadata": {
        "id": "p_bYsFR_vy-T"
      }
    },
    {
      "cell_type": "markdown",
      "source": [
        "##2. Variables  \n",
        "**Variables** are storage locations used to hold **data**. Unlike other languages, such as Java, Python has no command for declaring a variable, so you create one the moment you first assign a value to it. ie creating variables on the fly. They can be assigned values directly, the values of other variables, or the result of a math operation or input. NOTE: some words cannot be used as variable names as they are **reserved** for other important purposes, and are usually highlighted in a different colour, eg. print(), str, int, list, for, in, as  \n",
        "\n",
        "Note there are some basic rules to naming variables:\n",
        "   * A variable name can only contain **alpha-numeric** characters and **underscores** (A-z, 0-9, and _ )\n",
        "   * A variable name must start with a **letter** or the **underscore** character ```_```\n",
        "   * A variable name cannot start with a **number**\n",
        "   * Variable names are **case-sensitive** (age, Age (called camelcase which we try to avoid in Python) and AGE are three different  \n",
        "   variables)  \n",
        "   * In Python, when a variable is in **FULL CAPITALS**, it means that the variable is meant to be a constant, eg.  \n",
        "   ```PI = 3.142```\n"
      ],
      "metadata": {
        "id": "JXa1Qak6tAEm"
      }
    },
    {
      "cell_type": "markdown",
      "source": [
        "##3. Data Types  \n",
        "There are several data types natively supported by Python 3, but we'll introduce just five basic types, and leave finding the others as an exercise for more curious learners:  \n",
        "1. string (str) - for storing alphanumeric text\n",
        "2. integer (int)- for integers\n",
        "3. float (float) - for floating point numbers aka decimal numbers\n",
        "4. boolean (bool) - for storing True/False values\n",
        "5. list (list) - an array, or \"container\", used to store other data types  \n",
        "\n",
        "Let's use the **`type()`** in-built command to inspect some of these data types."
      ],
      "metadata": {
        "id": "ny4ghA6_t6ae"
      }
    },
    {
      "cell_type": "code",
      "source": [
        "#In the next line, we create a variable called variable1 and assign the value of 12 to it initially\n",
        "print(type('123'))\n",
        "print(type(123))\n",
        "print(type(1.23))\n",
        "print(type(True))\n",
        "print(type([1,2,3]))\n",
        "print(type((1,)))\n",
        "print(type({}))\n"
      ],
      "metadata": {
        "id": "M3LLLjBEwcmm",
        "colab": {
          "base_uri": "https://localhost:8080/"
        },
        "outputId": "29dc7139-9741-49c1-f89f-9400caa8bf75"
      },
      "execution_count": null,
      "outputs": [
        {
          "output_type": "stream",
          "name": "stdout",
          "text": [
            "<class 'str'>\n",
            "<class 'int'>\n",
            "<class 'float'>\n",
            "<class 'bool'>\n",
            "<class 'list'>\n",
            "<class 'tuple'>\n",
            "<class 'dict'>\n"
          ]
        }
      ]
    },
    {
      "cell_type": "code",
      "source": [
        "x = 1.23\n",
        "if type(x) == float:\n",
        "    print(x, \"is a floating point number\")"
      ],
      "metadata": {
        "colab": {
          "base_uri": "https://localhost:8080/"
        },
        "id": "R_QhZAp72JVR",
        "outputId": "be6e2c14-cb72-4f8e-d7b7-57568135361f"
      },
      "execution_count": null,
      "outputs": [
        {
          "output_type": "stream",
          "name": "stdout",
          "text": [
            "1.23 is a floating point number\n"
          ]
        }
      ]
    },
    {
      "cell_type": "markdown",
      "source": [
        "#Typecasting\n",
        "\n",
        "Typecasting is the conversion of one data type to another.  \n",
        "Complete and run the following lines of code:  \n",
        "![image.png](data:image/png;base64,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)"
      ],
      "metadata": {
        "id": "g3pcXUM3LWM-"
      }
    },
    {
      "cell_type": "code",
      "source": [
        "age = input(\"Enter your age: \")\n",
        "print(\"The type of age is actually \", type(age))\n",
        "print(\"Next year, your age will be \", int(age) + 1)"
      ],
      "metadata": {
        "id": "6gsqqfByvLNY",
        "colab": {
          "base_uri": "https://localhost:8080/"
        },
        "outputId": "8e34b4bb-82c5-4fa8-c3c7-08f2c83d378c"
      },
      "execution_count": null,
      "outputs": [
        {
          "output_type": "stream",
          "name": "stdout",
          "text": [
            "Enter your age: 18\n",
            "The type of age is actually  <class 'str'>\n",
            "Next year, your age will be  19\n"
          ]
        }
      ]
    },
    {
      "cell_type": "markdown",
      "source": [
        "You just encountered an error, but not to worry.  \n",
        "Notice that the default input data type is string. We'll have to use this concept called typecasting to convert a data type to another. These namely are:  \n",
        "1. str() - for converting contents of brackets into string\n",
        "2. int() - for converting contents of brackets into integer\n",
        "3. float() - for converting contents of brackets into float\n",
        "4. bool() - for converting contents of brackets into boolean\n",
        "5. list() - for converting contents of brackets into list  \n",
        "\n",
        "Let's copy and paste the code from the above block and insert the `int()` command to convert the age data from string to integer"
      ],
      "metadata": {
        "id": "pHsTYo71yorl"
      }
    },
    {
      "cell_type": "code",
      "source": [
        "print(str(123))\n",
        "print(float(123))\n",
        "print(bool(\"False\"))\n",
        "print(list((1,)))\n",
        "print(tuple([1,0]), end = \"\\n\\n\")\n",
        "print(type(str(123)))\n",
        "print(type(float(123)))\n",
        "print(type(bool(\"False\"))) # str to bool\n",
        "print(type(list((1,)))) # NEED TWO BRACKETS FOR TUPLE\n",
        "print(type(tuple([1,0]))) # list to tuple\n"
      ],
      "metadata": {
        "colab": {
          "base_uri": "https://localhost:8080/"
        },
        "id": "Y5jac_hR3sKx",
        "outputId": "7695f024-1e82-4183-8365-0425baa142db"
      },
      "execution_count": 24,
      "outputs": [
        {
          "output_type": "stream",
          "name": "stdout",
          "text": [
            "123\n",
            "123.0\n",
            "True\n",
            "[1]\n",
            "(1, 0)\n",
            "\n",
            "<class 'str'>\n",
            "<class 'float'>\n",
            "<class 'bool'>\n",
            "<class 'list'>\n",
            "<class 'tuple'>\n"
          ]
        }
      ]
    },
    {
      "cell_type": "markdown",
      "source": [
        "##**Class Practice Q1**  \n",
        "Write the python code to take inputs for your weight in kg and height in metres\n",
        "  \n",
        "and then output your BMI (Body Mass Index) which is, weight divided by the square of height.   \n",
        "Round off the BMI value to one decimal point.\n",
        "\n",
        "## Expected output\n",
        "**(please use your own weight and height)**  \n",
        "```\n",
        "Enter your weight in kg :74.9  \n",
        "Enter your height in metres :1.64  \n",
        "Your BMI is *27.8*\n",
        "```\n",
        "\n",
        "Use **comment lines** where necessary to explain your coding.\n",
        "\n",
        "To **round off** valus in a variable x to 2 decimal places, you can use `round(x,2)`."
      ],
      "metadata": {
        "id": "LcV8JGsMwEYv"
      }
    },
    {
      "cell_type": "code",
      "source": [
        "# code here\n",
        "weight = input(\"Enter your weight in kg :\")\n",
        "height = input(\"Enter your height in metres :\")\n",
        "# Convert weight and height to float to accommodate decimals\n",
        "weight = float(weight)\n",
        "height = float(height)\n",
        "# Calculate BMI using division and exponentiation (**)\n",
        "x = weight / (height**2)\n",
        "x = round(x, 1)  # Round off the BMI value to one decimal point.\n",
        "print(\"Your BMI is\", str(x))"
      ],
      "metadata": {
        "colab": {
          "base_uri": "https://localhost:8080/"
        },
        "id": "pEG4ksbR4ymC",
        "outputId": "728bf807-0f20-44ed-ab03-b076002ff6d2"
      },
      "execution_count": null,
      "outputs": [
        {
          "output_type": "stream",
          "name": "stdout",
          "text": [
            "Enter your weight in kg :74.9\n",
            "Enter your height in metres :1.64\n",
            "Your BMI is 27.8\n"
          ]
        }
      ]
    },
    {
      "cell_type": "code",
      "source": [
        "# code here\n",
        "weight = input(\"Enter your weight in kg :\")\n",
        "height = input(\"Enter your height in metres :\")\n",
        "x = float(weight) / float(height)**2\n",
        "print(\"Your BMI is *\" + str(round(x,1)) + \"*\")"
      ],
      "metadata": {
        "id": "GCf50DX5wuc9",
        "colab": {
          "base_uri": "https://localhost:8080/"
        },
        "outputId": "02c28bed-6c94-4246-844d-5157940fbde4"
      },
      "execution_count": null,
      "outputs": [
        {
          "output_type": "stream",
          "name": "stdout",
          "text": [
            "Enter your weight in kg :74.9\n",
            "Enter your height in metres :1.64\n",
            "Your BMI is *27.8*\n"
          ]
        }
      ]
    },
    {
      "cell_type": "markdown",
      "source": [
        "##**Class Practice Q2**  \n",
        "\n",
        "Create a program to ask a student for:  \n",
        "1. name (string)\n",
        "2. age (integer)\n",
        "3. enrollment status in Dunman High (boolean)\n",
        "4. English overall marks from Year 1 (rounded to nearest integer)\n",
        "5. Maths overall marks from Year 1 (rounded to nearest integer)\n",
        "6. Science overall marks from Year 1(rounded to nearest integer).\n",
        "\n",
        "Subsequently, the program should output the various info, and the average marks of the three subjects. The input and output should look like this:\n",
        "\n",
        "```\n",
        "Enter your name: Charlotte\n",
        "Enter your age: 18\n",
        "Are you currently enrolled in the school? (True/False): True\n",
        "Enter the marks for Y1 EL overall: 70\n",
        "Enter the marks for Y1 Math overall: 68\n",
        "Enter the marks for Y1 Sci overall: 70\n",
        "\n",
        "Student Information\n",
        "Name: Charlotte\n",
        "Age: 18\n",
        "Enrollment Status: True\n",
        "English: 70 Math: 68 Sci: 70\n",
        "Your average marks is 69.33\n",
        "The data type of average is <class 'float'>\n",
        "```\n",
        "\n",
        "`\\n` will enter to the next line"
      ],
      "metadata": {
        "id": "TB56dFGRIT2j"
      }
    },
    {
      "cell_type": "code",
      "execution_count": 27,
      "metadata": {
        "id": "CVYqXxf7IASV",
        "colab": {
          "base_uri": "https://localhost:8080/"
        },
        "outputId": "e91e37b0-d6a2-488c-ec37-fa4fe9f7218d"
      },
      "outputs": [
        {
          "output_type": "stream",
          "name": "stdout",
          "text": [
            "Enter your name: Charlotte\n",
            "Enter your age: 18\n",
            "Are you currently enrolled in the school? (True/False): True\n",
            "Enter the marks for Y1 EL overall: 70\n",
            "Enter the marks for Y1 Math overall: 68\n",
            "Enter the marks for Y1 scioverall: 70\n",
            "\n",
            "Student Information\n",
            "Name:  Charlotte\n",
            "Age:  18\n",
            "Enrollment Status:  True\n",
            "English: 70 Math: 68 Sci: 70\n",
            "Your average marks is 69.33\n",
            "The data type of average is <class 'float'>\n"
          ]
        }
      ],
      "source": [
        "'''\n",
        "This program collects student information, stores it in variables of different data types,\n",
        "processes and outputs the average of the marks entered.\n",
        "'''\n",
        "\n",
        "# Collecting student information\n",
        "name = input(\"Enter your name: \")\n",
        "age = int(input(\"Enter your age: \"))\n",
        "enrolled = input(\"Are you currently enrolled in the school? (True/False): \")\n",
        "english_marks = round(int(input(\"Enter the marks for Y1 EL overall: \")))\n",
        "maths_marks = round(int(input(f\"Enter the marks for Y1 Math overall: \")))\n",
        "science_marks = round(int(input(f\"Enter the marks for Y1 scioverall: \")))\n",
        "# processing of average marks\n",
        "average_marks = round((english_marks + maths_marks + science_marks) / 3, 2)\n",
        "# Displaying student informationt\n",
        "print(\"\\nStudent Information\")\n",
        "print(\"Name: \", name)\n",
        "print(\"Age: \", age)\n",
        "print(\"Enrollment Status: \", enrolled)\n",
        "print(\"English:\", english_marks, \"Math:\", maths_marks, \"Sci:\", science_marks)\n",
        "print(\"Your average marks is \" + str(average_marks))\n",
        "print(\"The data type of average is\", type(average_marks))\n"
      ]
    },
    {
      "cell_type": "code",
      "source": [
        "def get_student_info():\n",
        "    name = input(\"Enter your name: \")\n",
        "\n",
        "    while True:\n",
        "        try:\n",
        "            age = int(input(\"Enter your age: \"))\n",
        "            break\n",
        "        except ValueError:\n",
        "            print(\"Please enter a valid integer for age.\")\n",
        "\n",
        "    while True:\n",
        "        try:\n",
        "            enrolled = input(\"Are you currently enrolled in the school? (True/False): \").strip()\n",
        "\n",
        "            if enrolled in ['True', 'False']:\n",
        "                enrolled = enrolled == 'True'\n",
        "                break\n",
        "            else:\n",
        "                raise ValueError\n",
        "        except ValueError:\n",
        "            print(\"Please enter 'True' or 'False'.\")\n",
        "\n",
        "    def get_marks(subject):\n",
        "        while True:\n",
        "            try:\n",
        "                return round(int(input(f\"Enter the marks for Y1 {subject} overall: \")))\n",
        "            except ValueError:\n",
        "                print(\"Please enter a valid integer for marks.\")\n",
        "\n",
        "    english_marks = get_marks(\"EL\")\n",
        "    maths_marks = get_marks(\"Math\")\n",
        "    science_marks = get_marks(\"Sci\")\n",
        "\n",
        "    average_marks = round((english_marks + maths_marks + science_marks) / 3, 2)\n",
        "\n",
        "    print(\"\\nStudent Information\")\n",
        "    print(f\"Name: {name}\")\n",
        "    print(f\"Age: {age}\")\n",
        "    print(f\"Enrollment Status: {enrolled}\")\n",
        "    print(f\"English: {english_marks} Math: {maths_marks} Sci: {science_marks}\")\n",
        "    print(f\"Your average marks is {average_marks}\")\n",
        "    print(f\"The data type of average is {type(average_marks)}\")\n",
        "\n",
        "\n",
        "get_student_info()\n"
      ],
      "metadata": {
        "colab": {
          "base_uri": "https://localhost:8080/"
        },
        "id": "k7DBgdG1dlcC",
        "outputId": "da6bd135-eb6c-4703-8cc1-117fe99dbf66"
      },
      "execution_count": 2,
      "outputs": [
        {
          "output_type": "stream",
          "name": "stdout",
          "text": [
            "Enter your name: Charlotte\n",
            "Enter your age: 18\n",
            "Are you currently enrolled in the school? (True/False): True\n",
            "Enter the marks for Y1 EL overall: 70\n",
            "Enter the marks for Y1 Math overall: 68\n",
            "Enter the marks for Y1 Sci overall: 70\n",
            "\n",
            "Student Information\n",
            "Name: Charlotte\n",
            "Age: 18\n",
            "Enrollment Status: True\n",
            "English: 70 Math: 68 Sci: 70\n",
            "Your average marks is 69.33\n",
            "The data type of average is <class 'float'>\n"
          ]
        }
      ]
    },
    {
      "cell_type": "markdown",
      "source": [
        "##Additional info on variable names\n",
        "These reserved keywords cannot be used for variable names. Reserved keywords are commands that have special meaning in Python, and we may encounter some of them in the near future.\n",
        "\n",
        "![image.png](data:image/png;base64,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)"
      ],
      "metadata": {
        "id": "jAas_HtIzTAg"
      }
    },
    {
      "cell_type": "code",
      "source": [
        "# Control Flow & Looping Keywords\n",
        "control_flow = [\"for\", \"while\", \"break\", \"continue\", \"if\", \"elif\", \"else\"]\n",
        "\n",
        "# Boolean & Logical Operators\n",
        "boolean_operators = [\"True\", \"False\", \"None\", \"and\", \"or\", \"not\", \"is\"]\n",
        "\n",
        "# Exception Handling Keywords\n",
        "exception_handling = [\"try\", \"except\", \"finally\", \"raise\", \"assert\"]\n",
        "\n",
        "# Function & Class Definition Keywords\n",
        "function_class = [\"def\", \"return\", \"lambda\", \"class\"]\n",
        "\n",
        "# Variable & Scope Control Keywords\n",
        "scope_control = [\"global\", \"nonlocal\", \"pass\", \"del\"]\n",
        "\n",
        "# Importing Modules Keywords\n",
        "importing = [\"import\", \"from\", \"as\"]\n",
        "\n",
        "# Context Management Keywords\n",
        "context_management = [\"with\", \"yield\"]\n"
      ],
      "metadata": {
        "id": "PScfbERcjexp"
      },
      "execution_count": null,
      "outputs": []
    },
    {
      "cell_type": "markdown",
      "source": [
        "##Additional resources  \n",
        "Here's some additional Python resources that you may find helpful in finding out more about the concepts taught today.  \n",
        "\n",
        "\n",
        "###w3schools\n",
        "https://www.w3schools.com/python/python_variables.asp (variables)  \n",
        "https://www.w3schools.com/python/python_datatypes.asp (data types)  \n",
        "\n",
        "Do sign up at https://www.w3schools.com/signup/index.php for a free account if you'd like to track your own learning)  \n",
        "\n",
        "###Youtube\n",
        "You can also learn via video tutorials (I recommend these two\n",
        "because they cover all our topics and use a total of only 1 hour to explain)\n",
        "\n",
        "https://youtu.be/kqtD5dpn9C8 (skip to 0:05:30 for variables or 0:10:48 for type conversion aka typcecasting)\n",
        "\n",
        "https://youtu.be/b093aqAZiPU (skip to 0:25:37 for variables)\n",
        "\n",
        "Practice by using a new file in Google Colab as you watch the examples.\n",
        "You need not install their recommended \"IDEs\" (or coding environment)\n",
        "such Pycharm or Microsoft Visual Studio Code,\n",
        "because you can use Google Colab to run the all the python examples they show.\n",
        "\n",
        "You can also practice on your own by using the Sololearn learning platforms where you can sign up for a free account.\n",
        "\n",
        "https://www.sololearn.com/learning/1073 (the Python module)"
      ],
      "metadata": {
        "id": "69ftwAV1Nyyj"
      }
    }
  ]
}